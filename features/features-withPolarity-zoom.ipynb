{
 "cells": [
  {
   "cell_type": "code",
   "execution_count": 1,
   "metadata": {},
   "outputs": [],
   "source": [
    "import nltk\n",
    "import json"
   ]
  },
  {
   "cell_type": "code",
   "execution_count": 2,
   "metadata": {},
   "outputs": [],
   "source": [
    "from tqdm import tqdm"
   ]
  },
  {
   "cell_type": "code",
   "execution_count": 3,
   "metadata": {},
   "outputs": [],
   "source": [
    "file_d = []\n",
    "reviews_sent = []\n",
    "reviews_neg_sent = []\n",
    "reviews_str = \"\"\n",
    "reviews_pos_str = \"\"\n",
    "reviews_neg_str = \"\""
   ]
  },
  {
   "cell_type": "code",
   "execution_count": 4,
   "metadata": {},
   "outputs": [],
   "source": [
    "file = '/Users/gkhanna/Downloads/reviews_Home_and_Kitchen_5.json'"
   ]
  },
  {
   "cell_type": "markdown",
   "metadata": {},
   "source": [
    "Reading \"count\" of the file for faster experiments\n",
    "count = 0 pulls in all data"
   ]
  },
  {
   "cell_type": "code",
   "execution_count": 5,
   "metadata": {},
   "outputs": [
    {
     "name": "stderr",
     "output_type": "stream",
     "text": [
      "551682it [00:07, 71345.42it/s]\n"
     ]
    }
   ],
   "source": [
    "# Reading count number of JSON lines from the file\n",
    "count = 0\n",
    "n = 0\n",
    "with open(file, \"r\") as f:\n",
    "    for line in tqdm(f):\n",
    "        file_d.append(json.loads(line))\n",
    "        n =  n + 1\n",
    "        if count > 0 and n == count:\n",
    "            break\n",
    "    \n"
   ]
  },
  {
   "cell_type": "code",
   "execution_count": 6,
   "metadata": {},
   "outputs": [
    {
     "name": "stdout",
     "output_type": "stream",
     "text": [
      "551682\n",
      "<class 'list'>\n",
      "{'reviewerID': 'APYOBQE6M18AA', 'asin': '0615391206', 'reviewerName': 'Martin Schwartz', 'helpful': [0, 0], 'reviewText': 'My daughter wanted this book and the price on Amazon was the best.  She has already tried one recipe a day after receiving the book.  She seems happy with it.', 'overall': 5.0, 'summary': 'Best Price', 'unixReviewTime': 1382140800, 'reviewTime': '10 19, 2013'}\n",
      "<class 'dict'>\n"
     ]
    }
   ],
   "source": [
    "# Checking the structures\n",
    "print(len(file_d))\n",
    "print(type(file_d))\n",
    "print(file_d[0])\n",
    "print(type(file_d[0]))"
   ]
  },
  {
   "cell_type": "code",
   "execution_count": 7,
   "metadata": {},
   "outputs": [
    {
     "name": "stdout",
     "output_type": "stream",
     "text": [
      "My daughter wanted this book and the price on Amazon was the best.  She has already tried one recipe a day after receiving the book.  She seems happy with it.\n"
     ]
    }
   ],
   "source": [
    "print(file_d[0]['reviewText'])"
   ]
  },
  {
   "cell_type": "markdown",
   "metadata": {},
   "source": [
    "Read in reviews that correspond to the list of ASIN's (Amazon product ID's) selected. \n",
    "Choosing the ASIN that has ~ 1000 reviews from the EDA"
   ]
  },
  {
   "cell_type": "code",
   "execution_count": 8,
   "metadata": {},
   "outputs": [],
   "source": [
    "pl = ['B00006JSUA']"
   ]
  },
  {
   "cell_type": "code",
   "execution_count": 9,
   "metadata": {},
   "outputs": [
    {
     "name": "stderr",
     "output_type": "stream",
     "text": [
      "100%|██████████| 551682/551682 [00:00<00:00, 1796354.55it/s]\n"
     ]
    }
   ],
   "source": [
    "# Getting the reviews out of the dictionary\n",
    "# into a list and string\n",
    "for r in tqdm(file_d):\n",
    "    if r['asin'] in pl:\n",
    "        reviews_sent.append(r['reviewText'])\n",
    "        reviews_str = reviews_str + str(r['reviewText'])\n",
    "        if ((r['overall'] == 1.0) or (r['overall'] == 2.0)):\n",
    "            reviews_neg_str = reviews_neg_str + str(r['reviewText'])\n",
    "        else:\n",
    "            reviews_pos_str = reviews_pos_str + str(r['reviewText'])"
   ]
  },
  {
   "cell_type": "code",
   "execution_count": 10,
   "metadata": {},
   "outputs": [
    {
     "name": "stdout",
     "output_type": "stream",
     "text": [
      "<class 'list'>\n",
      "1064\n",
      "Just say no to chemical treatments on non stick pans, get yourself and your friends a few sizes of cast iron and have pans that you can pass down to your children, without all those unknown chemicals that are such a part of pans for the last few decades.\n"
     ]
    }
   ],
   "source": [
    "print(type(reviews_sent))\n",
    "print(len(reviews_sent))\n",
    "print(reviews_sent[0])"
   ]
  },
  {
   "cell_type": "code",
   "execution_count": 11,
   "metadata": {},
   "outputs": [],
   "source": [
    "# print(reviews_sent)"
   ]
  },
  {
   "cell_type": "code",
   "execution_count": 12,
   "metadata": {},
   "outputs": [
    {
     "name": "stdout",
     "output_type": "stream",
     "text": [
      "598363\n",
      "572557\n",
      "25806\n"
     ]
    }
   ],
   "source": [
    "print(len(reviews_str))\n",
    "print(len(reviews_pos_str))\n",
    "print(len(reviews_neg_str))"
   ]
  },
  {
   "cell_type": "code",
   "execution_count": 13,
   "metadata": {},
   "outputs": [
    {
     "name": "stdout",
     "output_type": "stream",
     "text": [
      "Just say no to chemical treatm\n",
      "Just say no to chemical treatm\n",
      "I've always bought the regular\n"
     ]
    }
   ],
   "source": [
    "print(reviews_str[:30])\n",
    "print(reviews_pos_str[:30])\n",
    "print(reviews_neg_str[:30])"
   ]
  },
  {
   "cell_type": "markdown",
   "metadata": {},
   "source": [
    "Separating out sentences into a list\n",
    "PunktSentenceTokenizer is customized to separate sentences on a few extra words and characters as well."
   ]
  },
  {
   "cell_type": "code",
   "execution_count": 14,
   "metadata": {},
   "outputs": [],
   "source": [
    "from nltk.tokenize.punkt import PunktSentenceTokenizer, PunktLanguageVars\n",
    "'''We customize the ReviewLangVars class to separate sentences based on some additional keywords'''\n",
    "\n",
    "\n",
    "class ReviewLangVars(PunktLanguageVars):\n",
    "    sent_end_chars = ('pros:', 'cons:', '[','][','.','?','!')\n",
    "    \n",
    "sent_tokenizer1 = PunktSentenceTokenizer(lang_vars = ReviewLangVars())\n",
    "# sent_tokenizer1 = PunktSentenceTokenizer()\n",
    "sent_fullreview = sent_tokenizer1.tokenize(reviews_str)\n",
    "sent_neg_review = sent_tokenizer1.tokenize(reviews_neg_str)\n",
    "sent_pos_review = sent_tokenizer1.tokenize(reviews_pos_str)"
   ]
  },
  {
   "cell_type": "code",
   "execution_count": 15,
   "metadata": {},
   "outputs": [
    {
     "name": "stdout",
     "output_type": "stream",
     "text": [
      "Just say no to chemical treatments on non stick pans, get yourself and your friends a few sizes of cast iron and have pans that you can pass down to your children, without all those unknown chemicals that are such a part of pans for the last few decades.This is an absolutely amazing skillet!!\n",
      "['Just say no to chemical treatments on non stick pans, get yourself and your friends a few sizes of cast iron and have pans that you can pass down to your children, without all those unknown chemicals that are such a part of pans for the last few decades.This is an absolutely amazing skillet!!', 'I use it ALL the time!!', \"I re-season it a bit as well to keep it going strong!I've always bought the regular Lodge skillets and loved them.\", 'Went with the pre-seasoned this time because I wanted this size.Wow, what a pain.', \"I picked the best I could find from a stack on a big-box store shelf, so I know I didn't get a lemon (unless the whole batch was badly pre-seasoned!).\"]\n",
      "5704\n"
     ]
    }
   ],
   "source": [
    "# This are the original sentences tokenized\n",
    "print(sent_fullreview[0])\n",
    "print(sent_fullreview[:5])\n",
    "print(len(sent_fullreview))"
   ]
  },
  {
   "cell_type": "code",
   "execution_count": 16,
   "metadata": {},
   "outputs": [
    {
     "name": "stdout",
     "output_type": "stream",
     "text": [
      "I've always bought the regular Lodge skillets and loved them.\n",
      "[\"I've always bought the regular Lodge skillets and loved them.\", 'Went with the pre-seasoned this time because I wanted this size.Wow, what a pain.', \"I picked the best I could find from a stack on a big-box store shelf, so I know I didn't get a lemon (unless the whole batch was badly pre-seasoned!).\", 'The coating flaked off, got my hands black, and smelled really rusty.', 'No WAY I could cook with it that way!It has taken me about five rounds of boiling soapy water and then vinegar and water to get most of that nasty coating off of there with a steel scurbber.']\n",
      "232\n"
     ]
    }
   ],
   "source": [
    "# This are the negative sentences tokenized\n",
    "print(sent_neg_review[0])\n",
    "print(sent_neg_review[:5])\n",
    "print(len(sent_neg_review))"
   ]
  },
  {
   "cell_type": "code",
   "execution_count": 17,
   "metadata": {},
   "outputs": [
    {
     "name": "stdout",
     "output_type": "stream",
     "text": [
      "Just say no to chemical treatments on non stick pans, get yourself and your friends a few sizes of cast iron and have pans that you can pass down to your children, without all those unknown chemicals that are such a part of pans for the last few decades.This is an absolutely amazing skillet!!\n",
      "['Just say no to chemical treatments on non stick pans, get yourself and your friends a few sizes of cast iron and have pans that you can pass down to your children, without all those unknown chemicals that are such a part of pans for the last few decades.This is an absolutely amazing skillet!!', 'I use it ALL the time!!', 'I re-season it a bit as well to keep it going strong!So far I am loving this skillet!', \"It's priced well and you can tell it is good quality.\", \"I've used it to make a skillet cookie, asparagus, and saute shrimp (not all at the same time!).\"]\n",
      "5473\n"
     ]
    }
   ],
   "source": [
    "# This are the positive sentences tokenized\n",
    "print(sent_pos_review[0])\n",
    "print(sent_pos_review[:5])\n",
    "print(len(sent_pos_review))"
   ]
  },
  {
   "cell_type": "markdown",
   "metadata": {},
   "source": [
    "Extracting common Items using apriori\n",
    "https://github.com/asaini/Apriori"
   ]
  },
  {
   "cell_type": "code",
   "execution_count": 18,
   "metadata": {},
   "outputs": [],
   "source": [
    "import sys\n",
    "\n",
    "from itertools import chain, combinations\n",
    "from collections import defaultdict\n",
    "from optparse import OptionParser\n",
    "\n",
    "\n",
    "def subsets(arr):\n",
    "    \"\"\" Returns non empty subsets of arr\"\"\"\n",
    "    return chain(*[combinations(arr, i + 1) for i, a in enumerate(arr)])\n",
    "\n",
    "\n",
    "def returnItemsWithMinSupport(itemSet, transactionList, minSupport, freqSet):\n",
    "        \"\"\"calculates the support for items in the itemSet and returns a subset\n",
    "       of the itemSet each of whose elements satisfies the minimum support\"\"\"\n",
    "        _itemSet = set()\n",
    "        localSet = defaultdict(int)\n",
    "\n",
    "        for item in itemSet:\n",
    "                for transaction in transactionList:\n",
    "                        if item.issubset(transaction):\n",
    "                                freqSet[item] += 1\n",
    "                                localSet[item] += 1\n",
    "\n",
    "        for item, count in localSet.items():\n",
    "                support = float(count)/len(transactionList)\n",
    "\n",
    "                if support >= minSupport:\n",
    "                        _itemSet.add(item)\n",
    "\n",
    "        return _itemSet\n",
    "\n",
    "\n",
    "def joinSet(itemSet, length):\n",
    "        \"\"\"Join a set with itself and returns the n-element itemsets\"\"\"\n",
    "        return set([i.union(j) for i in itemSet for j in itemSet if len(i.union(j)) == length])\n",
    "\n",
    "\n",
    "def getItemSetTransactionList(data_iterator):\n",
    "    transactionList = list()\n",
    "    itemSet = set()\n",
    "    for record in data_iterator:\n",
    "        transaction = frozenset(record)\n",
    "        transactionList.append(transaction)\n",
    "        for item in transaction:\n",
    "            itemSet.add(frozenset([item]))              # Generate 1-itemSets\n",
    "    return itemSet, transactionList\n",
    "\n",
    "\n",
    "def runApriori(data_iter, minSupport, minConfidence):\n",
    "    \"\"\"\n",
    "    run the apriori algorithm. data_iter is a record iterator\n",
    "    Return both:\n",
    "     - items (tuple, support)\n",
    "     - rules ((pretuple, posttuple), confidence)\n",
    "    \"\"\"\n",
    "    itemSet, transactionList = getItemSetTransactionList(data_iter)\n",
    "\n",
    "    freqSet = defaultdict(int)\n",
    "    largeSet = dict()\n",
    "    # Global dictionary which stores (key=n-itemSets,value=support)\n",
    "    # which satisfy minSupport\n",
    "\n",
    "    assocRules = dict()\n",
    "    # Dictionary which stores Association Rules\n",
    "\n",
    "    oneCSet = returnItemsWithMinSupport(itemSet,\n",
    "                                        transactionList,\n",
    "                                        minSupport,\n",
    "                                        freqSet)\n",
    "\n",
    "    currentLSet = oneCSet\n",
    "    k = 2\n",
    "    while(currentLSet != set([])):\n",
    "        largeSet[k-1] = currentLSet\n",
    "        currentLSet = joinSet(currentLSet, k)\n",
    "        currentCSet = returnItemsWithMinSupport(currentLSet,\n",
    "                                                transactionList,\n",
    "                                                minSupport,\n",
    "                                                freqSet)\n",
    "        currentLSet = currentCSet\n",
    "        k = k + 1\n",
    "\n",
    "    def getSupport(item):\n",
    "            \"\"\"local function which Returns the support of an item\"\"\"\n",
    "            return float(freqSet[item])/len(transactionList)\n",
    "\n",
    "    toRetItems = []\n",
    "    for key, value in tqdm(list(largeSet.items())):\n",
    "        toRetItems.extend([(tuple(item), getSupport(item))\n",
    "                           for item in value])\n",
    "\n",
    "    toRetRules = []\n",
    "    for key, value in tqdm(list(largeSet.items())[1:]):\n",
    "        for item in value:\n",
    "            _subsets = map(frozenset, [x for x in subsets(item)])\n",
    "            for element in _subsets:\n",
    "                remain = item.difference(element)\n",
    "                if len(remain) > 0:\n",
    "                    confidence = getSupport(item)/getSupport(element)\n",
    "                    if confidence >= minConfidence:\n",
    "                        toRetRules.append(((tuple(element), tuple(remain)),\n",
    "                                           confidence))\n",
    "    return toRetItems, toRetRules\n",
    "\n",
    "\n",
    "def printResults(items):\n",
    "    \"\"\"prints the generated itemsets sorted by support and the confidence rules sorted by confidence\"\"\"\n",
    "    for item, support in sorted(items, key=lambda item_support: item_support[1], reverse=True):\n",
    "        print(str(item), support)"
   ]
  },
  {
   "cell_type": "code",
   "execution_count": 19,
   "metadata": {},
   "outputs": [],
   "source": [
    "# Utility functions\n",
    "from nltk.corpus import stopwords\n",
    "stopwords = stopwords.words('english')\n",
    "\n",
    "lem = nltk.WordNetLemmatizer()\n",
    "stemmer = nltk.stem.porter.PorterStemmer()\n",
    "lem_word_mapping = {}\n",
    "\n",
    "# Find leaves of a tree\n",
    "def leaves(tree):\n",
    "    \"\"\"Finds leaf nodes of a chunk tree.\"\"\"\n",
    "    for subtree in tree.subtrees(filter = lambda t: t.label() in ['P1','P2','P3','P4','P5','P6','P7','P8']):\n",
    "        yield subtree.leaves()\n",
    "    \n",
    "def stem(word):\n",
    "    \"\"\"Normalises words to lowercase and stems and lemmatizes it.\"\"\"\n",
    "    word = word.lower()\n",
    "    word = word.replace(\"'\",\"\").replace('\"','').replace('.','')\n",
    "    word1 = stemmer.stem(word)\n",
    "    return word1\n",
    "\n",
    "# lowercase, stem and lemmatize\n",
    "def normalise(word):\n",
    "    \"\"\"Normalises words to lowercase and stems and lemmatizes it.\"\"\"\n",
    "    word = word.lower()\n",
    "    word1 = stemmer.stem(word)\n",
    "    word2 = lem.lemmatize(word1)\n",
    "    if word != word2:\n",
    "        lem_word_mapping[word2] = word\n",
    "    return word2\n",
    "\n",
    "def acceptableWord(word):\n",
    "    \"\"\"Checks conditions for acceptable word: length, stopword.\"\"\"\n",
    "    accepted = bool((2 <= len(word) <= 40) and word.lower() not in stopwords)\n",
    "    return accepted\n",
    "\n",
    "# extract words after normalizing and checking if acceptable\n",
    "def getTerms(tree):\n",
    "    \"\"\"Returns the words after checking acceptable conditions, normalizing and lemmatizing\"\"\"\n",
    "    term = [ stem(w) for w in tree if acceptableWord(w) ]\n",
    "    return term\n",
    "    \n",
    "def getNorm(tree):\n",
    "    \"\"\"Parse leaves in chunk and return after checking acceptable conditions, normalizing and lemmatizing\"\"\"\n",
    "    for leaf in leaves(tree):\n",
    "        term = [ normalise(w) for w,t in leaf if acceptableWord(w) ]\n",
    "        yield term"
   ]
  },
  {
   "cell_type": "markdown",
   "metadata": {},
   "source": [
    "Set of nouns for each sentence"
   ]
  },
  {
   "cell_type": "code",
   "execution_count": 20,
   "metadata": {},
   "outputs": [
    {
     "name": "stderr",
     "output_type": "stream",
     "text": [
      "100%|██████████| 5704/5704 [00:09<00:00, 611.89it/s]\n"
     ]
    }
   ],
   "source": [
    "# Set of nouns for the apriori algorithm\n",
    "\n",
    "def isNoun(n):\n",
    "    if n=='NN' or n=='NNS' or n=='NNP' or n=='NNPS':\n",
    "        return True\n",
    "\n",
    "revset=[]\n",
    "for line in tqdm(sent_fullreview):\n",
    "    # print(line)\n",
    "    a = nltk.word_tokenize(line)\n",
    "    # print(a)\n",
    "    nouns = [word for (word, pos) in nltk.pos_tag(a) if isNoun(pos)] \n",
    "    # print(nouns)\n",
    "    terms = getTerms(nouns)\n",
    "    # print(terms)\n",
    "\n",
    "    revset.append(terms)\n",
    "\n"
   ]
  },
  {
   "cell_type": "code",
   "execution_count": 21,
   "metadata": {},
   "outputs": [
    {
     "name": "stdout",
     "output_type": "stream",
     "text": [
      "['treatment', 'stick', 'pan', 'friend', 'size', 'cast', 'iron', 'pan', 'children', 'chemic', 'part', 'pan', 'decadesthi', 'skillet']\n",
      "[['treatment', 'stick', 'pan', 'friend', 'size', 'cast', 'iron', 'pan', 'children', 'chemic', 'part', 'pan', 'decadesthi', 'skillet'], ['time'], ['bit', 'lodg', 'skillet'], ['went', 'time', 'sizewow', 'pain'], ['stack', 'store', 'shelf', 'lemon', 'batch'], ['coat', 'hand'], ['way', 'way', 'round', 'water', 'vinegar', 'water', 'steel', 'scurbber'], ['oil', 'heat', 'oven', 'minutesi', 'residu'], ['rust', 'coat', 'skillet', 'garag'], ['iron']]\n"
     ]
    }
   ],
   "source": [
    "print(revset[0])\n",
    "print(revset[:10])"
   ]
  },
  {
   "cell_type": "code",
   "execution_count": 22,
   "metadata": {},
   "outputs": [
    {
     "data": {
      "text/plain": [
       "5704"
      ]
     },
     "execution_count": 22,
     "metadata": {},
     "output_type": "execute_result"
    }
   ],
   "source": [
    "len(revset)"
   ]
  },
  {
   "cell_type": "markdown",
   "metadata": {},
   "source": [
    "Extracting the items contained in the reviews"
   ]
  },
  {
   "cell_type": "code",
   "execution_count": 87,
   "metadata": {},
   "outputs": [
    {
     "name": "stderr",
     "output_type": "stream",
     "text": [
      "100%|██████████| 2/2 [00:00<00:00, 5140.08it/s]\n",
      "100%|██████████| 1/1 [00:00<00:00, 5269.23it/s]"
     ]
    },
    {
     "name": "stdout",
     "output_type": "stream",
     "text": [
      "('pan',) 0.22808555399719496\n",
      "('skillet',) 0.18951612903225806\n",
      "('iron',) 0.18127629733520337\n",
      "('cast',) 0.13639551192145863\n",
      "('iron', 'cast') 0.13394109396914447\n"
     ]
    },
    {
     "name": "stderr",
     "output_type": "stream",
     "text": [
      "\n"
     ]
    }
   ],
   "source": [
    "items, rules = runApriori(revset, 0.1, 0.1)\n",
    "printResults(items)"
   ]
  },
  {
   "cell_type": "markdown",
   "metadata": {},
   "source": [
    "Polarity of the sentences, conventional Liu and Hu Opinion Lexicon\n",
    "TBD: We may want to substitute with a more advanced sentiment detection algorithm"
   ]
  },
  {
   "cell_type": "code",
   "execution_count": 24,
   "metadata": {},
   "outputs": [],
   "source": [
    "def custom_liu_hu_lexicon(sentence):\n",
    "    '''Takes in a sentence and returns the sentiment of the sentence by counting the no of positive and negitive \n",
    "    and negitive words and by reversing the sentiment if the words NO or NOT are present\n",
    "    '''\n",
    "    from nltk.corpus import opinion_lexicon\n",
    "    from nltk.tokenize import treebank\n",
    "\n",
    "    tokenizer = treebank.TreebankWordTokenizer()\n",
    "    pos_words = 0\n",
    "    neg_words = 0\n",
    "    tokenized_sent = [word.lower() for word in tokenizer.tokenize(sentence)]\n",
    "\n",
    "    x = list(range(len(tokenized_sent))) \n",
    "    y = []\n",
    "    isNegation = False\n",
    "    negationWords = ['no','not','never','none','hardly','rarely','scarcely','']\n",
    "\n",
    "    for word in tokenized_sent:\n",
    "        if word in opinion_lexicon.positive():\n",
    "            pos_words += 1\n",
    "            y.append(1) # positive\n",
    "        elif word in opinion_lexicon.negative():\n",
    "            neg_words += 1\n",
    "            y.append(-1) # negative\n",
    "        else:\n",
    "            y.append(0) # neutral\n",
    "            \n",
    "        if word in negationWords:\n",
    "            isNegation = True\n",
    "\n",
    "    if pos_words > neg_words and isNegation==True:\n",
    "        return 'neg'\n",
    "    elif pos_words > neg_words:\n",
    "        return 'pos'\n",
    "    elif pos_words < neg_words and isNegation==True:\n",
    "        return 'pos'\n",
    "    elif pos_words < neg_words:\n",
    "        return 'neg'\n",
    "    elif pos_words == neg_words:\n",
    "        return 'neutral'"
   ]
  },
  {
   "cell_type": "code",
   "execution_count": 25,
   "metadata": {},
   "outputs": [],
   "source": [
    "from tqdm import tqdm\n",
    "import time"
   ]
  },
  {
   "cell_type": "code",
   "execution_count": 26,
   "metadata": {},
   "outputs": [
    {
     "name": "stdout",
     "output_type": "stream",
     "text": [
      "[nltk_data] Downloading package opinion_lexicon to\n",
      "[nltk_data]     /Users/gkhanna/nltk_data...\n",
      "[nltk_data]   Package opinion_lexicon is already up-to-date!\n"
     ]
    },
    {
     "data": {
      "text/plain": [
       "True"
      ]
     },
     "execution_count": 26,
     "metadata": {},
     "output_type": "execute_result"
    }
   ],
   "source": [
    "nltk.download('opinion_lexicon')"
   ]
  },
  {
   "cell_type": "code",
   "execution_count": 27,
   "metadata": {},
   "outputs": [
    {
     "name": "stderr",
     "output_type": "stream",
     "text": [
      "100%|██████████| 5473/5473 [38:59<00:00,  2.34it/s]  \n",
      "100%|██████████| 232/232 [01:37<00:00,  2.55it/s]"
     ]
    },
    {
     "name": "stdout",
     "output_type": "stream",
     "text": [
      "done\n"
     ]
    },
    {
     "name": "stderr",
     "output_type": "stream",
     "text": [
      "\n"
     ]
    }
   ],
   "source": [
    "# Extracting sentiments from the positive reviews\n",
    "neutral_review=[]\n",
    "positive_review=[]\n",
    "negative_review=[]\n",
    "\n",
    "for sentence in tqdm(sent_pos_review):\n",
    "    for i in items:\n",
    "        if i[0][0] in sentence:\n",
    "            #print(i[0][0] +\"--\" + sentence)\n",
    "            x=custom_liu_hu_lexicon(sentence)\n",
    "            if(x==\"pos\"):\n",
    "                positive_review.append(sentence)\n",
    "            elif(x==\"neg\"):\n",
    "                negative_review.append(sentence)\n",
    "            else:\n",
    "                neutral_review.append(sentence)\n",
    "            break\n",
    "\n",
    "# Extracting sentiments from the negative reviews\n",
    "for sentence in tqdm(sent_neg_review):\n",
    "    for i in items:\n",
    "        if i[0][0] in sentence:\n",
    "            #print(i[0][0] +\"--\" + sentence)\n",
    "            x=custom_liu_hu_lexicon(sentence)\n",
    "            if(x==\"pos\"):\n",
    "                positive_review.append(sentence)\n",
    "            elif(x==\"neg\"):\n",
    "                negative_review.append(sentence)\n",
    "            else:\n",
    "                neutral_review.append(sentence)\n",
    "            break\n",
    "            \n",
    "print('done')"
   ]
  },
  {
   "cell_type": "code",
   "execution_count": 28,
   "metadata": {},
   "outputs": [
    {
     "name": "stdout",
     "output_type": "stream",
     "text": [
      "['I re-season it a bit as well to keep it going strong!So far I am loving this skillet!', \"It's priced well and you can tell it is good quality.\", \"!If you are familiar with cast-iron, and are willing to give it the minimal care it requires, you'll love this.\", \"It's exactly what you expect, and gets better with every use.\", \"I enjoy using it, don't mind caring for it, and appreciate the finished product only cast iron cooking delivers.A nice piece of cast Iron.\"]\n"
     ]
    }
   ],
   "source": [
    "print(positive_review[:5])"
   ]
  },
  {
   "cell_type": "code",
   "execution_count": 29,
   "metadata": {},
   "outputs": [
    {
     "name": "stdout",
     "output_type": "stream",
     "text": [
      "['I read a 3-star review complaining that the pan rusts if water is left in it!', 'And another review complaining that the handle gets', 'With proper seasoning (not the garbage spray lodge puts on) a nice piece of cast iron will be virtuly non-stick.', 'It peeled a bit on the handle.', 'Out of all of my iron ware this one was so disgusting I washed it with soap.']\n"
     ]
    }
   ],
   "source": [
    "print(negative_review[:5])"
   ]
  },
  {
   "cell_type": "code",
   "execution_count": 30,
   "metadata": {},
   "outputs": [
    {
     "name": "stdout",
     "output_type": "stream",
     "text": [
      "['Just say no to chemical treatments on non stick pans, get yourself and your friends a few sizes of cast iron and have pans that you can pass down to your children, without all those unknown chemicals that are such a part of pans for the last few decades.This is an absolutely amazing skillet!!', 'I use it ALL the time!!', \"I've used it to make a skillet cookie, asparagus, and saute shrimp (not all at the same time!).\", \"It performed very well - and I'm looking forward to getting much more use out of it.The negative reviews?\", 'Lodge simply does not take the time anymore to proplery finish their pans.']\n"
     ]
    }
   ],
   "source": [
    "print(neutral_review[:5])"
   ]
  },
  {
   "cell_type": "code",
   "execution_count": 31,
   "metadata": {},
   "outputs": [
    {
     "name": "stdout",
     "output_type": "stream",
     "text": [
      "It's priced well and you can tell it is good quality.\n"
     ]
    }
   ],
   "source": [
    "print(positive_review[1])"
   ]
  },
  {
   "cell_type": "code",
   "execution_count": 32,
   "metadata": {},
   "outputs": [
    {
     "name": "stderr",
     "output_type": "stream",
     "text": [
      "100%|██████████| 5704/5704 [00:00<00:00, 7528.23it/s]\n"
     ]
    }
   ],
   "source": [
    "# Convert all sentences into tokens/words\n",
    "all_sen_tok = []\n",
    "for sentence in tqdm(sent_fullreview):\n",
    "    all_sen_tok.append(nltk.word_tokenize(sentence))"
   ]
  },
  {
   "cell_type": "code",
   "execution_count": 33,
   "metadata": {},
   "outputs": [
    {
     "name": "stderr",
     "output_type": "stream",
     "text": [
      "100%|██████████| 2197/2197 [00:00<00:00, 6986.27it/s]\n",
      "100%|██████████| 1092/1092 [00:00<00:00, 6705.97it/s]\n",
      "100%|██████████| 1640/1640 [00:00<00:00, 8194.97it/s]\n"
     ]
    }
   ],
   "source": [
    "# Convert positive, negative and neutral sentences into tokens/words\n",
    "pos_sen_tok = []\n",
    "neg_sen_tok = []\n",
    "neutral_sen_tok = []\n",
    "for sentence in tqdm(positive_review):\n",
    "    pos_sen_tok.append(nltk.word_tokenize(sentence))\n",
    "for sentence in tqdm(negative_review):\n",
    "    neg_sen_tok.append(nltk.word_tokenize(sentence))\n",
    "for sentence in tqdm(neutral_review):\n",
    "    neutral_sen_tok.append(nltk.word_tokenize(sentence))    "
   ]
  },
  {
   "cell_type": "code",
   "execution_count": 34,
   "metadata": {},
   "outputs": [
    {
     "name": "stdout",
     "output_type": "stream",
     "text": [
      "['Just', 'say', 'no', 'to', 'chemical', 'treatments', 'on', 'non', 'stick', 'pans', ',', 'get', 'yourself', 'and', 'your', 'friends', 'a', 'few', 'sizes', 'of', 'cast', 'iron', 'and', 'have', 'pans', 'that', 'you', 'can', 'pass', 'down', 'to', 'your', 'children', ',', 'without', 'all', 'those', 'unknown', 'chemicals', 'that', 'are', 'such', 'a', 'part', 'of', 'pans', 'for', 'the', 'last', 'few', 'decades.This', 'is', 'an', 'absolutely', 'amazing', 'skillet', '!', '!']\n",
      "[['I', 're-season', 'it', 'a', 'bit', 'as', 'well', 'to', 'keep', 'it', 'going', 'strong', '!', 'So', 'far', 'I', 'am', 'loving', 'this', 'skillet', '!'], ['It', \"'s\", 'priced', 'well', 'and', 'you', 'can', 'tell', 'it', 'is', 'good', 'quality', '.']]\n",
      "['I', 'read', 'a', '3-star', 'review', 'complaining', 'that', 'the', 'pan', 'rusts', 'if', 'water', 'is', 'left', 'in', 'it', '!']\n"
     ]
    }
   ],
   "source": [
    "print(all_sen_tok[0])\n",
    "print(pos_sen_tok[:2])\n",
    "print(neg_sen_tok[0])"
   ]
  },
  {
   "cell_type": "code",
   "execution_count": 35,
   "metadata": {},
   "outputs": [
    {
     "name": "stdout",
     "output_type": "stream",
     "text": [
      "[nltk_data] Downloading package averaged_perceptron_tagger to\n",
      "[nltk_data]     /Users/gkhanna/nltk_data...\n",
      "[nltk_data]   Package averaged_perceptron_tagger is already up-to-\n",
      "[nltk_data]       date!\n"
     ]
    },
    {
     "data": {
      "text/plain": [
       "True"
      ]
     },
     "execution_count": 35,
     "metadata": {},
     "output_type": "execute_result"
    }
   ],
   "source": [
    "nltk.download('averaged_perceptron_tagger')"
   ]
  },
  {
   "cell_type": "code",
   "execution_count": 36,
   "metadata": {},
   "outputs": [
    {
     "name": "stderr",
     "output_type": "stream",
     "text": [
      "100%|██████████| 5704/5704 [00:04<00:00, 1215.16it/s]\n"
     ]
    }
   ],
   "source": [
    "# Gave an error without downloading the nltk averaged_perceptron_tagger\n",
    "# Find POS tags for all the sentences\n",
    "all_sen_tok_tagged = []\n",
    "for sentence_t in tqdm(all_sen_tok):\n",
    "    all_sen_tok_tagged.append(nltk.tag.pos_tag(sentence_t))"
   ]
  },
  {
   "cell_type": "code",
   "execution_count": 37,
   "metadata": {},
   "outputs": [
    {
     "name": "stderr",
     "output_type": "stream",
     "text": [
      "100%|██████████| 2197/2197 [00:02<00:00, 1051.03it/s]\n",
      "100%|██████████| 1092/1092 [00:01<00:00, 988.94it/s]\n",
      "100%|██████████| 1640/1640 [00:01<00:00, 1329.76it/s]\n"
     ]
    }
   ],
   "source": [
    "# Gave an error without downloading the nltk averaged_perceptron_tagger\n",
    "# Find POS tags for positive, negative and neutral sentences\n",
    "pos_sen_tok_tagged = []\n",
    "neg_sen_tok_tagged = []\n",
    "neutral_sen_tok_tagged = []\n",
    "for sentence_t in tqdm(pos_sen_tok):\n",
    "    pos_sen_tok_tagged.append(nltk.tag.pos_tag(sentence_t))\n",
    "for sentence_t in tqdm(neg_sen_tok):\n",
    "    neg_sen_tok_tagged.append(nltk.tag.pos_tag(sentence_t))\n",
    "for sentence_t in tqdm(neutral_sen_tok):\n",
    "    neutral_sen_tok_tagged.append(nltk.tag.pos_tag(sentence_t))"
   ]
  },
  {
   "cell_type": "code",
   "execution_count": 38,
   "metadata": {},
   "outputs": [
    {
     "name": "stdout",
     "output_type": "stream",
     "text": [
      "[('Just', 'RB'), ('say', 'VB'), ('no', 'UH'), ('to', 'TO'), ('chemical', 'VB'), ('treatments', 'NNS'), ('on', 'IN'), ('non', 'JJ'), ('stick', 'NN'), ('pans', 'NNS'), (',', ','), ('get', 'VB'), ('yourself', 'PRP'), ('and', 'CC'), ('your', 'PRP$'), ('friends', 'NNS'), ('a', 'DT'), ('few', 'JJ'), ('sizes', 'NNS'), ('of', 'IN'), ('cast', 'NN'), ('iron', 'NN'), ('and', 'CC'), ('have', 'VBP'), ('pans', 'NNS'), ('that', 'IN'), ('you', 'PRP'), ('can', 'MD'), ('pass', 'VB'), ('down', 'RP'), ('to', 'TO'), ('your', 'PRP$'), ('children', 'NNS'), (',', ','), ('without', 'IN'), ('all', 'PDT'), ('those', 'DT'), ('unknown', 'JJ'), ('chemicals', 'NNS'), ('that', 'WDT'), ('are', 'VBP'), ('such', 'PDT'), ('a', 'DT'), ('part', 'NN'), ('of', 'IN'), ('pans', 'NNS'), ('for', 'IN'), ('the', 'DT'), ('last', 'JJ'), ('few', 'JJ'), ('decades.This', 'NN'), ('is', 'VBZ'), ('an', 'DT'), ('absolutely', 'RB'), ('amazing', 'JJ'), ('skillet', 'NN'), ('!', '.'), ('!', '.')]\n"
     ]
    }
   ],
   "source": [
    "print(all_sen_tok_tagged[0])"
   ]
  },
  {
   "cell_type": "code",
   "execution_count": 39,
   "metadata": {},
   "outputs": [
    {
     "name": "stdout",
     "output_type": "stream",
     "text": [
      "[('I', 'PRP'), ('read', 'VBP'), ('a', 'DT'), ('3-star', 'JJ'), ('review', 'NN'), ('complaining', 'VBG'), ('that', 'IN'), ('the', 'DT'), ('pan', 'NN'), ('rusts', 'VBZ'), ('if', 'IN'), ('water', 'NN'), ('is', 'VBZ'), ('left', 'VBN'), ('in', 'IN'), ('it', 'PRP'), ('!', '.')]\n"
     ]
    }
   ],
   "source": [
    "print(neg_sen_tok_tagged[0])"
   ]
  },
  {
   "cell_type": "markdown",
   "metadata": {},
   "source": [
    "Extract phrases that talk about features and associated sentiment/opinion"
   ]
  },
  {
   "cell_type": "code",
   "execution_count": 40,
   "metadata": {},
   "outputs": [],
   "source": [
    "# Patterns that we want to extract\n",
    "# We think these are the ones that contain features\n",
    "feature_patterns = r\"\"\"       \n",
    "    P1:{<JJ><NN|NNS>}\n",
    "    P2:{<JJ><NN|NNS><NN|NNS>}\n",
    "    P3:{<RB|RBR|RBS><JJ>}\n",
    "    P4:{<RB|RBR|RBS><JJ|RB|RBR|RBS><NN|NNS>}\n",
    "    P5:{<RB|RBR|RBS><VBN|VBD>}\n",
    "    P6:{<RB|RBR|RBS><RB|RBR|RBS><JJ>}\n",
    "    P7:{<VBN|VBD><NN|NNS>}\n",
    "    P8:{<VBN|VBD><RB|RBR|RBS>}\n",
    "\"\"\""
   ]
  },
  {
   "cell_type": "code",
   "execution_count": 41,
   "metadata": {},
   "outputs": [
    {
     "data": {
      "text/plain": [
       "5704"
      ]
     },
     "execution_count": 41,
     "metadata": {},
     "output_type": "execute_result"
    }
   ],
   "source": [
    "len(revset)"
   ]
  },
  {
   "cell_type": "markdown",
   "metadata": {},
   "source": [
    "Utility functions"
   ]
  },
  {
   "cell_type": "code",
   "execution_count": 42,
   "metadata": {},
   "outputs": [],
   "source": [
    "def getTerms1(tree):\n",
    "    \"\"\"Returns the words after checking acceptable conditions, normalizing and lemmatizing\"\"\"\n",
    "    term = [ normalise(w) for w in tree if acceptable_word(w) ]\n",
    "    yield term"
   ]
  },
  {
   "cell_type": "code",
   "execution_count": 43,
   "metadata": {},
   "outputs": [
    {
     "name": "stderr",
     "output_type": "stream",
     "text": [
      "100%|██████████| 5704/5704 [00:07<00:00, 744.23it/s] \n",
      "100%|██████████| 2197/2197 [00:01<00:00, 1505.98it/s]\n",
      "100%|██████████| 1092/1092 [00:00<00:00, 1477.97it/s]\n"
     ]
    }
   ],
   "source": [
    "# Extract feature phrases with ngram rules\n",
    "def extractFeaturePhrases(tagged):\n",
    "    out = []\n",
    "    for phrase in tqdm(tagged):\n",
    "        r_parser = nltk.RegexpParser(feature_patterns)\n",
    "        chunk_2 = r_parser.parse(phrase)\n",
    "        term = getNorm(chunk_2)\n",
    "        \n",
    "        for ter in term:\n",
    "            word_concat = \"\"\n",
    "            for word in ter:\n",
    "                word_concat = word_concat + \" \" + word\n",
    "                \n",
    "            if (len(ter) > 1):\n",
    "                out.append(word_concat)\n",
    "        \n",
    "    return out\n",
    "\n",
    "extracted = extractFeaturePhrases(all_sen_tok_tagged)\n",
    "\n",
    "extracted_pos = extractFeaturePhrases(pos_sen_tok_tagged)\n",
    "extracted_neg = extractFeaturePhrases(neg_sen_tok_tagged)        "
   ]
  },
  {
   "cell_type": "code",
   "execution_count": 44,
   "metadata": {},
   "outputs": [
    {
     "name": "stdout",
     "output_type": "stream",
     "text": [
      "[' non stick', ' unknown chemic', ' amaz skillet', ' alway bought', ' big-box store', ' whole batch', ' badli pre-season', ' realli rusti', ' soapi water', ' still wari']\n"
     ]
    }
   ],
   "source": [
    "print(extracted[:10])"
   ]
  },
  {
   "cell_type": "code",
   "execution_count": 45,
   "metadata": {},
   "outputs": [
    {
     "name": "stdout",
     "output_type": "stream",
     "text": [
      "[' 3-star review', ' nice piec', ' virtuli non-stick', ' next time', ' never cook', ' nice cookware.mi', ' perfect shape', ' inch cast', ' side effect', ' not-well-season pan']\n"
     ]
    }
   ],
   "source": [
    "print(extracted_neg[:10])"
   ]
  },
  {
   "cell_type": "markdown",
   "metadata": {},
   "source": [
    "Find out the most common ones, frequency distribution"
   ]
  },
  {
   "cell_type": "code",
   "execution_count": 46,
   "metadata": {},
   "outputs": [],
   "source": [
    "freqdist = nltk.FreqDist(word for word in extracted)"
   ]
  },
  {
   "cell_type": "code",
   "execution_count": 47,
   "metadata": {},
   "outputs": [
    {
     "data": {
      "text/plain": [
       "nltk.probability.FreqDist"
      ]
     },
     "execution_count": 47,
     "metadata": {},
     "output_type": "execute_result"
    }
   ],
   "source": [
    "type(freqdist)"
   ]
  },
  {
   "cell_type": "code",
   "execution_count": 48,
   "metadata": {},
   "outputs": [
    {
     "name": "stdout",
     "output_type": "stream",
     "text": [
      "[(' cast iron', 120), (' hot water', 78), (' perfect size', 44), (' first time', 29), (' oliv oil', 29), (' non-stick pan', 28), (' veget oil', 27), (' long time', 25), (' high heat', 23), (' fri egg', 22)]\n"
     ]
    }
   ],
   "source": [
    "most_common = freqdist.most_common()\n",
    "print(most_common[:10])"
   ]
  },
  {
   "cell_type": "code",
   "execution_count": 49,
   "metadata": {},
   "outputs": [
    {
     "name": "stdout",
     "output_type": "stream",
     "text": [
      "FreqDist({' cast iron': 120, ' hot water': 78, ' perfect size': 44, ' first time': 29, ' oliv oil': 29, ' non-stick pan': 28, ' veget oil': 27, ' long time': 25, ' high heat': 23, ' fri egg': 22, ' well season': 21, ' first cast': 21, ' non stick': 18, ' high qualiti': 17, ' stainless steel': 17, ' inch skillet': 17, ' great pan': 16, ' grill chees': 16, ' littl skillet': 16, ' proper care': 16, ...})\n"
     ]
    }
   ],
   "source": [
    "freqdist.pprint(maxlen = 20)"
   ]
  },
  {
   "cell_type": "code",
   "execution_count": 50,
   "metadata": {},
   "outputs": [
    {
     "name": "stdout",
     "output_type": "stream",
     "text": [
      " cast iron\n"
     ]
    }
   ],
   "source": [
    "print(freqdist.max())"
   ]
  },
  {
   "cell_type": "code",
   "execution_count": 51,
   "metadata": {},
   "outputs": [
    {
     "name": "stdout",
     "output_type": "stream",
     "text": [
      "     cast iron      hot water   perfect size     first time       oliv oil  non-stick pan      veget oil \n",
      "           120             78             44             29             29             28             27 \n"
     ]
    }
   ],
   "source": [
    "freq_tab = freqdist.tabulate(7)"
   ]
  },
  {
   "cell_type": "code",
   "execution_count": 52,
   "metadata": {},
   "outputs": [
    {
     "data": {
      "text/plain": [
       "NoneType"
      ]
     },
     "execution_count": 52,
     "metadata": {},
     "output_type": "execute_result"
    }
   ],
   "source": [
    "type(freq_tab)"
   ]
  },
  {
   "cell_type": "code",
   "execution_count": 53,
   "metadata": {},
   "outputs": [
    {
     "data": {
      "text/plain": [
       "<Figure size 1000x700 with 1 Axes>"
      ]
     },
     "metadata": {},
     "output_type": "display_data"
    }
   ],
   "source": [
    "import matplotlib\n",
    "import matplotlib.pyplot as plt\n",
    "\n",
    "plt.figure(figsize=(10, 7))  # We want a bigger size plot\n",
    "freqdist.plot(20, title = \"Most Frequent Feature Phrases\", cumulative = False)"
   ]
  },
  {
   "cell_type": "markdown",
   "metadata": {},
   "source": [
    "Most common positive and negative phrases"
   ]
  },
  {
   "cell_type": "code",
   "execution_count": 54,
   "metadata": {},
   "outputs": [
    {
     "name": "stdout",
     "output_type": "stream",
     "text": [
      "[(' cast iron', 62), (' hot water', 44), (' perfect size', 35), (' well season', 18), (' long time', 16), (' first time', 16), (' littl skillet', 15), (' oliv oil', 14), (' non-stick pan', 13), (' first cast', 11)]\n",
      " cast iron\n",
      "     cast iron      hot water   perfect size    well season      long time     first time  littl skillet \n",
      "            62             44             35             18             16             16             15 \n"
     ]
    }
   ],
   "source": [
    "# Positive\n",
    "freqdist_pos = nltk.FreqDist(word for word in extracted_pos)\n",
    "most_common_pos = freqdist_pos.most_common()\n",
    "print(most_common_pos[:10])\n",
    "print(freqdist_pos.max())\n",
    "freq_tab_pos = freqdist_pos.tabulate(7)"
   ]
  },
  {
   "cell_type": "code",
   "execution_count": 55,
   "metadata": {},
   "outputs": [
    {
     "name": "stdout",
     "output_type": "stream",
     "text": [
      "[(' cast iron', 26), (' hot water', 15), (' fri egg', 12), (' scrambl egg', 11), (' veget oil', 11), (' high heat', 9), (' perfect size', 8), (' nonstick pan', 8), (' oliv oil', 7), (' proper care', 7)]\n",
      " cast iron\n",
      "    cast iron     hot water       fri egg   scrambl egg     veget oil     high heat  perfect size \n",
      "           26            15            12            11            11             9             8 \n"
     ]
    }
   ],
   "source": [
    "# Negative\n",
    "freqdist_neg = nltk.FreqDist(word for word in extracted_neg)\n",
    "most_common_neg = freqdist_neg.most_common()\n",
    "print(most_common_neg[:10])\n",
    "print(freqdist_neg.max())\n",
    "freq_tab_neg = freqdist_neg.tabulate(7)"
   ]
  },
  {
   "cell_type": "code",
   "execution_count": 56,
   "metadata": {},
   "outputs": [
    {
     "data": {
      "image/png": "[encoded data removed]",
      "text/plain": [
       "<Figure size 720x504 with 1 Axes>"
      ]
     },
     "metadata": {
      "needs_background": "light"
     },
     "output_type": "display_data"
    }
   ],
   "source": [
    "plt.figure(figsize=(10, 7))  # We want a bigger size plot\n",
    "freqdist_neg.plot(20, title = \"Most Frequent Feature Phrases\", cumulative = False)"
   ]
  },
  {
   "cell_type": "markdown",
   "metadata": {},
   "source": [
    "Unlemmatize and unstem using the dictionary created earlier"
   ]
  },
  {
   "cell_type": "code",
   "execution_count": 57,
   "metadata": {},
   "outputs": [],
   "source": [
    "import inflect"
   ]
  },
  {
   "cell_type": "code",
   "execution_count": 58,
   "metadata": {},
   "outputs": [
    {
     "name": "stdout",
     "output_type": "stream",
     "text": [
      "[' non stick', ' unknown chemic', ' amaz skillet', ' alway bought', ' big-box store', ' whole batch', ' badli pre-season', ' realli rusti', ' soapi water', ' still wari']\n"
     ]
    }
   ],
   "source": [
    "print(extracted[:10])"
   ]
  },
  {
   "cell_type": "code",
   "execution_count": 59,
   "metadata": {},
   "outputs": [
    {
     "name": "stderr",
     "output_type": "stream",
     "text": [
      "100%|██████████| 3779/3779 [00:00<00:00, 5279.16it/s]\n",
      "100%|██████████| 2025/2025 [00:00<00:00, 5336.87it/s]\n",
      "100%|██████████| 1109/1109 [00:00<00:00, 5258.64it/s]\n"
     ]
    }
   ],
   "source": [
    "p = inflect.engine()\n",
    "def replacewords(mc):\n",
    "    newmc=[]\n",
    "    for a in tqdm(mc):\n",
    "        newword=\"\";found=False;\n",
    "        for b in a[0].split():            \n",
    "            for x in lem_word_mapping:\n",
    "                #print(x)\n",
    "                #print(b)\n",
    "                if b==x:\n",
    "                    found=True\n",
    "                    sing=(lem_word_mapping[x] if p.singular_noun(lem_word_mapping[x])==False else p.singular_noun(lem_word_mapping[x]))\n",
    "                    if newword==\"\":\n",
    "                        newword = newword + sing\n",
    "                    else:\n",
    "                        newword = newword + \" \" +  sing\n",
    "            if found==False:\n",
    "                if newword==\"\":\n",
    "                    newword = newword + b\n",
    "                else:\n",
    "                    newword = newword + \" \" +  b\n",
    "                    #print(newword)\n",
    "        newmc.append((newword,a[1]))\n",
    "    return newmc\n",
    "\n",
    "final = replacewords(most_common)\n",
    "final_pos = replacewords(most_common_pos)\n",
    "final_neg = replacewords(most_common_neg)"
   ]
  },
  {
   "cell_type": "code",
   "execution_count": 60,
   "metadata": {},
   "outputs": [
    {
     "name": "stdout",
     "output_type": "stream",
     "text": [
      "Top Feature Phrases:\n",
      "('casting', 120)\n",
      "[('casting', 120), ('hot water', 78), ('perfect size', 44), ('first time', 29), ('olive oiled', 29), ('non-stick pan', 28), ('vegetable oiled', 27), ('long time', 25), ('high heated', 23), ('fried egg', 22), ('well seasoning', 21), ('first casting', 21), ('non sticking', 18), ('high quality', 17), ('stainless steel', 17), ('inch skillet', 17), ('great pan', 16), ('grilled cheese', 16), ('little skillet', 16), ('proper careful', 16), ('scrambled egg', 16), ('never used', 15), ('great quality', 15), ('well made', 15), ('cast-iron skillet', 15), ('light coating', 15), ('goodnes quality', 14), ('little bit', 14), ('first used', 14), ('small amount', 14), ('thin layer', 14), ('properly seasoning', 14), ('nonstick pan', 14), ('warmed', 14), ('next time', 13), ('extra handle', 13), ('still hot', 13), ('many year', 13), ('great skillet', 13), ('stiff brush', 13), ('iron skillet', 12), ('several time', 12), ('non-stick coating', 11), ('great product', 11), ('right size', 11), ('still warmed', 10), ('also bought', 10), ('electric stove', 10), ('great priced', 10), ('free shipping', 10)]\n",
      "Top Positive Feature Phrases:\n",
      "('casting', 62)\n",
      "[('casting', 62), ('hot water', 44), ('perfect size', 35), ('well seasoning', 18), ('long time', 16), ('first time', 16), ('little skillet', 15), ('olive oiled', 14), ('non-stick pan', 13), ('first casting', 11), ('stainless steel', 11), ('properly seasoning', 11), ('small amount', 10), ('still hot', 10), ('well made', 10), ('great skillet', 10), ('grilled cheese', 9), ('cast-iron skillet', 9), ('proper careful', 9), ('reasonable priced', 9), ('vegetable oiled', 9), ('goodnes quality', 8), ('great priced', 8), ('free shipping', 8), ('hot oven', 8), ('great product', 8), ('high quality', 8), ('great quality', 8), ('pretty', 8), ('light coating', 8), ('non sticking', 7), ('next time', 7), ('high heated', 7), ('thin layer', 7), ('great pan', 7), ('goodnes size', 7), ('fried egg', 7), ('little bit', 6), ('still warmed', 6), ('great size', 6), ('extra handle', 6), ('right size', 6), ('small skillet', 6), ('warmed', 6), ('little oiled', 6), ('stiff brush', 6), ('properly careful', 5), ('first used', 5), ('goodnes casting', 5), ('great casting', 5)]\n",
      "Top Negative Feature Phrases:\n",
      "('casting', 26)\n",
      "[('casting', 26), ('hot water', 15), ('fried egg', 12), ('scrambled egg', 11), ('vegetable oiled', 11), ('high heated', 9), ('perfect size', 8), ('nonstick pan', 8), ('olive oiled', 7), ('proper careful', 7), ('non-stick pan', 6), ('non-stick coating', 5), ('high quality', 5), ('several time', 5), ('stainless steel', 5), ('little bit', 5), ('single personally', 5), ('never used', 5), ('first time', 5), ('warmed', 5), ('never cooking', 4), ('right size', 4), ('non sticking', 4), ('long time', 4), ('light coating', 4), ('great pan', 4), ('first used', 4), ('inch skillet', 4), ('heavy pan', 4), ('thin coating', 4), ('iron skillet', 3), ('hot spot', 3), ('next used', 3), ('tiny bit', 3), ('dutch oven', 3), ('bacon grease', 3), ('never owned', 3), ('great product', 3), ('non-stick surface', 3), ('big deal', 3), ('big pan', 3), ('non-stick cookware', 3), ('goodnes quality', 3), ('next day', 3), ('properly seasoning', 3), ('great cooking', 3), ('canola oiled', 3), ('electric stove', 3), ('first casting', 3), ('excess oiled', 3)]\n"
     ]
    }
   ],
   "source": [
    "print(\"Top Feature Phrases:\")\n",
    "print(final[0])\n",
    "print(final[:50])\n",
    "print(\"Top Positive Feature Phrases:\")\n",
    "print(final_pos[0])\n",
    "print(final_pos[:50])\n",
    "print(\"Top Negative Feature Phrases:\")\n",
    "print(final_neg[0])\n",
    "print(final_neg[:50])"
   ]
  },
  {
   "cell_type": "markdown",
   "metadata": {},
   "source": [
    "We'll find out the opinions corresponding to the most common features.\n",
    "Its a simple search in a bunch of lists/files at this point"
   ]
  },
  {
   "cell_type": "code",
   "execution_count": 77,
   "metadata": {},
   "outputs": [],
   "source": [
    "def featuresInContext(item_arr, opinion_phrases, sentence_arr ):\n",
    "    for item,support in tqdm(sorted(item_arr, key=lambda item_support: item_support[1], reverse=True)):\n",
    "        count = 0\n",
    "        print(\"------\" + \"Item > \" + item[0] + \"------\")\n",
    "        for phrase, freq in sorted(opinion_phrases, key = lambda phrase_freq: phrase_freq[1], reverse = True):\n",
    "            pcount = 0\n",
    "            if normalise(item[0]) in normalise(phrase):\n",
    "                count+=1\n",
    "                print(\"---\" + \"Phrase > \" + phrase + \"----\")\n",
    "                for l in sentence_arr:\n",
    "                    if normalise(phrase) in normalise(l):\n",
    "                        # print(\"Debug: \" + l)\n",
    "                        for b in zip(l.split(\" \")[:-1], l.split(\" \")[1:]):\n",
    "                            #print(b[0]+\" \"+b[1])\n",
    "                            if normalise(b[0])==normalise(item[0]):\n",
    "                                print(\"---\" + \"examplex\" + \"----\")\n",
    "                                print(l.replace(\"'\",\"\").replace(\"]\",\"\").replace(\"[\",\"\"))\n",
    "                                pcount+=1\n",
    "                                break\n",
    "                            elif (normalise(b[0])+\" \"+normalise(b[1]))==normalise(item[0]):\n",
    "                                print(\"---\" + \"exampley\" + \"----\")\n",
    "                                print(l.replace(\"'\",\"\").replace(\"]\",\"\").replace(\"[\",\"\"))\n",
    "                                pcount+=1\n",
    "                                break\n",
    "                        if pcount==4:\n",
    "                            break                \n",
    "            if count==4:\n",
    "                break \n",
    "        \n",
    "# sent_str = \"\"\n",
    "# sent_str = sent_str.join(sent_fullreview)\n",
    "# token_sentences = sent_tokenizer1.tokenize(sent_str)\n",
    "# featuresInContext(items, final, sent_fullreview)"
   ]
  },
  {
   "cell_type": "markdown",
   "metadata": {},
   "source": [
    "Modified to function without the item. Its assumed that the reviews are already constrained by the item in this case"
   ]
  },
  {
   "cell_type": "code",
   "execution_count": 74,
   "metadata": {},
   "outputs": [],
   "source": [
    "def featuresInContextC(opinion_phrases, sentence_arr ):\n",
    "    count = 0\n",
    "    for phrase, freq in sorted(opinion_phrases, key = lambda phrase_freq: phrase_freq[1], reverse = True):\n",
    "        pcount = 0\n",
    "        count +=1\n",
    "        print(\"---\" + \"Phrase > \" + str(count) + \" >>> \" + phrase + \"----\")\n",
    "        for l in sentence_arr:            \n",
    "            if normalise(phrase) in normalise(l):\n",
    "                pcount +=1\n",
    "                print(\"---\" + \"example > \" + str(pcount) + \" >>> \" + \"----\")\n",
    "                print(l)\n",
    "                \n",
    "                if pcount == 4:\n",
    "                    break\n",
    "        if count == 4:\n",
    "            break\n",
    "              "
   ]
  },
  {
   "cell_type": "code",
   "execution_count": 80,
   "metadata": {},
   "outputs": [
    {
     "name": "stdout",
     "output_type": "stream",
     "text": [
      "5\n",
      "2\n",
      "[(('cast',), 0.13639551192145863), (('skillet',), 0.18951612903225806)]\n"
     ]
    }
   ],
   "source": [
    "print(len(items))\n",
    "items_few = items[:2]\n",
    "print(len(items_few))\n",
    "print(items_few)"
   ]
  },
  {
   "cell_type": "code",
   "execution_count": 82,
   "metadata": {},
   "outputs": [
    {
     "data": {
      "text/plain": [
       "list"
      ]
     },
     "execution_count": 82,
     "metadata": {},
     "output_type": "execute_result"
    }
   ],
   "source": [
    "type(items)"
   ]
  },
  {
   "cell_type": "code",
   "execution_count": 83,
   "metadata": {},
   "outputs": [
    {
     "data": {
      "text/plain": [
       "tuple"
      ]
     },
     "execution_count": 83,
     "metadata": {},
     "output_type": "execute_result"
    }
   ],
   "source": [
    "type(items[0])"
   ]
  },
  {
   "cell_type": "code",
   "execution_count": 88,
   "metadata": {},
   "outputs": [
    {
     "name": "stdout",
     "output_type": "stream",
     "text": [
      "[(('cast',), 0.13639551192145863), (('skillet',), 0.18951612903225806), (('pan',), 0.22808555399719496), (('iron',), 0.18127629733520337), (('iron', 'cast'), 0.13394109396914447)]\n"
     ]
    }
   ],
   "source": [
    "print(items)"
   ]
  },
  {
   "cell_type": "markdown",
   "metadata": {},
   "source": [
    "Sort by support"
   ]
  },
  {
   "cell_type": "code",
   "execution_count": 93,
   "metadata": {},
   "outputs": [],
   "source": [
    "items.sort(key=lambda tup: tup[1], reverse=True) "
   ]
  },
  {
   "cell_type": "code",
   "execution_count": 94,
   "metadata": {},
   "outputs": [
    {
     "name": "stdout",
     "output_type": "stream",
     "text": [
      "[(('pan',), 0.22808555399719496), (('skillet',), 0.18951612903225806), (('iron',), 0.18127629733520337), (('cast',), 0.13639551192145863), (('iron', 'cast'), 0.13394109396914447)]\n"
     ]
    }
   ],
   "source": [
    "print(items)"
   ]
  },
  {
   "cell_type": "code",
   "execution_count": 96,
   "metadata": {},
   "outputs": [
    {
     "name": "stderr",
     "output_type": "stream",
     "text": [
      "\r",
      "  0%|          | 0/2 [00:00<?, ?it/s]"
     ]
    },
    {
     "name": "stdout",
     "output_type": "stream",
     "text": [
      "------Item > skillet------\n",
      "---Phrase > inch skillet----\n",
      "---examplex----\n",
      "Its not the easiest to clean, since you cant just throw it in the dish washer, but thats with any cast iron skillet.Bought this and the 8 inch skillet because I want to get away from teflon.\n",
      "---examplex----\n",
      "You can find that hereLodge 12 inch Skillet with Glass LidI received mine with no problems related to shipping.Got this for my boyfriend for christmas and he was so excited.\n",
      "---examplex----\n",
      "Cast iron is much better than stainless for fried eggs, and this spacious 15\" pan would provide considerably more room for frying and could saute more without getting so crowded that the food gets steamed.I want it to work out, but I might have to downsize to the 13 inch skillet because I dont see a practical way to heat a pan this large evenly.The pan is heavy and very high quality.\n",
      "---examplex----\n",
      "Cooks three eggs every morning so perfectly your household will queue up to use it.I already have the 8 inch skillet and love it.\n",
      "---Phrase > little skillet----\n",
      "---examplex----\n",
      "With all of the expensive cookware on the market, its nice to have found something inexpensive that works great.I purchased this little skillet for my husband who likes to make one egg over lightly every so often.\n",
      "---examplex----\n",
      "Too be honest, there is nothing negative about this little skillet at all, making it the perfect skillet.\n",
      "---examplex----\n",
      "Im so excited to have added two of these 8\" skillets to my Lodge cast iron collection and cant wait to come up with even more uses for these adorable, super-handy little skillets!This is a must for every kitchen.\n",
      "---examplex----\n",
      "I highly recommend this product!I cook for myself, so this little skillet is the perfect size for 3-egg omelet in the morning, or veggie saute for dinner.\n",
      "---Phrase > cast-iron skillet----\n"
     ]
    },
    {
     "name": "stderr",
     "output_type": "stream",
     "text": [
      "\r",
      " 50%|█████     | 1/2 [00:00<00:00,  2.70it/s]"
     ]
    },
    {
     "name": "stdout",
     "output_type": "stream",
     "text": [
      "---examplex----\n",
      "Every once in a while something sticks but a quick scrub with a scrubber sponge takes care of it.The surface is a little more pebbly than my 40-yr old, 12\" cast-iron skillet (which has a mirror-like finish and nothing ever sticks to it) so eggs were a bit of a challenge at first, but after using it for 6 months they rarely stick; over time as I cook with it, it gets better and better.\n",
      "---examplex----\n",
      "This size about completes my set of cast-iron skillets and pans.\n",
      "---examplex----\n",
      "The pan is outstanding and cooks like a cast-iron skillet should...highly recommend this over paying a lot of money for a name brand skillet.What a wonderful pan!\n",
      "---examplex----\n",
      "I would certainly buy from this seller again and would certainly buy cast-iron skillets.....Ive been using this skillet for about five months now and I love it.\n",
      "---Phrase > great skillet----\n",
      "---examplex----\n",
      "Did cornbread, turned the skillet upside down and the cornbread dropped right out by its ownself (as its said in these here parts :-)This is a great skillet, but is very very larger....I dont think a normal stove burner can handle this big boy!Every serious cook needs a 12 cast iron skillet.\n",
      "---examplex----\n",
      "Better to go for the max temp protection.This is a great skillet for on top of the stove or in the oven (or both).\n",
      "---examplex----\n",
      "Great skillet to own, cooks everything perfectly, you are sure to be extremely satisfied with it!I would buy again and i would definitely recommend it.For the price this is amazing.\n",
      "---examplex----\n",
      "I definitely recommend this pan...its been my &#34;go to&#34; pan for everything since I got it!One great skillet for frying bacon and making corn bread.\n",
      "------Item > cast------\n",
      "---Phrase > casting----\n",
      "---examplex----\n",
      "Just say no to chemical treatments on non stick pans, get yourself and your friends a few sizes of cast iron and have pans that you can pass down to your children, without all those unknown chemicals that are such a part of pans for the last few decades.This is an absolutely amazing skillet!!\n",
      "---examplex----\n",
      "This was horrible.Im used to cast iron, for sure.\n",
      "---examplex----\n",
      "Been using good old American-made Lodge skillets for years, plus we regularly use a big cast iron wok imported from China.So, Im giving only two stars because the pre-seasoning is a messy hassle.Now Ive got to cook dinner.So far I am loving this skillet!\n",
      "---examplex----\n",
      "I enjoy using it, dont mind caring for it, and appreciate the finished product only cast iron cooking delivers.A nice piece of cast Iron.\n",
      "---Phrase > first casting----\n",
      "---examplex----\n",
      "Thanks for a great product.This is the first cast iron pan Ive ever used and its wonderful.\n",
      "---examplex----\n",
      "These were my first cast iron pans.\n",
      "---examplex----\n",
      "It was so convenient having it pre-seasoned and with such a great quality for the price, I wouldnt buy from another brand :) Definitely recommend this skillet!My husband and I got our first cast iron pan about a year ago.\n",
      "---examplex----\n",
      "Looking forward to cooking potatoes and other items in this!This is my first cast iron skillet so there has been a little bit of a learning curve in the proper way to maintain it.The skillet feels extremely heavy duty.\n",
      "---Phrase > cast-iron skillet----\n",
      "---examplex----\n",
      "(If I dont lose this one too)Cant believe cast iron pans were old school and ugly.Yes stainless is shiny and nice looking, but for great results, steady even heat and versitility,I love this pan.Corn bread in this sucker...BAM!I purchased a 10.5 inch recently and then just got the 8 inch pre-seasoned cast-iron skillet.\n",
      "---examplex----\n",
      "Emerils favorite skillet is a Lodge.Lodge Logic L5SK3 Pre-Seasoned Cast-Iron Skillet, 8-inchThe Lodge Cast Iron Skillet is a multi-functional cookware that works wonders with slow-cooking recipes.\n",
      "---examplex----\n",
      "Sporting a stylish black color, the cast iron Skillet looks good in most kitchens and it doubles up as an excellent source of nutritional iron.A simple Cast-Iron skillet, like the one your grandmother used, still ranks as one of the best cooking utensils ever made.\n",
      "---examplex----\n",
      "My two star rating is not about the skillet, which I never used, but about Amazons inferior shipping container that could not protect even a piece of cast iron from terminal damage.Lodge Logic L14SK3 15-Inch Pre-Seasoned Cast-Iron SkilletThis is the most incredible skillet I have EVER used!\n",
      "---Phrase > goodnes casting----\n"
     ]
    },
    {
     "name": "stderr",
     "output_type": "stream",
     "text": [
      "100%|██████████| 2/2 [00:01<00:00,  2.21it/s]\n"
     ]
    }
   ],
   "source": [
    "featuresInContext(items_few, final, sent_fullreview)"
   ]
  },
  {
   "cell_type": "code",
   "execution_count": 76,
   "metadata": {},
   "outputs": [
    {
     "name": "stdout",
     "output_type": "stream",
     "text": [
      "---Phrase > 1 >>> casting----\n",
      "---example > 1 >>> ----\n",
      "Just say no to chemical treatments on non stick pans, get yourself and your friends a few sizes of cast iron and have pans that you can pass down to your children, without all those unknown chemicals that are such a part of pans for the last few decades.This is an absolutely amazing skillet!!\n",
      "---example > 2 >>> ----\n",
      "This was horrible.I'm used to cast iron, for sure.\n",
      "---example > 3 >>> ----\n",
      "Been using good old American-made Lodge skillets for years, plus we regularly use a big cast iron wok imported from China.So, I'm giving only two stars because the pre-seasoning is a messy hassle.Now I've got to cook dinner.So far I am loving this skillet!\n",
      "---example > 4 >>> ----\n",
      "!If you are familiar with cast-iron, and are willing to give it the minimal care it requires, you'll love this.\n",
      "---Phrase > 2 >>> hot water----\n",
      "---example > 1 >>> ----\n",
      "Then, I give it a good rinse in hot water and place the skillet into a hot oven until it is dry (quickly drying with heat avoids a build up of rust).\n",
      "---example > 2 >>> ----\n",
      "Just wash with hot water, without soap.\n",
      "---example > 3 >>> ----\n",
      "I soak my pan in warm to hot water and use a soft to medium bristle brush to get food off.\n",
      "---example > 4 >>> ----\n",
      "To loosen stuck particles, heat the pan, dump in hot water, and let it boil for a few minutes.\n",
      "---Phrase > 3 >>> perfect size----\n",
      "---example > 1 >>> ----\n",
      "and it was a perfect size for me.I use this skillet all the time cooking steaks and when i fry anything.\n",
      "---example > 2 >>> ----\n",
      "I never cooked with cast iron so I can't explain why, but I prefer using this lodge logic to my other nice cookware.My wife has made sure that I keep and clean it correctly when I use it, so it's in perfect shape and cooks beautifully.I had an ancient 8 inch cast iron skillet that has been in my family forever and it's getting very pitted and food is sticking more and more.\n",
      "---example > 3 >>> ----\n",
      "This one was the perfect size.\n",
      "---example > 4 >>> ----\n",
      "It's the perfect size for one person!\n",
      "---Phrase > 4 >>> first time----\n",
      "---example > 1 >>> ----\n",
      "First time I've bought a skillet and I'm really happy with it.\n",
      "---example > 2 >>> ----\n",
      "Before I start cooking, I let it get warm on low (so heat distributes evenly) till I see a little bit of smoke starting to rise- seems to help in avoiding the food from sticking.Broke this bad boy out for the first time when we had family unexpedly in the need to spend the night.\n",
      "---example > 3 >>> ----\n",
      "I tried to use it the first time to make egg.\n",
      "---example > 4 >>> ----\n",
      "The first time I cooked eggs they were the best I'd EVER had!\n"
     ]
    }
   ],
   "source": [
    "featuresInContextC(final, sent_fullreview)"
   ]
  },
  {
   "cell_type": "code",
   "execution_count": null,
   "metadata": {},
   "outputs": [],
   "source": [
    "# featuresInContext(items_few, most_common_neg, sent_neg_review)"
   ]
  },
  {
   "cell_type": "code",
   "execution_count": null,
   "metadata": {},
   "outputs": [],
   "source": [
    "# featuresInContext(items_few, most_common_pos, sent_pos_review)"
   ]
  },
  {
   "cell_type": "code",
   "execution_count": null,
   "metadata": {},
   "outputs": [],
   "source": []
  }
 ],
 "metadata": {
  "kernelspec": {
   "display_name": "Python 3",
   "language": "python",
   "name": "python3"
  },
  "language_info": {
   "codemirror_mode": {
    "name": "ipython",
    "version": 3
   },
   "file_extension": ".py",
   "mimetype": "text/x-python",
   "name": "python",
   "nbconvert_exporter": "python",
   "pygments_lexer": "ipython3",
   "version": "3.7.0"
  }
 },
 "nbformat": 4,
 "nbformat_minor": 2
}
