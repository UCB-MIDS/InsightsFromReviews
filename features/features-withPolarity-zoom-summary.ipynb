{
 "cells": [
  {
   "cell_type": "code",
   "execution_count": 1,
   "metadata": {},
   "outputs": [],
   "source": [
    "import nltk\n",
    "import json"
   ]
  },
  {
   "cell_type": "code",
   "execution_count": 2,
   "metadata": {},
   "outputs": [],
   "source": [
    "from tqdm import tqdm"
   ]
  },
  {
   "cell_type": "code",
   "execution_count": 3,
   "metadata": {},
   "outputs": [],
   "source": [
    "file_d = []\n",
    "reviews_sent = []\n",
    "reviews_neg_sent = []\n",
    "reviews_str = \"\"\n",
    "reviews_pos_str = \"\"\n",
    "reviews_neg_str = \"\""
   ]
  },
  {
   "cell_type": "code",
   "execution_count": 4,
   "metadata": {},
   "outputs": [],
   "source": [
    "file = '/Users/gkhanna/Downloads/reviews_Home_and_Kitchen_5.json'"
   ]
  },
  {
   "cell_type": "markdown",
   "metadata": {},
   "source": [
    "Reading \"count\" of the file for faster experiments\n",
    "count = 0 pulls in all data"
   ]
  },
  {
   "cell_type": "code",
   "execution_count": 5,
   "metadata": {},
   "outputs": [
    {
     "name": "stderr",
     "output_type": "stream",
     "text": [
      "551682it [00:06, 85983.85it/s] \n"
     ]
    }
   ],
   "source": [
    "# Reading count number of JSON lines from the file\n",
    "count = 0\n",
    "n = 0\n",
    "with open(file, \"r\") as f:\n",
    "    for line in tqdm(f):\n",
    "        file_d.append(json.loads(line))\n",
    "        n =  n + 1\n",
    "        if count > 0 and n == count:\n",
    "            break\n",
    "    \n"
   ]
  },
  {
   "cell_type": "code",
   "execution_count": 6,
   "metadata": {},
   "outputs": [
    {
     "name": "stdout",
     "output_type": "stream",
     "text": [
      "551682\n",
      "<class 'list'>\n",
      "{'reviewerID': 'APYOBQE6M18AA', 'asin': '0615391206', 'reviewerName': 'Martin Schwartz', 'helpful': [0, 0], 'reviewText': 'My daughter wanted this book and the price on Amazon was the best.  She has already tried one recipe a day after receiving the book.  She seems happy with it.', 'overall': 5.0, 'summary': 'Best Price', 'unixReviewTime': 1382140800, 'reviewTime': '10 19, 2013'}\n",
      "<class 'dict'>\n"
     ]
    }
   ],
   "source": [
    "# Checking the structures\n",
    "print(len(file_d))\n",
    "print(type(file_d))\n",
    "print(file_d[0])\n",
    "print(type(file_d[0]))"
   ]
  },
  {
   "cell_type": "code",
   "execution_count": 7,
   "metadata": {},
   "outputs": [
    {
     "name": "stdout",
     "output_type": "stream",
     "text": [
      "My daughter wanted this book and the price on Amazon was the best.  She has already tried one recipe a day after receiving the book.  She seems happy with it.\n"
     ]
    }
   ],
   "source": [
    "print(file_d[0]['reviewText'])"
   ]
  },
  {
   "cell_type": "markdown",
   "metadata": {},
   "source": [
    "Read in reviews that correspond to the list of ASIN's (Amazon product ID's) selected. \n",
    "Choosing the ASIN that has ~ 1000 reviews from the EDA"
   ]
  },
  {
   "cell_type": "code",
   "execution_count": 8,
   "metadata": {},
   "outputs": [],
   "source": [
    "# ASIN corresponding to the Iron Skillet\n",
    "pl = ['B00006JSUA']"
   ]
  },
  {
   "cell_type": "code",
   "execution_count": 9,
   "metadata": {},
   "outputs": [],
   "source": [
    "# ASIN's for Iron Skillets from Jey's web scraping\n",
    "# pl = ['B075MRX5N3', 'B06XT6GZ9V', 'B00006JSUA', 'B00006JSUA', 'B07GKZXS2T', 'B000VTOG78', 'B00X4WQMAS', 'B00G2XGC88', 'B073Q8P6CQ', 'B073Q8DY3F']"
   ]
  },
  {
   "cell_type": "code",
   "execution_count": 10,
   "metadata": {},
   "outputs": [],
   "source": [
    "# Trying out the ASIN's for toothbrush holder\n",
    "# pl = ['B078GVMVRH', 'B078GVH2VJ', 'B00SX07354', 'B00CC6XSRC', 'B0777SKKBL', 'B072YVWBXH', 'B01AKGRTUM', 'B07CMHRZRT', 'B07CMHRZS2', 'B073Q58L6Q']"
   ]
  },
  {
   "cell_type": "code",
   "execution_count": 11,
   "metadata": {},
   "outputs": [
    {
     "name": "stderr",
     "output_type": "stream",
     "text": [
      "100%|██████████| 551682/551682 [00:00<00:00, 1898822.36it/s]\n"
     ]
    }
   ],
   "source": [
    "# Getting the reviews out of the dictionary\n",
    "# into a list and string\n",
    "for r in tqdm(file_d):\n",
    "    if r['asin'] in pl:\n",
    "        reviews_sent.append(r['reviewText'])\n",
    "        reviews_str = reviews_str + str(r['reviewText'])\n",
    "        if ((r['overall'] == 1.0) or (r['overall'] == 2.0)):\n",
    "            reviews_neg_str = reviews_neg_str + str(r['reviewText'])\n",
    "        else:\n",
    "            reviews_pos_str = reviews_pos_str + str(r['reviewText'])"
   ]
  },
  {
   "cell_type": "code",
   "execution_count": 12,
   "metadata": {},
   "outputs": [
    {
     "name": "stdout",
     "output_type": "stream",
     "text": [
      "<class 'list'>\n",
      "1064\n",
      "Just say no to chemical treatments on non stick pans, get yourself and your friends a few sizes of cast iron and have pans that you can pass down to your children, without all those unknown chemicals that are such a part of pans for the last few decades.\n"
     ]
    }
   ],
   "source": [
    "print(type(reviews_sent))\n",
    "print(len(reviews_sent))\n",
    "print(reviews_sent[0])"
   ]
  },
  {
   "cell_type": "code",
   "execution_count": 13,
   "metadata": {},
   "outputs": [],
   "source": [
    "# print(reviews_sent)"
   ]
  },
  {
   "cell_type": "code",
   "execution_count": 14,
   "metadata": {},
   "outputs": [
    {
     "name": "stdout",
     "output_type": "stream",
     "text": [
      "598363\n",
      "572557\n",
      "25806\n"
     ]
    }
   ],
   "source": [
    "print(len(reviews_str))\n",
    "print(len(reviews_pos_str))\n",
    "print(len(reviews_neg_str))"
   ]
  },
  {
   "cell_type": "code",
   "execution_count": 15,
   "metadata": {},
   "outputs": [
    {
     "name": "stdout",
     "output_type": "stream",
     "text": [
      "Just say no to chemical treatments on non stick pans, get yourself and your friends a few sizes of c\n",
      "Just say no to chemical treatments on non stick pans, get yourself and your friends a few sizes of c\n",
      "I've always bought the regular Lodge skillets and loved them.  Went with the pre-seasoned this time \n"
     ]
    }
   ],
   "source": [
    "print(reviews_str[:100])\n",
    "print(reviews_pos_str[:100])\n",
    "print(reviews_neg_str[:100])"
   ]
  },
  {
   "cell_type": "markdown",
   "metadata": {},
   "source": [
    "Summarizing before doing anything else with the review strings"
   ]
  },
  {
   "cell_type": "code",
   "execution_count": 16,
   "metadata": {},
   "outputs": [],
   "source": [
    "from gensim.summarization import summarize"
   ]
  },
  {
   "cell_type": "code",
   "execution_count": 17,
   "metadata": {},
   "outputs": [],
   "source": [
    "reviews_str = summarize(reviews_str)"
   ]
  },
  {
   "cell_type": "code",
   "execution_count": 18,
   "metadata": {},
   "outputs": [
    {
     "name": "stdout",
     "output_type": "stream",
     "text": [
      "206506\n",
      "Just say no to chemical treatments on non stick pans, get yourself and your friends a few sizes of c\n"
     ]
    }
   ],
   "source": [
    "print(len(reviews_str))\n",
    "print(reviews_str[:100])"
   ]
  },
  {
   "cell_type": "code",
   "execution_count": 19,
   "metadata": {},
   "outputs": [],
   "source": [
    "reviews_pos_str = summarize(reviews_pos_str)\n",
    "reviews_neg_str = summarize(reviews_neg_str)"
   ]
  },
  {
   "cell_type": "code",
   "execution_count": 20,
   "metadata": {},
   "outputs": [
    {
     "name": "stdout",
     "output_type": "stream",
     "text": [
      "197953\n",
      "Just say no to chemical treatments on non stick pans, get yourself and your friends a few sizes of c\n",
      "8073\n",
      "Been using good old American-made Lodge skillets for years, plus we regularly use a big cast iron wo\n"
     ]
    }
   ],
   "source": [
    "print(len(reviews_pos_str))\n",
    "print(reviews_pos_str[:100])\n",
    "print(len(reviews_neg_str))\n",
    "print(reviews_neg_str[:100])"
   ]
  },
  {
   "cell_type": "markdown",
   "metadata": {},
   "source": [
    "Separating out sentences into a list\n",
    "PunktSentenceTokenizer is customized to separate sentences on a few extra words and characters as wel"
   ]
  },
  {
   "cell_type": "code",
   "execution_count": 21,
   "metadata": {},
   "outputs": [],
   "source": [
    "from nltk.tokenize.punkt import PunktSentenceTokenizer, PunktLanguageVars\n",
    "'''We customize the ReviewLangVars class to separate sentences based on some additional keywords'''\n",
    "\n",
    "\n",
    "class ReviewLangVars(PunktLanguageVars):\n",
    "    sent_end_chars = ('pros:', 'cons:', '[','][','.','?','!')\n",
    "    \n",
    "sent_tokenizer1 = PunktSentenceTokenizer(lang_vars = ReviewLangVars())\n",
    "# sent_tokenizer1 = PunktSentenceTokenizer()\n",
    "sent_fullreview = sent_tokenizer1.tokenize(reviews_str)\n",
    "sent_neg_review = sent_tokenizer1.tokenize(reviews_neg_str)\n",
    "sent_pos_review = sent_tokenizer1.tokenize(reviews_pos_str)"
   ]
  },
  {
   "cell_type": "code",
   "execution_count": 22,
   "metadata": {},
   "outputs": [
    {
     "name": "stdout",
     "output_type": "stream",
     "text": [
      "Just say no to chemical treatments on non stick pans, get yourself and your friends a few sizes of cast iron and have pans that you can pass down to your children, without all those unknown chemicals that are such a part of pans for the last few decades.This is an absolutely amazing skillet!!\n",
      "['Just say no to chemical treatments on non stick pans, get yourself and your friends a few sizes of cast iron and have pans that you can pass down to your children, without all those unknown chemicals that are such a part of pans for the last few decades.This is an absolutely amazing skillet!!', \"I re-season it a bit as well to keep it going strong!I've always bought the regular Lodge skillets and loved them.\", \"Been using good old American-made Lodge skillets for years, plus we regularly use a big cast iron wok imported from China.So, I'm giving only two stars because the pre-seasoning is a messy hassle.Now I've got to cook dinner.So far I am loving this skillet!\", 'And another review complaining that the handle gets', 'hot!']\n",
      "1180\n"
     ]
    }
   ],
   "source": [
    "# This are the original sentences tokenized\n",
    "print(sent_fullreview[0])\n",
    "print(sent_fullreview[:5])\n",
    "print(len(sent_fullreview))"
   ]
  },
  {
   "cell_type": "code",
   "execution_count": 23,
   "metadata": {},
   "outputs": [
    {
     "name": "stdout",
     "output_type": "stream",
     "text": [
      "Been using good old American-made Lodge skillets for years, plus we regularly use a big cast iron wok imported from China.So, I'm giving only two stars because the pre-seasoning is a messy hassle.Now I've got to cook dinner.I bought this specifically for cooking eggs.\n",
      "[\"Been using good old American-made Lodge skillets for years, plus we regularly use a big cast iron wok imported from China.So, I'm giving only two stars because the pre-seasoning is a messy hassle.Now I've got to cook dinner.I bought this specifically for cooking eggs.\", 'On the first use before heating, I noticed the pan bottom was warped upward in the center allowing oil and food to run to the edge.', 'Why would Amazon think I would want a cracked skillet?used once, wiped it out to use again.', 'The cooking surface has a \"rough\" texture which causes food to stick unnecessarily, whereas it should have been ground smooth before leaving the factory.', 'The \"loop\" handle was a good idea, otherwise most folks would likely strain their wrists trying to lift this pan off the stove with one hand.']\n",
      "46\n"
     ]
    }
   ],
   "source": [
    "# This are the negative sentences tokenized\n",
    "print(sent_neg_review[0])\n",
    "print(sent_neg_review[:5])\n",
    "print(len(sent_neg_review))"
   ]
  },
  {
   "cell_type": "code",
   "execution_count": 24,
   "metadata": {},
   "outputs": [
    {
     "name": "stdout",
     "output_type": "stream",
     "text": [
      "Just say no to chemical treatments on non stick pans, get yourself and your friends a few sizes of cast iron and have pans that you can pass down to your children, without all those unknown chemicals that are such a part of pans for the last few decades.This is an absolutely amazing skillet!!\n",
      "['Just say no to chemical treatments on non stick pans, get yourself and your friends a few sizes of cast iron and have pans that you can pass down to your children, without all those unknown chemicals that are such a part of pans for the last few decades.This is an absolutely amazing skillet!!', 'And another review complaining that the handle gets', 'hot!', \"!If you are familiar with cast-iron, and are willing to give it the minimal care it requires, you'll love this.\", 'With proper seasoning (not the garbage spray lodge puts on) a nice piece of cast iron will be virtuly non-stick.']\n",
      "1128\n"
     ]
    }
   ],
   "source": [
    "# This are the positive sentences tokenized\n",
    "print(sent_pos_review[0])\n",
    "print(sent_pos_review[:5])\n",
    "print(len(sent_pos_review))"
   ]
  },
  {
   "cell_type": "markdown",
   "metadata": {},
   "source": [
    "Extracting common Items using apriori\n",
    "https://github.com/asaini/Apriori"
   ]
  },
  {
   "cell_type": "code",
   "execution_count": 25,
   "metadata": {},
   "outputs": [],
   "source": [
    "import sys\n",
    "\n",
    "from itertools import chain, combinations\n",
    "from collections import defaultdict\n",
    "from optparse import OptionParser\n",
    "\n",
    "\n",
    "def subsets(arr):\n",
    "    \"\"\" Returns non empty subsets of arr\"\"\"\n",
    "    return chain(*[combinations(arr, i + 1) for i, a in enumerate(arr)])\n",
    "\n",
    "\n",
    "def returnItemsWithMinSupport(itemSet, transactionList, minSupport, freqSet):\n",
    "        \"\"\"calculates the support for items in the itemSet and returns a subset\n",
    "       of the itemSet each of whose elements satisfies the minimum support\"\"\"\n",
    "        _itemSet = set()\n",
    "        localSet = defaultdict(int)\n",
    "\n",
    "        for item in itemSet:\n",
    "                for transaction in transactionList:\n",
    "                        if item.issubset(transaction):\n",
    "                                freqSet[item] += 1\n",
    "                                localSet[item] += 1\n",
    "\n",
    "        for item, count in localSet.items():\n",
    "                support = float(count)/len(transactionList)\n",
    "\n",
    "                if support >= minSupport:\n",
    "                        _itemSet.add(item)\n",
    "\n",
    "        return _itemSet\n",
    "\n",
    "\n",
    "def joinSet(itemSet, length):\n",
    "        \"\"\"Join a set with itself and returns the n-element itemsets\"\"\"\n",
    "        return set([i.union(j) for i in itemSet for j in itemSet if len(i.union(j)) == length])\n",
    "\n",
    "\n",
    "def getItemSetTransactionList(data_iterator):\n",
    "    transactionList = list()\n",
    "    itemSet = set()\n",
    "    for record in data_iterator:\n",
    "        transaction = frozenset(record)\n",
    "        transactionList.append(transaction)\n",
    "        for item in transaction:\n",
    "            itemSet.add(frozenset([item]))              # Generate 1-itemSets\n",
    "    return itemSet, transactionList\n",
    "\n",
    "\n",
    "def runApriori(data_iter, minSupport, minConfidence):\n",
    "    \"\"\"\n",
    "    run the apriori algorithm. data_iter is a record iterator\n",
    "    Return both:\n",
    "     - items (tuple, support)\n",
    "     - rules ((pretuple, posttuple), confidence)\n",
    "    \"\"\"\n",
    "    itemSet, transactionList = getItemSetTransactionList(data_iter)\n",
    "\n",
    "    freqSet = defaultdict(int)\n",
    "    largeSet = dict()\n",
    "    # Global dictionary which stores (key=n-itemSets,value=support)\n",
    "    # which satisfy minSupport\n",
    "\n",
    "    assocRules = dict()\n",
    "    # Dictionary which stores Association Rules\n",
    "\n",
    "    oneCSet = returnItemsWithMinSupport(itemSet,\n",
    "                                        transactionList,\n",
    "                                        minSupport,\n",
    "                                        freqSet)\n",
    "\n",
    "    currentLSet = oneCSet\n",
    "    k = 2\n",
    "    while(currentLSet != set([])):\n",
    "        largeSet[k-1] = currentLSet\n",
    "        currentLSet = joinSet(currentLSet, k)\n",
    "        currentCSet = returnItemsWithMinSupport(currentLSet,\n",
    "                                                transactionList,\n",
    "                                                minSupport,\n",
    "                                                freqSet)\n",
    "        currentLSet = currentCSet\n",
    "        k = k + 1\n",
    "\n",
    "    def getSupport(item):\n",
    "            \"\"\"local function which Returns the support of an item\"\"\"\n",
    "            return float(freqSet[item])/len(transactionList)\n",
    "\n",
    "    toRetItems = []\n",
    "    for key, value in tqdm(list(largeSet.items())):\n",
    "        toRetItems.extend([(tuple(item), getSupport(item))\n",
    "                           for item in value])\n",
    "\n",
    "    toRetRules = []\n",
    "    for key, value in tqdm(list(largeSet.items())[1:]):\n",
    "        for item in value:\n",
    "            _subsets = map(frozenset, [x for x in subsets(item)])\n",
    "            for element in _subsets:\n",
    "                remain = item.difference(element)\n",
    "                if len(remain) > 0:\n",
    "                    confidence = getSupport(item)/getSupport(element)\n",
    "                    if confidence >= minConfidence:\n",
    "                        toRetRules.append(((tuple(element), tuple(remain)),\n",
    "                                           confidence))\n",
    "    return toRetItems, toRetRules\n",
    "\n",
    "\n",
    "def printResults(items):\n",
    "    \"\"\"prints the generated itemsets sorted by support and the confidence rules sorted by confidence\"\"\"\n",
    "    for item, support in sorted(items, key=lambda item_support: item_support[1], reverse=True):\n",
    "        print(str(item), support)"
   ]
  },
  {
   "cell_type": "code",
   "execution_count": 26,
   "metadata": {},
   "outputs": [],
   "source": [
    "# Utility functions\n",
    "from nltk.corpus import stopwords\n",
    "stopwords = stopwords.words('english')\n",
    "\n",
    "lem = nltk.WordNetLemmatizer()\n",
    "stemmer = nltk.stem.porter.PorterStemmer()\n",
    "lem_word_mapping = {}\n",
    "\n",
    "# Find leaves of a tree\n",
    "def leaves(tree):\n",
    "    \"\"\"Finds leaf nodes of a chunk tree.\"\"\"\n",
    "    for subtree in tree.subtrees(filter = lambda t: t.label() in ['P1','P2','P3','P4','P5','P6','P7','P8']):\n",
    "        yield subtree.leaves()\n",
    "    \n",
    "def stem(word):\n",
    "    \"\"\"Normalises words to lowercase and stems and lemmatizes it.\"\"\"\n",
    "    word = word.lower()\n",
    "    word = word.replace(\"'\",\"\").replace('\"','').replace('.','')\n",
    "    word1 = stemmer.stem(word)\n",
    "    return word1\n",
    "\n",
    "# lowercase, stem and lemmatize\n",
    "def normalise(word):\n",
    "    \"\"\"Normalises words to lowercase and stems and lemmatizes it.\"\"\"\n",
    "    word = word.lower()\n",
    "    word1 = stemmer.stem(word)\n",
    "    word2 = lem.lemmatize(word1)\n",
    "    if word != word2:\n",
    "        lem_word_mapping[word2] = word\n",
    "    return word2\n",
    "\n",
    "def acceptableWord(word):\n",
    "    \"\"\"Checks conditions for acceptable word: length, stopword.\"\"\"\n",
    "    accepted = bool((2 <= len(word) <= 40) and word.lower() not in stopwords)\n",
    "    return accepted\n",
    "\n",
    "# extract words after normalizing and checking if acceptable\n",
    "def getTerms(tree):\n",
    "    \"\"\"Returns the words after checking acceptable conditions, normalizing and lemmatizing\"\"\"\n",
    "    term = [ stem(w) for w in tree if acceptableWord(w) ]\n",
    "    return term\n",
    "    \n",
    "def getNorm(tree):\n",
    "    \"\"\"Parse leaves in chunk and return after checking acceptable conditions, normalizing and lemmatizing\"\"\"\n",
    "    for leaf in leaves(tree):\n",
    "        term = [ normalise(w) for w,t in leaf if acceptableWord(w) ]\n",
    "        yield term"
   ]
  },
  {
   "cell_type": "markdown",
   "metadata": {},
   "source": [
    "Set of nouns for each sentence"
   ]
  },
  {
   "cell_type": "code",
   "execution_count": 27,
   "metadata": {},
   "outputs": [
    {
     "name": "stderr",
     "output_type": "stream",
     "text": [
      "100%|██████████| 1180/1180 [00:02<00:00, 532.38it/s]\n"
     ]
    }
   ],
   "source": [
    "# Set of nouns for the apriori algorithm\n",
    "\n",
    "def isNoun(n):\n",
    "    if n=='NN' or n=='NNS' or n=='NNP' or n=='NNPS':\n",
    "        return True\n",
    "\n",
    "revset=[]\n",
    "for line in tqdm(sent_fullreview):\n",
    "    # print(line)\n",
    "    a = nltk.word_tokenize(line)\n",
    "    # print(a)\n",
    "    nouns = [word for (word, pos) in nltk.pos_tag(a) if isNoun(pos)] \n",
    "    # print(nouns)\n",
    "    terms = getTerms(nouns)\n",
    "    # print(terms)\n",
    "\n",
    "    revset.append(terms)\n",
    "\n"
   ]
  },
  {
   "cell_type": "code",
   "execution_count": 28,
   "metadata": {},
   "outputs": [
    {
     "name": "stdout",
     "output_type": "stream",
     "text": [
      "['treatment', 'stick', 'pan', 'friend', 'size', 'cast', 'iron', 'pan', 'children', 'chemic', 'part', 'pan', 'decadesthi', 'skillet']\n",
      "[['treatment', 'stick', 'pan', 'friend', 'size', 'cast', 'iron', 'pan', 'children', 'chemic', 'part', 'pan', 'decadesthi', 'skillet'], ['bit', 'lodg', 'skillet'], ['lodg', 'skillet', 'year', 'cast', 'iron', 'wok', 'chinaso', 'star', 'pre-season', 'hasslenow', 'dinnerso', 'skillet'], ['review'], [], ['cast-iron', 'care'], ['garbag', 'spray', 'lodg', 'piec', 'cast', 'iron'], ['lodg', 'time', 'pan', 'pan', 'hype', 'steak', 'cast', 'iron'], ['fact', 'fillet', 'mignon', 'skillet', 'cut', 'meat', 'outdoor', 'grill', 'exterior', 'interior'], ['burger', 'burger', 'cut', 'meat', 'lot', 'smoke', 'indoor', 'babi', 'window', 'fan', 'ribey', 'apart', 'bbq', 'pit', 'day']]\n"
     ]
    }
   ],
   "source": [
    "print(revset[0])\n",
    "print(revset[:10])"
   ]
  },
  {
   "cell_type": "code",
   "execution_count": 29,
   "metadata": {},
   "outputs": [
    {
     "data": {
      "text/plain": [
       "1180"
      ]
     },
     "execution_count": 29,
     "metadata": {},
     "output_type": "execute_result"
    }
   ],
   "source": [
    "len(revset)"
   ]
  },
  {
   "cell_type": "markdown",
   "metadata": {},
   "source": [
    "Extracting the items contained in the reviews"
   ]
  },
  {
   "cell_type": "code",
   "execution_count": 30,
   "metadata": {},
   "outputs": [
    {
     "name": "stderr",
     "output_type": "stream",
     "text": [
      "100%|██████████| 3/3 [00:00<00:00, 15768.06it/s]\n",
      "100%|██████████| 2/2 [00:00<00:00, 8542.37it/s]"
     ]
    },
    {
     "name": "stdout",
     "output_type": "stream",
     "text": [
      "('iron',) 0.5474576271186441\n",
      "('pan',) 0.43728813559322033\n",
      "('cast',) 0.43728813559322033\n",
      "('iron', 'cast') 0.43050847457627117\n",
      "('skillet',) 0.4033898305084746\n",
      "('iron', 'skillet') 0.23728813559322035\n",
      "('iron', 'pan') 0.2228813559322034\n",
      "('skillet', 'cast') 0.2016949152542373\n",
      "('skillet', 'iron', 'cast') 0.19830508474576272\n",
      "('cast', 'pan') 0.17796610169491525\n",
      "('cast', 'iron', 'pan') 0.17542372881355933\n",
      "('lodg',) 0.1711864406779661\n",
      "('iron', 'lodg') 0.11949152542372882\n",
      "('time',) 0.1152542372881356\n",
      "('skillet', 'pan') 0.11101694915254237\n",
      "('oil',) 0.10508474576271186\n",
      "('cook',) 0.10254237288135593\n"
     ]
    },
    {
     "name": "stderr",
     "output_type": "stream",
     "text": [
      "\n"
     ]
    }
   ],
   "source": [
    "items, rules = runApriori(revset, 0.1, 0.1)\n",
    "printResults(items)"
   ]
  },
  {
   "cell_type": "markdown",
   "metadata": {},
   "source": [
    "Polarity of the sentences, conventional Liu and Hu Opinion Lexicon\n",
    "TBD: We may want to substitute with a more advanced sentiment detection algorithm"
   ]
  },
  {
   "cell_type": "code",
   "execution_count": 31,
   "metadata": {},
   "outputs": [],
   "source": [
    "def custom_liu_hu_lexicon(sentence):\n",
    "    '''Takes in a sentence and returns the sentiment of the sentence by counting the no of positive and negitive \n",
    "    and negitive words and by reversing the sentiment if the words NO or NOT are present\n",
    "    '''\n",
    "    from nltk.corpus import opinion_lexicon\n",
    "    from nltk.tokenize import treebank\n",
    "\n",
    "    tokenizer = treebank.TreebankWordTokenizer()\n",
    "    pos_words = 0\n",
    "    neg_words = 0\n",
    "    tokenized_sent = [word.lower() for word in tokenizer.tokenize(sentence)]\n",
    "\n",
    "    x = list(range(len(tokenized_sent))) \n",
    "    y = []\n",
    "    isNegation = False\n",
    "    negationWords = ['no','not','never','none','hardly','rarely','scarcely','']\n",
    "\n",
    "    for word in tokenized_sent:\n",
    "        if word in opinion_lexicon.positive():\n",
    "            pos_words += 1\n",
    "            y.append(1) # positive\n",
    "        elif word in opinion_lexicon.negative():\n",
    "            neg_words += 1\n",
    "            y.append(-1) # negative\n",
    "        else:\n",
    "            y.append(0) # neutral\n",
    "            \n",
    "        if word in negationWords:\n",
    "            isNegation = True\n",
    "\n",
    "    if pos_words > neg_words and isNegation==True:\n",
    "        return 'neg'\n",
    "    elif pos_words > neg_words:\n",
    "        return 'pos'\n",
    "    elif pos_words < neg_words and isNegation==True:\n",
    "        return 'pos'\n",
    "    elif pos_words < neg_words:\n",
    "        return 'neg'\n",
    "    elif pos_words == neg_words:\n",
    "        return 'neutral'"
   ]
  },
  {
   "cell_type": "code",
   "execution_count": 32,
   "metadata": {},
   "outputs": [
    {
     "name": "stdout",
     "output_type": "stream",
     "text": [
      "[nltk_data] Downloading package opinion_lexicon to\n",
      "[nltk_data]     /Users/gkhanna/nltk_data...\n",
      "[nltk_data]   Package opinion_lexicon is already up-to-date!\n"
     ]
    },
    {
     "data": {
      "text/plain": [
       "True"
      ]
     },
     "execution_count": 32,
     "metadata": {},
     "output_type": "execute_result"
    }
   ],
   "source": [
    "nltk.download('opinion_lexicon')"
   ]
  },
  {
   "cell_type": "code",
   "execution_count": 33,
   "metadata": {},
   "outputs": [
    {
     "name": "stderr",
     "output_type": "stream",
     "text": [
      "100%|██████████| 1128/1128 [12:18<00:00,  1.48it/s]\n",
      "100%|██████████| 46/46 [00:28<00:00,  1.63it/s]"
     ]
    },
    {
     "name": "stdout",
     "output_type": "stream",
     "text": [
      "done\n"
     ]
    },
    {
     "name": "stderr",
     "output_type": "stream",
     "text": [
      "\n"
     ]
    }
   ],
   "source": [
    "# Extracting sentiments from the positive reviews\n",
    "neutral_review=[]\n",
    "positive_review=[]\n",
    "negative_review=[]\n",
    "\n",
    "for sentence in tqdm(sent_pos_review):\n",
    "    for i in items:\n",
    "        if i[0][0] in sentence:\n",
    "            #print(i[0][0] +\"--\" + sentence)\n",
    "            x=custom_liu_hu_lexicon(sentence)\n",
    "            if(x==\"pos\"):\n",
    "                positive_review.append(sentence)\n",
    "            elif(x==\"neg\"):\n",
    "                negative_review.append(sentence)\n",
    "            else:\n",
    "                neutral_review.append(sentence)\n",
    "            break\n",
    "\n",
    "# Extracting sentiments from the negative reviews\n",
    "for sentence in tqdm(sent_neg_review):\n",
    "    for i in items:\n",
    "        if i[0][0] in sentence:\n",
    "            #print(i[0][0] +\"--\" + sentence)\n",
    "            x=custom_liu_hu_lexicon(sentence)\n",
    "            if(x==\"pos\"):\n",
    "                positive_review.append(sentence)\n",
    "            elif(x==\"neg\"):\n",
    "                negative_review.append(sentence)\n",
    "            else:\n",
    "                neutral_review.append(sentence)\n",
    "            break\n",
    "            \n",
    "print('done')"
   ]
  },
  {
   "cell_type": "code",
   "execution_count": 34,
   "metadata": {},
   "outputs": [
    {
     "name": "stdout",
     "output_type": "stream",
     "text": [
      "[\"!If you are familiar with cast-iron, and are willing to give it the minimal care it requires, you'll love this.\", 'Lodge simply does not spend the time to finish their pans like they used to and the pans suffer now.I got this for the hype of searing steaks and etc on cast iron.', \"In fact, after cooking my first fillet Mignon in this skillet I realized it's actually better suited to this cut of meat than an outdoor grill - it leaves a perfectly seared, caramelized exterior and a nice red interior (just like I like it).\", 'and it was a perfect size for me.I use this skillet all the time cooking steaks and when i fry anything.', \"I would also recommend the griddle...it's great.If you are going between the 10 and 12 inch pan...get the 12 there's more room for a full steak.I like all my cast iron.\"]\n"
     ]
    }
   ],
   "source": [
    "print(positive_review[:5])"
   ]
  },
  {
   "cell_type": "code",
   "execution_count": 35,
   "metadata": {},
   "outputs": [
    {
     "name": "stdout",
     "output_type": "stream",
     "text": [
      "['With proper seasoning (not the garbage spray lodge puts on) a nice piece of cast iron will be virtuly non-stick.', \"I never cooked with cast iron so I can't explain why, but I prefer using this lodge logic to my other nice cookware.My wife has made sure that I keep and clean it correctly when I use it, so it's in perfect shape and cooks beautifully.I had an ancient 8 inch cast iron skillet that has been in my family forever and it's getting very pitted and food is sticking more and more.\", \"I'd never cooked with one and found the idea of using something not coated in teflon pretty intimidating.Then, I got this Lodge cast iron skillet.\", \"I'm used to being able to grabbing the handle of anything that's on the stove and with this one that's not the case, which I fortunately figured out before it got too hot.I purchased three of these pans a couple of years ago.\", 'This pan has virtually no hot spots, seasons well, as a result cleans like a dream.']\n"
     ]
    }
   ],
   "source": [
    "print(negative_review[:5])"
   ]
  },
  {
   "cell_type": "code",
   "execution_count": 36,
   "metadata": {},
   "outputs": [
    {
     "name": "stdout",
     "output_type": "stream",
     "text": [
      "['Just say no to chemical treatments on non stick pans, get yourself and your friends a few sizes of cast iron and have pans that you can pass down to your children, without all those unknown chemicals that are such a part of pans for the last few decades.This is an absolutely amazing skillet!!', 'From deep frying (nice heavy pan holds heat well), pan searing then putting the whole pan into the oven to roast and finish, to even baking!Do not use this for braising or say...\\nLodge has been making cast-iron for a long time and they make great products.This is my first experience cooking with cast iron.', 'Once the skillet is dry, I pour in just a bit of oil and spread it around before storing the pan until the next use.With good care and a bit of effort, cast iron is a kitchen essential.', 'They are heavy to handle but if you are buying a cast iron skillet, you know that anyway.', 'If you carefully examine most cast iron cookware, you will see some imperfections.The first three times I used my skillet, I re-seasoned it at 450 degrees.']\n"
     ]
    }
   ],
   "source": [
    "print(neutral_review[:5])"
   ]
  },
  {
   "cell_type": "code",
   "execution_count": 37,
   "metadata": {},
   "outputs": [
    {
     "name": "stdout",
     "output_type": "stream",
     "text": [
      "Lodge simply does not spend the time to finish their pans like they used to and the pans suffer now.I got this for the hype of searing steaks and etc on cast iron.\n"
     ]
    }
   ],
   "source": [
    "print(positive_review[1])"
   ]
  },
  {
   "cell_type": "code",
   "execution_count": 38,
   "metadata": {},
   "outputs": [
    {
     "name": "stderr",
     "output_type": "stream",
     "text": [
      "100%|██████████| 1180/1180 [00:00<00:00, 5605.01it/s]\n"
     ]
    }
   ],
   "source": [
    "# Convert all sentences into tokens/words\n",
    "all_sen_tok = []\n",
    "for sentence in tqdm(sent_fullreview):\n",
    "    all_sen_tok.append(nltk.word_tokenize(sentence))"
   ]
  },
  {
   "cell_type": "code",
   "execution_count": 39,
   "metadata": {},
   "outputs": [
    {
     "name": "stderr",
     "output_type": "stream",
     "text": [
      "100%|██████████| 571/571 [00:00<00:00, 5588.44it/s]\n",
      "100%|██████████| 272/272 [00:00<00:00, 5292.33it/s]\n",
      "100%|██████████| 256/256 [00:00<00:00, 6579.58it/s]\n"
     ]
    }
   ],
   "source": [
    "# Convert positive, negative and neutral sentences into tokens/words\n",
    "pos_sen_tok = []\n",
    "neg_sen_tok = []\n",
    "neutral_sen_tok = []\n",
    "for sentence in tqdm(positive_review):\n",
    "    pos_sen_tok.append(nltk.word_tokenize(sentence))\n",
    "for sentence in tqdm(negative_review):\n",
    "    neg_sen_tok.append(nltk.word_tokenize(sentence))\n",
    "for sentence in tqdm(neutral_review):\n",
    "    neutral_sen_tok.append(nltk.word_tokenize(sentence))    "
   ]
  },
  {
   "cell_type": "code",
   "execution_count": 40,
   "metadata": {},
   "outputs": [
    {
     "name": "stdout",
     "output_type": "stream",
     "text": [
      "['Just', 'say', 'no', 'to', 'chemical', 'treatments', 'on', 'non', 'stick', 'pans', ',', 'get', 'yourself', 'and', 'your', 'friends', 'a', 'few', 'sizes', 'of', 'cast', 'iron', 'and', 'have', 'pans', 'that', 'you', 'can', 'pass', 'down', 'to', 'your', 'children', ',', 'without', 'all', 'those', 'unknown', 'chemicals', 'that', 'are', 'such', 'a', 'part', 'of', 'pans', 'for', 'the', 'last', 'few', 'decades.This', 'is', 'an', 'absolutely', 'amazing', 'skillet', '!', '!']\n",
      "[['!', 'If', 'you', 'are', 'familiar', 'with', 'cast-iron', ',', 'and', 'are', 'willing', 'to', 'give', 'it', 'the', 'minimal', 'care', 'it', 'requires', ',', 'you', \"'ll\", 'love', 'this', '.'], ['Lodge', 'simply', 'does', 'not', 'spend', 'the', 'time', 'to', 'finish', 'their', 'pans', 'like', 'they', 'used', 'to', 'and', 'the', 'pans', 'suffer', 'now.I', 'got', 'this', 'for', 'the', 'hype', 'of', 'searing', 'steaks', 'and', 'etc', 'on', 'cast', 'iron', '.']]\n",
      "['With', 'proper', 'seasoning', '(', 'not', 'the', 'garbage', 'spray', 'lodge', 'puts', 'on', ')', 'a', 'nice', 'piece', 'of', 'cast', 'iron', 'will', 'be', 'virtuly', 'non-stick', '.']\n"
     ]
    }
   ],
   "source": [
    "print(all_sen_tok[0])\n",
    "print(pos_sen_tok[:2])\n",
    "print(neg_sen_tok[0])"
   ]
  },
  {
   "cell_type": "code",
   "execution_count": 41,
   "metadata": {},
   "outputs": [
    {
     "name": "stdout",
     "output_type": "stream",
     "text": [
      "[nltk_data] Downloading package averaged_perceptron_tagger to\n",
      "[nltk_data]     /Users/gkhanna/nltk_data...\n",
      "[nltk_data]   Package averaged_perceptron_tagger is already up-to-\n",
      "[nltk_data]       date!\n"
     ]
    },
    {
     "data": {
      "text/plain": [
       "True"
      ]
     },
     "execution_count": 41,
     "metadata": {},
     "output_type": "execute_result"
    }
   ],
   "source": [
    "nltk.download('averaged_perceptron_tagger')"
   ]
  },
  {
   "cell_type": "code",
   "execution_count": 42,
   "metadata": {},
   "outputs": [
    {
     "name": "stderr",
     "output_type": "stream",
     "text": [
      "100%|██████████| 1180/1180 [00:01<00:00, 766.88it/s]\n"
     ]
    }
   ],
   "source": [
    "# Gave an error without downloading the nltk averaged_perceptron_tagger\n",
    "# Find POS tags for all the sentences\n",
    "all_sen_tok_tagged = []\n",
    "for sentence_t in tqdm(all_sen_tok):\n",
    "    all_sen_tok_tagged.append(nltk.tag.pos_tag(sentence_t))"
   ]
  },
  {
   "cell_type": "code",
   "execution_count": 43,
   "metadata": {},
   "outputs": [
    {
     "name": "stderr",
     "output_type": "stream",
     "text": [
      "100%|██████████| 571/571 [00:00<00:00, 716.46it/s]\n",
      "100%|██████████| 272/272 [00:00<00:00, 621.60it/s]\n",
      "100%|██████████| 256/256 [00:00<00:00, 890.73it/s]\n"
     ]
    }
   ],
   "source": [
    "# Gave an error without downloading the nltk averaged_perceptron_tagger\n",
    "# Find POS tags for positive, negative and neutral sentences\n",
    "pos_sen_tok_tagged = []\n",
    "neg_sen_tok_tagged = []\n",
    "neutral_sen_tok_tagged = []\n",
    "for sentence_t in tqdm(pos_sen_tok):\n",
    "    pos_sen_tok_tagged.append(nltk.tag.pos_tag(sentence_t))\n",
    "for sentence_t in tqdm(neg_sen_tok):\n",
    "    neg_sen_tok_tagged.append(nltk.tag.pos_tag(sentence_t))\n",
    "for sentence_t in tqdm(neutral_sen_tok):\n",
    "    neutral_sen_tok_tagged.append(nltk.tag.pos_tag(sentence_t))"
   ]
  },
  {
   "cell_type": "code",
   "execution_count": 44,
   "metadata": {},
   "outputs": [
    {
     "name": "stdout",
     "output_type": "stream",
     "text": [
      "[('Just', 'RB'), ('say', 'VB'), ('no', 'UH'), ('to', 'TO'), ('chemical', 'VB'), ('treatments', 'NNS'), ('on', 'IN'), ('non', 'JJ'), ('stick', 'NN'), ('pans', 'NNS'), (',', ','), ('get', 'VB'), ('yourself', 'PRP'), ('and', 'CC'), ('your', 'PRP$'), ('friends', 'NNS'), ('a', 'DT'), ('few', 'JJ'), ('sizes', 'NNS'), ('of', 'IN'), ('cast', 'NN'), ('iron', 'NN'), ('and', 'CC'), ('have', 'VBP'), ('pans', 'NNS'), ('that', 'IN'), ('you', 'PRP'), ('can', 'MD'), ('pass', 'VB'), ('down', 'RP'), ('to', 'TO'), ('your', 'PRP$'), ('children', 'NNS'), (',', ','), ('without', 'IN'), ('all', 'PDT'), ('those', 'DT'), ('unknown', 'JJ'), ('chemicals', 'NNS'), ('that', 'WDT'), ('are', 'VBP'), ('such', 'PDT'), ('a', 'DT'), ('part', 'NN'), ('of', 'IN'), ('pans', 'NNS'), ('for', 'IN'), ('the', 'DT'), ('last', 'JJ'), ('few', 'JJ'), ('decades.This', 'NN'), ('is', 'VBZ'), ('an', 'DT'), ('absolutely', 'RB'), ('amazing', 'JJ'), ('skillet', 'NN'), ('!', '.'), ('!', '.')]\n"
     ]
    }
   ],
   "source": [
    "print(all_sen_tok_tagged[0])"
   ]
  },
  {
   "cell_type": "code",
   "execution_count": 45,
   "metadata": {},
   "outputs": [
    {
     "name": "stdout",
     "output_type": "stream",
     "text": [
      "[('With', 'IN'), ('proper', 'JJ'), ('seasoning', 'VBG'), ('(', '('), ('not', 'RB'), ('the', 'DT'), ('garbage', 'NN'), ('spray', 'NN'), ('lodge', 'NN'), ('puts', 'VBZ'), ('on', 'IN'), (')', ')'), ('a', 'DT'), ('nice', 'JJ'), ('piece', 'NN'), ('of', 'IN'), ('cast', 'NN'), ('iron', 'NN'), ('will', 'MD'), ('be', 'VB'), ('virtuly', 'RB'), ('non-stick', 'JJ'), ('.', '.')]\n"
     ]
    }
   ],
   "source": [
    "print(neg_sen_tok_tagged[0])"
   ]
  },
  {
   "cell_type": "markdown",
   "metadata": {},
   "source": [
    "Extract phrases that talk about features and associated sentiment/opinion"
   ]
  },
  {
   "cell_type": "code",
   "execution_count": 46,
   "metadata": {},
   "outputs": [],
   "source": [
    "# Patterns that we want to extract\n",
    "# We think these are the ones that contain features\n",
    "feature_patterns = r\"\"\"       \n",
    "    P1:{<JJ><NN|NNS>}\n",
    "    P2:{<JJ><NN|NNS><NN|NNS>}\n",
    "    P3:{<RB|RBR|RBS><JJ>}\n",
    "    P4:{<RB|RBR|RBS><JJ|RB|RBR|RBS><NN|NNS>}\n",
    "    P5:{<RB|RBR|RBS><VBN|VBD>}\n",
    "    P6:{<RB|RBR|RBS><RB|RBR|RBS><JJ>}\n",
    "    P7:{<VBN|VBD><NN|NNS>}\n",
    "    P8:{<VBN|VBD><RB|RBR|RBS>}\n",
    "\"\"\""
   ]
  },
  {
   "cell_type": "code",
   "execution_count": 47,
   "metadata": {},
   "outputs": [],
   "source": [
    "# Alternate feature patterm for experiment\n",
    "grammar = \"NP:{<dt|pp|cd>?<jj||jjr|jjs>*<nn|nns|prp|nnp|in|prp\\$>+<vbd|vbz|vbn|vbp|in>*<jj|rb>*<prp|nn|nns>*}\""
   ]
  },
  {
   "cell_type": "code",
   "execution_count": 48,
   "metadata": {},
   "outputs": [
    {
     "data": {
      "text/plain": [
       "1180"
      ]
     },
     "execution_count": 48,
     "metadata": {},
     "output_type": "execute_result"
    }
   ],
   "source": [
    "len(revset)"
   ]
  },
  {
   "cell_type": "markdown",
   "metadata": {},
   "source": [
    "Utility functions"
   ]
  },
  {
   "cell_type": "code",
   "execution_count": 49,
   "metadata": {},
   "outputs": [],
   "source": [
    "def getTerms1(tree):\n",
    "    \"\"\"Returns the words after checking acceptable conditions, normalizing and lemmatizing\"\"\"\n",
    "    term = [ normalise(w) for w in tree if acceptable_word(w) ]\n",
    "    yield term"
   ]
  },
  {
   "cell_type": "code",
   "execution_count": 50,
   "metadata": {},
   "outputs": [
    {
     "name": "stderr",
     "output_type": "stream",
     "text": [
      "100%|██████████| 1180/1180 [00:03<00:00, 388.98it/s]\n",
      "100%|██████████| 571/571 [00:00<00:00, 1293.26it/s]\n",
      "100%|██████████| 272/272 [00:00<00:00, 1229.25it/s]\n"
     ]
    }
   ],
   "source": [
    "# Extract feature phrases with ngram rules\n",
    "def extractFeaturePhrases(tagged):\n",
    "    out = []\n",
    "    for phrase in tqdm(tagged):\n",
    "        r_parser = nltk.RegexpParser(feature_patterns)\n",
    "        # r_parser = nltk.RegexpParser(grammar)\n",
    "        chunk_2 = r_parser.parse(phrase)\n",
    "        term = getNorm(chunk_2)\n",
    "        \n",
    "        for ter in term:\n",
    "            word_concat = \"\"\n",
    "            for word in ter:\n",
    "                word_concat = word_concat + \" \" + word\n",
    "                \n",
    "            if (len(ter) > 1):\n",
    "                out.append(word_concat)\n",
    "        \n",
    "    return out\n",
    "\n",
    "extracted = extractFeaturePhrases(all_sen_tok_tagged)\n",
    "\n",
    "extracted_pos = extractFeaturePhrases(pos_sen_tok_tagged)\n",
    "extracted_neg = extractFeaturePhrases(neg_sen_tok_tagged)        "
   ]
  },
  {
   "cell_type": "code",
   "execution_count": 51,
   "metadata": {},
   "outputs": [
    {
     "name": "stdout",
     "output_type": "stream",
     "text": [
      "[' non stick', ' unknown chemic', ' amaz skillet', ' alway bought', ' big cast', ' messi hassle.now', ' minim care', ' nice piec', ' virtuli non-stick', ' first fillet', ' better suit', ' perfectli sear', ' caramel exterior', ' red interior', ' mean burger', ' cook indoor', ' exhaust fan', ' extrem durabl', ' perfect size', ' full steak.i']\n"
     ]
    }
   ],
   "source": [
    "print(extracted[:20])"
   ]
  },
  {
   "cell_type": "code",
   "execution_count": 52,
   "metadata": {},
   "outputs": [
    {
     "name": "stdout",
     "output_type": "stream",
     "text": [
      "[' nice piec', ' virtuli non-stick', ' never cook', ' nice cookware.mi', ' perfect shape', ' inch cast', ' never cook', ' iron skillet', ' fortun figur', ' hot spot']\n"
     ]
    }
   ],
   "source": [
    "print(extracted_neg[:10])"
   ]
  },
  {
   "cell_type": "markdown",
   "metadata": {},
   "source": [
    "Find out the most common ones, frequency distribution"
   ]
  },
  {
   "cell_type": "code",
   "execution_count": 53,
   "metadata": {},
   "outputs": [],
   "source": [
    "freqdist = nltk.FreqDist(word for word in extracted)"
   ]
  },
  {
   "cell_type": "code",
   "execution_count": 54,
   "metadata": {},
   "outputs": [
    {
     "data": {
      "text/plain": [
       "nltk.probability.FreqDist"
      ]
     },
     "execution_count": 54,
     "metadata": {},
     "output_type": "execute_result"
    }
   ],
   "source": [
    "type(freqdist)"
   ]
  },
  {
   "cell_type": "code",
   "execution_count": 55,
   "metadata": {},
   "outputs": [
    {
     "name": "stdout",
     "output_type": "stream",
     "text": [
      "[(' cast iron', 74), (' hot water', 19), (' perfect size', 16), (' non-stick pan', 15), (' first cast', 15), (' oliv oil', 14), (' first time', 14), (' fri egg', 12), (' proper care', 12), (' non stick', 11)]\n"
     ]
    }
   ],
   "source": [
    "most_common = freqdist.most_common()\n",
    "print(most_common[:10])"
   ]
  },
  {
   "cell_type": "code",
   "execution_count": 56,
   "metadata": {},
   "outputs": [
    {
     "name": "stdout",
     "output_type": "stream",
     "text": [
      "FreqDist({' cast iron': 74, ' hot water': 19, ' perfect size': 16, ' non-stick pan': 15, ' first cast': 15, ' oliv oil': 14, ' first time': 14, ' fri egg': 12, ' proper care': 12, ' non stick': 11, ' cast-iron skillet': 11, ' well season': 10, ' stainless steel': 10, ' veget oil': 10, ' long time': 9, ' littl bit': 9, ' iron skillet': 9, ' high qualiti': 9, ' good cast': 8, ' great skillet': 8, ...})\n"
     ]
    }
   ],
   "source": [
    "freqdist.pprint(maxlen = 20)"
   ]
  },
  {
   "cell_type": "code",
   "execution_count": 57,
   "metadata": {},
   "outputs": [
    {
     "name": "stdout",
     "output_type": "stream",
     "text": [
      " cast iron\n"
     ]
    }
   ],
   "source": [
    "print(freqdist.max())"
   ]
  },
  {
   "cell_type": "code",
   "execution_count": 58,
   "metadata": {},
   "outputs": [
    {
     "name": "stdout",
     "output_type": "stream",
     "text": [
      "     cast iron      hot water   perfect size  non-stick pan     first cast       oliv oil     first time \n",
      "            74             19             16             15             15             14             14 \n"
     ]
    }
   ],
   "source": [
    "freq_tab = freqdist.tabulate(7)"
   ]
  },
  {
   "cell_type": "code",
   "execution_count": 59,
   "metadata": {},
   "outputs": [
    {
     "data": {
      "text/plain": [
       "NoneType"
      ]
     },
     "execution_count": 59,
     "metadata": {},
     "output_type": "execute_result"
    }
   ],
   "source": [
    "type(freq_tab)"
   ]
  },
  {
   "cell_type": "code",
   "execution_count": 60,
   "metadata": {},
   "outputs": [
    {
     "data": {
      "text/plain": [
       "<Figure size 1000x700 with 1 Axes>"
      ]
     },
     "metadata": {},
     "output_type": "display_data"
    }
   ],
   "source": [
    "import matplotlib\n",
    "import matplotlib.pyplot as plt\n",
    "\n",
    "plt.figure(figsize=(10, 7))  # We want a bigger size plot\n",
    "freqdist.plot(20, title = \"Most Frequent Feature Phrases\", cumulative = False)"
   ]
  },
  {
   "cell_type": "markdown",
   "metadata": {},
   "source": [
    "Most common positive and negative phrases"
   ]
  },
  {
   "cell_type": "code",
   "execution_count": 61,
   "metadata": {},
   "outputs": [
    {
     "name": "stdout",
     "output_type": "stream",
     "text": [
      "[(' cast iron', 37), (' perfect size', 14), (' non-stick pan', 9), (' first cast', 9), (' first time', 9), (' well season', 8), (' hot water', 8), (' cast-iron skillet', 7), (' oliv oil', 6), (' great skillet', 6)]\n",
      " cast iron\n",
      "     cast iron   perfect size  non-stick pan     first cast     first time    well season      hot water \n",
      "            37             14              9              9              9              8              8 \n"
     ]
    }
   ],
   "source": [
    "# Positive\n",
    "freqdist_pos = nltk.FreqDist(word for word in extracted_pos)\n",
    "most_common_pos = freqdist_pos.most_common()\n",
    "print(most_common_pos[:10])\n",
    "print(freqdist_pos.max())\n",
    "freq_tab_pos = freqdist_pos.tabulate(7)"
   ]
  },
  {
   "cell_type": "code",
   "execution_count": 62,
   "metadata": {},
   "outputs": [
    {
     "name": "stdout",
     "output_type": "stream",
     "text": [
      "[(' cast iron', 18), (' veget oil', 8), (' fri egg', 6), (' proper care', 6), (' high qualiti', 4), (' non stick', 4), (' warm water', 4), (' non-stick pan', 4), (' stainless steel', 4), (' never cook', 3)]\n",
      " cast iron\n",
      "    cast iron     veget oil       fri egg   proper care  high qualiti     non stick    warm water \n",
      "           18             8             6             6             4             4             4 \n"
     ]
    }
   ],
   "source": [
    "# Negative\n",
    "freqdist_neg = nltk.FreqDist(word for word in extracted_neg)\n",
    "most_common_neg = freqdist_neg.most_common()\n",
    "print(most_common_neg[:10])\n",
    "print(freqdist_neg.max())\n",
    "freq_tab_neg = freqdist_neg.tabulate(7)"
   ]
  },
  {
   "cell_type": "code",
   "execution_count": 63,
   "metadata": {},
   "outputs": [
    {
     "data": {
      "image/png": "[encoded data removed]",
      "text/plain": [
       "<Figure size 720x504 with 1 Axes>"
      ]
     },
     "metadata": {
      "needs_background": "light"
     },
     "output_type": "display_data"
    }
   ],
   "source": [
    "plt.figure(figsize=(10, 7))  # We want a bigger size plot\n",
    "freqdist_neg.plot(20, title = \"Most Frequent Feature Phrases\", cumulative = False)"
   ]
  },
  {
   "cell_type": "markdown",
   "metadata": {},
   "source": [
    "Unlemmatize and unstem using the dictionary created earlier"
   ]
  },
  {
   "cell_type": "code",
   "execution_count": 64,
   "metadata": {},
   "outputs": [],
   "source": [
    "import inflect"
   ]
  },
  {
   "cell_type": "code",
   "execution_count": 65,
   "metadata": {},
   "outputs": [
    {
     "name": "stdout",
     "output_type": "stream",
     "text": [
      "[' non stick', ' unknown chemic', ' amaz skillet', ' alway bought', ' big cast', ' messi hassle.now', ' minim care', ' nice piec', ' virtuli non-stick', ' first fillet']\n"
     ]
    }
   ],
   "source": [
    "print(extracted[:10])"
   ]
  },
  {
   "cell_type": "code",
   "execution_count": 66,
   "metadata": {},
   "outputs": [
    {
     "name": "stderr",
     "output_type": "stream",
     "text": [
      "100%|██████████| 1518/1518 [00:00<00:00, 8928.11it/s]\n",
      "100%|██████████| 880/880 [00:00<00:00, 9032.13it/s]\n",
      "100%|██████████| 463/463 [00:00<00:00, 9409.42it/s]\n"
     ]
    }
   ],
   "source": [
    "p = inflect.engine()\n",
    "def replacewords(mc):\n",
    "    newmc=[]\n",
    "    for a in tqdm(mc):\n",
    "        newword=\"\";found=False;\n",
    "        for b in a[0].split():            \n",
    "            for x in lem_word_mapping:\n",
    "                #print(x)\n",
    "                #print(b)\n",
    "                if b==x:\n",
    "                    found=True\n",
    "                    sing=(lem_word_mapping[x] if p.singular_noun(lem_word_mapping[x])==False else p.singular_noun(lem_word_mapping[x]))\n",
    "                    if newword==\"\":\n",
    "                        newword = newword + sing\n",
    "                    else:\n",
    "                        newword = newword + \" \" +  sing\n",
    "            if found==False:\n",
    "                if newword==\"\":\n",
    "                    newword = newword + b\n",
    "                else:\n",
    "                    newword = newword + \" \" +  b\n",
    "                    #print(newword)\n",
    "        newmc.append((newword,a[1]))\n",
    "    return newmc\n",
    "\n",
    "final = replacewords(most_common)\n",
    "final_pos = replacewords(most_common_pos)\n",
    "final_neg = replacewords(most_common_neg)"
   ]
  },
  {
   "cell_type": "code",
   "execution_count": 67,
   "metadata": {},
   "outputs": [
    {
     "name": "stdout",
     "output_type": "stream",
     "text": [
      "Top Feature Phrases:\n",
      "('cast iron', 74)\n",
      "[('cast iron', 74), ('hot water', 19), ('perfect size', 16), ('non-stick pan', 15), ('first cast', 15), ('olive oiled', 14), ('first time', 14), ('fried egg', 12), ('proper careful', 12), ('non sticking', 11), ('cast-iron skillet', 11), ('well seasoning', 10), ('stainless steel', 10), ('vegetable oiled', 10), ('long time', 9), ('little bit', 9), ('iron skillet', 9), ('high quality', 9), ('good cast', 8), ('great skillet', 8), ('first used', 7), ('many year', 7), ('non-stick skillet', 7), ('inch skillet', 7), ('high heated', 7), ('great pan', 7), ('warmed', 7), ('great product', 6), ('never used', 6), ('grilled cheese', 6), ('non-stick surface', 6), ('right size', 6), ('properly seasoning', 6), ('differently size', 6), ('little oiled', 6), ('great cast', 5), ('great size', 5), ('little pan', 5), ('next time', 5), ('great quality', 5), ('small amount', 5), ('little skillet', 5), ('seasoning', 5), ('reason priced', 5), ('entire pan', 5), ('excellent quality', 5), ('good quality', 5), ('heavy pan', 4), ('still warmed', 4), ('thin coated', 4)]\n",
      "Top Positive Feature Phrases:\n",
      "('cast iron', 37)\n",
      "[('cast iron', 37), ('perfect size', 14), ('non-stick pan', 9), ('first cast', 9), ('first time', 9), ('well seasoning', 8), ('hot water', 8), ('cast-iron skillet', 7), ('olive oiled', 6), ('great skillet', 6), ('proper careful', 6), ('fried egg', 6), ('good cast', 5), ('great cast', 5), ('grilled cheese', 5), ('long time', 5), ('stainless steel', 5), ('properly seasoning', 5), ('great size', 4), ('next time', 4), ('great product', 4), ('non-stick skillet', 4), ('many year', 4), ('non sticking', 4), ('iron skillet', 4), ('great quality', 4), ('pretty', 4), ('little skillet', 4), ('reason priced', 4), ('little oiled', 4), ('right size', 4), ('great pan', 4), ('good quality', 4), ('little bit', 3), ('pre-seasoned', 3), ('well made', 3), ('inch skillet', 3), ('high quality', 3), ('heavy skillet', 3), ('heavy duty', 3), ('alway wanted', 3), ('hot oven', 3), ('second cast', 3), ('great thing', 3), ('last forever', 3), ('light coated', 3), ('great value', 3), ('old pan', 3), ('excellent quality', 3), ('differently size', 3)]\n",
      "Top Negative Feature Phrases:\n",
      "('cast iron', 18)\n",
      "[('cast iron', 18), ('vegetable oiled', 8), ('fried egg', 6), ('proper careful', 6), ('high quality', 4), ('non sticking', 4), ('warmed', 4), ('non-stick pan', 4), ('stainless steel', 4), ('never cooking', 3), ('iron skillet', 3), ('non-stick surface', 3), ('olive oiled', 3), ('long time', 3), ('little bit', 3), ('perfect size', 3), ('never used', 3), ('inch skillet', 3), ('hot spot', 2), ('never owned', 2), ('great product', 2), ('right size', 2), ('little', 2), ('weak wrist', 2), ('properly seasoning', 2), ('high heated', 2), ('acidic food', 2), ('great cooking', 2), ('seasoning', 2), ('single personal', 2), ('entire pan', 2), ('pre-seasoned skillet', 2), ('excess oiled', 2), ('dried', 2), ('first time', 2), ('pre-seasoned pan', 2), ('oven mitt', 2), ('fully seasoning', 2), ('really enjoyed', 2), ('tiny bit', 2), ('nonstick pan', 2), ('good cast', 2), ('cast-iron skillet', 2), ('electric stove', 2), ('small amount', 2), ('thin coated', 2), ('hot pan', 2), ('hot water', 2), ('swedish pancake', 2), ('many thing', 2)]\n"
     ]
    }
   ],
   "source": [
    "print(\"Top Feature Phrases:\")\n",
    "print(final[0])\n",
    "print(final[:50])\n",
    "print(\"Top Positive Feature Phrases:\")\n",
    "print(final_pos[0])\n",
    "print(final_pos[:50])\n",
    "print(\"Top Negative Feature Phrases:\")\n",
    "print(final_neg[0])\n",
    "print(final_neg[:50])"
   ]
  },
  {
   "cell_type": "markdown",
   "metadata": {},
   "source": [
    "We'll find out the opinions corresponding to the most common features.\n",
    "Its a simple search in a bunch of lists/files at this point"
   ]
  },
  {
   "cell_type": "code",
   "execution_count": 68,
   "metadata": {},
   "outputs": [],
   "source": [
    "def featuresInContext(item_arr, opinion_phrases, sentence_arr ):\n",
    "    for item,support in tqdm(sorted(item_arr, key=lambda item_support: item_support[1], reverse=True)):\n",
    "        count = 0\n",
    "        print(\"------\" + \"Item > \" + item[0] + \"------\")\n",
    "        for phrase, freq in sorted(opinion_phrases, key = lambda phrase_freq: phrase_freq[1], reverse = True):\n",
    "            pcount = 0\n",
    "            if normalise(item[0]) in normalise(phrase):\n",
    "                count+=1\n",
    "                print(\"---\" + \"Phrase > \" + phrase + \"----\")\n",
    "                for l in sentence_arr:\n",
    "                    if normalise(phrase) in normalise(l):\n",
    "                        # print(\"Debug: \" + l)\n",
    "                        for b in zip(l.split(\" \")[:-1], l.split(\" \")[1:]):\n",
    "                            #print(b[0]+\" \"+b[1])\n",
    "                            if normalise(b[0])==normalise(item[0]):\n",
    "                                print(\"---\" + \"examplex\" + \"----\")\n",
    "                                print(l.replace(\"'\",\"\").replace(\"]\",\"\").replace(\"[\",\"\"))\n",
    "                                pcount+=1\n",
    "                                break\n",
    "                            elif (normalise(b[0])+\" \"+normalise(b[1]))==normalise(item[0]):\n",
    "                                print(\"---\" + \"exampley\" + \"----\")\n",
    "                                print(l.replace(\"'\",\"\").replace(\"]\",\"\").replace(\"[\",\"\"))\n",
    "                                pcount+=1\n",
    "                                break\n",
    "                        if pcount==4:\n",
    "                            break                \n",
    "            if count==4:\n",
    "                break \n",
    "        \n",
    "# sent_str = \"\"\n",
    "# sent_str = sent_str.join(sent_fullreview)\n",
    "# token_sentences = sent_tokenizer1.tokenize(sent_str)\n",
    "# featuresInContext(items, final, sent_fullreview)"
   ]
  },
  {
   "cell_type": "markdown",
   "metadata": {},
   "source": [
    "Modified to function without the item. Its assumed that the reviews are already constrained by the item in this case"
   ]
  },
  {
   "cell_type": "code",
   "execution_count": 69,
   "metadata": {},
   "outputs": [],
   "source": [
    "def featuresInContextC(opinion_phrases, sentence_arr ):\n",
    "    count = 0\n",
    "    for phrase, freq in sorted(opinion_phrases, key = lambda phrase_freq: phrase_freq[1], reverse = True):\n",
    "        pcount = 0\n",
    "        count +=1\n",
    "        print(\"---\" + \"Phrase > \" + str(count) + \" >>> \" + phrase + \"----\")\n",
    "        for l in sentence_arr:            \n",
    "            if normalise(phrase) in normalise(l):\n",
    "                pcount +=1\n",
    "                print(\"---\" + \"example > \" + str(pcount) + \" >>> \" + \"----\")\n",
    "                print(l)\n",
    "                \n",
    "                if pcount == 4:\n",
    "                    break\n",
    "        if count == 4:\n",
    "            break\n",
    "              "
   ]
  },
  {
   "cell_type": "code",
   "execution_count": 70,
   "metadata": {},
   "outputs": [
    {
     "name": "stdout",
     "output_type": "stream",
     "text": [
      "17\n",
      "2\n",
      "[(('iron',), 0.5474576271186441), (('cook',), 0.10254237288135593)]\n"
     ]
    }
   ],
   "source": [
    "print(len(items))\n",
    "items_few = items[:2]\n",
    "print(len(items_few))\n",
    "print(items_few)"
   ]
  },
  {
   "cell_type": "code",
   "execution_count": 71,
   "metadata": {},
   "outputs": [
    {
     "data": {
      "text/plain": [
       "list"
      ]
     },
     "execution_count": 71,
     "metadata": {},
     "output_type": "execute_result"
    }
   ],
   "source": [
    "type(items)"
   ]
  },
  {
   "cell_type": "code",
   "execution_count": 72,
   "metadata": {},
   "outputs": [
    {
     "data": {
      "text/plain": [
       "tuple"
      ]
     },
     "execution_count": 72,
     "metadata": {},
     "output_type": "execute_result"
    }
   ],
   "source": [
    "type(items[0])"
   ]
  },
  {
   "cell_type": "code",
   "execution_count": 73,
   "metadata": {},
   "outputs": [
    {
     "name": "stdout",
     "output_type": "stream",
     "text": [
      "[(('iron',), 0.5474576271186441), (('cook',), 0.10254237288135593), (('pan',), 0.43728813559322033), (('cast',), 0.43728813559322033), (('skillet',), 0.4033898305084746), (('lodg',), 0.1711864406779661), (('time',), 0.1152542372881356), (('oil',), 0.10508474576271186), (('skillet', 'pan'), 0.11101694915254237), (('cast', 'pan'), 0.17796610169491525), (('iron', 'cast'), 0.43050847457627117), (('iron', 'skillet'), 0.23728813559322035), (('iron', 'lodg'), 0.11949152542372882), (('skillet', 'cast'), 0.2016949152542373), (('iron', 'pan'), 0.2228813559322034), (('cast', 'iron', 'pan'), 0.17542372881355933), (('skillet', 'iron', 'cast'), 0.19830508474576272)]\n"
     ]
    }
   ],
   "source": [
    "print(items)"
   ]
  },
  {
   "cell_type": "markdown",
   "metadata": {},
   "source": [
    "Sort by support"
   ]
  },
  {
   "cell_type": "code",
   "execution_count": 74,
   "metadata": {},
   "outputs": [],
   "source": [
    "items.sort(key=lambda tup: tup[1], reverse=True) "
   ]
  },
  {
   "cell_type": "code",
   "execution_count": 75,
   "metadata": {},
   "outputs": [
    {
     "name": "stdout",
     "output_type": "stream",
     "text": [
      "[(('iron',), 0.5474576271186441), (('pan',), 0.43728813559322033), (('cast',), 0.43728813559322033), (('iron', 'cast'), 0.43050847457627117), (('skillet',), 0.4033898305084746), (('iron', 'skillet'), 0.23728813559322035), (('iron', 'pan'), 0.2228813559322034), (('skillet', 'cast'), 0.2016949152542373), (('skillet', 'iron', 'cast'), 0.19830508474576272), (('cast', 'pan'), 0.17796610169491525), (('cast', 'iron', 'pan'), 0.17542372881355933), (('lodg',), 0.1711864406779661), (('iron', 'lodg'), 0.11949152542372882), (('time',), 0.1152542372881356), (('skillet', 'pan'), 0.11101694915254237), (('oil',), 0.10508474576271186), (('cook',), 0.10254237288135593)]\n"
     ]
    }
   ],
   "source": [
    "print(items)"
   ]
  },
  {
   "cell_type": "code",
   "execution_count": 76,
   "metadata": {},
   "outputs": [
    {
     "name": "stderr",
     "output_type": "stream",
     "text": [
      "\r",
      "  0%|          | 0/17 [00:00<?, ?it/s]"
     ]
    },
    {
     "name": "stdout",
     "output_type": "stream",
     "text": [
      "------Item > iron------\n",
      "---Phrase >  cast iron----\n",
      "---examplex----\n",
      "Just say no to chemical treatments on non stick pans, get yourself and your friends a few sizes of cast iron and have pans that you can pass down to your children, without all those unknown chemicals that are such a part of pans for the last few decades.This is an absolutely amazing skillet!!\n",
      "---examplex----\n",
      "Been using good old American-made Lodge skillets for years, plus we regularly use a big cast iron wok imported from China.So, Im giving only two stars because the pre-seasoning is a messy hassle.Now Ive got to cook dinner.So far I am loving this skillet!\n",
      "---examplex----\n",
      "With proper seasoning (not the garbage spray lodge puts on) a nice piece of cast iron will be virtuly non-stick.\n",
      "---examplex----\n",
      "My mother and mother-in-law both cook with skillets that have been well seasoned, and Im very happy to achieve the same with mine.I love using my Cast Iron skillets just love them.\n",
      "---Phrase >  cast-iron skillet----\n",
      "---examplex----\n",
      "(If I dont lose this one too)Cant believe cast iron pans were old school and ugly.Yes stainless is shiny and nice looking, but for great results, steady even heat and versitility,I love this pan.Corn bread in this sucker...BAM!I purchased a 10.5 inch recently and then just got the 8 inch pre-seasoned cast-iron skillet.\n",
      "---examplex----\n",
      "Cooking food, especially something acidic like tomato sauce in a cast-iron skillet can increase iron content, by as much as 20 times.\"SOURCE:\n",
      "---Phrase >  iron skillet----\n",
      "---examplex----\n",
      "My mother and mother-in-law both cook with skillets that have been well seasoned, and Im very happy to achieve the same with mine.I love using my Cast Iron skillets just love them.\n",
      "---examplex----\n",
      "I never cooked with cast iron so I cant explain why, but I prefer using this lodge logic to my other nice cookware.My wife has made sure that I keep and clean it correctly when I use it, so its in perfect shape and cooks beautifully.I had an ancient 8 inch cast iron skillet that has been in my family forever and its getting very pitted and food is sticking more and more.\n",
      "---examplex----\n",
      "Just great to cook with each time.For years and years, I avoided buying a cast iron skillet.\n",
      "---examplex----\n",
      "Id never cooked with one and found the idea of using something not coated in teflon pretty intimidating.Then, I got this Lodge cast iron skillet.\n",
      "---Phrase >  cast-iron pan----\n",
      "---examplex----\n",
      "I feel safe to use this iron skillet replace my non stick coating.I have read a number of positive reviews and decided to buy this pan (the first cast-iron pan i my life).\n"
     ]
    },
    {
     "name": "stderr",
     "output_type": "stream",
     "text": [
      "\r",
      "  6%|▌         | 1/17 [00:00<00:03,  4.90it/s]"
     ]
    },
    {
     "name": "stdout",
     "output_type": "stream",
     "text": [
      "------Item > pan------\n",
      "---Phrase >  non-stick pan----\n",
      "---examplex----\n",
      "When properly cared for (meaning by seasoning it once in awhile and not abrasively scrubbing and washing this pan with soap water) this pan will be the best non-stick pan you can find!As a professional cook, when I cook at home I use this pan regularly.\n",
      "---examplex----\n",
      "Its not really non-stick because the eggs wont easily slide off the pan like they would from a good new non-stick pan, but its much much better compared w/ my stainless steel skillets.\n",
      "---examplex----\n",
      "Ive used Calphalon and other anodized aluminum pans, Le Creuset and other enameled pans, non-stick pans of all sorts, copper, stainless steel, and on and on, and there is nothing that can surpass a properly seasoned cast iron pan.\n",
      "---examplex----\n",
      "I dont think enough people know how good cast iron is to cook with and settle for substandard cookware like I did.This pan is heavy and pretty much indestructible, unlike non-stick pans that have limited useful lives.\n",
      "---Phrase >  great pan----\n",
      "---examplex----\n",
      "Follow the seasoning and cleaning directions and youll have a great pan thats virtually stick free for a long long time!I have been looking for a nice cast-iron pan for a while and couldnt decide between an expensive Le Crueset enameled cast-iron or just a standard cast-iron pan.\n",
      "---examplex----\n",
      "Usually, I just quickly wipe the inside of the pan with some oil (using a paper towel), and nothing sticks.This is a great pan for my wife as well, its smaller size makes it trivial for her to handle (unlike our 12\" heavy pan), and its also the perfect size for her to bake some desserts in.This is a great complimentary to your cast iron cookware collection, and its got the unbeatable price at less than $10.This...this is my baby.\n",
      "---examplex----\n",
      "This is a great pan at a great priceits a cast iron lodge product.\n",
      "---examplex----\n",
      "You can do this by coating it with vegetable oil and putting it in the over for a couple hours, or just cook some bacon and sausage in it a few times and it should be fine.Aside from the handle problem and this, it is a great pan and Im sure I will have it for years to come, but dont trust the manufacturers seasoning and do it yourself.Some of the accessories I use with mine are:Lodge Set of 2 Durable Polycarbonate Pan Scrapers,Red and Black- These things are great.\n",
      "---Phrase >  littl pan----\n",
      "---Phrase >  entir pan----\n"
     ]
    },
    {
     "name": "stderr",
     "output_type": "stream",
     "text": [
      "\r",
      " 12%|█▏        | 2/17 [00:00<00:03,  4.82it/s]"
     ]
    },
    {
     "name": "stdout",
     "output_type": "stream",
     "text": [
      "------Item > cast------\n",
      "---Phrase >  cast iron----\n",
      "---examplex----\n",
      "Just say no to chemical treatments on non stick pans, get yourself and your friends a few sizes of cast iron and have pans that you can pass down to your children, without all those unknown chemicals that are such a part of pans for the last few decades.This is an absolutely amazing skillet!!\n",
      "---examplex----\n",
      "Been using good old American-made Lodge skillets for years, plus we regularly use a big cast iron wok imported from China.So, Im giving only two stars because the pre-seasoning is a messy hassle.Now Ive got to cook dinner.So far I am loving this skillet!\n",
      "---examplex----\n",
      "With proper seasoning (not the garbage spray lodge puts on) a nice piece of cast iron will be virtuly non-stick.\n",
      "---examplex----\n",
      "Lodge simply does not spend the time to finish their pans like they used to and the pans suffer now.I got this for the hype of searing steaks and etc on cast iron.\n",
      "---Phrase >  first cast----\n",
      "---examplex----\n",
      "Thanks for a great product.This is the first cast iron pan Ive ever used and its wonderful.\n",
      "---examplex----\n",
      "It was so convenient having it pre-seasoned and with such a great quality for the price, I wouldnt buy from another brand :) Definitely recommend this skillet!My husband and I got our first cast iron pan about a year ago.\n",
      "---examplex----\n",
      "Looking forward to cooking potatoes and other items in this!This is my first cast iron skillet so there has been a little bit of a learning curve in the proper way to maintain it.The skillet feels extremely heavy duty.\n",
      "---examplex----\n",
      "waste of moneyThis was my first cast iron purchase and after 3 months of use, it is my favorite and most versatile item in the kitchen!\n",
      "---Phrase >  cast-iron skillet----\n",
      "---examplex----\n",
      "(If I dont lose this one too)Cant believe cast iron pans were old school and ugly.Yes stainless is shiny and nice looking, but for great results, steady even heat and versitility,I love this pan.Corn bread in this sucker...BAM!I purchased a 10.5 inch recently and then just got the 8 inch pre-seasoned cast-iron skillet.\n"
     ]
    },
    {
     "name": "stderr",
     "output_type": "stream",
     "text": [
      "\r",
      " 18%|█▊        | 3/17 [00:00<00:02,  5.15it/s]"
     ]
    },
    {
     "name": "stdout",
     "output_type": "stream",
     "text": [
      "---examplex----\n",
      "Maybe if you use it more often than I do, you could end up with a more smooth natural seasoning.Lodge cast-iron skillets are very good quality, which you want when youre considering buying cast iron.I knew this would be a good skillet, and when I saw the great price, I ordered one for my father-in-law, who lives and cooks alone.\n",
      "---Phrase >  good cast----\n",
      "---examplex----\n",
      "I wish Id gotten a good cast iron skillet years ago, but I do enjoy making up for lost time!\n",
      "---examplex----\n",
      "Different schools of cooking have different tastes and thats fine.If youve ever really used good cast iron cookware, however, you will appreciate this skillet.\n",
      "---examplex----\n",
      "Now this is not a Le Cruzette, but who cares; it does not cost $130 and its made in America.Every body knows that a good cast iron skillet is an essential tool for frying chicken.\n",
      "---examplex----\n",
      "I dont think enough people know how good cast iron is to cook with and settle for substandard cookware like I did.This pan is heavy and pretty much indestructible, unlike non-stick pans that have limited useful lives.\n",
      "------Item > iron------\n",
      "---Phrase >  cast iron----\n",
      "---examplex----\n",
      "Just say no to chemical treatments on non stick pans, get yourself and your friends a few sizes of cast iron and have pans that you can pass down to your children, without all those unknown chemicals that are such a part of pans for the last few decades.This is an absolutely amazing skillet!!\n",
      "---examplex----\n",
      "Been using good old American-made Lodge skillets for years, plus we regularly use a big cast iron wok imported from China.So, Im giving only two stars because the pre-seasoning is a messy hassle.Now Ive got to cook dinner.So far I am loving this skillet!\n",
      "---examplex----\n",
      "With proper seasoning (not the garbage spray lodge puts on) a nice piece of cast iron will be virtuly non-stick.\n",
      "---examplex----\n",
      "My mother and mother-in-law both cook with skillets that have been well seasoned, and Im very happy to achieve the same with mine.I love using my Cast Iron skillets just love them.\n",
      "---Phrase >  cast-iron skillet----\n",
      "---examplex----\n",
      "(If I dont lose this one too)Cant believe cast iron pans were old school and ugly.Yes stainless is shiny and nice looking, but for great results, steady even heat and versitility,I love this pan.Corn bread in this sucker...BAM!I purchased a 10.5 inch recently and then just got the 8 inch pre-seasoned cast-iron skillet.\n",
      "---examplex----\n",
      "Cooking food, especially something acidic like tomato sauce in a cast-iron skillet can increase iron content, by as much as 20 times.\"SOURCE:\n",
      "---Phrase >  iron skillet----\n",
      "---examplex----\n",
      "My mother and mother-in-law both cook with skillets that have been well seasoned, and Im very happy to achieve the same with mine.I love using my Cast Iron skillets just love them.\n",
      "---examplex----\n",
      "I never cooked with cast iron so I cant explain why, but I prefer using this lodge logic to my other nice cookware.My wife has made sure that I keep and clean it correctly when I use it, so its in perfect shape and cooks beautifully.I had an ancient 8 inch cast iron skillet that has been in my family forever and its getting very pitted and food is sticking more and more.\n",
      "---examplex----\n",
      "Just great to cook with each time.For years and years, I avoided buying a cast iron skillet.\n",
      "---examplex----\n",
      "Id never cooked with one and found the idea of using something not coated in teflon pretty intimidating.Then, I got this Lodge cast iron skillet.\n",
      "---Phrase >  cast-iron pan----\n"
     ]
    },
    {
     "name": "stderr",
     "output_type": "stream",
     "text": [
      "\r",
      " 24%|██▎       | 4/17 [00:00<00:02,  5.06it/s]"
     ]
    },
    {
     "name": "stdout",
     "output_type": "stream",
     "text": [
      "---examplex----\n",
      "I feel safe to use this iron skillet replace my non stick coating.I have read a number of positive reviews and decided to buy this pan (the first cast-iron pan i my life).\n",
      "------Item > skillet------\n",
      "---Phrase >  cast-iron skillet----\n",
      "---examplex----\n",
      "Every once in a while something sticks but a quick scrub with a scrubber sponge takes care of it.The surface is a little more pebbly than my 40-yr old, 12\" cast-iron skillet (which has a mirror-like finish and nothing ever sticks to it) so eggs were a bit of a challenge at first, but after using it for 6 months they rarely stick; over time as I cook with it, it gets better and better.\n",
      "---examplex----\n",
      "This size about completes my set of cast-iron skillets and pans.\n",
      "---examplex----\n",
      "The pan is outstanding and cooks like a cast-iron skillet should...highly recommend this over paying a lot of money for a name brand skillet.What a wonderful pan!\n",
      "---examplex----\n",
      "Your cooking times may vary, but the combo of cast-iron skillet for searing and lid to keep things moist while cooking works exquisitely.\n",
      "---Phrase >  iron skillet----\n",
      "---examplex----\n",
      "My mother and mother-in-law both cook with skillets that have been well seasoned, and Im very happy to achieve the same with mine.I love using my Cast Iron skillets just love them.\n",
      "---examplex----\n",
      "I never cooked with cast iron so I cant explain why, but I prefer using this lodge logic to my other nice cookware.My wife has made sure that I keep and clean it correctly when I use it, so its in perfect shape and cooks beautifully.I had an ancient 8 inch cast iron skillet that has been in my family forever and its getting very pitted and food is sticking more and more.\n",
      "---examplex----\n",
      "As the skillet becomes more seasoned over time, it smokes less.To clean my cast iron skillet, I pour avocado oil into it while its still warm and dump in some coarse sea salt.\n",
      "---examplex----\n",
      "I wish Id gotten a good cast iron skillet years ago, but I do enjoy making up for lost time!\n",
      "---Phrase >  great skillet----\n",
      "---examplex----\n",
      "Did cornbread, turned the skillet upside down and the cornbread dropped right out by its ownself (as its said in these here parts :-)This is a great skillet, but is very very larger....I dont think a normal stove burner can handle this big boy!Every serious cook needs a 12 cast iron skillet.\n",
      "---examplex----\n",
      "I definitely recommend this pan...its been my &#34;go to&#34; pan for everything since I got it!One great skillet for frying bacon and making corn bread.\n",
      "---examplex----\n",
      "What a great skillet for the priceMy wife and I have been looking for a non-toxic/non-stick method of cooking for a long time.\n",
      "---examplex----\n",
      "I seem to always find things on Amazon i can find anywhere else.the skillet is great heavy and already seasoned - only thing i wish it was a little bigger.Other than that a great skillet for everyday stove top and oven use.Bought 3 different sizes of these to fill out my set.\n",
      "---Phrase >  non-stick skillet----\n",
      "---examplex----\n",
      "you really cant go wrong with any Lodge cast iron products.Ive never used cast iron before, always using my regular non-stick skillets for searing, grilling, etc.\n",
      "---examplex----\n",
      "But dont expect it to be just like a non-stick skillet or youll be disappointed - it does take some care and some breaking-in.Even though its pre-seasoned, I seasoned it further by heating oil in it to smoking a couple of times, and I still use a tiny bit of oil when I cook in it.\n",
      "---examplex----\n",
      "In fact, I find myself using these far more than the non-stick skillets we purchased around the same time.Ive had no problems with rusting due to following instructions, which is always important.\n"
     ]
    },
    {
     "name": "stderr",
     "output_type": "stream",
     "text": [
      "\r",
      " 29%|██▉       | 5/17 [00:00<00:02,  5.47it/s]"
     ]
    },
    {
     "name": "stdout",
     "output_type": "stream",
     "text": [
      "---examplex----\n",
      "This is replacing our large non-stick skillet and is working out well other than needing a lid, nothing we have will fit.I bought this to do high heat cooking that I did not want to do in my All Clad pans.\n",
      "------Item > iron------\n",
      "---Phrase >  cast iron----\n",
      "---examplex----\n",
      "Just say no to chemical treatments on non stick pans, get yourself and your friends a few sizes of cast iron and have pans that you can pass down to your children, without all those unknown chemicals that are such a part of pans for the last few decades.This is an absolutely amazing skillet!!\n",
      "---examplex----\n",
      "Been using good old American-made Lodge skillets for years, plus we regularly use a big cast iron wok imported from China.So, Im giving only two stars because the pre-seasoning is a messy hassle.Now Ive got to cook dinner.So far I am loving this skillet!\n",
      "---examplex----\n",
      "With proper seasoning (not the garbage spray lodge puts on) a nice piece of cast iron will be virtuly non-stick.\n",
      "---examplex----\n",
      "My mother and mother-in-law both cook with skillets that have been well seasoned, and Im very happy to achieve the same with mine.I love using my Cast Iron skillets just love them.\n",
      "---Phrase >  cast-iron skillet----\n",
      "---examplex----\n",
      "(If I dont lose this one too)Cant believe cast iron pans were old school and ugly.Yes stainless is shiny and nice looking, but for great results, steady even heat and versitility,I love this pan.Corn bread in this sucker...BAM!I purchased a 10.5 inch recently and then just got the 8 inch pre-seasoned cast-iron skillet.\n",
      "---examplex----\n",
      "Cooking food, especially something acidic like tomato sauce in a cast-iron skillet can increase iron content, by as much as 20 times.\"SOURCE:\n",
      "---Phrase >  iron skillet----\n",
      "---examplex----\n",
      "My mother and mother-in-law both cook with skillets that have been well seasoned, and Im very happy to achieve the same with mine.I love using my Cast Iron skillets just love them.\n",
      "---examplex----\n",
      "I never cooked with cast iron so I cant explain why, but I prefer using this lodge logic to my other nice cookware.My wife has made sure that I keep and clean it correctly when I use it, so its in perfect shape and cooks beautifully.I had an ancient 8 inch cast iron skillet that has been in my family forever and its getting very pitted and food is sticking more and more.\n",
      "---examplex----\n",
      "Just great to cook with each time.For years and years, I avoided buying a cast iron skillet.\n",
      "---examplex----\n",
      "Id never cooked with one and found the idea of using something not coated in teflon pretty intimidating.Then, I got this Lodge cast iron skillet.\n",
      "---Phrase >  cast-iron pan----\n",
      "---examplex----\n",
      "I feel safe to use this iron skillet replace my non stick coating.I have read a number of positive reviews and decided to buy this pan (the first cast-iron pan i my life).\n"
     ]
    },
    {
     "name": "stderr",
     "output_type": "stream",
     "text": [
      "\r",
      " 35%|███▌      | 6/17 [00:01<00:02,  5.34it/s]"
     ]
    },
    {
     "name": "stdout",
     "output_type": "stream",
     "text": [
      "------Item > iron------\n",
      "---Phrase >  cast iron----\n",
      "---examplex----\n",
      "Just say no to chemical treatments on non stick pans, get yourself and your friends a few sizes of cast iron and have pans that you can pass down to your children, without all those unknown chemicals that are such a part of pans for the last few decades.This is an absolutely amazing skillet!!\n",
      "---examplex----\n",
      "Been using good old American-made Lodge skillets for years, plus we regularly use a big cast iron wok imported from China.So, Im giving only two stars because the pre-seasoning is a messy hassle.Now Ive got to cook dinner.So far I am loving this skillet!\n",
      "---examplex----\n",
      "With proper seasoning (not the garbage spray lodge puts on) a nice piece of cast iron will be virtuly non-stick.\n",
      "---examplex----\n",
      "My mother and mother-in-law both cook with skillets that have been well seasoned, and Im very happy to achieve the same with mine.I love using my Cast Iron skillets just love them.\n",
      "---Phrase >  cast-iron skillet----\n",
      "---examplex----\n",
      "(If I dont lose this one too)Cant believe cast iron pans were old school and ugly.Yes stainless is shiny and nice looking, but for great results, steady even heat and versitility,I love this pan.Corn bread in this sucker...BAM!I purchased a 10.5 inch recently and then just got the 8 inch pre-seasoned cast-iron skillet.\n",
      "---examplex----\n",
      "Cooking food, especially something acidic like tomato sauce in a cast-iron skillet can increase iron content, by as much as 20 times.\"SOURCE:\n"
     ]
    },
    {
     "name": "stderr",
     "output_type": "stream",
     "text": [
      "\r",
      " 41%|████      | 7/17 [00:01<00:01,  5.26it/s]"
     ]
    },
    {
     "name": "stdout",
     "output_type": "stream",
     "text": [
      "---Phrase >  iron skillet----\n",
      "---examplex----\n",
      "My mother and mother-in-law both cook with skillets that have been well seasoned, and Im very happy to achieve the same with mine.I love using my Cast Iron skillets just love them.\n",
      "---examplex----\n",
      "I never cooked with cast iron so I cant explain why, but I prefer using this lodge logic to my other nice cookware.My wife has made sure that I keep and clean it correctly when I use it, so its in perfect shape and cooks beautifully.I had an ancient 8 inch cast iron skillet that has been in my family forever and its getting very pitted and food is sticking more and more.\n",
      "---examplex----\n",
      "Just great to cook with each time.For years and years, I avoided buying a cast iron skillet.\n",
      "---examplex----\n",
      "Id never cooked with one and found the idea of using something not coated in teflon pretty intimidating.Then, I got this Lodge cast iron skillet.\n",
      "---Phrase >  cast-iron pan----\n",
      "---examplex----\n",
      "I feel safe to use this iron skillet replace my non stick coating.I have read a number of positive reviews and decided to buy this pan (the first cast-iron pan i my life).\n",
      "------Item > skillet------\n",
      "---Phrase >  cast-iron skillet----\n",
      "---examplex----\n",
      "Every once in a while something sticks but a quick scrub with a scrubber sponge takes care of it.The surface is a little more pebbly than my 40-yr old, 12\" cast-iron skillet (which has a mirror-like finish and nothing ever sticks to it) so eggs were a bit of a challenge at first, but after using it for 6 months they rarely stick; over time as I cook with it, it gets better and better.\n",
      "---examplex----\n",
      "This size about completes my set of cast-iron skillets and pans.\n",
      "---examplex----\n",
      "The pan is outstanding and cooks like a cast-iron skillet should...highly recommend this over paying a lot of money for a name brand skillet.What a wonderful pan!\n",
      "---examplex----\n",
      "Your cooking times may vary, but the combo of cast-iron skillet for searing and lid to keep things moist while cooking works exquisitely.\n",
      "---Phrase >  iron skillet----\n",
      "---examplex----\n",
      "My mother and mother-in-law both cook with skillets that have been well seasoned, and Im very happy to achieve the same with mine.I love using my Cast Iron skillets just love them.\n",
      "---examplex----\n",
      "I never cooked with cast iron so I cant explain why, but I prefer using this lodge logic to my other nice cookware.My wife has made sure that I keep and clean it correctly when I use it, so its in perfect shape and cooks beautifully.I had an ancient 8 inch cast iron skillet that has been in my family forever and its getting very pitted and food is sticking more and more.\n",
      "---examplex----\n",
      "As the skillet becomes more seasoned over time, it smokes less.To clean my cast iron skillet, I pour avocado oil into it while its still warm and dump in some coarse sea salt.\n",
      "---examplex----\n",
      "I wish Id gotten a good cast iron skillet years ago, but I do enjoy making up for lost time!\n",
      "---Phrase >  great skillet----\n",
      "---examplex----\n",
      "Did cornbread, turned the skillet upside down and the cornbread dropped right out by its ownself (as its said in these here parts :-)This is a great skillet, but is very very larger....I dont think a normal stove burner can handle this big boy!Every serious cook needs a 12 cast iron skillet.\n",
      "---examplex----\n",
      "I definitely recommend this pan...its been my &#34;go to&#34; pan for everything since I got it!One great skillet for frying bacon and making corn bread.\n",
      "---examplex----\n",
      "What a great skillet for the priceMy wife and I have been looking for a non-toxic/non-stick method of cooking for a long time.\n",
      "---examplex----\n",
      "I seem to always find things on Amazon i can find anywhere else.the skillet is great heavy and already seasoned - only thing i wish it was a little bigger.Other than that a great skillet for everyday stove top and oven use.Bought 3 different sizes of these to fill out my set.\n",
      "---Phrase >  non-stick skillet----\n",
      "---examplex----\n",
      "you really cant go wrong with any Lodge cast iron products.Ive never used cast iron before, always using my regular non-stick skillets for searing, grilling, etc.\n",
      "---examplex----\n",
      "But dont expect it to be just like a non-stick skillet or youll be disappointed - it does take some care and some breaking-in.Even though its pre-seasoned, I seasoned it further by heating oil in it to smoking a couple of times, and I still use a tiny bit of oil when I cook in it.\n"
     ]
    },
    {
     "name": "stderr",
     "output_type": "stream",
     "text": [
      "\r",
      " 47%|████▋     | 8/17 [00:01<00:01,  5.60it/s]"
     ]
    },
    {
     "name": "stdout",
     "output_type": "stream",
     "text": [
      "---examplex----\n",
      "In fact, I find myself using these far more than the non-stick skillets we purchased around the same time.Ive had no problems with rusting due to following instructions, which is always important.\n",
      "---examplex----\n",
      "This is replacing our large non-stick skillet and is working out well other than needing a lid, nothing we have will fit.I bought this to do high heat cooking that I did not want to do in my All Clad pans.\n",
      "------Item > skillet------\n",
      "---Phrase >  cast-iron skillet----\n",
      "---examplex----\n",
      "Every once in a while something sticks but a quick scrub with a scrubber sponge takes care of it.The surface is a little more pebbly than my 40-yr old, 12\" cast-iron skillet (which has a mirror-like finish and nothing ever sticks to it) so eggs were a bit of a challenge at first, but after using it for 6 months they rarely stick; over time as I cook with it, it gets better and better.\n",
      "---examplex----\n",
      "This size about completes my set of cast-iron skillets and pans.\n",
      "---examplex----\n",
      "The pan is outstanding and cooks like a cast-iron skillet should...highly recommend this over paying a lot of money for a name brand skillet.What a wonderful pan!\n",
      "---examplex----\n",
      "Your cooking times may vary, but the combo of cast-iron skillet for searing and lid to keep things moist while cooking works exquisitely.\n",
      "---Phrase >  iron skillet----\n",
      "---examplex----\n",
      "My mother and mother-in-law both cook with skillets that have been well seasoned, and Im very happy to achieve the same with mine.I love using my Cast Iron skillets just love them.\n",
      "---examplex----\n",
      "I never cooked with cast iron so I cant explain why, but I prefer using this lodge logic to my other nice cookware.My wife has made sure that I keep and clean it correctly when I use it, so its in perfect shape and cooks beautifully.I had an ancient 8 inch cast iron skillet that has been in my family forever and its getting very pitted and food is sticking more and more.\n",
      "---examplex----\n",
      "As the skillet becomes more seasoned over time, it smokes less.To clean my cast iron skillet, I pour avocado oil into it while its still warm and dump in some coarse sea salt.\n",
      "---examplex----\n",
      "I wish Id gotten a good cast iron skillet years ago, but I do enjoy making up for lost time!\n",
      "---Phrase >  great skillet----\n",
      "---examplex----\n",
      "Did cornbread, turned the skillet upside down and the cornbread dropped right out by its ownself (as its said in these here parts :-)This is a great skillet, but is very very larger....I dont think a normal stove burner can handle this big boy!Every serious cook needs a 12 cast iron skillet.\n"
     ]
    },
    {
     "name": "stderr",
     "output_type": "stream",
     "text": [
      "\r",
      " 53%|█████▎    | 9/17 [00:01<00:01,  5.89it/s]"
     ]
    },
    {
     "name": "stdout",
     "output_type": "stream",
     "text": [
      "---examplex----\n",
      "I definitely recommend this pan...its been my &#34;go to&#34; pan for everything since I got it!One great skillet for frying bacon and making corn bread.\n",
      "---examplex----\n",
      "What a great skillet for the priceMy wife and I have been looking for a non-toxic/non-stick method of cooking for a long time.\n",
      "---examplex----\n",
      "I seem to always find things on Amazon i can find anywhere else.the skillet is great heavy and already seasoned - only thing i wish it was a little bigger.Other than that a great skillet for everyday stove top and oven use.Bought 3 different sizes of these to fill out my set.\n",
      "---Phrase >  non-stick skillet----\n",
      "---examplex----\n",
      "you really cant go wrong with any Lodge cast iron products.Ive never used cast iron before, always using my regular non-stick skillets for searing, grilling, etc.\n",
      "---examplex----\n",
      "But dont expect it to be just like a non-stick skillet or youll be disappointed - it does take some care and some breaking-in.Even though its pre-seasoned, I seasoned it further by heating oil in it to smoking a couple of times, and I still use a tiny bit of oil when I cook in it.\n",
      "---examplex----\n",
      "In fact, I find myself using these far more than the non-stick skillets we purchased around the same time.Ive had no problems with rusting due to following instructions, which is always important.\n",
      "---examplex----\n",
      "This is replacing our large non-stick skillet and is working out well other than needing a lid, nothing we have will fit.I bought this to do high heat cooking that I did not want to do in my All Clad pans.\n",
      "------Item > cast------\n",
      "---Phrase >  cast iron----\n",
      "---examplex----\n",
      "Just say no to chemical treatments on non stick pans, get yourself and your friends a few sizes of cast iron and have pans that you can pass down to your children, without all those unknown chemicals that are such a part of pans for the last few decades.This is an absolutely amazing skillet!!\n",
      "---examplex----\n",
      "Been using good old American-made Lodge skillets for years, plus we regularly use a big cast iron wok imported from China.So, Im giving only two stars because the pre-seasoning is a messy hassle.Now Ive got to cook dinner.So far I am loving this skillet!\n",
      "---examplex----\n",
      "With proper seasoning (not the garbage spray lodge puts on) a nice piece of cast iron will be virtuly non-stick.\n",
      "---examplex----\n",
      "Lodge simply does not spend the time to finish their pans like they used to and the pans suffer now.I got this for the hype of searing steaks and etc on cast iron.\n",
      "---Phrase >  first cast----\n",
      "---examplex----\n",
      "Thanks for a great product.This is the first cast iron pan Ive ever used and its wonderful.\n",
      "---examplex----\n",
      "It was so convenient having it pre-seasoned and with such a great quality for the price, I wouldnt buy from another brand :) Definitely recommend this skillet!My husband and I got our first cast iron pan about a year ago.\n",
      "---examplex----\n",
      "Looking forward to cooking potatoes and other items in this!This is my first cast iron skillet so there has been a little bit of a learning curve in the proper way to maintain it.The skillet feels extremely heavy duty.\n",
      "---examplex----\n",
      "waste of moneyThis was my first cast iron purchase and after 3 months of use, it is my favorite and most versatile item in the kitchen!\n",
      "---Phrase >  cast-iron skillet----\n",
      "---examplex----\n",
      "(If I dont lose this one too)Cant believe cast iron pans were old school and ugly.Yes stainless is shiny and nice looking, but for great results, steady even heat and versitility,I love this pan.Corn bread in this sucker...BAM!I purchased a 10.5 inch recently and then just got the 8 inch pre-seasoned cast-iron skillet.\n"
     ]
    },
    {
     "name": "stderr",
     "output_type": "stream",
     "text": [
      "\r",
      " 59%|█████▉    | 10/17 [00:01<00:01,  6.01it/s]"
     ]
    },
    {
     "name": "stdout",
     "output_type": "stream",
     "text": [
      "---examplex----\n",
      "Maybe if you use it more often than I do, you could end up with a more smooth natural seasoning.Lodge cast-iron skillets are very good quality, which you want when youre considering buying cast iron.I knew this would be a good skillet, and when I saw the great price, I ordered one for my father-in-law, who lives and cooks alone.\n",
      "---Phrase >  good cast----\n",
      "---examplex----\n",
      "I wish Id gotten a good cast iron skillet years ago, but I do enjoy making up for lost time!\n",
      "---examplex----\n",
      "Different schools of cooking have different tastes and thats fine.If youve ever really used good cast iron cookware, however, you will appreciate this skillet.\n",
      "---examplex----\n",
      "Now this is not a Le Cruzette, but who cares; it does not cost $130 and its made in America.Every body knows that a good cast iron skillet is an essential tool for frying chicken.\n",
      "---examplex----\n",
      "I dont think enough people know how good cast iron is to cook with and settle for substandard cookware like I did.This pan is heavy and pretty much indestructible, unlike non-stick pans that have limited useful lives.\n",
      "------Item > cast------\n",
      "---Phrase >  cast iron----\n",
      "---examplex----\n",
      "Just say no to chemical treatments on non stick pans, get yourself and your friends a few sizes of cast iron and have pans that you can pass down to your children, without all those unknown chemicals that are such a part of pans for the last few decades.This is an absolutely amazing skillet!!\n",
      "---examplex----\n",
      "Been using good old American-made Lodge skillets for years, plus we regularly use a big cast iron wok imported from China.So, Im giving only two stars because the pre-seasoning is a messy hassle.Now Ive got to cook dinner.So far I am loving this skillet!\n",
      "---examplex----\n",
      "With proper seasoning (not the garbage spray lodge puts on) a nice piece of cast iron will be virtuly non-stick.\n",
      "---examplex----\n",
      "Lodge simply does not spend the time to finish their pans like they used to and the pans suffer now.I got this for the hype of searing steaks and etc on cast iron.\n",
      "---Phrase >  first cast----\n",
      "---examplex----\n",
      "Thanks for a great product.This is the first cast iron pan Ive ever used and its wonderful.\n",
      "---examplex----\n",
      "It was so convenient having it pre-seasoned and with such a great quality for the price, I wouldnt buy from another brand :) Definitely recommend this skillet!My husband and I got our first cast iron pan about a year ago.\n",
      "---examplex----\n",
      "Looking forward to cooking potatoes and other items in this!This is my first cast iron skillet so there has been a little bit of a learning curve in the proper way to maintain it.The skillet feels extremely heavy duty.\n",
      "---examplex----\n",
      "waste of moneyThis was my first cast iron purchase and after 3 months of use, it is my favorite and most versatile item in the kitchen!\n",
      "---Phrase >  cast-iron skillet----\n",
      "---examplex----\n",
      "(If I dont lose this one too)Cant believe cast iron pans were old school and ugly.Yes stainless is shiny and nice looking, but for great results, steady even heat and versitility,I love this pan.Corn bread in this sucker...BAM!I purchased a 10.5 inch recently and then just got the 8 inch pre-seasoned cast-iron skillet.\n"
     ]
    },
    {
     "name": "stderr",
     "output_type": "stream",
     "text": [
      "\r",
      " 65%|██████▍   | 11/17 [00:01<00:00,  6.08it/s]"
     ]
    },
    {
     "name": "stdout",
     "output_type": "stream",
     "text": [
      "---examplex----\n",
      "Maybe if you use it more often than I do, you could end up with a more smooth natural seasoning.Lodge cast-iron skillets are very good quality, which you want when youre considering buying cast iron.I knew this would be a good skillet, and when I saw the great price, I ordered one for my father-in-law, who lives and cooks alone.\n",
      "---Phrase >  good cast----\n",
      "---examplex----\n",
      "I wish Id gotten a good cast iron skillet years ago, but I do enjoy making up for lost time!\n",
      "---examplex----\n",
      "Different schools of cooking have different tastes and thats fine.If youve ever really used good cast iron cookware, however, you will appreciate this skillet.\n",
      "---examplex----\n",
      "Now this is not a Le Cruzette, but who cares; it does not cost $130 and its made in America.Every body knows that a good cast iron skillet is an essential tool for frying chicken.\n",
      "---examplex----\n",
      "I dont think enough people know how good cast iron is to cook with and settle for substandard cookware like I did.This pan is heavy and pretty much indestructible, unlike non-stick pans that have limited useful lives.\n",
      "------Item > lodg------\n",
      "---Phrase >  size casseroleslodg----\n",
      "---Phrase >  much morelodg----\n",
      "---Phrase >  sever lodg----\n",
      "---Phrase >  lodg cast----\n"
     ]
    },
    {
     "name": "stderr",
     "output_type": "stream",
     "text": [
      "\r",
      " 71%|███████   | 12/17 [00:02<00:00,  5.04it/s]"
     ]
    },
    {
     "name": "stdout",
     "output_type": "stream",
     "text": [
      "------Item > iron------\n",
      "---Phrase >  cast iron----\n",
      "---examplex----\n",
      "Just say no to chemical treatments on non stick pans, get yourself and your friends a few sizes of cast iron and have pans that you can pass down to your children, without all those unknown chemicals that are such a part of pans for the last few decades.This is an absolutely amazing skillet!!\n",
      "---examplex----\n",
      "Been using good old American-made Lodge skillets for years, plus we regularly use a big cast iron wok imported from China.So, Im giving only two stars because the pre-seasoning is a messy hassle.Now Ive got to cook dinner.So far I am loving this skillet!\n",
      "---examplex----\n",
      "With proper seasoning (not the garbage spray lodge puts on) a nice piece of cast iron will be virtuly non-stick.\n",
      "---examplex----\n",
      "My mother and mother-in-law both cook with skillets that have been well seasoned, and Im very happy to achieve the same with mine.I love using my Cast Iron skillets just love them.\n",
      "---Phrase >  cast-iron skillet----\n",
      "---examplex----\n",
      "(If I dont lose this one too)Cant believe cast iron pans were old school and ugly.Yes stainless is shiny and nice looking, but for great results, steady even heat and versitility,I love this pan.Corn bread in this sucker...BAM!I purchased a 10.5 inch recently and then just got the 8 inch pre-seasoned cast-iron skillet.\n"
     ]
    },
    {
     "name": "stderr",
     "output_type": "stream",
     "text": [
      "\r",
      " 76%|███████▋  | 13/17 [00:02<00:00,  5.04it/s]"
     ]
    },
    {
     "name": "stdout",
     "output_type": "stream",
     "text": [
      "---examplex----\n",
      "Cooking food, especially something acidic like tomato sauce in a cast-iron skillet can increase iron content, by as much as 20 times.\"SOURCE:\n",
      "---Phrase >  iron skillet----\n",
      "---examplex----\n",
      "My mother and mother-in-law both cook with skillets that have been well seasoned, and Im very happy to achieve the same with mine.I love using my Cast Iron skillets just love them.\n",
      "---examplex----\n",
      "I never cooked with cast iron so I cant explain why, but I prefer using this lodge logic to my other nice cookware.My wife has made sure that I keep and clean it correctly when I use it, so its in perfect shape and cooks beautifully.I had an ancient 8 inch cast iron skillet that has been in my family forever and its getting very pitted and food is sticking more and more.\n",
      "---examplex----\n",
      "Just great to cook with each time.For years and years, I avoided buying a cast iron skillet.\n",
      "---examplex----\n",
      "Id never cooked with one and found the idea of using something not coated in teflon pretty intimidating.Then, I got this Lodge cast iron skillet.\n",
      "---Phrase >  cast-iron pan----\n",
      "---examplex----\n",
      "I feel safe to use this iron skillet replace my non stick coating.I have read a number of positive reviews and decided to buy this pan (the first cast-iron pan i my life).\n",
      "------Item > time------\n",
      "---Phrase >  long time.wa----\n",
      "---Phrase >  next time.cast----\n"
     ]
    },
    {
     "name": "stderr",
     "output_type": "stream",
     "text": [
      "\r",
      " 82%|████████▏ | 14/17 [00:02<00:00,  4.48it/s]"
     ]
    },
    {
     "name": "stdout",
     "output_type": "stream",
     "text": [
      "---Phrase >  lifetime.th size----\n",
      "---Phrase >  3-4 time----\n",
      "---examplex----\n",
      "Would reccomend....first off dont even attempt to fry eggsin this skillet for at least 2 weeks of using....when i recived mine i washed well in hot water, even tho it seasoned your gonna wanna do it theright way...after washing put on top stove to dry,then cooked bacon in it, you are gonna wanna useanimal fat as much as possiable.....it did stick but thats toobe expected with first time use, then i towel dryedthe extra grease and added lard....put in oven at 500degrees, expect some smoking, just have fans ready, for1 hr...turn oven off, i did this like 3-4 times...thencooked fried potatoes with onions ,worked great, friedan egg and it slid off pan...great pan, just got dutch oven too...This is the skillet to have on a number of fronts.\n",
      "------Item > skillet------\n",
      "---Phrase >  cast-iron skillet----\n",
      "---examplex----\n",
      "Every once in a while something sticks but a quick scrub with a scrubber sponge takes care of it.The surface is a little more pebbly than my 40-yr old, 12\" cast-iron skillet (which has a mirror-like finish and nothing ever sticks to it) so eggs were a bit of a challenge at first, but after using it for 6 months they rarely stick; over time as I cook with it, it gets better and better.\n",
      "---examplex----\n",
      "This size about completes my set of cast-iron skillets and pans.\n",
      "---examplex----\n",
      "The pan is outstanding and cooks like a cast-iron skillet should...highly recommend this over paying a lot of money for a name brand skillet.What a wonderful pan!\n",
      "---examplex----\n",
      "Your cooking times may vary, but the combo of cast-iron skillet for searing and lid to keep things moist while cooking works exquisitely.\n",
      "---Phrase >  iron skillet----\n",
      "---examplex----\n",
      "My mother and mother-in-law both cook with skillets that have been well seasoned, and Im very happy to achieve the same with mine.I love using my Cast Iron skillets just love them.\n",
      "---examplex----\n",
      "I never cooked with cast iron so I cant explain why, but I prefer using this lodge logic to my other nice cookware.My wife has made sure that I keep and clean it correctly when I use it, so its in perfect shape and cooks beautifully.I had an ancient 8 inch cast iron skillet that has been in my family forever and its getting very pitted and food is sticking more and more.\n",
      "---examplex----\n",
      "As the skillet becomes more seasoned over time, it smokes less.To clean my cast iron skillet, I pour avocado oil into it while its still warm and dump in some coarse sea salt.\n",
      "---examplex----\n",
      "I wish Id gotten a good cast iron skillet years ago, but I do enjoy making up for lost time!\n",
      "---Phrase >  great skillet----\n",
      "---examplex----\n",
      "Did cornbread, turned the skillet upside down and the cornbread dropped right out by its ownself (as its said in these here parts :-)This is a great skillet, but is very very larger....I dont think a normal stove burner can handle this big boy!Every serious cook needs a 12 cast iron skillet.\n"
     ]
    },
    {
     "name": "stderr",
     "output_type": "stream",
     "text": [
      "\r",
      " 88%|████████▊ | 15/17 [00:02<00:00,  4.98it/s]"
     ]
    },
    {
     "name": "stdout",
     "output_type": "stream",
     "text": [
      "---examplex----\n",
      "I definitely recommend this pan...its been my &#34;go to&#34; pan for everything since I got it!One great skillet for frying bacon and making corn bread.\n",
      "---examplex----\n",
      "What a great skillet for the priceMy wife and I have been looking for a non-toxic/non-stick method of cooking for a long time.\n",
      "---examplex----\n",
      "I seem to always find things on Amazon i can find anywhere else.the skillet is great heavy and already seasoned - only thing i wish it was a little bigger.Other than that a great skillet for everyday stove top and oven use.Bought 3 different sizes of these to fill out my set.\n",
      "---Phrase >  non-stick skillet----\n",
      "---examplex----\n",
      "you really cant go wrong with any Lodge cast iron products.Ive never used cast iron before, always using my regular non-stick skillets for searing, grilling, etc.\n",
      "---examplex----\n",
      "But dont expect it to be just like a non-stick skillet or youll be disappointed - it does take some care and some breaking-in.Even though its pre-seasoned, I seasoned it further by heating oil in it to smoking a couple of times, and I still use a tiny bit of oil when I cook in it.\n",
      "---examplex----\n",
      "In fact, I find myself using these far more than the non-stick skillets we purchased around the same time.Ive had no problems with rusting due to following instructions, which is always important.\n",
      "---examplex----\n",
      "This is replacing our large non-stick skillet and is working out well other than needing a lid, nothing we have will fit.I bought this to do high heat cooking that I did not want to do in my All Clad pans.\n",
      "------Item > oil------\n",
      "---Phrase >  oliv oil----\n",
      "---Phrase >  veget oil----\n",
      "---Phrase >  littl oil----\n"
     ]
    },
    {
     "name": "stderr",
     "output_type": "stream",
     "text": [
      "\r",
      " 94%|█████████▍| 16/17 [00:03<00:00,  4.94it/s]"
     ]
    },
    {
     "name": "stdout",
     "output_type": "stream",
     "text": [
      "---Phrase >  cook oil----\n",
      "------Item > cook------\n",
      "---Phrase >  never cook----\n",
      "---examplex----\n",
      "I never cooked with cast iron so I cant explain why, but I prefer using this lodge logic to my other nice cookware.My wife has made sure that I keep and clean it correctly when I use it, so its in perfect shape and cooks beautifully.I had an ancient 8 inch cast iron skillet that has been in my family forever and its getting very pitted and food is sticking more and more.\n",
      "---examplex----\n",
      "Id never cooked with one and found the idea of using something not coated in teflon pretty intimidating.Then, I got this Lodge cast iron skillet.\n",
      "---examplex----\n",
      "Worth its weight in iron!I had never cooked with cast iron until recently when I decided to order several of Lodges skillets.\n",
      "---Phrase >  non-stick cookwar----\n",
      "---examplex----\n",
      "In fact, I have replaced all of my non-stick cookware with old-fashioned Lodge products because of their even cooking capabilities, ease of cleaning and the ability to use them outdoors on an open fire or grill...\n",
      "Plus you just cant beat the amazing value youre getting.I LOVE my cast iron skillet!\n",
      "---examplex----\n",
      "This is the only thing to use for making home fries.It can also be used as a dutch oven if you buy the lid.Also great for camping or defending yourself.Cons:Not for weak wrists and may require two hands to move it off the stove.Doesnt work in the microwave.After years of cooking and buying and replacing non-stick cookware, I decided Id try a return to cast iron.\n",
      "---Phrase >  cook oil----\n"
     ]
    },
    {
     "name": "stderr",
     "output_type": "stream",
     "text": [
      "\r",
      "100%|██████████| 17/17 [00:03<00:00,  4.82it/s]"
     ]
    },
    {
     "name": "stdout",
     "output_type": "stream",
     "text": [
      "---Phrase >  cook indoor----\n"
     ]
    },
    {
     "name": "stderr",
     "output_type": "stream",
     "text": [
      "\n"
     ]
    }
   ],
   "source": [
    "featuresInContext(items, most_common, sent_fullreview)"
   ]
  },
  {
   "cell_type": "code",
   "execution_count": 77,
   "metadata": {},
   "outputs": [
    {
     "name": "stdout",
     "output_type": "stream",
     "text": [
      "---Phrase > 1 >>> cast iron----\n",
      "---example > 1 >>> ----\n",
      "Just say no to chemical treatments on non stick pans, get yourself and your friends a few sizes of cast iron and have pans that you can pass down to your children, without all those unknown chemicals that are such a part of pans for the last few decades.This is an absolutely amazing skillet!!\n",
      "---example > 2 >>> ----\n",
      "Been using good old American-made Lodge skillets for years, plus we regularly use a big cast iron wok imported from China.So, I'm giving only two stars because the pre-seasoning is a messy hassle.Now I've got to cook dinner.So far I am loving this skillet!\n",
      "---example > 3 >>> ----\n",
      "With proper seasoning (not the garbage spray lodge puts on) a nice piece of cast iron will be virtuly non-stick.\n",
      "---example > 4 >>> ----\n",
      "Lodge simply does not spend the time to finish their pans like they used to and the pans suffer now.I got this for the hype of searing steaks and etc on cast iron.\n",
      "---Phrase > 2 >>> hot water----\n",
      "---example > 1 >>> ----\n",
      "Then, I give it a good rinse in hot water and place the skillet into a hot oven until it is dry (quickly drying with heat avoids a build up of rust).\n",
      "---example > 2 >>> ----\n",
      "I soak my pan in warm to hot water and use a soft to medium bristle brush to get food off.\n",
      "---example > 3 >>> ----\n",
      "Cleaned the skillet with hot water and a stiff brush; no soap although I do use a small amount from time to time.\n",
      "---example > 4 >>> ----\n",
      "I expect I'll be happy to have it when I need it.This skillet is easy to use, cooks food very evenly, and cleans up easily using just hot water and a scrub brush.\n",
      "---Phrase > 3 >>> perfect size----\n",
      "---example > 1 >>> ----\n",
      "and it was a perfect size for me.I use this skillet all the time cooking steaks and when i fry anything.\n",
      "---example > 2 >>> ----\n",
      "I never cooked with cast iron so I can't explain why, but I prefer using this lodge logic to my other nice cookware.My wife has made sure that I keep and clean it correctly when I use it, so it's in perfect shape and cooks beautifully.I had an ancient 8 inch cast iron skillet that has been in my family forever and it's getting very pitted and food is sticking more and more.\n",
      "---example > 3 >>> ----\n",
      "I needed a new skillet, and this is the perfect size, and came pre-seasoned.I have many Lodge cast iron pieces, and this is just perfect for handling.\n",
      "---example > 4 >>> ----\n",
      "I wanted cast iron and I got exactly what I hoped for.This is the perfect skillet to make manicotti creapes.\n",
      "---Phrase > 4 >>> non-stick pan----\n",
      "---example > 1 >>> ----\n",
      "When properly cared for (meaning by seasoning it once in awhile and not abrasively scrubbing and washing this pan with soap water) this pan will be the best non-stick pan you can find!As a professional cook, when I cook at home I use this pan regularly.\n",
      "---example > 2 >>> ----\n",
      "And unlike non-stick pans, it's iron and will rust, so after washing (water only, no soap) I dry it well and wipe it with a little Crisco.\n",
      "---example > 3 >>> ----\n",
      "I've recently converted to cast iron from Analon anodized proffesional series teflon coated non-stick pans.\n",
      "---example > 4 >>> ----\n",
      "I don't think cast iron is for everyone, but if you want a more natural alternative to non-stick pans, I think it is worth the extra maintenance work.\n"
     ]
    }
   ],
   "source": [
    "featuresInContextC(final, sent_fullreview)"
   ]
  },
  {
   "cell_type": "code",
   "execution_count": 78,
   "metadata": {},
   "outputs": [
    {
     "name": "stderr",
     "output_type": "stream",
     "text": [
      "100%|██████████| 2/2 [00:00<00:00, 45.69it/s]"
     ]
    },
    {
     "name": "stdout",
     "output_type": "stream",
     "text": [
      "------Item > iron------\n",
      "---Phrase >  cast iron----\n",
      "---examplex----\n",
      "Been using good old American-made Lodge skillets for years, plus we regularly use a big cast iron wok imported from China.So, Im giving only two stars because the pre-seasoning is a messy hassle.Now Ive got to cook dinner.I bought this specifically for cooking eggs.\n",
      "---examplex----\n",
      "This is not a quality product.Dont make the mistake i made and buy this cheap cast iron skillet.\n",
      "---examplex----\n",
      "I love the cast iron aspects of it, but frankly the heat distribution of this pan is one of the worst I have seen in quite a while.\n",
      "---examplex----\n",
      "However, the center heats up to the point of burning while the outside edges of the pan are too cool to cook in a decently short amount of time.I really wanted to like this pan but honestly...Im thinking about returning it...I own a well seasoned steel Wok, 2 cast iron griddles and one small #3 Wagner cast iron skillet.\n",
      "---Phrase >  iron skillet----\n",
      "---examplex----\n",
      "We decided to got for an iron skillet like grandma used to use.\n",
      "---examplex----\n",
      "This is not a quality product.Dont make the mistake i made and buy this cheap cast iron skillet.\n",
      "---examplex----\n",
      "However, the center heats up to the point of burning while the outside edges of the pan are too cool to cook in a decently short amount of time.I really wanted to like this pan but honestly...Im thinking about returning it...I own a well seasoned steel Wok, 2 cast iron griddles and one small #3 Wagner cast iron skillet.\n",
      "---examplex----\n",
      "I know its supposed to be convenient but if I were you, I would order the \"Lodge Original Finish 12-Inch Cast Iron Skillet\".\n",
      "---Phrase >  cast-iron skillet----\n",
      "---Phrase >  10-inch iron----\n",
      "------Item > cook------\n",
      "---Phrase >  never cook----\n",
      "---Phrase >  great cook----\n",
      "---Phrase >  nice cookware.mi----\n",
      "---Phrase >  steel-clad cookwar----\n"
     ]
    },
    {
     "name": "stderr",
     "output_type": "stream",
     "text": [
      "\n"
     ]
    }
   ],
   "source": [
    "featuresInContext(items_few, most_common_neg, sent_neg_review)"
   ]
  },
  {
   "cell_type": "code",
   "execution_count": 79,
   "metadata": {},
   "outputs": [
    {
     "name": "stderr",
     "output_type": "stream",
     "text": [
      "\r",
      "  0%|          | 0/2 [00:00<?, ?it/s]"
     ]
    },
    {
     "name": "stdout",
     "output_type": "stream",
     "text": [
      "------Item > iron------\n",
      "---Phrase >  cast iron----\n",
      "---examplex----\n",
      "Just say no to chemical treatments on non stick pans, get yourself and your friends a few sizes of cast iron and have pans that you can pass down to your children, without all those unknown chemicals that are such a part of pans for the last few decades.This is an absolutely amazing skillet!!\n",
      "---examplex----\n",
      "With proper seasoning (not the garbage spray lodge puts on) a nice piece of cast iron will be virtuly non-stick.\n",
      "---examplex----\n",
      "My mother and mother-in-law both cook with skillets that have been well seasoned, and Im very happy to achieve the same with mine.I love using my Cast Iron skillets just love them.\n",
      "---examplex----\n",
      "I never cooked with cast iron so I cant explain why, but I prefer using this lodge logic to my other nice cookware.My wife has made sure that I keep and clean it correctly when I use it, so its in perfect shape and cooks beautifully.I had an ancient 8 inch cast iron skillet that has been in my family forever and its getting very pitted and food is sticking more and more.\n",
      "---Phrase >  cast-iron skillet----\n",
      "---examplex----\n",
      "(If I dont lose this one too)Cant believe cast iron pans were old school and ugly.Yes stainless is shiny and nice looking, but for great results, steady even heat and versitility,I love this pan.Corn bread in this sucker...BAM!I purchased a 10.5 inch recently and then just got the 8 inch pre-seasoned cast-iron skillet.\n",
      "---examplex----\n",
      "Cooking food, especially something acidic like tomato sauce in a cast-iron skillet can increase iron content, by as much as 20 times.\"SOURCE:\n",
      "---Phrase >  iron skillet----\n",
      "---examplex----\n",
      "My mother and mother-in-law both cook with skillets that have been well seasoned, and Im very happy to achieve the same with mine.I love using my Cast Iron skillets just love them.\n",
      "---examplex----\n",
      "I never cooked with cast iron so I cant explain why, but I prefer using this lodge logic to my other nice cookware.My wife has made sure that I keep and clean it correctly when I use it, so its in perfect shape and cooks beautifully.I had an ancient 8 inch cast iron skillet that has been in my family forever and its getting very pitted and food is sticking more and more.\n",
      "---examplex----\n",
      "Just great to cook with each time.For years and years, I avoided buying a cast iron skillet.\n",
      "---examplex----\n",
      "Id never cooked with one and found the idea of using something not coated in teflon pretty intimidating.Then, I got this Lodge cast iron skillet.\n",
      "---Phrase >  cast-iron product----\n"
     ]
    },
    {
     "name": "stderr",
     "output_type": "stream",
     "text": [
      "\r",
      " 50%|█████     | 1/2 [00:00<00:00,  5.26it/s]"
     ]
    },
    {
     "name": "stdout",
     "output_type": "stream",
     "text": [
      "---examplex----\n",
      "I am continuing to add more cast-iron products in my kitchen as I replace the teflon products.This is the bad boy of all bad boys.Deep enough to fry up fish/chicken/chops/etc, yet large enough for sausage, bacon, or eggs.Its very well constructed, and will last a lifetime with proper cast iron care.The more you use it, the better things taste.\n",
      "---examplex----\n",
      "If youre at all curious about cast iron cooking then this is a no brainer.Heavy enough to use as a weapon in the event a burglar breaks in to steal your steak and eggs.I have several cast-iron products including a wok, grill pan and a couple of Dutch ovens.\n",
      "------Item > cook------\n",
      "---Phrase >  non-stick cookwar----\n",
      "---examplex----\n",
      "In fact, I have replaced all of my non-stick cookware with old-fashioned Lodge products because of their even cooking capabilities, ease of cleaning and the ability to use them outdoors on an open fire or grill...\n",
      "Plus you just cant beat the amazing value youre getting.I LOVE my cast iron skillet!\n",
      "---examplex----\n",
      "This is the only thing to use for making home fries.It can also be used as a dutch oven if you buy the lid.Also great for camping or defending yourself.Cons:Not for weak wrists and may require two hands to move it off the stove.Doesnt work in the microwave.After years of cooking and buying and replacing non-stick cookware, I decided Id try a return to cast iron.\n",
      "---Phrase >  favorit cookwar----\n",
      "---Phrase >  profession cook----\n",
      "---Phrase >  previou cook----\n"
     ]
    },
    {
     "name": "stderr",
     "output_type": "stream",
     "text": [
      "100%|██████████| 2/2 [00:00<00:00,  5.09it/s]\n"
     ]
    }
   ],
   "source": [
    "featuresInContext(items_few, most_common_pos, sent_pos_review)"
   ]
  },
  {
   "cell_type": "code",
   "execution_count": null,
   "metadata": {},
   "outputs": [],
   "source": []
  }
 ],
 "metadata": {
  "kernelspec": {
   "display_name": "Python 3",
   "language": "python",
   "name": "python3"
  },
  "language_info": {
   "codemirror_mode": {
    "name": "ipython",
    "version": 3
   },
   "file_extension": ".py",
   "mimetype": "text/x-python",
   "name": "python",
   "nbconvert_exporter": "python",
   "pygments_lexer": "ipython3",
   "version": "3.7.0"
  }
 },
 "nbformat": 4,
 "nbformat_minor": 2
}
