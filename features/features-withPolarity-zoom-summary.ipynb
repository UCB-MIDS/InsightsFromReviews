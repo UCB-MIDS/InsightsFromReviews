{
 "cells": [
  {
   "cell_type": "code",
   "execution_count": 1,
   "metadata": {},
   "outputs": [],
   "source": [
    "import nltk\n",
    "import json"
   ]
  },
  {
   "cell_type": "code",
   "execution_count": 2,
   "metadata": {},
   "outputs": [],
   "source": [
    "from tqdm import tqdm"
   ]
  },
  {
   "cell_type": "code",
   "execution_count": 3,
   "metadata": {},
   "outputs": [],
   "source": [
    "file_d = []\n",
    "reviews_sent = []\n",
    "reviews_neg_sent = []\n",
    "reviews_str = \"\"\n",
    "reviews_pos_str = \"\"\n",
    "reviews_neg_str = \"\""
   ]
  },
  {
   "cell_type": "code",
   "execution_count": 4,
   "metadata": {},
   "outputs": [],
   "source": [
    "file = '/Users/gkhanna/Downloads/reviews_Home_and_Kitchen_5.json'"
   ]
  },
  {
   "cell_type": "markdown",
   "metadata": {},
   "source": [
    "Reading \"count\" of the file for faster experiments\n",
    "count = 0 pulls in all data"
   ]
  },
  {
   "cell_type": "code",
   "execution_count": 5,
   "metadata": {},
   "outputs": [
    {
     "name": "stderr",
     "output_type": "stream",
     "text": [
      "551682it [00:06, 81805.52it/s] \n"
     ]
    }
   ],
   "source": [
    "# Reading count number of JSON lines from the file\n",
    "count = 0\n",
    "n = 0\n",
    "with open(file, \"r\") as f:\n",
    "    for line in tqdm(f):\n",
    "        file_d.append(json.loads(line))\n",
    "        n =  n + 1\n",
    "        if count > 0 and n == count:\n",
    "            break\n",
    "    \n"
   ]
  },
  {
   "cell_type": "code",
   "execution_count": 6,
   "metadata": {},
   "outputs": [
    {
     "name": "stdout",
     "output_type": "stream",
     "text": [
      "551682\n",
      "<class 'list'>\n",
      "{'reviewerID': 'APYOBQE6M18AA', 'asin': '0615391206', 'reviewerName': 'Martin Schwartz', 'helpful': [0, 0], 'reviewText': 'My daughter wanted this book and the price on Amazon was the best.  She has already tried one recipe a day after receiving the book.  She seems happy with it.', 'overall': 5.0, 'summary': 'Best Price', 'unixReviewTime': 1382140800, 'reviewTime': '10 19, 2013'}\n",
      "<class 'dict'>\n"
     ]
    }
   ],
   "source": [
    "# Checking the structures\n",
    "print(len(file_d))\n",
    "print(type(file_d))\n",
    "print(file_d[0])\n",
    "print(type(file_d[0]))"
   ]
  },
  {
   "cell_type": "code",
   "execution_count": 7,
   "metadata": {},
   "outputs": [
    {
     "name": "stdout",
     "output_type": "stream",
     "text": [
      "My daughter wanted this book and the price on Amazon was the best.  She has already tried one recipe a day after receiving the book.  She seems happy with it.\n"
     ]
    }
   ],
   "source": [
    "print(file_d[0]['reviewText'])"
   ]
  },
  {
   "cell_type": "markdown",
   "metadata": {},
   "source": [
    "Read in reviews that correspond to the list of ASIN's (Amazon product ID's) selected. \n",
    "Choosing the ASIN that has ~ 1000 reviews from the EDA"
   ]
  },
  {
   "cell_type": "code",
   "execution_count": 8,
   "metadata": {},
   "outputs": [],
   "source": [
    "# ASIN corresponding to the Iron Skillet\n",
    "pl = ['B00006JSUA']"
   ]
  },
  {
   "cell_type": "code",
   "execution_count": 9,
   "metadata": {},
   "outputs": [],
   "source": [
    "# ASIN's for Iron Skillets from Jey's web scraping\n",
    "# pl = ['B075MRX5N3', 'B06XT6GZ9V', 'B00006JSUA', 'B00006JSUA', 'B07GKZXS2T', 'B000VTOG78', 'B00X4WQMAS', 'B00G2XGC88', 'B073Q8P6CQ', 'B073Q8DY3F']"
   ]
  },
  {
   "cell_type": "code",
   "execution_count": 10,
   "metadata": {},
   "outputs": [],
   "source": [
    "# Trying out the ASIN's for toothbrush holder\n",
    "# pl = ['B078GVMVRH', 'B078GVH2VJ', 'B00SX07354', 'B00CC6XSRC', 'B0777SKKBL', 'B072YVWBXH', 'B01AKGRTUM', 'B07CMHRZRT', 'B07CMHRZS2', 'B073Q58L6Q']"
   ]
  },
  {
   "cell_type": "code",
   "execution_count": 11,
   "metadata": {},
   "outputs": [
    {
     "name": "stderr",
     "output_type": "stream",
     "text": [
      "100%|██████████| 551682/551682 [00:00<00:00, 1736317.05it/s]\n"
     ]
    }
   ],
   "source": [
    "# Getting the reviews out of the dictionary\n",
    "# into a list and string\n",
    "for r in tqdm(file_d):\n",
    "    if r['asin'] in pl:\n",
    "        reviews_sent.append(r['reviewText'])\n",
    "        reviews_str = reviews_str + str(r['reviewText'])\n",
    "        if ((r['overall'] == 1.0) or (r['overall'] == 2.0)):\n",
    "            reviews_neg_str = reviews_neg_str + str(r['reviewText'])\n",
    "        else:\n",
    "            reviews_pos_str = reviews_pos_str + str(r['reviewText'])"
   ]
  },
  {
   "cell_type": "code",
   "execution_count": 12,
   "metadata": {},
   "outputs": [
    {
     "name": "stdout",
     "output_type": "stream",
     "text": [
      "<class 'list'>\n",
      "1064\n",
      "Just say no to chemical treatments on non stick pans, get yourself and your friends a few sizes of cast iron and have pans that you can pass down to your children, without all those unknown chemicals that are such a part of pans for the last few decades.\n"
     ]
    }
   ],
   "source": [
    "print(type(reviews_sent))\n",
    "print(len(reviews_sent))\n",
    "print(reviews_sent[0])"
   ]
  },
  {
   "cell_type": "code",
   "execution_count": 13,
   "metadata": {},
   "outputs": [],
   "source": [
    "# print(reviews_sent)"
   ]
  },
  {
   "cell_type": "code",
   "execution_count": 14,
   "metadata": {},
   "outputs": [
    {
     "name": "stdout",
     "output_type": "stream",
     "text": [
      "598363\n",
      "572557\n",
      "25806\n"
     ]
    }
   ],
   "source": [
    "print(len(reviews_str))\n",
    "print(len(reviews_pos_str))\n",
    "print(len(reviews_neg_str))"
   ]
  },
  {
   "cell_type": "code",
   "execution_count": 15,
   "metadata": {},
   "outputs": [
    {
     "name": "stdout",
     "output_type": "stream",
     "text": [
      "Just say no to chemical treatments on non stick pans, get yourself and your friends a few sizes of c\n",
      "Just say no to chemical treatments on non stick pans, get yourself and your friends a few sizes of c\n",
      "I've always bought the regular Lodge skillets and loved them.  Went with the pre-seasoned this time \n"
     ]
    }
   ],
   "source": [
    "print(reviews_str[:100])\n",
    "print(reviews_pos_str[:100])\n",
    "print(reviews_neg_str[:100])"
   ]
  },
  {
   "cell_type": "markdown",
   "metadata": {},
   "source": [
    "Summarizing before doing anything else with the review strings"
   ]
  },
  {
   "cell_type": "code",
   "execution_count": 16,
   "metadata": {},
   "outputs": [],
   "source": [
    "from gensim.summarization import summarize"
   ]
  },
  {
   "cell_type": "code",
   "execution_count": 17,
   "metadata": {},
   "outputs": [],
   "source": [
    "reviews_str = summarize(reviews_str, ratio=.5)"
   ]
  },
  {
   "cell_type": "code",
   "execution_count": 18,
   "metadata": {},
   "outputs": [
    {
     "name": "stdout",
     "output_type": "stream",
     "text": [
      "408954\n",
      "Just say no to chemical treatments on non stick pans, get yourself and your friends a few sizes of c\n"
     ]
    }
   ],
   "source": [
    "print(len(reviews_str))\n",
    "print(reviews_str[:100])"
   ]
  },
  {
   "cell_type": "code",
   "execution_count": 19,
   "metadata": {},
   "outputs": [],
   "source": [
    "reviews_pos_str = summarize(reviews_pos_str)\n",
    "reviews_neg_str = summarize(reviews_neg_str)"
   ]
  },
  {
   "cell_type": "code",
   "execution_count": 20,
   "metadata": {},
   "outputs": [
    {
     "name": "stdout",
     "output_type": "stream",
     "text": [
      "197953\n",
      "Just say no to chemical treatments on non stick pans, get yourself and your friends a few sizes of c\n",
      "8073\n",
      "Been using good old American-made Lodge skillets for years, plus we regularly use a big cast iron wo\n"
     ]
    }
   ],
   "source": [
    "print(len(reviews_pos_str))\n",
    "print(reviews_pos_str[:100])\n",
    "print(len(reviews_neg_str))\n",
    "print(reviews_neg_str[:100])"
   ]
  },
  {
   "cell_type": "markdown",
   "metadata": {},
   "source": [
    "Separating out sentences into a list\n",
    "PunktSentenceTokenizer is customized to separate sentences on a few extra words and characters as wel"
   ]
  },
  {
   "cell_type": "code",
   "execution_count": 21,
   "metadata": {},
   "outputs": [],
   "source": [
    "from nltk.tokenize.punkt import PunktSentenceTokenizer, PunktLanguageVars\n",
    "'''We customize the ReviewLangVars class to separate sentences based on some additional keywords'''\n",
    "\n",
    "\n",
    "class ReviewLangVars(PunktLanguageVars):\n",
    "    sent_end_chars = ('pros:', 'cons:', '[','][','.','?','!')\n",
    "    \n",
    "sent_tokenizer1 = PunktSentenceTokenizer(lang_vars = ReviewLangVars())\n",
    "# sent_tokenizer1 = PunktSentenceTokenizer()\n",
    "sent_fullreview = sent_tokenizer1.tokenize(reviews_str)\n",
    "sent_neg_review = sent_tokenizer1.tokenize(reviews_neg_str)\n",
    "sent_pos_review = sent_tokenizer1.tokenize(reviews_pos_str)"
   ]
  },
  {
   "cell_type": "code",
   "execution_count": 22,
   "metadata": {},
   "outputs": [
    {
     "name": "stdout",
     "output_type": "stream",
     "text": [
      "Just say no to chemical treatments on non stick pans, get yourself and your friends a few sizes of cast iron and have pans that you can pass down to your children, without all those unknown chemicals that are such a part of pans for the last few decades.This is an absolutely amazing skillet!!\n",
      "['Just say no to chemical treatments on non stick pans, get yourself and your friends a few sizes of cast iron and have pans that you can pass down to your children, without all those unknown chemicals that are such a part of pans for the last few decades.This is an absolutely amazing skillet!!', \"I re-season it a bit as well to keep it going strong!I've always bought the regular Lodge skillets and loved them.\", 'Went with the pre-seasoned this time because I wanted this size.Wow, what a pain.', \"I picked the best I could find from a stack on a big-box store shelf, so I know I didn't get a lemon (unless the whole batch was badly pre-seasoned!).\", \"(Then I seasoned by coating with oil and heating in the oven for 20 minutes.I'm still wary of that residue.\"]\n",
      "2883\n"
     ]
    }
   ],
   "source": [
    "# This are the original sentences tokenized\n",
    "print(sent_fullreview[0])\n",
    "print(sent_fullreview[:5])\n",
    "print(len(sent_fullreview))"
   ]
  },
  {
   "cell_type": "code",
   "execution_count": 23,
   "metadata": {},
   "outputs": [
    {
     "name": "stdout",
     "output_type": "stream",
     "text": [
      "Been using good old American-made Lodge skillets for years, plus we regularly use a big cast iron wok imported from China.So, I'm giving only two stars because the pre-seasoning is a messy hassle.Now I've got to cook dinner.I bought this specifically for cooking eggs.\n",
      "[\"Been using good old American-made Lodge skillets for years, plus we regularly use a big cast iron wok imported from China.So, I'm giving only two stars because the pre-seasoning is a messy hassle.Now I've got to cook dinner.I bought this specifically for cooking eggs.\", 'On the first use before heating, I noticed the pan bottom was warped upward in the center allowing oil and food to run to the edge.', 'Why would Amazon think I would want a cracked skillet?used once, wiped it out to use again.', 'The cooking surface has a \"rough\" texture which causes food to stick unnecessarily, whereas it should have been ground smooth before leaving the factory.', 'The \"loop\" handle was a good idea, otherwise most folks would likely strain their wrists trying to lift this pan off the stove with one hand.']\n",
      "46\n"
     ]
    }
   ],
   "source": [
    "# This are the negative sentences tokenized\n",
    "print(sent_neg_review[0])\n",
    "print(sent_neg_review[:5])\n",
    "print(len(sent_neg_review))"
   ]
  },
  {
   "cell_type": "code",
   "execution_count": 24,
   "metadata": {},
   "outputs": [
    {
     "name": "stdout",
     "output_type": "stream",
     "text": [
      "Just say no to chemical treatments on non stick pans, get yourself and your friends a few sizes of cast iron and have pans that you can pass down to your children, without all those unknown chemicals that are such a part of pans for the last few decades.This is an absolutely amazing skillet!!\n",
      "['Just say no to chemical treatments on non stick pans, get yourself and your friends a few sizes of cast iron and have pans that you can pass down to your children, without all those unknown chemicals that are such a part of pans for the last few decades.This is an absolutely amazing skillet!!', 'And another review complaining that the handle gets', 'hot!', \"!If you are familiar with cast-iron, and are willing to give it the minimal care it requires, you'll love this.\", 'With proper seasoning (not the garbage spray lodge puts on) a nice piece of cast iron will be virtuly non-stick.']\n",
      "1128\n"
     ]
    }
   ],
   "source": [
    "# This are the positive sentences tokenized\n",
    "print(sent_pos_review[0])\n",
    "print(sent_pos_review[:5])\n",
    "print(len(sent_pos_review))"
   ]
  },
  {
   "cell_type": "markdown",
   "metadata": {},
   "source": [
    "Extracting common Items using apriori\n",
    "https://github.com/asaini/Apriori"
   ]
  },
  {
   "cell_type": "code",
   "execution_count": 25,
   "metadata": {},
   "outputs": [],
   "source": [
    "import sys\n",
    "\n",
    "from itertools import chain, combinations\n",
    "from collections import defaultdict\n",
    "from optparse import OptionParser\n",
    "\n",
    "\n",
    "def subsets(arr):\n",
    "    \"\"\" Returns non empty subsets of arr\"\"\"\n",
    "    return chain(*[combinations(arr, i + 1) for i, a in enumerate(arr)])\n",
    "\n",
    "\n",
    "def returnItemsWithMinSupport(itemSet, transactionList, minSupport, freqSet):\n",
    "        \"\"\"calculates the support for items in the itemSet and returns a subset\n",
    "       of the itemSet each of whose elements satisfies the minimum support\"\"\"\n",
    "        _itemSet = set()\n",
    "        localSet = defaultdict(int)\n",
    "\n",
    "        for item in itemSet:\n",
    "                for transaction in transactionList:\n",
    "                        if item.issubset(transaction):\n",
    "                                freqSet[item] += 1\n",
    "                                localSet[item] += 1\n",
    "\n",
    "        for item, count in localSet.items():\n",
    "                support = float(count)/len(transactionList)\n",
    "\n",
    "                if support >= minSupport:\n",
    "                        _itemSet.add(item)\n",
    "\n",
    "        return _itemSet\n",
    "\n",
    "\n",
    "def joinSet(itemSet, length):\n",
    "        \"\"\"Join a set with itself and returns the n-element itemsets\"\"\"\n",
    "        return set([i.union(j) for i in itemSet for j in itemSet if len(i.union(j)) == length])\n",
    "\n",
    "\n",
    "def getItemSetTransactionList(data_iterator):\n",
    "    transactionList = list()\n",
    "    itemSet = set()\n",
    "    for record in data_iterator:\n",
    "        transaction = frozenset(record)\n",
    "        transactionList.append(transaction)\n",
    "        for item in transaction:\n",
    "            itemSet.add(frozenset([item]))              # Generate 1-itemSets\n",
    "    return itemSet, transactionList\n",
    "\n",
    "\n",
    "def runApriori(data_iter, minSupport, minConfidence):\n",
    "    \"\"\"\n",
    "    run the apriori algorithm. data_iter is a record iterator\n",
    "    Return both:\n",
    "     - items (tuple, support)\n",
    "     - rules ((pretuple, posttuple), confidence)\n",
    "    \"\"\"\n",
    "    itemSet, transactionList = getItemSetTransactionList(data_iter)\n",
    "\n",
    "    freqSet = defaultdict(int)\n",
    "    largeSet = dict()\n",
    "    # Global dictionary which stores (key=n-itemSets,value=support)\n",
    "    # which satisfy minSupport\n",
    "\n",
    "    assocRules = dict()\n",
    "    # Dictionary which stores Association Rules\n",
    "\n",
    "    oneCSet = returnItemsWithMinSupport(itemSet,\n",
    "                                        transactionList,\n",
    "                                        minSupport,\n",
    "                                        freqSet)\n",
    "\n",
    "    currentLSet = oneCSet\n",
    "    k = 2\n",
    "    while(currentLSet != set([])):\n",
    "        largeSet[k-1] = currentLSet\n",
    "        currentLSet = joinSet(currentLSet, k)\n",
    "        currentCSet = returnItemsWithMinSupport(currentLSet,\n",
    "                                                transactionList,\n",
    "                                                minSupport,\n",
    "                                                freqSet)\n",
    "        currentLSet = currentCSet\n",
    "        k = k + 1\n",
    "\n",
    "    def getSupport(item):\n",
    "            \"\"\"local function which Returns the support of an item\"\"\"\n",
    "            return float(freqSet[item])/len(transactionList)\n",
    "\n",
    "    toRetItems = []\n",
    "    for key, value in tqdm(list(largeSet.items())):\n",
    "        toRetItems.extend([(tuple(item), getSupport(item))\n",
    "                           for item in value])\n",
    "\n",
    "    toRetRules = []\n",
    "    for key, value in tqdm(list(largeSet.items())[1:]):\n",
    "        for item in value:\n",
    "            _subsets = map(frozenset, [x for x in subsets(item)])\n",
    "            for element in _subsets:\n",
    "                remain = item.difference(element)\n",
    "                if len(remain) > 0:\n",
    "                    confidence = getSupport(item)/getSupport(element)\n",
    "                    if confidence >= minConfidence:\n",
    "                        toRetRules.append(((tuple(element), tuple(remain)),\n",
    "                                           confidence))\n",
    "    return toRetItems, toRetRules\n",
    "\n",
    "\n",
    "def printResults(items):\n",
    "    \"\"\"prints the generated itemsets sorted by support and the confidence rules sorted by confidence\"\"\"\n",
    "    for item, support in sorted(items, key=lambda item_support: item_support[1], reverse=True):\n",
    "        print(str(item), support)"
   ]
  },
  {
   "cell_type": "code",
   "execution_count": 26,
   "metadata": {},
   "outputs": [],
   "source": [
    "# Utility functions\n",
    "from nltk.corpus import stopwords\n",
    "stopwords = stopwords.words('english')\n",
    "\n",
    "lem = nltk.WordNetLemmatizer()\n",
    "stemmer = nltk.stem.porter.PorterStemmer()\n",
    "lem_word_mapping = {}\n",
    "\n",
    "# Find leaves of a tree\n",
    "def leaves(tree):\n",
    "    \"\"\"Finds leaf nodes of a chunk tree.\"\"\"\n",
    "    for subtree in tree.subtrees(filter = lambda t: t.label() in ['P1','P2','P3','P4','P5','P6','P7','P8']):\n",
    "        yield subtree.leaves()\n",
    "    \n",
    "def stem(word):\n",
    "    \"\"\"Normalises words to lowercase and stems and lemmatizes it.\"\"\"\n",
    "    word = word.lower()\n",
    "    word = word.replace(\"'\",\"\").replace('\"','').replace('.','')\n",
    "    word1 = stemmer.stem(word)\n",
    "    return word1\n",
    "\n",
    "# lowercase, stem and lemmatize\n",
    "def normalise(word):\n",
    "    \"\"\"Normalises words to lowercase and stems and lemmatizes it.\"\"\"\n",
    "    word = word.lower()\n",
    "    word1 = stemmer.stem(word)\n",
    "    word2 = lem.lemmatize(word1)\n",
    "    if word != word2:\n",
    "        lem_word_mapping[word2] = word\n",
    "    return word2\n",
    "\n",
    "def acceptableWord(word):\n",
    "    \"\"\"Checks conditions for acceptable word: length, stopword.\"\"\"\n",
    "    accepted = bool((2 <= len(word) <= 40) and word.lower() not in stopwords)\n",
    "    return accepted\n",
    "\n",
    "# extract words after normalizing and checking if acceptable\n",
    "def getTerms(tree):\n",
    "    \"\"\"Returns the words after checking acceptable conditions, normalizing and lemmatizing\"\"\"\n",
    "    term = [ stem(w) for w in tree if acceptableWord(w) ]\n",
    "    return term\n",
    "    \n",
    "def getNorm(tree):\n",
    "    \"\"\"Parse leaves in chunk and return after checking acceptable conditions, normalizing and lemmatizing\"\"\"\n",
    "    for leaf in leaves(tree):\n",
    "        term = [ normalise(w) for w,t in leaf if acceptableWord(w) ]\n",
    "        yield term"
   ]
  },
  {
   "cell_type": "markdown",
   "metadata": {},
   "source": [
    "Set of nouns for each sentence"
   ]
  },
  {
   "cell_type": "code",
   "execution_count": 27,
   "metadata": {},
   "outputs": [
    {
     "name": "stderr",
     "output_type": "stream",
     "text": [
      "100%|██████████| 2883/2883 [00:04<00:00, 657.84it/s]\n"
     ]
    }
   ],
   "source": [
    "# Set of nouns for the apriori algorithm\n",
    "\n",
    "def isNoun(n):\n",
    "    if n=='NN' or n=='NNS' or n=='NNP' or n=='NNPS':\n",
    "        return True\n",
    "\n",
    "revset=[]\n",
    "for line in tqdm(sent_fullreview):\n",
    "    # print(line)\n",
    "    a = nltk.word_tokenize(line)\n",
    "    # print(a)\n",
    "    nouns = [word for (word, pos) in nltk.pos_tag(a) if isNoun(pos)] \n",
    "    # print(nouns)\n",
    "    terms = getTerms(nouns)\n",
    "    # print(terms)\n",
    "\n",
    "    revset.append(terms)\n",
    "\n"
   ]
  },
  {
   "cell_type": "code",
   "execution_count": 28,
   "metadata": {},
   "outputs": [
    {
     "name": "stdout",
     "output_type": "stream",
     "text": [
      "['treatment', 'stick', 'pan', 'friend', 'size', 'cast', 'iron', 'pan', 'children', 'chemic', 'part', 'pan', 'decadesthi', 'skillet']\n",
      "[['treatment', 'stick', 'pan', 'friend', 'size', 'cast', 'iron', 'pan', 'children', 'chemic', 'part', 'pan', 'decadesthi', 'skillet'], ['bit', 'lodg', 'skillet'], ['went', 'time', 'sizewow', 'pain'], ['stack', 'store', 'shelf', 'lemon', 'batch'], ['oil', 'heat', 'oven', 'minutesi', 'residu'], ['rust', 'coat', 'skillet', 'garag'], ['lodg', 'skillet', 'year', 'cast', 'iron', 'wok', 'chinaso', 'star', 'pre-season', 'hasslenow', 'dinnerso', 'skillet'], ['review', 'pan', 'water'], ['review'], []]\n"
     ]
    }
   ],
   "source": [
    "print(revset[0])\n",
    "print(revset[:10])"
   ]
  },
  {
   "cell_type": "code",
   "execution_count": 29,
   "metadata": {},
   "outputs": [
    {
     "data": {
      "text/plain": [
       "2883"
      ]
     },
     "execution_count": 29,
     "metadata": {},
     "output_type": "execute_result"
    }
   ],
   "source": [
    "len(revset)"
   ]
  },
  {
   "cell_type": "markdown",
   "metadata": {},
   "source": [
    "Extracting the items contained in the reviews"
   ]
  },
  {
   "cell_type": "code",
   "execution_count": 30,
   "metadata": {},
   "outputs": [
    {
     "name": "stderr",
     "output_type": "stream",
     "text": [
      "100%|██████████| 2/2 [00:00<00:00, 5698.78it/s]\n",
      "100%|██████████| 1/1 [00:00<00:00, 4629.47it/s]"
     ]
    },
    {
     "name": "stdout",
     "output_type": "stream",
     "text": [
      "('pan',) 0.3600416233090531\n",
      "('iron',) 0.3399236906000694\n",
      "('skillet',) 0.3035032951786334\n",
      "('cast',) 0.2601456815816857\n",
      "('iron', 'cast') 0.25563648976760317\n",
      "('iron', 'skillet') 0.12417620534165799\n",
      "('lodg',) 0.12209503988900451\n",
      "('iron', 'pan') 0.10995490808185918\n"
     ]
    },
    {
     "name": "stderr",
     "output_type": "stream",
     "text": [
      "\n"
     ]
    }
   ],
   "source": [
    "items, rules = runApriori(revset, 0.1, 0.1)\n",
    "printResults(items)"
   ]
  },
  {
   "cell_type": "markdown",
   "metadata": {},
   "source": [
    "Polarity of the sentences, conventional Liu and Hu Opinion Lexicon\n",
    "TBD: We may want to substitute with a more advanced sentiment detection algorithm"
   ]
  },
  {
   "cell_type": "code",
   "execution_count": 31,
   "metadata": {},
   "outputs": [],
   "source": [
    "def custom_liu_hu_lexicon(sentence):\n",
    "    '''Takes in a sentence and returns the sentiment of the sentence by counting the no of positive and negitive \n",
    "    and negitive words and by reversing the sentiment if the words NO or NOT are present\n",
    "    '''\n",
    "    from nltk.corpus import opinion_lexicon\n",
    "    from nltk.tokenize import treebank\n",
    "\n",
    "    tokenizer = treebank.TreebankWordTokenizer()\n",
    "    pos_words = 0\n",
    "    neg_words = 0\n",
    "    tokenized_sent = [word.lower() for word in tokenizer.tokenize(sentence)]\n",
    "\n",
    "    x = list(range(len(tokenized_sent))) \n",
    "    y = []\n",
    "    isNegation = False\n",
    "    negationWords = ['no','not','never','none','hardly','rarely','scarcely','']\n",
    "\n",
    "    for word in tokenized_sent:\n",
    "        if word in opinion_lexicon.positive():\n",
    "            pos_words += 1\n",
    "            y.append(1) # positive\n",
    "        elif word in opinion_lexicon.negative():\n",
    "            neg_words += 1\n",
    "            y.append(-1) # negative\n",
    "        else:\n",
    "            y.append(0) # neutral\n",
    "            \n",
    "        if word in negationWords:\n",
    "            isNegation = True\n",
    "\n",
    "    if pos_words > neg_words and isNegation==True:\n",
    "        return 'neg'\n",
    "    elif pos_words > neg_words:\n",
    "        return 'pos'\n",
    "    elif pos_words < neg_words and isNegation==True:\n",
    "        return 'pos'\n",
    "    elif pos_words < neg_words:\n",
    "        return 'neg'\n",
    "    elif pos_words == neg_words:\n",
    "        return 'neutral'"
   ]
  },
  {
   "cell_type": "code",
   "execution_count": 32,
   "metadata": {},
   "outputs": [
    {
     "name": "stdout",
     "output_type": "stream",
     "text": [
      "[nltk_data] Downloading package opinion_lexicon to\n",
      "[nltk_data]     /Users/gkhanna/nltk_data...\n",
      "[nltk_data]   Package opinion_lexicon is already up-to-date!\n"
     ]
    },
    {
     "data": {
      "text/plain": [
       "True"
      ]
     },
     "execution_count": 32,
     "metadata": {},
     "output_type": "execute_result"
    }
   ],
   "source": [
    "nltk.download('opinion_lexicon')"
   ]
  },
  {
   "cell_type": "code",
   "execution_count": 33,
   "metadata": {},
   "outputs": [
    {
     "name": "stderr",
     "output_type": "stream",
     "text": [
      "100%|██████████| 1128/1128 [11:54<00:00,  1.44it/s]\n",
      "100%|██████████| 46/46 [00:29<00:00,  1.60it/s]"
     ]
    },
    {
     "name": "stdout",
     "output_type": "stream",
     "text": [
      "done\n"
     ]
    },
    {
     "name": "stderr",
     "output_type": "stream",
     "text": [
      "\n"
     ]
    }
   ],
   "source": [
    "# Extracting sentiments from the positive reviews\n",
    "neutral_review=[]\n",
    "positive_review=[]\n",
    "negative_review=[]\n",
    "\n",
    "for sentence in tqdm(sent_pos_review):\n",
    "    for i in items:\n",
    "        if i[0][0] in sentence:\n",
    "            #print(i[0][0] +\"--\" + sentence)\n",
    "            x=custom_liu_hu_lexicon(sentence)\n",
    "            if(x==\"pos\"):\n",
    "                positive_review.append(sentence)\n",
    "            elif(x==\"neg\"):\n",
    "                negative_review.append(sentence)\n",
    "            else:\n",
    "                neutral_review.append(sentence)\n",
    "            break\n",
    "\n",
    "# Extracting sentiments from the negative reviews\n",
    "for sentence in tqdm(sent_neg_review):\n",
    "    for i in items:\n",
    "        if i[0][0] in sentence:\n",
    "            #print(i[0][0] +\"--\" + sentence)\n",
    "            x=custom_liu_hu_lexicon(sentence)\n",
    "            if(x==\"pos\"):\n",
    "                positive_review.append(sentence)\n",
    "            elif(x==\"neg\"):\n",
    "                negative_review.append(sentence)\n",
    "            else:\n",
    "                neutral_review.append(sentence)\n",
    "            break\n",
    "            \n",
    "print('done')"
   ]
  },
  {
   "cell_type": "code",
   "execution_count": 34,
   "metadata": {},
   "outputs": [
    {
     "name": "stdout",
     "output_type": "stream",
     "text": [
      "[\"!If you are familiar with cast-iron, and are willing to give it the minimal care it requires, you'll love this.\", 'Lodge simply does not spend the time to finish their pans like they used to and the pans suffer now.I got this for the hype of searing steaks and etc on cast iron.', \"In fact, after cooking my first fillet Mignon in this skillet I realized it's actually better suited to this cut of meat than an outdoor grill - it leaves a perfectly seared, caramelized exterior and a nice red interior (just like I like it).\", 'and it was a perfect size for me.I use this skillet all the time cooking steaks and when i fry anything.', \"I would also recommend the griddle...it's great.If you are going between the 10 and 12 inch pan...get the 12 there's more room for a full steak.I like all my cast iron.\"]\n"
     ]
    }
   ],
   "source": [
    "print(positive_review[:5])"
   ]
  },
  {
   "cell_type": "code",
   "execution_count": 35,
   "metadata": {},
   "outputs": [
    {
     "name": "stdout",
     "output_type": "stream",
     "text": [
      "['With proper seasoning (not the garbage spray lodge puts on) a nice piece of cast iron will be virtuly non-stick.', \"I never cooked with cast iron so I can't explain why, but I prefer using this lodge logic to my other nice cookware.My wife has made sure that I keep and clean it correctly when I use it, so it's in perfect shape and cooks beautifully.I had an ancient 8 inch cast iron skillet that has been in my family forever and it's getting very pitted and food is sticking more and more.\", \"I'd never cooked with one and found the idea of using something not coated in teflon pretty intimidating.Then, I got this Lodge cast iron skillet.\", \"I'm used to being able to grabbing the handle of anything that's on the stove and with this one that's not the case, which I fortunately figured out before it got too hot.I purchased three of these pans a couple of years ago.\", 'This pan has virtually no hot spots, seasons well, as a result cleans like a dream.']\n"
     ]
    }
   ],
   "source": [
    "print(negative_review[:5])"
   ]
  },
  {
   "cell_type": "code",
   "execution_count": 36,
   "metadata": {},
   "outputs": [
    {
     "name": "stdout",
     "output_type": "stream",
     "text": [
      "['Just say no to chemical treatments on non stick pans, get yourself and your friends a few sizes of cast iron and have pans that you can pass down to your children, without all those unknown chemicals that are such a part of pans for the last few decades.This is an absolutely amazing skillet!!', 'From deep frying (nice heavy pan holds heat well), pan searing then putting the whole pan into the oven to roast and finish, to even baking!Do not use this for braising or say...\\nLodge has been making cast-iron for a long time and they make great products.This is my first experience cooking with cast iron.', 'Once the skillet is dry, I pour in just a bit of oil and spread it around before storing the pan until the next use.With good care and a bit of effort, cast iron is a kitchen essential.', 'They are heavy to handle but if you are buying a cast iron skillet, you know that anyway.', 'If you carefully examine most cast iron cookware, you will see some imperfections.The first three times I used my skillet, I re-seasoned it at 450 degrees.']\n"
     ]
    }
   ],
   "source": [
    "print(neutral_review[:5])"
   ]
  },
  {
   "cell_type": "code",
   "execution_count": 37,
   "metadata": {},
   "outputs": [
    {
     "name": "stdout",
     "output_type": "stream",
     "text": [
      "Lodge simply does not spend the time to finish their pans like they used to and the pans suffer now.I got this for the hype of searing steaks and etc on cast iron.\n"
     ]
    }
   ],
   "source": [
    "print(positive_review[1])"
   ]
  },
  {
   "cell_type": "code",
   "execution_count": 38,
   "metadata": {},
   "outputs": [
    {
     "name": "stderr",
     "output_type": "stream",
     "text": [
      "100%|██████████| 2883/2883 [00:00<00:00, 6098.98it/s]\n"
     ]
    }
   ],
   "source": [
    "# Convert all sentences into tokens/words\n",
    "all_sen_tok = []\n",
    "for sentence in tqdm(sent_fullreview):\n",
    "    all_sen_tok.append(nltk.word_tokenize(sentence))"
   ]
  },
  {
   "cell_type": "code",
   "execution_count": 39,
   "metadata": {},
   "outputs": [
    {
     "name": "stderr",
     "output_type": "stream",
     "text": [
      "100%|██████████| 536/536 [00:00<00:00, 4724.92it/s]\n",
      "100%|██████████| 260/260 [00:00<00:00, 4597.21it/s]\n",
      "100%|██████████| 235/235 [00:00<00:00, 5076.70it/s]\n"
     ]
    }
   ],
   "source": [
    "# Convert positive, negative and neutral sentences into tokens/words\n",
    "pos_sen_tok = []\n",
    "neg_sen_tok = []\n",
    "neutral_sen_tok = []\n",
    "for sentence in tqdm(positive_review):\n",
    "    pos_sen_tok.append(nltk.word_tokenize(sentence))\n",
    "for sentence in tqdm(negative_review):\n",
    "    neg_sen_tok.append(nltk.word_tokenize(sentence))\n",
    "for sentence in tqdm(neutral_review):\n",
    "    neutral_sen_tok.append(nltk.word_tokenize(sentence))    "
   ]
  },
  {
   "cell_type": "code",
   "execution_count": 40,
   "metadata": {},
   "outputs": [
    {
     "name": "stdout",
     "output_type": "stream",
     "text": [
      "['Just', 'say', 'no', 'to', 'chemical', 'treatments', 'on', 'non', 'stick', 'pans', ',', 'get', 'yourself', 'and', 'your', 'friends', 'a', 'few', 'sizes', 'of', 'cast', 'iron', 'and', 'have', 'pans', 'that', 'you', 'can', 'pass', 'down', 'to', 'your', 'children', ',', 'without', 'all', 'those', 'unknown', 'chemicals', 'that', 'are', 'such', 'a', 'part', 'of', 'pans', 'for', 'the', 'last', 'few', 'decades.This', 'is', 'an', 'absolutely', 'amazing', 'skillet', '!', '!']\n",
      "[['!', 'If', 'you', 'are', 'familiar', 'with', 'cast-iron', ',', 'and', 'are', 'willing', 'to', 'give', 'it', 'the', 'minimal', 'care', 'it', 'requires', ',', 'you', \"'ll\", 'love', 'this', '.'], ['Lodge', 'simply', 'does', 'not', 'spend', 'the', 'time', 'to', 'finish', 'their', 'pans', 'like', 'they', 'used', 'to', 'and', 'the', 'pans', 'suffer', 'now.I', 'got', 'this', 'for', 'the', 'hype', 'of', 'searing', 'steaks', 'and', 'etc', 'on', 'cast', 'iron', '.']]\n",
      "['With', 'proper', 'seasoning', '(', 'not', 'the', 'garbage', 'spray', 'lodge', 'puts', 'on', ')', 'a', 'nice', 'piece', 'of', 'cast', 'iron', 'will', 'be', 'virtuly', 'non-stick', '.']\n"
     ]
    }
   ],
   "source": [
    "print(all_sen_tok[0])\n",
    "print(pos_sen_tok[:2])\n",
    "print(neg_sen_tok[0])"
   ]
  },
  {
   "cell_type": "code",
   "execution_count": 41,
   "metadata": {},
   "outputs": [
    {
     "name": "stdout",
     "output_type": "stream",
     "text": [
      "[nltk_data] Downloading package averaged_perceptron_tagger to\n",
      "[nltk_data]     /Users/gkhanna/nltk_data...\n",
      "[nltk_data]   Package averaged_perceptron_tagger is already up-to-\n",
      "[nltk_data]       date!\n"
     ]
    },
    {
     "data": {
      "text/plain": [
       "True"
      ]
     },
     "execution_count": 41,
     "metadata": {},
     "output_type": "execute_result"
    }
   ],
   "source": [
    "nltk.download('averaged_perceptron_tagger')"
   ]
  },
  {
   "cell_type": "code",
   "execution_count": 42,
   "metadata": {},
   "outputs": [
    {
     "name": "stderr",
     "output_type": "stream",
     "text": [
      "100%|██████████| 2883/2883 [00:03<00:00, 857.24it/s]\n"
     ]
    }
   ],
   "source": [
    "# Gave an error without downloading the nltk averaged_perceptron_tagger\n",
    "# Find POS tags for all the sentences\n",
    "all_sen_tok_tagged = []\n",
    "for sentence_t in tqdm(all_sen_tok):\n",
    "    all_sen_tok_tagged.append(nltk.tag.pos_tag(sentence_t))"
   ]
  },
  {
   "cell_type": "code",
   "execution_count": 43,
   "metadata": {},
   "outputs": [
    {
     "name": "stderr",
     "output_type": "stream",
     "text": [
      "100%|██████████| 536/536 [00:00<00:00, 612.05it/s]\n",
      "100%|██████████| 260/260 [00:00<00:00, 537.76it/s]\n",
      "100%|██████████| 235/235 [00:00<00:00, 691.43it/s]\n"
     ]
    }
   ],
   "source": [
    "# Gave an error without downloading the nltk averaged_perceptron_tagger\n",
    "# Find POS tags for positive, negative and neutral sentences\n",
    "pos_sen_tok_tagged = []\n",
    "neg_sen_tok_tagged = []\n",
    "neutral_sen_tok_tagged = []\n",
    "for sentence_t in tqdm(pos_sen_tok):\n",
    "    pos_sen_tok_tagged.append(nltk.tag.pos_tag(sentence_t))\n",
    "for sentence_t in tqdm(neg_sen_tok):\n",
    "    neg_sen_tok_tagged.append(nltk.tag.pos_tag(sentence_t))\n",
    "for sentence_t in tqdm(neutral_sen_tok):\n",
    "    neutral_sen_tok_tagged.append(nltk.tag.pos_tag(sentence_t))"
   ]
  },
  {
   "cell_type": "code",
   "execution_count": 44,
   "metadata": {},
   "outputs": [
    {
     "name": "stdout",
     "output_type": "stream",
     "text": [
      "[('Just', 'RB'), ('say', 'VB'), ('no', 'UH'), ('to', 'TO'), ('chemical', 'VB'), ('treatments', 'NNS'), ('on', 'IN'), ('non', 'JJ'), ('stick', 'NN'), ('pans', 'NNS'), (',', ','), ('get', 'VB'), ('yourself', 'PRP'), ('and', 'CC'), ('your', 'PRP$'), ('friends', 'NNS'), ('a', 'DT'), ('few', 'JJ'), ('sizes', 'NNS'), ('of', 'IN'), ('cast', 'NN'), ('iron', 'NN'), ('and', 'CC'), ('have', 'VBP'), ('pans', 'NNS'), ('that', 'IN'), ('you', 'PRP'), ('can', 'MD'), ('pass', 'VB'), ('down', 'RP'), ('to', 'TO'), ('your', 'PRP$'), ('children', 'NNS'), (',', ','), ('without', 'IN'), ('all', 'PDT'), ('those', 'DT'), ('unknown', 'JJ'), ('chemicals', 'NNS'), ('that', 'WDT'), ('are', 'VBP'), ('such', 'PDT'), ('a', 'DT'), ('part', 'NN'), ('of', 'IN'), ('pans', 'NNS'), ('for', 'IN'), ('the', 'DT'), ('last', 'JJ'), ('few', 'JJ'), ('decades.This', 'NN'), ('is', 'VBZ'), ('an', 'DT'), ('absolutely', 'RB'), ('amazing', 'JJ'), ('skillet', 'NN'), ('!', '.'), ('!', '.')]\n"
     ]
    }
   ],
   "source": [
    "print(all_sen_tok_tagged[0])"
   ]
  },
  {
   "cell_type": "code",
   "execution_count": 45,
   "metadata": {},
   "outputs": [
    {
     "name": "stdout",
     "output_type": "stream",
     "text": [
      "[('With', 'IN'), ('proper', 'JJ'), ('seasoning', 'VBG'), ('(', '('), ('not', 'RB'), ('the', 'DT'), ('garbage', 'NN'), ('spray', 'NN'), ('lodge', 'NN'), ('puts', 'VBZ'), ('on', 'IN'), (')', ')'), ('a', 'DT'), ('nice', 'JJ'), ('piece', 'NN'), ('of', 'IN'), ('cast', 'NN'), ('iron', 'NN'), ('will', 'MD'), ('be', 'VB'), ('virtuly', 'RB'), ('non-stick', 'JJ'), ('.', '.')]\n"
     ]
    }
   ],
   "source": [
    "print(neg_sen_tok_tagged[0])"
   ]
  },
  {
   "cell_type": "markdown",
   "metadata": {},
   "source": [
    "Extract phrases that talk about features and associated sentiment/opinion"
   ]
  },
  {
   "cell_type": "code",
   "execution_count": 46,
   "metadata": {},
   "outputs": [],
   "source": [
    "# Patterns that we want to extract\n",
    "# We think these are the ones that contain features\n",
    "feature_patterns = r\"\"\"       \n",
    "    P1:{<JJ><NN|NNS>}\n",
    "    P2:{<JJ><NN|NNS><NN|NNS>}\n",
    "    P3:{<RB|RBR|RBS><JJ>}\n",
    "    P4:{<RB|RBR|RBS><JJ|RB|RBR|RBS><NN|NNS>}\n",
    "    P5:{<RB|RBR|RBS><VBN|VBD>}\n",
    "    P6:{<RB|RBR|RBS><RB|RBR|RBS><JJ>}\n",
    "    P7:{<VBN|VBD><NN|NNS>}\n",
    "    P8:{<VBN|VBD><RB|RBR|RBS>}\n",
    "\"\"\""
   ]
  },
  {
   "cell_type": "code",
   "execution_count": 47,
   "metadata": {},
   "outputs": [],
   "source": [
    "# Alternate feature patterm for experiment\n",
    "grammar = \"NP:{<dt|pp|cd>?<jj||jjr|jjs>*<nn|nns|prp|nnp|in|prp\\$>+<vbd|vbz|vbn|vbp|in>*<jj|rb>*<prp|nn|nns>*}\""
   ]
  },
  {
   "cell_type": "code",
   "execution_count": 48,
   "metadata": {},
   "outputs": [],
   "source": [
    "grammar1 = \"P1:{(<JJ>* <NN.*>+ <IN>)? <JJ>* <NN.*>+}\""
   ]
  },
  {
   "cell_type": "code",
   "execution_count": 49,
   "metadata": {},
   "outputs": [
    {
     "data": {
      "text/plain": [
       "2883"
      ]
     },
     "execution_count": 49,
     "metadata": {},
     "output_type": "execute_result"
    }
   ],
   "source": [
    "len(revset)"
   ]
  },
  {
   "cell_type": "markdown",
   "metadata": {},
   "source": [
    "Utility functions"
   ]
  },
  {
   "cell_type": "code",
   "execution_count": 50,
   "metadata": {},
   "outputs": [],
   "source": [
    "def getTerms1(tree):\n",
    "    \"\"\"Returns the words after checking acceptable conditions, normalizing and lemmatizing\"\"\"\n",
    "    term = [ normalise(w) for w in tree if acceptable_word(w) ]\n",
    "    yield term"
   ]
  },
  {
   "cell_type": "code",
   "execution_count": 51,
   "metadata": {},
   "outputs": [],
   "source": [
    "# Extract feature phrases with ngram rules\n",
    "def extractFeaturePhrases(tagged, feature_patterns):\n",
    "    out = []\n",
    "    for phrase in tqdm(tagged):\n",
    "        r_parser = nltk.RegexpParser(feature_patterns)\n",
    "        # r_parser = nltk.RegexpParser(grammar)\n",
    "        chunk_2 = r_parser.parse(phrase)\n",
    "        term = getNorm(chunk_2)\n",
    "        \n",
    "        for ter in term:\n",
    "            word_concat = \"\"\n",
    "            for word in ter:\n",
    "                word_concat = word_concat + \" \" + word\n",
    "                \n",
    "            if (len(ter) > 1):\n",
    "                out.append(word_concat)\n",
    "        \n",
    "    return out\n",
    " "
   ]
  },
  {
   "cell_type": "code",
   "execution_count": 52,
   "metadata": {},
   "outputs": [
    {
     "name": "stderr",
     "output_type": "stream",
     "text": [
      "100%|██████████| 2883/2883 [00:04<00:00, 642.32it/s]\n",
      "100%|██████████| 536/536 [00:00<00:00, 1202.36it/s]\n",
      "100%|██████████| 260/260 [00:00<00:00, 1159.96it/s]\n"
     ]
    }
   ],
   "source": [
    "extracted = extractFeaturePhrases(all_sen_tok_tagged, feature_patterns)\n",
    "\n",
    "extracted_pos = extractFeaturePhrases(pos_sen_tok_tagged, feature_patterns)\n",
    "extracted_neg = extractFeaturePhrases(neg_sen_tok_tagged, feature_patterns)    "
   ]
  },
  {
   "cell_type": "code",
   "execution_count": 53,
   "metadata": {},
   "outputs": [
    {
     "name": "stdout",
     "output_type": "stream",
     "text": [
      "[' non stick', ' unknown chemic', ' amaz skillet', ' alway bought', ' big-box store', ' whole batch', ' badli pre-season', ' still wari', ' much rust', ' badli store', ' big cast', ' messi hassle.now', ' 3-star review', ' minim care', ' finish product', ' nice piec', ' true cast', ' super smooth', ' nice piec', ' virtuli non-stick']\n"
     ]
    }
   ],
   "source": [
    "print(extracted[:20])"
   ]
  },
  {
   "cell_type": "code",
   "execution_count": 54,
   "metadata": {},
   "outputs": [
    {
     "name": "stdout",
     "output_type": "stream",
     "text": [
      "[' nice piec', ' virtuli non-stick', ' never cook', ' nice cookware.mi', ' perfect shape', ' inch cast', ' never cook', ' iron skillet', ' fortun figur', ' hot spot']\n"
     ]
    }
   ],
   "source": [
    "print(extracted_neg[:10])"
   ]
  },
  {
   "cell_type": "markdown",
   "metadata": {},
   "source": [
    "Find out the most common ones, frequency distribution"
   ]
  },
  {
   "cell_type": "code",
   "execution_count": 55,
   "metadata": {},
   "outputs": [],
   "source": [
    "freqdist = nltk.FreqDist(word for word in extracted)"
   ]
  },
  {
   "cell_type": "code",
   "execution_count": 56,
   "metadata": {},
   "outputs": [
    {
     "data": {
      "text/plain": [
       "nltk.probability.FreqDist"
      ]
     },
     "execution_count": 56,
     "metadata": {},
     "output_type": "execute_result"
    }
   ],
   "source": [
    "type(freqdist)"
   ]
  },
  {
   "cell_type": "code",
   "execution_count": 57,
   "metadata": {},
   "outputs": [
    {
     "name": "stdout",
     "output_type": "stream",
     "text": [
      "[(' cast iron', 115), (' hot water', 62), (' perfect size', 32), (' non-stick pan', 25), (' first time', 25), (' oliv oil', 22), (' veget oil', 22), (' long time', 21), (' first cast', 21), (' fri egg', 21), (' high heat', 20), (' well season', 19), (' non stick', 15), (' littl skillet', 15), (' cast-iron skillet', 15), (' small amount', 14), (' stainless steel', 14), (' littl bit', 13), (' proper care', 13), (' great pan', 13)]\n"
     ]
    }
   ],
   "source": [
    "most_common = freqdist.most_common()\n",
    "print(most_common[:20])"
   ]
  },
  {
   "cell_type": "code",
   "execution_count": 58,
   "metadata": {},
   "outputs": [
    {
     "name": "stdout",
     "output_type": "stream",
     "text": [
      "FreqDist({' cast iron': 115, ' hot water': 62, ' perfect size': 32, ' non-stick pan': 25, ' first time': 25, ' oliv oil': 22, ' veget oil': 22, ' long time': 21, ' first cast': 21, ' fri egg': 21, ' high heat': 20, ' well season': 19, ' non stick': 15, ' littl skillet': 15, ' cast-iron skillet': 15, ' small amount': 14, ' stainless steel': 14, ' littl bit': 13, ' proper care': 13, ' great pan': 13, ...})\n"
     ]
    }
   ],
   "source": [
    "freqdist.pprint(maxlen = 20)"
   ]
  },
  {
   "cell_type": "code",
   "execution_count": 59,
   "metadata": {},
   "outputs": [
    {
     "name": "stdout",
     "output_type": "stream",
     "text": [
      " cast iron\n"
     ]
    }
   ],
   "source": [
    "print(freqdist.max())"
   ]
  },
  {
   "cell_type": "code",
   "execution_count": 60,
   "metadata": {},
   "outputs": [
    {
     "name": "stdout",
     "output_type": "stream",
     "text": [
      "     cast iron      hot water   perfect size  non-stick pan     first time       oliv oil      veget oil \n",
      "           115             62             32             25             25             22             22 \n"
     ]
    }
   ],
   "source": [
    "freq_tab = freqdist.tabulate(7)"
   ]
  },
  {
   "cell_type": "code",
   "execution_count": 61,
   "metadata": {},
   "outputs": [
    {
     "data": {
      "text/plain": [
       "NoneType"
      ]
     },
     "execution_count": 61,
     "metadata": {},
     "output_type": "execute_result"
    }
   ],
   "source": [
    "type(freq_tab)"
   ]
  },
  {
   "cell_type": "code",
   "execution_count": 62,
   "metadata": {},
   "outputs": [
    {
     "data": {
      "text/plain": [
       "<Figure size 1000x700 with 1 Axes>"
      ]
     },
     "metadata": {},
     "output_type": "display_data"
    }
   ],
   "source": [
    "import matplotlib\n",
    "import matplotlib.pyplot as plt\n",
    "\n",
    "plt.figure(figsize=(10, 7))  # We want a bigger size plot\n",
    "freqdist.plot(20, title = \"Most Frequent Feature Phrases\", cumulative = False)"
   ]
  },
  {
   "cell_type": "markdown",
   "metadata": {},
   "source": [
    "Most common positive and negative phrases"
   ]
  },
  {
   "cell_type": "code",
   "execution_count": 63,
   "metadata": {},
   "outputs": [
    {
     "name": "stdout",
     "output_type": "stream",
     "text": [
      "[(' cast iron', 37), (' perfect size', 13), (' non-stick pan', 9), (' first cast', 9), (' first time', 9), (' well season', 7), (' hot water', 7), (' cast-iron skillet', 7), (' oliv oil', 6), (' great skillet', 6)]\n",
      " cast iron\n",
      "     cast iron   perfect size  non-stick pan     first cast     first time    well season      hot water \n",
      "            37             13              9              9              9              7              7 \n"
     ]
    }
   ],
   "source": [
    "# Positive\n",
    "freqdist_pos = nltk.FreqDist(word for word in extracted_pos)\n",
    "most_common_pos = freqdist_pos.most_common()\n",
    "print(most_common_pos[:10])\n",
    "print(freqdist_pos.max())\n",
    "freq_tab_pos = freqdist_pos.tabulate(7)"
   ]
  },
  {
   "cell_type": "code",
   "execution_count": 64,
   "metadata": {},
   "outputs": [
    {
     "name": "stdout",
     "output_type": "stream",
     "text": [
      "[(' cast iron', 18), (' veget oil', 7), (' fri egg', 6), (' proper care', 6), (' high qualiti', 4), (' non stick', 4), (' non-stick pan', 4), (' stainless steel', 4), (' never cook', 3), (' iron skillet', 3)]\n",
      " cast iron\n",
      "     cast iron      veget oil        fri egg    proper care   high qualiti      non stick  non-stick pan \n",
      "            18              7              6              6              4              4              4 \n"
     ]
    }
   ],
   "source": [
    "# Negative\n",
    "freqdist_neg = nltk.FreqDist(word for word in extracted_neg)\n",
    "most_common_neg = freqdist_neg.most_common()\n",
    "print(most_common_neg[:10])\n",
    "print(freqdist_neg.max())\n",
    "freq_tab_neg = freqdist_neg.tabulate(7)"
   ]
  },
  {
   "cell_type": "code",
   "execution_count": 65,
   "metadata": {},
   "outputs": [
    {
     "data": {
      "image/png": "[encoded data removed]",
      "text/plain": [
       "<Figure size 720x504 with 1 Axes>"
      ]
     },
     "metadata": {
      "needs_background": "light"
     },
     "output_type": "display_data"
    }
   ],
   "source": [
    "plt.figure(figsize=(10, 7))  # We want a bigger size plot\n",
    "freqdist_neg.plot(20, title = \"Most Frequent Feature Phrases\", cumulative = False)"
   ]
  },
  {
   "cell_type": "markdown",
   "metadata": {},
   "source": [
    "Unlemmatize and unstem using the dictionary created earlier"
   ]
  },
  {
   "cell_type": "code",
   "execution_count": 66,
   "metadata": {},
   "outputs": [],
   "source": [
    "import inflect"
   ]
  },
  {
   "cell_type": "code",
   "execution_count": 67,
   "metadata": {},
   "outputs": [
    {
     "name": "stdout",
     "output_type": "stream",
     "text": [
      "[' non stick', ' unknown chemic', ' amaz skillet', ' alway bought', ' big-box store', ' whole batch', ' badli pre-season', ' still wari', ' much rust', ' badli store']\n"
     ]
    }
   ],
   "source": [
    "print(extracted[:10])"
   ]
  },
  {
   "cell_type": "code",
   "execution_count": 68,
   "metadata": {},
   "outputs": [
    {
     "name": "stderr",
     "output_type": "stream",
     "text": [
      "100%|██████████| 2718/2718 [00:00<00:00, 6271.24it/s]\n",
      "100%|██████████| 850/850 [00:00<00:00, 6376.92it/s]\n",
      "100%|██████████| 449/449 [00:00<00:00, 6609.72it/s]\n"
     ]
    }
   ],
   "source": [
    "p = inflect.engine()\n",
    "def replacewords(mc):\n",
    "    newmc=[]\n",
    "    for a in tqdm(mc):\n",
    "        newword=\"\";found=False;\n",
    "        for b in a[0].split():            \n",
    "            for x in lem_word_mapping:\n",
    "                #print(x)\n",
    "                #print(b)\n",
    "                if b==x:\n",
    "                    found=True\n",
    "                    sing=(lem_word_mapping[x] if p.singular_noun(lem_word_mapping[x])==False else p.singular_noun(lem_word_mapping[x]))\n",
    "                    if newword==\"\":\n",
    "                        newword = newword + sing\n",
    "                    else:\n",
    "                        newword = newword + \" \" +  sing\n",
    "            if found==False:\n",
    "                if newword==\"\":\n",
    "                    newword = newword + b\n",
    "                else:\n",
    "                    newword = newword + \" \" +  b\n",
    "                    #print(newword)\n",
    "        newmc.append((newword,a[1]))\n",
    "    return newmc\n",
    "\n",
    "final = replacewords(most_common)\n",
    "final_pos = replacewords(most_common_pos)\n",
    "final_neg = replacewords(most_common_neg)"
   ]
  },
  {
   "cell_type": "code",
   "execution_count": 69,
   "metadata": {},
   "outputs": [
    {
     "name": "stdout",
     "output_type": "stream",
     "text": [
      "Top Feature Phrases:\n",
      "('casting', 115)\n",
      "[('casting', 115), ('hot water', 62), ('perfect size', 32), ('non-stick pan', 25), ('first time', 25), ('olive oiled', 22), ('vegetable oiled', 22), ('long time', 21), ('first casting', 21), ('fried egg', 21), ('high heated', 20), ('well seasoning', 19), ('non sticking', 15), ('little skillet', 15), ('cast-iron skillet', 15), ('small amount', 14), ('stainless steel', 14), ('little bit', 13), ('proper careful', 13), ('great pan', 13), ('first used', 12), ('iron skillet', 12), ('grilled cheese', 12), ('high quality', 12), ('stiff brush', 12), ('light coated', 12), ('never used', 11), ('great skillet', 11), ('nonstick pan', 11), ('still hot', 10), ('right size', 10), ('properly seasoning', 10), ('inch skillet', 10), ('warmed', 10), ('thin coated', 9), ('next time', 9), ('many year', 9), ('great product', 9), ('non-stick skillet', 9), ('several time', 9), ('great quality', 9), ('little oiled', 9), ('hot pan', 9), ('good casting', 8), ('extra handle', 8), ('little pan', 8), ('small skillet', 8), ('differently size', 8), ('entire pan', 8), ('good size', 8)]\n",
      "Top Positive Feature Phrases:\n",
      "('casting', 37)\n",
      "[('casting', 37), ('perfect size', 13), ('non-stick pan', 9), ('first casting', 9), ('first time', 9), ('well seasoning', 7), ('hot water', 7), ('cast-iron skillet', 7), ('olive oiled', 6), ('great skillet', 6), ('fried egg', 6), ('good casting', 5), ('great casting', 5), ('proper careful', 5), ('stainless steel', 5), ('great size', 4), ('great product', 4), ('non-stick skillet', 4), ('many year', 4), ('grilled cheese', 4), ('non sticking', 4), ('iron skillet', 4), ('great quality', 4), ('long time', 4), ('pretty', 4), ('little skillet', 4), ('reason priced', 4), ('right size', 4), ('great pan', 4), ('properly seasoning', 4), ('good quality', 4), ('pre-seasoned casting', 3), ('well made', 3), ('inch skillet', 3), ('high quality', 3), ('heavy skillet', 3), ('heavy duty', 3), ('alway wanted', 3), ('hot oven', 3), ('second casting', 3), ('lasted forever', 3), ('light coated', 3), ('great value', 3), ('old pan', 3), ('differently size', 3), ('great addition', 3), ('properly careful', 2), ('little bit', 2), ('great deal', 2), ('thin coated', 2)]\n",
      "Top Negative Feature Phrases:\n",
      "('casting', 18)\n",
      "[('casting', 18), ('vegetable oiled', 7), ('fried egg', 6), ('proper careful', 6), ('high quality', 4), ('non sticking', 4), ('non-stick pan', 4), ('stainless steel', 4), ('never cooking', 3), ('iron skillet', 3), ('long time', 3), ('little bit', 3), ('perfect size', 3), ('never used', 3), ('inch skillet', 3), ('warmed', 3), ('hot spot', 2), ('never owned', 2), ('great product', 2), ('non-stick surface', 2), ('right size', 2), ('little soap', 2), ('olive oiled', 2), ('weak wrist', 2), ('properly seasoning', 2), ('high heated', 2), ('acidic food', 2), ('great cooking', 2), ('seasoning casting', 2), ('single personal', 2), ('entire pan', 2), ('pre-seasoned skillet', 2), ('excess oiled', 2), ('dried', 2), ('first time', 2), ('pre-seasoned pan', 2), ('oven mitt', 2), ('fully seasoning', 2), ('really enjoyed', 2), ('tiny bit', 2), ('nonstick pan', 2), ('good casting', 2), ('cast-iron skillet', 2), ('electric stove', 2), ('small amount', 2), ('thin coated', 2), ('hot pan', 2), ('swedish pancake', 2), ('many thing', 2), ('little oiled', 2)]\n"
     ]
    }
   ],
   "source": [
    "print(\"Top Feature Phrases:\")\n",
    "print(final[0])\n",
    "print(final[:50])\n",
    "print(\"Top Positive Feature Phrases:\")\n",
    "print(final_pos[0])\n",
    "print(final_pos[:50])\n",
    "print(\"Top Negative Feature Phrases:\")\n",
    "print(final_neg[0])\n",
    "print(final_neg[:50])"
   ]
  },
  {
   "cell_type": "markdown",
   "metadata": {},
   "source": [
    "We'll find out the opinions corresponding to the most common features.\n",
    "Its a simple search in a bunch of lists/files at this point"
   ]
  },
  {
   "cell_type": "code",
   "execution_count": 70,
   "metadata": {},
   "outputs": [],
   "source": [
    "def featuresInContext(item_arr, opinion_phrases, sentence_arr ):\n",
    "    for item,support in tqdm(sorted(item_arr, key=lambda item_support: item_support[1], reverse=True)):\n",
    "        count = 0\n",
    "        print(\"------\" + \"Item > \" + item[0] + \"------\")\n",
    "        for phrase, freq in sorted(opinion_phrases, key = lambda phrase_freq: phrase_freq[1], reverse = True):\n",
    "            pcount = 0\n",
    "            if normalise(item[0]) in normalise(phrase):\n",
    "                count+=1\n",
    "                print(\"---\" + \"Phrase > \" + phrase + \"----\")\n",
    "                for l in sentence_arr:\n",
    "                    if normalise(phrase) in normalise(l):\n",
    "                        # print(\"Debug: \" + l)\n",
    "                        for b in zip(l.split(\" \")[:-1], l.split(\" \")[1:]):\n",
    "                            #print(b[0]+\" \"+b[1])\n",
    "                            if normalise(b[0])==normalise(item[0]):\n",
    "                                print(\"---\" + \"examplex\" + \"----\")\n",
    "                                print(l.replace(\"'\",\"\").replace(\"]\",\"\").replace(\"[\",\"\"))\n",
    "                                pcount+=1\n",
    "                                break\n",
    "                            elif (normalise(b[0])+\" \"+normalise(b[1]))==normalise(item[0]):\n",
    "                                print(\"---\" + \"exampley\" + \"----\")\n",
    "                                print(l.replace(\"'\",\"\").replace(\"]\",\"\").replace(\"[\",\"\"))\n",
    "                                pcount+=1\n",
    "                                break\n",
    "                        if pcount==4:\n",
    "                            break                \n",
    "            if count==4:\n",
    "                break \n",
    "        \n",
    "# sent_str = \"\"\n",
    "# sent_str = sent_str.join(sent_fullreview)\n",
    "# token_sentences = sent_tokenizer1.tokenize(sent_str)\n",
    "# featuresInContext(items, final, sent_fullreview)"
   ]
  },
  {
   "cell_type": "code",
   "execution_count": 71,
   "metadata": {},
   "outputs": [],
   "source": [
    "import time"
   ]
  },
  {
   "cell_type": "code",
   "execution_count": 72,
   "metadata": {},
   "outputs": [
    {
     "name": "stdout",
     "output_type": "stream",
     "text": [
      "content20190707-171842\n"
     ]
    }
   ],
   "source": [
    "print(\"content\" + time.strftime(\"%Y%m%d-%H%M%S\"))"
   ]
  },
  {
   "cell_type": "code",
   "execution_count": 73,
   "metadata": {},
   "outputs": [],
   "source": [
    "def featuresInContextA(item_arr, opinion_phrases, sentence_arr ):\n",
    "    for item,support in tqdm(sorted(item_arr, key=lambda item_support: item_support[1], reverse=True)):\n",
    "        count = 0\n",
    "        print(\"------\" + \"Item > \" + item[0] + \"------\")\n",
    "        for phrase, freq in sorted(opinion_phrases, key = lambda phrase_freq: phrase_freq[1], reverse = True):\n",
    "            pcount = 0\n",
    "            count+=1\n",
    "            print(\"---\" + \"Phrase > \" + str(count) + \" >>> \" + phrase + \"----\")\n",
    "            for l in sentence_arr:\n",
    "                if (normalise(phrase) in normalise(l)) and (normalise(item[0]) in normalise(l)):\n",
    "                    pcount+=1\n",
    "                    print(\"---\" + \"example > \" + str(pcount) + \" >>> \" + \"----\")\n",
    "                    print(l)\n",
    "                    if pcount==4:\n",
    "                        break                \n",
    "            if count==4:\n",
    "                break \n",
    "        \n",
    "              "
   ]
  },
  {
   "cell_type": "code",
   "execution_count": 74,
   "metadata": {},
   "outputs": [],
   "source": [
    "def featuresInContextB(item_arr, opinion_phrases, sentence_arr ):\n",
    "    # Count of the phrases\n",
    "    count = 0\n",
    "    # Latest time in a string\n",
    "    timestr = time.strftime(\"%Y%m%d-%H%M%S\")\n",
    "    # Outputfile\n",
    "    print(\"File created at: \" + timestr)\n",
    "    output_file_name = \"o_\" + timestr + \".txt\"\n",
    "    f= open(output_file_name,\"a+\")\n",
    "    # Go through the phrases and print sentences that contain them\n",
    "    for phrase, freq in sorted(opinion_phrases, key = lambda phrase_freq: phrase_freq[1], reverse = True):\n",
    "        # Count of the number of sentences\n",
    "        pcount = 0\n",
    "        count+=1\n",
    "        f.write(\"\\r\\n\")\n",
    "        f.write(\"---\" + \"Phrase > \" + str(count) + \" >>> \" + phrase + \"----\\r\\n\\r\\n\")\n",
    "        for l in sentence_arr:\n",
    "            if normalise(phrase) in normalise(l):\n",
    "                pcount+=1\n",
    "                f.write(\"---\" + \"example > \" + str(pcount) + \" >>> \" + \"----\\r\\n\")\n",
    "                f.write(\"%s\\r\\n\" %(l))\n",
    "                if pcount==4:\n",
    "                    break                \n",
    "        if count==4:\n",
    "            break \n",
    "    f.close()"
   ]
  },
  {
   "cell_type": "markdown",
   "metadata": {},
   "source": [
    "Modified to function without the item. Its assumed that the reviews are already constrained by the item in this case"
   ]
  },
  {
   "cell_type": "code",
   "execution_count": 75,
   "metadata": {},
   "outputs": [],
   "source": [
    "def featuresInContextC(opinion_phrases, sentence_arr ):\n",
    "    count = 0\n",
    "    for phrase, freq in sorted(opinion_phrases, key = lambda phrase_freq: phrase_freq[1], reverse = True):\n",
    "        pcount = 0\n",
    "        count +=1\n",
    "        print(\"---\" + \"Phrase > \" + str(count) + \" >>> \" + phrase + \"----\")\n",
    "        for l in sentence_arr:            \n",
    "            if normalise(phrase) in normalise(l):\n",
    "                pcount +=1\n",
    "                print(\"---\" + \"example > \" + str(pcount) + \" >>> \" + \"----\")\n",
    "                print(l)\n",
    "                \n",
    "                if pcount == 4:\n",
    "                    break\n",
    "        if count == 4:\n",
    "            break\n",
    "              "
   ]
  },
  {
   "cell_type": "code",
   "execution_count": null,
   "metadata": {},
   "outputs": [],
   "source": [
    "outDict = {phrases:[{sentences:[]}]}"
   ]
  },
  {
   "cell_type": "code",
   "execution_count": 99,
   "metadata": {},
   "outputs": [],
   "source": [
    "# Extract sentences with features\n",
    "from collections import defaultdict\n",
    "def featuresAndContext(item_arr, opinion_phrases, sentence_arr, phrase_count, sentence_count ):\n",
    "    \"\"\" Extract sentences with features/opinion_phrases\n",
    "    item_arr is to constrain the context to items under study\n",
    "    Output is extracted into a file\n",
    "    Output is also return as a JSON string\n",
    "    \"\"\"\n",
    "\n",
    "\n",
    "    # Latest time in a string\n",
    "    timestr = time.strftime(\"%Y%m%d-%H%M%S\")\n",
    "\n",
    "    # Outputfile\n",
    "    print(\"File created at: \" + timestr)\n",
    "    output_file_name = \"o_\" + timestr + \".txt\"\n",
    "    output_json_name = \"o_\" + timestr + \".json\"\n",
    "\n",
    "    f= open(output_file_name,\"a+\")\n",
    "\n",
    "    # Output JSON\n",
    "    outDict = defaultdict(list)\n",
    "    outJSON = ''\n",
    "\n",
    "    p_count = 0\n",
    "    # Go through the phrases and print sentences that contain them\n",
    "    for phrase, freq in sorted(opinion_phrases, key = lambda phrase_freq: phrase_freq[1], reverse = True):\n",
    "\n",
    "        f.write(\"\\r\\n\")\n",
    "        f.write(\"---\" + \"Phrase > \" + str(p_count) + \" >>> \" + phrase + \"----\\r\\n\\r\\n\")\n",
    "        p_count += 1\n",
    "        s_count = 0\n",
    "        for l in sentence_arr:\n",
    "            if normalise(phrase) in normalise(l):\n",
    "                f.write(\"---\" + \"example > \" + str(s_count) + \" >>> \" + \"----\\r\\n\")\n",
    "                f.write(\"%s\\r\\n\" %(l))\n",
    "                outDict[phrase].append(l)\n",
    "                s_count += 1\n",
    "                if s_count == sentence_count:\n",
    "                    break\n",
    "        if p_count == phrase_count:\n",
    "            break\n",
    "    outJSON = json.dumps(outDict, sort_keys = True, indent = 4)\n",
    "    with open(output_json_name, 'w') as jf:\n",
    "        json.dump(outDict, jf, sort_keys = True, indent=4)\n",
    "\n",
    "    f.close()\n",
    "    return output_file_name, output_json_name, outJSON\n"
   ]
  },
  {
   "cell_type": "code",
   "execution_count": 77,
   "metadata": {},
   "outputs": [
    {
     "name": "stdout",
     "output_type": "stream",
     "text": [
      "8\n",
      "2\n",
      "[(('pan',), 0.3600416233090531), (('skillet',), 0.3035032951786334)]\n"
     ]
    }
   ],
   "source": [
    "print(len(items))\n",
    "items_few = items[:2]\n",
    "print(len(items_few))\n",
    "print(items_few)"
   ]
  },
  {
   "cell_type": "code",
   "execution_count": 78,
   "metadata": {},
   "outputs": [
    {
     "data": {
      "text/plain": [
       "tuple"
      ]
     },
     "execution_count": 78,
     "metadata": {},
     "output_type": "execute_result"
    }
   ],
   "source": [
    "type(items[0])"
   ]
  },
  {
   "cell_type": "code",
   "execution_count": 79,
   "metadata": {},
   "outputs": [
    {
     "name": "stdout",
     "output_type": "stream",
     "text": [
      "[(('pan',), 0.3600416233090531), (('skillet',), 0.3035032951786334), (('iron',), 0.3399236906000694), (('lodg',), 0.12209503988900451), (('cast',), 0.2601456815816857), (('iron', 'pan'), 0.10995490808185918), (('iron', 'skillet'), 0.12417620534165799), (('iron', 'cast'), 0.25563648976760317)]\n"
     ]
    }
   ],
   "source": [
    "print(items)"
   ]
  },
  {
   "cell_type": "markdown",
   "metadata": {},
   "source": [
    "Sort by support"
   ]
  },
  {
   "cell_type": "code",
   "execution_count": 80,
   "metadata": {},
   "outputs": [],
   "source": [
    "items.sort(key=lambda tup: tup[1], reverse=True) "
   ]
  },
  {
   "cell_type": "code",
   "execution_count": 81,
   "metadata": {},
   "outputs": [
    {
     "name": "stdout",
     "output_type": "stream",
     "text": [
      "[(('pan',), 0.3600416233090531), (('iron',), 0.3399236906000694), (('skillet',), 0.3035032951786334), (('cast',), 0.2601456815816857), (('iron', 'cast'), 0.25563648976760317), (('iron', 'skillet'), 0.12417620534165799), (('lodg',), 0.12209503988900451), (('iron', 'pan'), 0.10995490808185918)]\n"
     ]
    }
   ],
   "source": [
    "print(items)"
   ]
  },
  {
   "cell_type": "code",
   "execution_count": 82,
   "metadata": {},
   "outputs": [
    {
     "name": "stdout",
     "output_type": "stream",
     "text": [
      "File created at: 20190707-171842\n"
     ]
    }
   ],
   "source": [
    "featuresInContextB(items, most_common_pos, sent_pos_review)"
   ]
  },
  {
   "cell_type": "code",
   "execution_count": 83,
   "metadata": {},
   "outputs": [
    {
     "name": "stdout",
     "output_type": "stream",
     "text": [
      "File created at: 20190707-171842\n"
     ]
    }
   ],
   "source": [
    "featuresInContextB(items, most_common_neg, sent_neg_review)"
   ]
  },
  {
   "cell_type": "code",
   "execution_count": 100,
   "metadata": {},
   "outputs": [
    {
     "name": "stdout",
     "output_type": "stream",
     "text": [
      "File created at: 20190707-175446\n"
     ]
    }
   ],
   "source": [
    "fn, jn, js = featuresAndContext(items, most_common_pos, sent_pos_review, phrase_count = 4, sentence_count = 4 )"
   ]
  },
  {
   "cell_type": "code",
   "execution_count": 101,
   "metadata": {},
   "outputs": [
    {
     "data": {
      "text/plain": [
       "str"
      ]
     },
     "execution_count": 101,
     "metadata": {},
     "output_type": "execute_result"
    }
   ],
   "source": [
    "type(js)"
   ]
  },
  {
   "cell_type": "code",
   "execution_count": 102,
   "metadata": {},
   "outputs": [
    {
     "name": "stdout",
     "output_type": "stream",
     "text": [
      "{\n",
      "    \" cast iron\": [\n",
      "        \"Just say no to chemical treatments on non stick pans, get yourself and your friends a few sizes of cast iron and have pans that you can pass down to your children, without all those unknown chemicals that are such a part of pans for the last few decades.This is an absolutely amazing skillet!!\",\n",
      "        \"With proper seasoning (not the garbage spray lodge puts on) a nice piece of cast iron will be virtuly non-stick.\",\n",
      "        \"Lodge simply does not spend the time to finish their pans like they used to and the pans suffer now.I got this for the hype of searing steaks and etc on cast iron.\",\n",
      "        \"I would also recommend the griddle...it's great.If you are going between the 10 and 12 inch pan...get the 12 there's more room for a full steak.I like all my cast iron.\"\n",
      "    ],\n",
      "    \" first cast\": [\n",
      "        \"Thanks for a great product.This is the first cast iron pan I've ever used and it's wonderful.\",\n",
      "        \"It was so convenient having it pre-seasoned and with such a great quality for the price, I wouldnt buy from another brand :) Definitely recommend this skillet!My husband and I got our first cast iron pan about a year ago.\",\n",
      "        \"Looking forward to cooking potatoes and other items in this!This is my first cast iron skillet so there has been a little bit of a learning curve in the proper way to maintain it.The skillet feels extremely heavy duty.\",\n",
      "        \"Best price I had seen on sites.This was my first cast iron purchase and after 3 months of use, it is my favorite and most versatile item in the kitchen!\"\n",
      "    ],\n",
      "    \" non-stick pan\": [\n",
      "        \"When properly cared for (meaning by seasoning it once in awhile and not abrasively scrubbing and washing this pan with soap water) this pan will be the best non-stick pan you can find!As a professional cook, when I cook at home I use this pan regularly.\",\n",
      "        \"And unlike non-stick pans, it's iron and will rust, so after washing (water only, no soap) I dry it well and wipe it with a little Crisco.\",\n",
      "        \"I've recently converted to cast iron from Analon anodized proffesional series teflon coated non-stick pans.\",\n",
      "        \"I don't think cast iron is for everyone, but if you want a more natural alternative to non-stick pans, I think it is worth the extra maintenance work.\"\n",
      "    ],\n",
      "    \" perfect size\": [\n",
      "        \"and it was a perfect size for me.I use this skillet all the time cooking steaks and when i fry anything.\",\n",
      "        \"I never cooked with cast iron so I can't explain why, but I prefer using this lodge logic to my other nice cookware.My wife has made sure that I keep and clean it correctly when I use it, so it's in perfect shape and cooks beautifully.I had an ancient 8 inch cast iron skillet that has been in my family forever and it's getting very pitted and food is sticking more and more.\",\n",
      "        \"I needed a new skillet, and this is the perfect size, and came pre-seasoned.I have many Lodge cast iron pieces, and this is just perfect for handling.\",\n",
      "        \"I wanted cast iron and I got exactly what I hoped for.This is the perfect skillet to make manicotti creapes.\"\n",
      "    ]\n",
      "}\n"
     ]
    }
   ],
   "source": [
    "print(js)"
   ]
  },
  {
   "cell_type": "code",
   "execution_count": null,
   "metadata": {},
   "outputs": [],
   "source": []
  }
 ],
 "metadata": {
  "kernelspec": {
   "display_name": "Python 3",
   "language": "python",
   "name": "python3"
  },
  "language_info": {
   "codemirror_mode": {
    "name": "ipython",
    "version": 3
   },
   "file_extension": ".py",
   "mimetype": "text/x-python",
   "name": "python",
   "nbconvert_exporter": "python",
   "pygments_lexer": "ipython3",
   "version": "3.7.0"
  }
 },
 "nbformat": 4,
 "nbformat_minor": 2
}
