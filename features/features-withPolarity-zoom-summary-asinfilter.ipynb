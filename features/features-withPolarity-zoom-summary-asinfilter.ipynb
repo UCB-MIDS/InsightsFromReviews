{
 "cells": [
  {
   "cell_type": "code",
   "execution_count": 1,
   "metadata": {},
   "outputs": [],
   "source": [
    "import nltk\n",
    "import json"
   ]
  },
  {
   "cell_type": "code",
   "execution_count": 2,
   "metadata": {},
   "outputs": [],
   "source": [
    "from tqdm import tqdm"
   ]
  },
  {
   "cell_type": "code",
   "execution_count": 3,
   "metadata": {},
   "outputs": [],
   "source": [
    "import time"
   ]
  },
  {
   "cell_type": "code",
   "execution_count": 4,
   "metadata": {},
   "outputs": [],
   "source": [
    "file_d = []\n",
    "reviews_sent = []\n",
    "reviews_neg_sent = []\n",
    "reviews_pos_sent = []\n",
    "reviews_str = \"\"\n",
    "reviews_pos_str = \"\"\n",
    "reviews_neg_str = \"\""
   ]
  },
  {
   "cell_type": "code",
   "execution_count": 5,
   "metadata": {},
   "outputs": [],
   "source": [
    "file = '/Users/gkhanna/Downloads/by_helpful_20.json'"
   ]
  },
  {
   "cell_type": "markdown",
   "metadata": {},
   "source": [
    "Reading \"count\" of the file for faster experiments\n",
    "count = 0 pulls in all data"
   ]
  },
  {
   "cell_type": "code",
   "execution_count": 6,
   "metadata": {},
   "outputs": [
    {
     "name": "stderr",
     "output_type": "stream",
     "text": [
      "20it [00:00, 7307.15it/s]\n"
     ]
    }
   ],
   "source": [
    "# Reading count number of JSON lines from the file\n",
    "count = 0\n",
    "n = 0\n",
    "with open(file, \"r\") as f:\n",
    "    for line in tqdm(f):\n",
    "        file_d.append(json.loads(line))\n",
    "        n =  n + 1\n",
    "        if count > 0 and n == count:\n",
    "            break\n",
    "    \n"
   ]
  },
  {
   "cell_type": "code",
   "execution_count": 7,
   "metadata": {},
   "outputs": [
    {
     "name": "stdout",
     "output_type": "stream",
     "text": [
      "20\n",
      "{'asin': 'B000QFDNP8', 'helpful': [472, 547], 'overall': 1, 'reviewText': 'I purchased 6 total mugs for my family. These look great, I don\\'t have to worry about spills, and they keep drinks warm (warmer than any other cups based on my experience); okay, so why do they get 1 star and a bad review? Because, the company told me that I should purchase a new lid every 30-60 days! Get this, the lids cost almost as much as the cup!Okay, so here\\'s the story: I am an daily tea drinker. I know how to use vinegar to clean mugs if needed, and have kept the lids clean (which requires cleaning them between every single use with soap and water, which I do). So, the point is, I get that I have to keep it clean. However, after a while, the mug start leaking. It was one of my kids mugs, I figured they were just rough with it or something. Then the other lid started having a problem, so I told my kids to use regular glass mugs and sit at the table for now on in order to drink tea.Then my mug started leaking, and creaking, and not serving its purpose. I used one of the other ones, again, started having the same issue. So, I called the company to complain and was told \"that\\'s why we carry replacement lids; please visit our website to purchase new lids.\" I stated that I had only had these for about 5 weeks and the customer service rep said that she didn\\'t expect the lids to last much more than that and that I would need to purchase new lids.Ok, so let\\'s do the math.I purchased 4 cups at a big box store for $40.2 cups online for about $20 each.So far, I am out $80.The company states the lids last 30-60 days, and the lids cost $7 each (at least for the models I have).So, I am expected to pay $42 per month (or every 60 days) in order to keep these mugs. That\\'s between $252 to $504 per year if you own 6 mugs.So, the total cost of ownership of a Contigo mug is $104 per year... Oh, I didn\\'t include tax.The fact is, these mugs are just not worth it. The company has some of the worst customer service reps I have ever dealt with. Take it from someone that works in manufacturing, the cost for these mugs to be created is almost nothing, the lids are probably 6-13 cents each depending on the how the assembly line sets the pieces in the plastic mold after it\\'s cooled. So, this is a rip off. It\\'s one thing to charge $20 for a mug; it\\'s another to not support your product with the expressed intention of selling lids to consumers who supported your company.Here are two replacement mugs from Thermos that I have purchased, & I must say, I have never had to replace the lids. they never leak, and in fact I use it at work, and I don\\'t stir anything, I simply put what I want in it and shake it up, and it never leaks are spills at all. I have had the mugs listed below for almost 2 years, since writing this review.Thermos Stainless King Travel Tumbler, 16-Ounce, Matte BlackThermos 16-Ounce Vacuum-Insulated Travel Tumbler, Stainless SteelI don\\'t believe the average amazon customer or customer of any store in general would be writing a really long review. Also keeping track on those reviews years later in regards to a mug. It\\'s quite obvious the more you look at the reviews many are single item reviewers and are likely employees of the manufacture. I worked as a marketing director for many years and many of these manufactures do create their own reviews. I have never honored the requests of the companies I have worked for, and those that do, should be ashamed of themselves.This review has more reviews than any of my other reviews. There are so many comments on this review, all about my review. It\\'s kind of hilarious considering that it is just a mug. the manufacturer made a phony attempt in a comment to rectify the situation, but when I actually contacted them, they offered no help; it was purely for show.', 'reviewTime': '09 12, 2012', 'reviewerID': 'ACHMAK6A8MHH', 'reviewerName': 'Digitalmaster', 'summary': 'Biggest Rip Off In The World of Mugs.', 'unixReviewTime': 1347408000}\n"
     ]
    }
   ],
   "source": [
    "# Checking the structures\n",
    "print(len(file_d))\n",
    "print(file_d[0])"
   ]
  },
  {
   "cell_type": "code",
   "execution_count": 8,
   "metadata": {},
   "outputs": [
    {
     "name": "stdout",
     "output_type": "stream",
     "text": [
      "I purchased 6 total mugs for my family. These look great, I don't have to worry about spills, and they keep drinks warm (warmer than any other cups based on my experience); okay, so why do they get 1 star and a bad review? Because, the company told me that I should purchase a new lid every 30-60 days! Get this, the lids cost almost as much as the cup!Okay, so here's the story: I am an daily tea drinker. I know how to use vinegar to clean mugs if needed, and have kept the lids clean (which requires cleaning them between every single use with soap and water, which I do). So, the point is, I get that I have to keep it clean. However, after a while, the mug start leaking. It was one of my kids mugs, I figured they were just rough with it or something. Then the other lid started having a problem, so I told my kids to use regular glass mugs and sit at the table for now on in order to drink tea.Then my mug started leaking, and creaking, and not serving its purpose. I used one of the other ones, again, started having the same issue. So, I called the company to complain and was told \"that's why we carry replacement lids; please visit our website to purchase new lids.\" I stated that I had only had these for about 5 weeks and the customer service rep said that she didn't expect the lids to last much more than that and that I would need to purchase new lids.Ok, so let's do the math.I purchased 4 cups at a big box store for $40.2 cups online for about $20 each.So far, I am out $80.The company states the lids last 30-60 days, and the lids cost $7 each (at least for the models I have).So, I am expected to pay $42 per month (or every 60 days) in order to keep these mugs. That's between $252 to $504 per year if you own 6 mugs.So, the total cost of ownership of a Contigo mug is $104 per year... Oh, I didn't include tax.The fact is, these mugs are just not worth it. The company has some of the worst customer service reps I have ever dealt with. Take it from someone that works in manufacturing, the cost for these mugs to be created is almost nothing, the lids are probably 6-13 cents each depending on the how the assembly line sets the pieces in the plastic mold after it's cooled. So, this is a rip off. It's one thing to charge $20 for a mug; it's another to not support your product with the expressed intention of selling lids to consumers who supported your company.Here are two replacement mugs from Thermos that I have purchased, & I must say, I have never had to replace the lids. they never leak, and in fact I use it at work, and I don't stir anything, I simply put what I want in it and shake it up, and it never leaks are spills at all. I have had the mugs listed below for almost 2 years, since writing this review.Thermos Stainless King Travel Tumbler, 16-Ounce, Matte BlackThermos 16-Ounce Vacuum-Insulated Travel Tumbler, Stainless SteelI don't believe the average amazon customer or customer of any store in general would be writing a really long review. Also keeping track on those reviews years later in regards to a mug. It's quite obvious the more you look at the reviews many are single item reviewers and are likely employees of the manufacture. I worked as a marketing director for many years and many of these manufactures do create their own reviews. I have never honored the requests of the companies I have worked for, and those that do, should be ashamed of themselves.This review has more reviews than any of my other reviews. There are so many comments on this review, all about my review. It's kind of hilarious considering that it is just a mug. the manufacturer made a phony attempt in a comment to rectify the situation, but when I actually contacted them, they offered no help; it was purely for show.\n"
     ]
    }
   ],
   "source": [
    "print(file_d[0]['reviewText'])"
   ]
  },
  {
   "cell_type": "markdown",
   "metadata": {},
   "source": [
    "Read in reviews that correspond to the list of ASIN's (Amazon product ID's) selected. \n",
    "Choosing the ASIN that has ~ 1000 reviews from the EDA"
   ]
  },
  {
   "cell_type": "code",
   "execution_count": 9,
   "metadata": {},
   "outputs": [],
   "source": [
    "# ASIN corresponding to the Iron Skillet\n",
    "#pl = ['B00006JSUA']\n",
    "# Tumbler\n",
    "pl = ['B000QFDNP8']"
   ]
  },
  {
   "cell_type": "code",
   "execution_count": 10,
   "metadata": {},
   "outputs": [],
   "source": [
    "# ASIN's for Iron Skillets from Jey's web scraping\n",
    "# pl = ['B075MRX5N3', 'B06XT6GZ9V', 'B00006JSUA', 'B00006JSUA', 'B07GKZXS2T', 'B000VTOG78', 'B00X4WQMAS', 'B00G2XGC88', 'B073Q8P6CQ', 'B073Q8DY3F']"
   ]
  },
  {
   "cell_type": "code",
   "execution_count": 11,
   "metadata": {},
   "outputs": [],
   "source": [
    "# Trying out the ASIN's for toothbrush holder\n",
    "# pl = ['B078GVMVRH', 'B078GVH2VJ', 'B00SX07354', 'B00CC6XSRC', 'B0777SKKBL', 'B072YVWBXH', 'B01AKGRTUM', 'B07CMHRZRT', 'B07CMHRZS2', 'B073Q58L6Q']"
   ]
  },
  {
   "cell_type": "code",
   "execution_count": 12,
   "metadata": {},
   "outputs": [
    {
     "name": "stderr",
     "output_type": "stream",
     "text": [
      "100%|██████████| 20/20 [00:00<00:00, 18774.86it/s]\n"
     ]
    }
   ],
   "source": [
    "# Getting the reviews out of the dictionary into lists\n",
    "count = 0\n",
    "n = 0\n",
    "for r in tqdm(file_d):\n",
    "    if r['asin'] in pl:\n",
    "        reviews_sent.append(r['reviewText'])\n",
    "        if ((r['overall'] == 1.0) or (r['overall'] == 2.0)):\n",
    "            reviews_neg_sent.append(r['reviewText'])\n",
    "        else:\n",
    "            reviews_pos_sent.append(r['reviewText'])\n",
    "        n =  n + 1\n",
    "        if count > 0 and n == count:\n",
    "            break"
   ]
  },
  {
   "cell_type": "code",
   "execution_count": 13,
   "metadata": {},
   "outputs": [
    {
     "name": "stdout",
     "output_type": "stream",
     "text": [
      "20\n",
      "I purchased 6 total mugs for my family. These look great, I don't have to worry about spills, and they keep drinks warm (warmer than any other cups based on my experience); okay, so why do they get 1 star and a bad review? Because, the company told me that I should purchase a new lid every 30-60 days! Get this, the lids cost almost as much as the cup!Okay, so here's the story: I am an daily tea drinker. I know how to use vinegar to clean mugs if needed, and have kept the lids clean (which requires cleaning them between every single use with soap and water, which I do). So, the point is, I get that I have to keep it clean. However, after a while, the mug start leaking. It was one of my kids mugs, I figured they were just rough with it or something. Then the other lid started having a problem, so I told my kids to use regular glass mugs and sit at the table for now on in order to drink tea.Then my mug started leaking, and creaking, and not serving its purpose. I used one of the other ones, again, started having the same issue. So, I called the company to complain and was told \"that's why we carry replacement lids; please visit our website to purchase new lids.\" I stated that I had only had these for about 5 weeks and the customer service rep said that she didn't expect the lids to last much more than that and that I would need to purchase new lids.Ok, so let's do the math.I purchased 4 cups at a big box store for $40.2 cups online for about $20 each.So far, I am out $80.The company states the lids last 30-60 days, and the lids cost $7 each (at least for the models I have).So, I am expected to pay $42 per month (or every 60 days) in order to keep these mugs. That's between $252 to $504 per year if you own 6 mugs.So, the total cost of ownership of a Contigo mug is $104 per year... Oh, I didn't include tax.The fact is, these mugs are just not worth it. The company has some of the worst customer service reps I have ever dealt with. Take it from someone that works in manufacturing, the cost for these mugs to be created is almost nothing, the lids are probably 6-13 cents each depending on the how the assembly line sets the pieces in the plastic mold after it's cooled. So, this is a rip off. It's one thing to charge $20 for a mug; it's another to not support your product with the expressed intention of selling lids to consumers who supported your company.Here are two replacement mugs from Thermos that I have purchased, & I must say, I have never had to replace the lids. they never leak, and in fact I use it at work, and I don't stir anything, I simply put what I want in it and shake it up, and it never leaks are spills at all. I have had the mugs listed below for almost 2 years, since writing this review.Thermos Stainless King Travel Tumbler, 16-Ounce, Matte BlackThermos 16-Ounce Vacuum-Insulated Travel Tumbler, Stainless SteelI don't believe the average amazon customer or customer of any store in general would be writing a really long review. Also keeping track on those reviews years later in regards to a mug. It's quite obvious the more you look at the reviews many are single item reviewers and are likely employees of the manufacture. I worked as a marketing director for many years and many of these manufactures do create their own reviews. I have never honored the requests of the companies I have worked for, and those that do, should be ashamed of themselves.This review has more reviews than any of my other reviews. There are so many comments on this review, all about my review. It's kind of hilarious considering that it is just a mug. the manufacturer made a phony attempt in a comment to rectify the situation, but when I actually contacted them, they offered no help; it was purely for show.\n"
     ]
    }
   ],
   "source": [
    "\n",
    "print(len(reviews_sent))\n",
    "print(reviews_sent[0])"
   ]
  },
  {
   "cell_type": "code",
   "execution_count": 14,
   "metadata": {},
   "outputs": [
    {
     "name": "stdout",
     "output_type": "stream",
     "text": [
      "13\n",
      "&lt;Update - As of 1/2014, Contigo now sell replacement tops for $6 in which the entire mechanism flips up so that you can easier clean them and it includes a button lock and they are designed to fit this mug.>After 6 years, I still use these mugs and their newer 20oz sibliings every single day.  Never had a problem with our dishwasher getting them clean.  Except for a few minor dents, the thermoses that are over 6 years old and SS finish are still like new, tho their lids have been replaced a couple of times now.  Our kids take the Autoseal water bottle lids paired with the Sheffield Stainless Insulated Water Bottles to school every single day (yes the tops gets broken more easily than I'd like but I have yet to find a better overall alternative).It is worth repeating... over 6 years of nearly daily usage I have had to replace the lids only once or twice.  About once every 2 years on average (some more, some less).  $10+$7+$7 = $24 / $6 = $4 per year for a mug that almost never leaks and keeps stuff hot or cold longer than its competition and is easier to drink out of, e.g. nothing to rotate or flip before drinking.I see reviewers state that the tops are hard to clean by hand.  I seldom try.  We use the dishwasher and they come out very clean.For a family of 5, we are up to 12 Contigo mugs (this very model and a couple of slight variations).  The extras are useful for either extra ice storage on trips or backups when one needs cleaned.Avoid the plastic version.Contigo Double Wall Plastic Tumbler with Autoseal lid, Black, Red Button.  They are no where nearly as well insulated, the button is not as easy to push, are not any lighter to lift and do not hold as much.Although the color versions comes in handy to differenciate whose is whose in a family of 5, the color chips off fairly quickly and only the non-painted SS versions still look like new.We have had 8 tops break over the years from being dropped.We have had several tops eventually start leaking, but new tops solves the problem.I purchased our first mug in order to evaluate it as a replacement to our insulated plastic sippy(drippy) cups for our 4 year old and it worked out so well that when we saw 2 packs at Costco, we quickly purchased 6 more.  Our youngest switched at 2 years old.Contigo does have a line of plastic cups for kids, but the button is harder to press and they are NOT insulated.You DO want to get into the habit of pressing the button before you put it up to your mouth.  Hot liquids release steam and soda releases fizz.  Not a big deal for us.These are far less likely to leak than their competitors.The design of the area you drink from is also nice in that it less prone to dribbling (More than once I have shown up at a meeting with water or pop all over my shirt with the Nisson mugs), however the design would also probably make it a bit more difficult to sense just how hot a beverage is and let it cool before touching your lips since there is nowhere for the liquid to pool under your nose before you taste it.I no longer notice this, but at first, I did seem to notice a slight change in taste of my soda, but I think it is simply due to the shape of the mouthpiece. With other designs, you can smell the liquid and sense the bubbles as it travels between the lowered spout and your lips.  With this design, it goes straight into the mouth. Since much of our sense of taste is actually our sense of smell, the raised spout design probably changes the taste slightly. For water, this is a non-issue.  But having that seal allows you to really suck down a lot of water very quickly if you want to.The packaging states that the tops ARE dishwasher safe, but the SS mug is not. For the 100% plastic version both the top and the bottom are hand wash only.As a practical matter however, we have been putting both tops and bottoms in the dishwasher without any noticable problems.  The bottoms are easily cleaned by hand so most of the time we just the tops are put into the dishwasher.\n"
     ]
    }
   ],
   "source": [
    "print(len(reviews_pos_sent))\n",
    "print(reviews_pos_sent[0])"
   ]
  },
  {
   "cell_type": "code",
   "execution_count": 15,
   "metadata": {},
   "outputs": [
    {
     "name": "stdout",
     "output_type": "stream",
     "text": [
      "7\n",
      "I purchased 6 total mugs for my family. These look great, I don't have to worry about spills, and they keep drinks warm (warmer than any other cups based on my experience); okay, so why do they get 1 star and a bad review? Because, the company told me that I should purchase a new lid every 30-60 days! Get this, the lids cost almost as much as the cup!Okay, so here's the story: I am an daily tea drinker. I know how to use vinegar to clean mugs if needed, and have kept the lids clean (which requires cleaning them between every single use with soap and water, which I do). So, the point is, I get that I have to keep it clean. However, after a while, the mug start leaking. It was one of my kids mugs, I figured they were just rough with it or something. Then the other lid started having a problem, so I told my kids to use regular glass mugs and sit at the table for now on in order to drink tea.Then my mug started leaking, and creaking, and not serving its purpose. I used one of the other ones, again, started having the same issue. So, I called the company to complain and was told \"that's why we carry replacement lids; please visit our website to purchase new lids.\" I stated that I had only had these for about 5 weeks and the customer service rep said that she didn't expect the lids to last much more than that and that I would need to purchase new lids.Ok, so let's do the math.I purchased 4 cups at a big box store for $40.2 cups online for about $20 each.So far, I am out $80.The company states the lids last 30-60 days, and the lids cost $7 each (at least for the models I have).So, I am expected to pay $42 per month (or every 60 days) in order to keep these mugs. That's between $252 to $504 per year if you own 6 mugs.So, the total cost of ownership of a Contigo mug is $104 per year... Oh, I didn't include tax.The fact is, these mugs are just not worth it. The company has some of the worst customer service reps I have ever dealt with. Take it from someone that works in manufacturing, the cost for these mugs to be created is almost nothing, the lids are probably 6-13 cents each depending on the how the assembly line sets the pieces in the plastic mold after it's cooled. So, this is a rip off. It's one thing to charge $20 for a mug; it's another to not support your product with the expressed intention of selling lids to consumers who supported your company.Here are two replacement mugs from Thermos that I have purchased, & I must say, I have never had to replace the lids. they never leak, and in fact I use it at work, and I don't stir anything, I simply put what I want in it and shake it up, and it never leaks are spills at all. I have had the mugs listed below for almost 2 years, since writing this review.Thermos Stainless King Travel Tumbler, 16-Ounce, Matte BlackThermos 16-Ounce Vacuum-Insulated Travel Tumbler, Stainless SteelI don't believe the average amazon customer or customer of any store in general would be writing a really long review. Also keeping track on those reviews years later in regards to a mug. It's quite obvious the more you look at the reviews many are single item reviewers and are likely employees of the manufacture. I worked as a marketing director for many years and many of these manufactures do create their own reviews. I have never honored the requests of the companies I have worked for, and those that do, should be ashamed of themselves.This review has more reviews than any of my other reviews. There are so many comments on this review, all about my review. It's kind of hilarious considering that it is just a mug. the manufacturer made a phony attempt in a comment to rectify the situation, but when I actually contacted them, they offered no help; it was purely for show.\n"
     ]
    }
   ],
   "source": [
    "print(len(reviews_neg_sent))\n",
    "print(reviews_neg_sent[0])"
   ]
  },
  {
   "cell_type": "code",
   "execution_count": 16,
   "metadata": {},
   "outputs": [
    {
     "name": "stderr",
     "output_type": "stream",
     "text": [
      "/Users/gkhanna/anaconda3/lib/python3.7/importlib/_bootstrap.py:219: RuntimeWarning: spacy.tokens.span.Span size changed, may indicate binary incompatibility. Expected 72 from C header, got 80 from PyObject\n",
      "  return f(*args, **kwds)\n"
     ]
    }
   ],
   "source": [
    "# Had to install space and neuralcoref\n",
    "import spacy # version 2.1.3\n",
    "import neuralcoref # version 4.0\n",
    "from textblob import TextBlob"
   ]
  },
  {
   "cell_type": "code",
   "execution_count": 17,
   "metadata": {},
   "outputs": [],
   "source": [
    "nlp = spacy.load('en_core_web_sm')"
   ]
  },
  {
   "cell_type": "code",
   "execution_count": 18,
   "metadata": {},
   "outputs": [],
   "source": [
    "def extractSubjective(review):\n",
    "    \"\"\"\n",
    "    Input: entire review document (str)\n",
    "    Output: shortened review document with only subjective sentences\n",
    "    \"\"\"\n",
    "    sent_list = nltk.sent_tokenize(review)\n",
    "    output = \"\"  # output string\n",
    "    for sent in sent_list:\n",
    "        result = TextBlob(sent)\n",
    "        if result.sentiment[1] > 0.5:  # keep sentences with sentiment > 0.25\n",
    "            output += sent+\"  \"\n",
    "    return output\n",
    "\n",
    "\n",
    "# spacy\n",
    "def replacePronouns(review):\n",
    "    \"\"\"\n",
    "    Input: entire review document (str), multiple sentence_scores\n",
    "    Output: string, modified review with pronouns replaced.\n",
    "    \"\"\"\n",
    "\n",
    "    # create spacy model\n",
    "    # nlp = spacy.load('en_core_web_sm')\n",
    "    # add neuralcoref to spacy model\n",
    "    neuralcoref.add_to_pipe(nlp, greedyness=0.50, max_dist=75)\n",
    "\n",
    "    pn = nlp(review)  # pn = pronoun doc\n",
    "    # print(\"has coreferences?  {}\".format(pn._.has_coref))\n",
    "    # print(\"Coreferences:\")\n",
    "    # print(pn._.coref_clusters)\n",
    "\n",
    "    return pn._.coref_resolved\n"
   ]
  },
  {
   "cell_type": "code",
   "execution_count": 19,
   "metadata": {},
   "outputs": [],
   "source": [
    "# Experiments on the reviews\n",
    "# extractSubjective(reviews_sent[0])"
   ]
  },
  {
   "cell_type": "code",
   "execution_count": 20,
   "metadata": {},
   "outputs": [],
   "source": [
    "# extractSubjective(reviews_neg_sent[0])"
   ]
  },
  {
   "cell_type": "code",
   "execution_count": 21,
   "metadata": {},
   "outputs": [],
   "source": [
    "# replacePronouns(reviews_neg_sent[0])"
   ]
  },
  {
   "cell_type": "code",
   "execution_count": 22,
   "metadata": {},
   "outputs": [],
   "source": [
    "# Getting reviews into strings\n",
    "reviews_str = \"\".join(s for s in reviews_sent)\n"
   ]
  },
  {
   "cell_type": "code",
   "execution_count": 23,
   "metadata": {},
   "outputs": [],
   "source": [
    "reviews_pos_str = \"\".join(s for s in reviews_pos_sent)\n",
    "reviews_neg_str = \"\".join(s for s in reviews_neg_sent)"
   ]
  },
  {
   "cell_type": "code",
   "execution_count": 24,
   "metadata": {},
   "outputs": [
    {
     "name": "stdout",
     "output_type": "stream",
     "text": [
      "25680\n",
      "17521\n",
      "8159\n"
     ]
    }
   ],
   "source": [
    "print(len(reviews_str))\n",
    "print(len(reviews_pos_str))\n",
    "print(len(reviews_neg_str))"
   ]
  },
  {
   "cell_type": "code",
   "execution_count": 25,
   "metadata": {},
   "outputs": [
    {
     "name": "stdout",
     "output_type": "stream",
     "text": [
      "I purchased 6 total mugs for my family. These look great, I don't have to worry about spills, and th\n",
      "&lt;Update - As of 1/2014, Contigo now sell replacement tops for $6 in which the entire mechanism fl\n",
      "I purchased 6 total mugs for my family. These look great, I don't have to worry about spills, and th\n"
     ]
    }
   ],
   "source": [
    "print(reviews_str[:100])\n",
    "print(reviews_pos_str[:100])\n",
    "print(reviews_neg_str[:100])"
   ]
  },
  {
   "cell_type": "markdown",
   "metadata": {},
   "source": [
    "Summarizing before doing anything else with the review strings\n",
    "We'll skip summarization as there's danger of losing information"
   ]
  },
  {
   "cell_type": "code",
   "execution_count": 26,
   "metadata": {},
   "outputs": [],
   "source": [
    "from gensim.summarization import summarize"
   ]
  },
  {
   "cell_type": "code",
   "execution_count": 27,
   "metadata": {},
   "outputs": [],
   "source": [
    "# summarize(reviews_neg_sent[0])"
   ]
  },
  {
   "cell_type": "code",
   "execution_count": 28,
   "metadata": {},
   "outputs": [],
   "source": [
    "# reviews_str = summarize(reviews_str, ratio=.5)"
   ]
  },
  {
   "cell_type": "code",
   "execution_count": 29,
   "metadata": {},
   "outputs": [],
   "source": [
    "# print(len(reviews_str))\n",
    "# print(reviews_str[:100])"
   ]
  },
  {
   "cell_type": "code",
   "execution_count": 30,
   "metadata": {},
   "outputs": [],
   "source": [
    "# reviews_pos_str = summarize(reviews_pos_str)\n",
    "# reviews_neg_str = summarize(reviews_neg_str)"
   ]
  },
  {
   "cell_type": "code",
   "execution_count": 31,
   "metadata": {},
   "outputs": [
    {
     "name": "stdout",
     "output_type": "stream",
     "text": [
      "17521\n",
      "&lt;Update - As of 1/2014, Contigo now sell replacement tops for $6 in which the entire mechanism fl\n",
      "8159\n",
      "I purchased 6 total mugs for my family. These look great, I don't have to worry about spills, and th\n"
     ]
    }
   ],
   "source": [
    "print(len(reviews_pos_str))\n",
    "print(reviews_pos_str[:100])\n",
    "print(len(reviews_neg_str))\n",
    "print(reviews_neg_str[:100])"
   ]
  },
  {
   "cell_type": "markdown",
   "metadata": {},
   "source": [
    "Separating out sentences into a list\n",
    "PunktSentenceTokenizer is customized to separate sentences on a few extra words and characters as wel"
   ]
  },
  {
   "cell_type": "code",
   "execution_count": 32,
   "metadata": {},
   "outputs": [],
   "source": [
    "from nltk.tokenize.punkt import PunktSentenceTokenizer, PunktLanguageVars\n",
    "'''We customize the ReviewLangVars class to separate sentences based on some additional keywords'''\n",
    "\n",
    "\n",
    "class ReviewLangVars(PunktLanguageVars):\n",
    "    sent_end_chars = ('pros:', 'cons:', '[','][','.','?','!')\n",
    "    \n",
    "sent_tokenizer1 = PunktSentenceTokenizer(lang_vars = ReviewLangVars())\n",
    "# sent_tokenizer1 = PunktSentenceTokenizer()\n",
    "sent_fullreview = sent_tokenizer1.tokenize(reviews_str)\n",
    "sent_neg_review = sent_tokenizer1.tokenize(reviews_neg_str)\n",
    "sent_pos_review = sent_tokenizer1.tokenize(reviews_pos_str)"
   ]
  },
  {
   "cell_type": "code",
   "execution_count": 33,
   "metadata": {},
   "outputs": [
    {
     "name": "stdout",
     "output_type": "stream",
     "text": [
      "I purchased 6 total mugs for my family.\n",
      "['I purchased 6 total mugs for my family.', \"These look great, I don't have to worry about spills, and they keep drinks warm (warmer than any other cups based on my experience); okay, so why do they get 1 star and a bad review?\", 'Because, the company told me that I should purchase a new lid every 30-60 days!', \"Get this, the lids cost almost as much as the cup!Okay, so here's the story: I am an daily tea drinker.\", 'I know how to use vinegar to clean mugs if needed, and have kept the lids clean (which requires cleaning them between every single use with soap and water, which I do).']\n",
      "202\n"
     ]
    }
   ],
   "source": [
    "# This are the original sentences tokenized\n",
    "print(sent_fullreview[0])\n",
    "print(sent_fullreview[:5])\n",
    "print(len(sent_fullreview))"
   ]
  },
  {
   "cell_type": "code",
   "execution_count": 34,
   "metadata": {},
   "outputs": [
    {
     "name": "stdout",
     "output_type": "stream",
     "text": [
      "I purchased 6 total mugs for my family.\n",
      "['I purchased 6 total mugs for my family.', \"These look great, I don't have to worry about spills, and they keep drinks warm (warmer than any other cups based on my experience); okay, so why do they get 1 star and a bad review?\", 'Because, the company told me that I should purchase a new lid every 30-60 days!', \"Get this, the lids cost almost as much as the cup!Okay, so here's the story: I am an daily tea drinker.\", 'I know how to use vinegar to clean mugs if needed, and have kept the lids clean (which requires cleaning them between every single use with soap and water, which I do).']\n",
      "65\n"
     ]
    }
   ],
   "source": [
    "# This are the negative sentences tokenized\n",
    "print(sent_neg_review[0])\n",
    "print(sent_neg_review[:5])\n",
    "print(len(sent_neg_review))"
   ]
  },
  {
   "cell_type": "code",
   "execution_count": 35,
   "metadata": {},
   "outputs": [
    {
     "name": "stdout",
     "output_type": "stream",
     "text": [
      "&lt;Update - As of 1/2014, Contigo now sell replacement tops for $6 in which the entire mechanism flips up so that you can easier clean them and it includes a button lock and they are designed to fit this mug.>After 6 years, I still use these mugs and their newer 20oz sibliings every single day.\n",
      "['&lt;Update - As of 1/2014, Contigo now sell replacement tops for $6 in which the entire mechanism flips up so that you can easier clean them and it includes a button lock and they are designed to fit this mug.>After 6 years, I still use these mugs and their newer 20oz sibliings every single day.', 'Never had a problem with our dishwasher getting them clean.', 'Except for a few minor dents, the thermoses that are over 6 years old and SS finish are still like new, tho their lids have been replaced a couple of times now.', \"Our kids take the Autoseal water bottle lids paired with the Sheffield Stainless Insulated Water Bottles to school every single day (yes the tops gets broken more easily than I'd like but I have yet to find a better overall alternative).It is worth repeating... over 6 years of nearly daily usage I have had to replace the lids only once or twice.\", 'About once every 2 years on average (some more, some less).']\n",
      "138\n"
     ]
    }
   ],
   "source": [
    "# This are the positive sentences tokenized\n",
    "print(sent_pos_review[0])\n",
    "print(sent_pos_review[:5])\n",
    "print(len(sent_pos_review))"
   ]
  },
  {
   "cell_type": "markdown",
   "metadata": {},
   "source": [
    "Extracting common Items using apriori\n",
    "https://github.com/asaini/Apriori"
   ]
  },
  {
   "cell_type": "code",
   "execution_count": 36,
   "metadata": {},
   "outputs": [],
   "source": [
    "import sys\n",
    "\n",
    "from itertools import chain, combinations\n",
    "from collections import defaultdict\n",
    "from optparse import OptionParser\n",
    "\n",
    "\n",
    "def subsets(arr):\n",
    "    \"\"\" Returns non empty subsets of arr\"\"\"\n",
    "    return chain(*[combinations(arr, i + 1) for i, a in enumerate(arr)])\n",
    "\n",
    "\n",
    "def returnItemsWithMinSupport(itemSet, transactionList, minSupport, freqSet):\n",
    "        \"\"\"calculates the support for items in the itemSet and returns a subset\n",
    "       of the itemSet each of whose elements satisfies the minimum support\"\"\"\n",
    "        _itemSet = set()\n",
    "        localSet = defaultdict(int)\n",
    "\n",
    "        for item in itemSet:\n",
    "                for transaction in transactionList:\n",
    "                        if item.issubset(transaction):\n",
    "                                freqSet[item] += 1\n",
    "                                localSet[item] += 1\n",
    "\n",
    "        for item, count in localSet.items():\n",
    "                support = float(count)/len(transactionList)\n",
    "\n",
    "                if support >= minSupport:\n",
    "                        _itemSet.add(item)\n",
    "\n",
    "        return _itemSet\n",
    "\n",
    "\n",
    "def joinSet(itemSet, length):\n",
    "        \"\"\"Join a set with itself and returns the n-element itemsets\"\"\"\n",
    "        return set([i.union(j) for i in itemSet for j in itemSet if len(i.union(j)) == length])\n",
    "\n",
    "\n",
    "def getItemSetTransactionList(data_iterator):\n",
    "    transactionList = list()\n",
    "    itemSet = set()\n",
    "    for record in data_iterator:\n",
    "        transaction = frozenset(record)\n",
    "        transactionList.append(transaction)\n",
    "        for item in transaction:\n",
    "            itemSet.add(frozenset([item]))              # Generate 1-itemSets\n",
    "    return itemSet, transactionList\n",
    "\n",
    "\n",
    "def runApriori(data_iter, minSupport, minConfidence):\n",
    "    \"\"\"\n",
    "    run the apriori algorithm. data_iter is a record iterator\n",
    "    Return both:\n",
    "     - items (tuple, support)\n",
    "     - rules ((pretuple, posttuple), confidence)\n",
    "    \"\"\"\n",
    "    itemSet, transactionList = getItemSetTransactionList(data_iter)\n",
    "\n",
    "    freqSet = defaultdict(int)\n",
    "    largeSet = dict()\n",
    "    # Global dictionary which stores (key=n-itemSets,value=support)\n",
    "    # which satisfy minSupport\n",
    "\n",
    "    assocRules = dict()\n",
    "    # Dictionary which stores Association Rules\n",
    "\n",
    "    oneCSet = returnItemsWithMinSupport(itemSet,\n",
    "                                        transactionList,\n",
    "                                        minSupport,\n",
    "                                        freqSet)\n",
    "\n",
    "    currentLSet = oneCSet\n",
    "    k = 2\n",
    "    while(currentLSet != set([])):\n",
    "        largeSet[k-1] = currentLSet\n",
    "        currentLSet = joinSet(currentLSet, k)\n",
    "        currentCSet = returnItemsWithMinSupport(currentLSet,\n",
    "                                                transactionList,\n",
    "                                                minSupport,\n",
    "                                                freqSet)\n",
    "        currentLSet = currentCSet\n",
    "        k = k + 1\n",
    "\n",
    "    def getSupport(item):\n",
    "            \"\"\"local function which Returns the support of an item\"\"\"\n",
    "            return float(freqSet[item])/len(transactionList)\n",
    "\n",
    "    toRetItems = []\n",
    "    for key, value in tqdm(list(largeSet.items())):\n",
    "        toRetItems.extend([(tuple(item), getSupport(item))\n",
    "                           for item in value])\n",
    "\n",
    "    toRetRules = []\n",
    "    for key, value in tqdm(list(largeSet.items())[1:]):\n",
    "        for item in value:\n",
    "            _subsets = map(frozenset, [x for x in subsets(item)])\n",
    "            for element in _subsets:\n",
    "                remain = item.difference(element)\n",
    "                if len(remain) > 0:\n",
    "                    confidence = getSupport(item)/getSupport(element)\n",
    "                    if confidence >= minConfidence:\n",
    "                        toRetRules.append(((tuple(element), tuple(remain)),\n",
    "                                           confidence))\n",
    "    return toRetItems, toRetRules\n",
    "\n",
    "\n",
    "def printResults(items):\n",
    "    \"\"\"prints the generated itemsets sorted by support and the confidence rules sorted by confidence\"\"\"\n",
    "    for item, support in sorted(items, key=lambda item_support: item_support[1], reverse=True):\n",
    "        print(str(item), support)"
   ]
  },
  {
   "cell_type": "code",
   "execution_count": 37,
   "metadata": {},
   "outputs": [],
   "source": [
    "# Utility functions\n",
    "from nltk.corpus import stopwords\n",
    "stopwords = stopwords.words('english')\n",
    "\n",
    "lem = nltk.WordNetLemmatizer()\n",
    "stemmer = nltk.stem.porter.PorterStemmer()\n",
    "lem_word_mapping = {}\n",
    "\n",
    "# Find leaves of a tree\n",
    "def leaves(tree):\n",
    "    \"\"\"Finds leaf nodes of a chunk tree.\"\"\"\n",
    "    for subtree in tree.subtrees(filter = lambda t: t.label() in ['P1','P2','P3','P4','P5','P6','P7','P8', 'P9', 'P10']):\n",
    "        yield subtree.leaves()\n",
    "    \n",
    "def stem(word):\n",
    "    \"\"\"Normalises words to lowercase and stems and lemmatizes it.\"\"\"\n",
    "    word = word.lower()\n",
    "    word = word.replace(\"'\",\"\").replace('\"','').replace('.','')\n",
    "    word1 = stemmer.stem(word)\n",
    "    return word1\n",
    "\n",
    "# lowercase, stem and lemmatize\n",
    "def normalise(word):\n",
    "    \"\"\"Normalises words to lowercase and stems and lemmatizes it.\"\"\"\n",
    "    word = word.lower()\n",
    "    word1 = stemmer.stem(word)\n",
    "    word2 = lem.lemmatize(word1)\n",
    "    if word != word2:\n",
    "        lem_word_mapping[word2] = word\n",
    "    return word2\n",
    "\n",
    "def acceptableWord(word):\n",
    "    \"\"\"Checks conditions for acceptable word: length, stopword.\"\"\"\n",
    "    accepted = bool((2 <= len(word) <= 40) and word.lower() not in stopwords)\n",
    "    return accepted\n",
    "\n",
    "# extract words after normalizing and checking if acceptable\n",
    "def getTerms(tree):\n",
    "    \"\"\"Returns the words after checking acceptable conditions, normalizing and lemmatizing\"\"\"\n",
    "    term = [ stem(w) for w in tree if acceptableWord(w) ]\n",
    "    return term\n",
    "    \n",
    "def getNorm(tree):\n",
    "    \"\"\"Parse leaves in chunk and return after checking acceptable conditions, normalizing and lemmatizing\"\"\"\n",
    "    for leaf in leaves(tree):\n",
    "        term = [ normalise(w) for w,t in leaf if acceptableWord(w) ]\n",
    "        yield term"
   ]
  },
  {
   "cell_type": "markdown",
   "metadata": {},
   "source": [
    "Set of nouns for each sentence"
   ]
  },
  {
   "cell_type": "code",
   "execution_count": 38,
   "metadata": {},
   "outputs": [
    {
     "name": "stderr",
     "output_type": "stream",
     "text": [
      "100%|██████████| 202/202 [00:00<00:00, 456.85it/s]\n"
     ]
    }
   ],
   "source": [
    "# Set of nouns for the apriori algorithm\n",
    "\n",
    "def isNoun(n):\n",
    "    if n=='NN' or n=='NNS' or n=='NNP' or n=='NNPS':\n",
    "        return True\n",
    "\n",
    "revset=[]\n",
    "for line in tqdm(sent_fullreview):\n",
    "    # print(line)\n",
    "    a = nltk.word_tokenize(line)\n",
    "    # print(a)\n",
    "    nouns = [word for (word, pos) in nltk.pos_tag(a) if isNoun(pos)] \n",
    "    # print(nouns)\n",
    "    terms = getTerms(nouns)\n",
    "    # print(terms)\n",
    "\n",
    "    revset.append(terms)\n",
    "\n"
   ]
  },
  {
   "cell_type": "code",
   "execution_count": 39,
   "metadata": {},
   "outputs": [
    {
     "name": "stdout",
     "output_type": "stream",
     "text": [
      "['mug', 'famili']\n",
      "[['mug', 'famili'], ['spill', 'drink', 'cup', 'experi', 'star', 'review'], ['compani', 'day'], ['lid', 'cost', 'cup', 'okay', 'stori', 'tea', 'drinker'], ['vinegar', 'mug', 'lid', 'clean', 'use', 'soap', 'water'], ['point'], ['start', 'leak'], ['kid', 'mug', 'someth'], ['lid', 'problem', 'kid', 'glass', 'mug', 'sit', 'tabl', 'order', 'mug', 'leak', 'creak', 'purpos'], ['one', 'issu']]\n"
     ]
    }
   ],
   "source": [
    "print(revset[0])\n",
    "print(revset[:10])"
   ]
  },
  {
   "cell_type": "code",
   "execution_count": 40,
   "metadata": {},
   "outputs": [
    {
     "data": {
      "text/plain": [
       "202"
      ]
     },
     "execution_count": 40,
     "metadata": {},
     "output_type": "execute_result"
    }
   ],
   "source": [
    "len(revset)"
   ]
  },
  {
   "cell_type": "markdown",
   "metadata": {},
   "source": [
    "Extracting the items contained in the reviews"
   ]
  },
  {
   "cell_type": "code",
   "execution_count": 41,
   "metadata": {},
   "outputs": [
    {
     "name": "stderr",
     "output_type": "stream",
     "text": [
      "100%|██████████| 1/1 [00:00<00:00, 1589.96it/s]\n",
      "0it [00:00, ?it/s]"
     ]
    },
    {
     "name": "stdout",
     "output_type": "stream",
     "text": [
      "('mug',) 0.22772277227722773\n",
      "('coffe',) 0.13366336633663367\n",
      "('lid',) 0.12871287128712872\n",
      "('contigo',) 0.11386138613861387\n"
     ]
    },
    {
     "name": "stderr",
     "output_type": "stream",
     "text": [
      "\n"
     ]
    }
   ],
   "source": [
    "items, rules = runApriori(revset, 0.1, 0.6)\n",
    "printResults(items)"
   ]
  },
  {
   "cell_type": "markdown",
   "metadata": {},
   "source": [
    "Polarity of the sentences, conventional Liu and Hu Opinion Lexicon\n",
    "TBD: We may want to substitute with a more advanced sentiment detection algorithm"
   ]
  },
  {
   "cell_type": "code",
   "execution_count": 42,
   "metadata": {},
   "outputs": [],
   "source": [
    "\n",
    "def custom_liu_hu_lexicon(sentence):\n",
    "    '''Takes in a sentence and returns the sentiment of the sentence by counting the no of positive and negitive \n",
    "    and negitive words and by reversing the sentiment if the words NO or NOT are present\n",
    "    '''\n",
    "    from nltk.corpus import opinion_lexicon\n",
    "    from nltk.tokenize import treebank\n",
    "\n",
    "    tokenizer = treebank.TreebankWordTokenizer()\n",
    "    pos_words = 0\n",
    "    neg_words = 0\n",
    "    tokenized_sent = [word.lower() for word in tokenizer.tokenize(sentence)]\n",
    "\n",
    "    x = list(range(len(tokenized_sent))) \n",
    "    y = []\n",
    "    isNegation = False\n",
    "    negationWords = ['no','not','never','none','hardly','rarely','scarcely']\n",
    "\n",
    "    for word in tokenized_sent:\n",
    "        if word in opinion_lexicon.positive():\n",
    "            pos_words += 1\n",
    "            y.append(1) # positive\n",
    "        elif word in opinion_lexicon.negative():\n",
    "            neg_words += 1\n",
    "            y.append(-1) # negative\n",
    "        else:\n",
    "            y.append(0) # neutral\n",
    "            \n",
    "        if word in negationWords:\n",
    "            isNegation = True\n",
    "\n",
    "    if pos_words > neg_words and isNegation==True:\n",
    "        return 'neg'\n",
    "    elif pos_words > neg_words:\n",
    "        return 'pos'\n",
    "    elif pos_words < neg_words and isNegation==True:\n",
    "        return 'pos'\n",
    "    elif pos_words < neg_words:\n",
    "        return 'neg'\n",
    "    # Changed from neutral to negative\n",
    "    # Not using neutral for this version\n",
    "    elif pos_words == neg_words:\n",
    "        return 'neg'"
   ]
  },
  {
   "cell_type": "code",
   "execution_count": 43,
   "metadata": {},
   "outputs": [
    {
     "name": "stdout",
     "output_type": "stream",
     "text": [
      "[nltk_data] Downloading package opinion_lexicon to\n",
      "[nltk_data]     /Users/gkhanna/nltk_data...\n",
      "[nltk_data]   Package opinion_lexicon is already up-to-date!\n"
     ]
    },
    {
     "data": {
      "text/plain": [
       "True"
      ]
     },
     "execution_count": 43,
     "metadata": {},
     "output_type": "execute_result"
    }
   ],
   "source": [
    "nltk.download('opinion_lexicon')"
   ]
  },
  {
   "cell_type": "code",
   "execution_count": 44,
   "metadata": {},
   "outputs": [
    {
     "data": {
      "text/plain": [
       "202"
      ]
     },
     "execution_count": 44,
     "metadata": {},
     "output_type": "execute_result"
    }
   ],
   "source": [
    "len(sent_fullreview)"
   ]
  },
  {
   "cell_type": "code",
   "execution_count": 45,
   "metadata": {},
   "outputs": [
    {
     "data": {
      "text/plain": [
       "list"
      ]
     },
     "execution_count": 45,
     "metadata": {},
     "output_type": "execute_result"
    }
   ],
   "source": [
    "type(sent_fullreview)"
   ]
  },
  {
   "cell_type": "code",
   "execution_count": 46,
   "metadata": {},
   "outputs": [],
   "source": [
    "\n",
    "# neutral_review=[]\n",
    "# positive_review=[]\n",
    "# negative_review=[]\n",
    "\n",
    "# for sentence in tqdm(sent_pos_review):\n",
    "#     for i in items:\n",
    "#         if i[0][0] in sentence:\n",
    "#             #print(i[0][0] +\"--\" + sentence)\n",
    "#             x=custom_liu_hu_lexicon(sentence)\n",
    "#             if(x==\"pos\"):\n",
    "#                 positive_review.append(sentence)\n",
    "#             elif(x==\"neg\"):\n",
    "#                 negative_review.append(sentence)\n",
    "#             else:\n",
    "#                 neutral_review.append(sentence)\n",
    "#             break\n",
    "\n",
    "# # Extracting sentiments from the negative reviews\n",
    "# for sentence in tqdm(sent_neg_review):\n",
    "#     for i in items:\n",
    "#         if i[0][0] in sentence:\n",
    "#             #print(i[0][0] +\"--\" + sentence)\n",
    "#             x=custom_liu_hu_lexicon(sentence)\n",
    "#             if(x==\"pos\"):\n",
    "#                 positive_review.append(sentence)\n",
    "#             elif(x==\"neg\"):\n",
    "#                 negative_review.append(sentence)\n",
    "#             else:\n",
    "#                 neutral_review.append(sentence)\n",
    "#             break\n",
    "            \n",
    "# print('done')"
   ]
  },
  {
   "cell_type": "code",
   "execution_count": 47,
   "metadata": {},
   "outputs": [
    {
     "name": "stderr",
     "output_type": "stream",
     "text": [
      "100%|██████████| 202/202 [01:47<00:00,  2.46it/s]"
     ]
    },
    {
     "name": "stdout",
     "output_type": "stream",
     "text": [
      "done\n"
     ]
    },
    {
     "name": "stderr",
     "output_type": "stream",
     "text": [
      "\n"
     ]
    }
   ],
   "source": [
    "# Extracting sentiments from the positive reviews\n",
    "neutral_review=[]\n",
    "positive_review=[]\n",
    "negative_review=[]\n",
    "\n",
    "for sentence in tqdm(sent_fullreview):\n",
    "    x=custom_liu_hu_lexicon(sentence)\n",
    "    if(x==\"pos\"):\n",
    "        positive_review.append(sentence)\n",
    "    elif(x==\"neg\"):\n",
    "        negative_review.append(sentence)\n",
    "    else:\n",
    "        neutral_review.append(sentence)\n",
    "print('done')"
   ]
  },
  {
   "cell_type": "code",
   "execution_count": 48,
   "metadata": {},
   "outputs": [
    {
     "name": "stdout",
     "output_type": "stream",
     "text": [
      "69\n"
     ]
    }
   ],
   "source": [
    "print(len(positive_review))"
   ]
  },
  {
   "cell_type": "code",
   "execution_count": 49,
   "metadata": {},
   "outputs": [
    {
     "name": "stdout",
     "output_type": "stream",
     "text": [
      "133\n"
     ]
    }
   ],
   "source": [
    "print(len(negative_review))"
   ]
  },
  {
   "cell_type": "code",
   "execution_count": 50,
   "metadata": {},
   "outputs": [
    {
     "name": "stdout",
     "output_type": "stream",
     "text": [
      "0\n"
     ]
    }
   ],
   "source": [
    "print(len(neutral_review))"
   ]
  },
  {
   "cell_type": "code",
   "execution_count": 51,
   "metadata": {},
   "outputs": [
    {
     "name": "stderr",
     "output_type": "stream",
     "text": [
      "100%|██████████| 202/202 [00:00<00:00, 5757.26it/s]\n"
     ]
    }
   ],
   "source": [
    "# Convert all sentences into tokens/words\n",
    "all_sen_tok = []\n",
    "for sentence in tqdm(sent_fullreview):\n",
    "    all_sen_tok.append(nltk.word_tokenize(sentence))"
   ]
  },
  {
   "cell_type": "code",
   "execution_count": 52,
   "metadata": {},
   "outputs": [
    {
     "name": "stderr",
     "output_type": "stream",
     "text": [
      "100%|██████████| 69/69 [00:00<00:00, 5960.03it/s]\n",
      "100%|██████████| 133/133 [00:00<00:00, 5621.09it/s]\n"
     ]
    }
   ],
   "source": [
    "# Convert positive, negative and neutral sentences into tokens/words\n",
    "pos_sen_tok = []\n",
    "neg_sen_tok = []\n",
    "for sentence in tqdm(positive_review):\n",
    "    pos_sen_tok.append(nltk.word_tokenize(sentence))\n",
    "for sentence in tqdm(negative_review):\n",
    "    neg_sen_tok.append(nltk.word_tokenize(sentence))"
   ]
  },
  {
   "cell_type": "code",
   "execution_count": 53,
   "metadata": {},
   "outputs": [
    {
     "name": "stdout",
     "output_type": "stream",
     "text": [
      "['I', 'purchased', '6', 'total', 'mugs', 'for', 'my', 'family', '.']\n",
      "['These', 'look', 'great', ',', 'I', 'do', \"n't\", 'have', 'to', 'worry', 'about', 'spills', ',', 'and', 'they', 'keep', 'drinks', 'warm', '(', 'warmer', 'than', 'any', 'other', 'cups', 'based', 'on', 'my', 'experience', ')', ';', 'okay', ',', 'so', 'why', 'do', 'they', 'get', '1', 'star', 'and', 'a', 'bad', 'review', '?']\n",
      "['I', 'purchased', '6', 'total', 'mugs', 'for', 'my', 'family', '.']\n"
     ]
    }
   ],
   "source": [
    "print(all_sen_tok[0])\n",
    "print(pos_sen_tok[0])\n",
    "print(neg_sen_tok[0])"
   ]
  },
  {
   "cell_type": "code",
   "execution_count": 54,
   "metadata": {},
   "outputs": [
    {
     "name": "stdout",
     "output_type": "stream",
     "text": [
      "[nltk_data] Downloading package averaged_perceptron_tagger to\n",
      "[nltk_data]     /Users/gkhanna/nltk_data...\n",
      "[nltk_data]   Package averaged_perceptron_tagger is already up-to-\n",
      "[nltk_data]       date!\n"
     ]
    },
    {
     "data": {
      "text/plain": [
       "True"
      ]
     },
     "execution_count": 54,
     "metadata": {},
     "output_type": "execute_result"
    }
   ],
   "source": [
    "nltk.download('averaged_perceptron_tagger')"
   ]
  },
  {
   "cell_type": "code",
   "execution_count": 55,
   "metadata": {},
   "outputs": [
    {
     "name": "stderr",
     "output_type": "stream",
     "text": [
      "100%|██████████| 202/202 [00:00<00:00, 958.38it/s]\n"
     ]
    }
   ],
   "source": [
    "# Gave an error without downloading the nltk averaged_perceptron_tagger\n",
    "# Find POS tags for all the sentences\n",
    "all_sen_tok_tagged = []\n",
    "for sentence_t in tqdm(all_sen_tok):\n",
    "    all_sen_tok_tagged.append(nltk.tag.pos_tag(sentence_t))"
   ]
  },
  {
   "cell_type": "code",
   "execution_count": 56,
   "metadata": {},
   "outputs": [
    {
     "name": "stderr",
     "output_type": "stream",
     "text": [
      "100%|██████████| 69/69 [00:00<00:00, 961.22it/s]\n",
      "100%|██████████| 133/133 [00:00<00:00, 851.92it/s]\n"
     ]
    }
   ],
   "source": [
    "# Gave an error without downloading the nltk averaged_perceptron_tagger\n",
    "# Find POS tags for positive, negative and neutral sentences\n",
    "pos_sen_tok_tagged = []\n",
    "neg_sen_tok_tagged = []\n",
    "\n",
    "for sentence_t in tqdm(pos_sen_tok):\n",
    "    pos_sen_tok_tagged.append(nltk.tag.pos_tag(sentence_t))\n",
    "for sentence_t in tqdm(neg_sen_tok):\n",
    "    neg_sen_tok_tagged.append(nltk.tag.pos_tag(sentence_t))\n"
   ]
  },
  {
   "cell_type": "code",
   "execution_count": 57,
   "metadata": {},
   "outputs": [
    {
     "name": "stdout",
     "output_type": "stream",
     "text": [
      "[('I', 'PRP'), ('purchased', 'VBD'), ('6', 'CD'), ('total', 'JJ'), ('mugs', 'NNS'), ('for', 'IN'), ('my', 'PRP$'), ('family', 'NN'), ('.', '.')]\n"
     ]
    }
   ],
   "source": [
    "print(all_sen_tok_tagged[0])"
   ]
  },
  {
   "cell_type": "code",
   "execution_count": 58,
   "metadata": {},
   "outputs": [
    {
     "name": "stdout",
     "output_type": "stream",
     "text": [
      "[('I', 'PRP'), ('purchased', 'VBD'), ('6', 'CD'), ('total', 'JJ'), ('mugs', 'NNS'), ('for', 'IN'), ('my', 'PRP$'), ('family', 'NN'), ('.', '.')]\n"
     ]
    }
   ],
   "source": [
    "print(neg_sen_tok_tagged[0])"
   ]
  },
  {
   "cell_type": "markdown",
   "metadata": {},
   "source": [
    "Extract phrases that talk about features and associated sentiment/opinion"
   ]
  },
  {
   "cell_type": "markdown",
   "metadata": {},
   "source": [
    "Changed to markdown as not using P9 and P10\n",
    "Patterns that we want to extract\n",
    "We think these are the ones that contain features\n",
    "\n",
    "feature_patterns = r\"\"\"       \n",
    "    P1:{<JJ><NN|NNS>}\n",
    "    P2:{<JJ><NN|NNS><NN|NNS>}\n",
    "    P3:{<RB|RBR|RBS><JJ>}\n",
    "    P4:{<RB|RBR|RBS><JJ|RB|RBR|RBS><NN|NNS>}\n",
    "    P5:{<RB|RBR|RBS><VBN|VBD>}\n",
    "    P6:{<RB|RBR|RBS><RB|RBR|RBS><JJ>}\n",
    "    P7:{<VBN|VBD><NN|NNS>}\n",
    "    P8:{<VBN|VBD><RB|RBR|RBS>}\n",
    "    P9:{<NN.*|JJ>*<NN.*>}\n",
    "    P10:\n",
    "        {<P9>}\n",
    "        {<P9><IN><P9>} # Above, connected with in, of, etc\n",
    "\"\"\"\n"
   ]
  },
  {
   "cell_type": "code",
   "execution_count": 59,
   "metadata": {},
   "outputs": [],
   "source": [
    "# Patterns that we want to extract\n",
    "# We think these are the ones that contain features\n",
    "feature_patterns = r\"\"\"       \n",
    "    P1:{<JJ><NN|NNS>}\n",
    "    P2:{<JJ><NN|NNS><NN|NNS>}\n",
    "    P3:{<RB|RBR|RBS><JJ>}\n",
    "    P4:{<RB|RBR|RBS><JJ|RB|RBR|RBS><NN|NNS>}\n",
    "    P5:{<RB|RBR|RBS><VBN|VBD>}\n",
    "    P6:{<RB|RBR|RBS><RB|RBR|RBS><JJ>}\n",
    "    P7:{<VBN|VBD><NN|NNS>}\n",
    "    P8:{<VBN|VBD><RB|RBR|RBS>}\n",
    "    P9:{<JJ>*<NN.*>}\n",
    "    P10:\n",
    "        {<P9>}\n",
    "        {<P9><IN><P9>} # Above, connected with in, of, etc\n",
    "\"\"\""
   ]
  },
  {
   "cell_type": "code",
   "execution_count": 60,
   "metadata": {},
   "outputs": [],
   "source": [
    "# Alternate feature patterm for experiment\n",
    "# grammar = \"NP:{<dt|pp|cd>?<jj||jjr|jjs>*<nn|nns|prp|nnp|in|prp\\$>+<vbd|vbz|vbn|vbp|in>*<jj|rb>*<prp|nn|nns>*}\""
   ]
  },
  {
   "cell_type": "code",
   "execution_count": 61,
   "metadata": {},
   "outputs": [],
   "source": [
    "# Alternate feature patterm for experiment\n",
    "grammar = r\"\"\"\n",
    "    P1:{<dt|pp|cd>?<jj||jjr|jjs>*<nn|nns|prp|nnp|in|prp\\$>+<vbd|vbz|vbn|vbp|in>*<jj|rb>*<prp|nn|nns>*}\n",
    "        \"\"\""
   ]
  },
  {
   "cell_type": "code",
   "execution_count": 62,
   "metadata": {},
   "outputs": [],
   "source": [
    "grammar = r\"\"\"\n",
    "        P1:\n",
    "            {<NN.*|JJ>*<NN.*>}  # Nouns and Adjectives, terminated with Nouns\n",
    "\n",
    "        p2:\n",
    "            {<P1>}\n",
    "            {<P1><IN><P1>} # Above, connected with in, of, etc\n",
    "        \"\"\"\n"
   ]
  },
  {
   "cell_type": "code",
   "execution_count": 63,
   "metadata": {},
   "outputs": [],
   "source": [
    "# grammar1 = \"P1:{(<JJ>* <NN.*>+ <IN>)? <JJ>* <NN.*>+}\""
   ]
  },
  {
   "cell_type": "markdown",
   "metadata": {},
   "source": [
    "Utility functions"
   ]
  },
  {
   "cell_type": "code",
   "execution_count": 64,
   "metadata": {},
   "outputs": [],
   "source": [
    "def getTerms1(tree):\n",
    "    \"\"\"Returns the words after checking acceptable conditions, normalizing and lemmatizing\"\"\"\n",
    "    term = [ normalise(w) for w in tree if acceptable_word(w) ]\n",
    "    yield term"
   ]
  },
  {
   "cell_type": "code",
   "execution_count": 65,
   "metadata": {},
   "outputs": [],
   "source": [
    "# Extract feature phrases with ngram rules\n",
    "def extractFeaturePhrases(tagged, feature_patterns):\n",
    "    out = []\n",
    "    for phrase in tqdm(tagged):\n",
    "        r_parser = nltk.RegexpParser(feature_patterns)\n",
    "        chunk_2 = r_parser.parse(phrase)\n",
    "        term = getNorm(chunk_2)\n",
    "        \n",
    "        for ter in term:\n",
    "            word_concat = \"\"\n",
    "            for word in ter:\n",
    "                word_concat = word_concat + \" \" + word\n",
    "                \n",
    "            if (len(ter) > 1):\n",
    "                out.append(word_concat)\n",
    "        \n",
    "    return out\n",
    " "
   ]
  },
  {
   "cell_type": "code",
   "execution_count": 66,
   "metadata": {},
   "outputs": [
    {
     "name": "stderr",
     "output_type": "stream",
     "text": [
      "100%|██████████| 202/202 [00:02<00:00, 96.52it/s]\n",
      "100%|██████████| 69/69 [00:00<00:00, 814.54it/s]\n",
      "100%|██████████| 133/133 [00:00<00:00, 799.18it/s]\n"
     ]
    }
   ],
   "source": [
    "extracted = extractFeaturePhrases(all_sen_tok_tagged, feature_patterns)\n",
    "extracted_pos = extractFeaturePhrases(pos_sen_tok_tagged, feature_patterns)\n",
    "extracted_neg = extractFeaturePhrases(neg_sen_tok_tagged, feature_patterns)    "
   ]
  },
  {
   "cell_type": "code",
   "execution_count": 67,
   "metadata": {},
   "outputs": [
    {
     "name": "stdout",
     "output_type": "stream",
     "text": [
      "[' total mug', ' bad review', ' 30-60 day', ' daili tea', ' singl use', ' mug start', ' regular glass', ' start leak', ' replac lid', ' new lid']\n"
     ]
    }
   ],
   "source": [
    "print(extracted[:10])"
   ]
  },
  {
   "cell_type": "code",
   "execution_count": 68,
   "metadata": {},
   "outputs": [
    {
     "name": "stdout",
     "output_type": "stream",
     "text": [
      "[' total mug', ' 30-60 day', ' daili tea', ' mug start', ' replac lid', ' new lid', ' new lids.ok', ' big box', ' 30-60 day', ' total cost']\n"
     ]
    }
   ],
   "source": [
    "print(extracted_neg[:10])"
   ]
  },
  {
   "cell_type": "code",
   "execution_count": 69,
   "metadata": {},
   "outputs": [
    {
     "name": "stdout",
     "output_type": "stream",
     "text": [
      "[' bad review', ' singl use', ' regular glass', ' start leak', ' 6-13 cent', ' simpli put', ' 16-ounc vacuum-insul', ' 16-ounc vacuum-insul', ' amazon custom', ' long review']\n"
     ]
    }
   ],
   "source": [
    "print(extracted_pos[:10])"
   ]
  },
  {
   "cell_type": "code",
   "execution_count": 70,
   "metadata": {},
   "outputs": [],
   "source": [
    "import matplotlib\n",
    "import matplotlib.pyplot as plt"
   ]
  },
  {
   "cell_type": "markdown",
   "metadata": {},
   "source": [
    "Find out the most common ones, frequency distribution"
   ]
  },
  {
   "cell_type": "code",
   "execution_count": 71,
   "metadata": {},
   "outputs": [
    {
     "name": "stdout",
     "output_type": "stream",
     "text": [
      "[(' hot coffe', 7), (' oz version', 6), (' hot liquid', 4), (' big deal', 3), (' addit capac', 3), (' hot beverag', 3), (' black gunk', 3), (' 30-60 day', 2), (' simpli put', 2), (' 16-ounc vacuum-insul', 2), (' mani year', 2), (' singl day', 2), (' non-paint s', 2), (' open mouth', 2), (' hot drink', 2), (' great product', 2), (' hot soapi', 2), (' new starbuck', 2), (' -= degrad', 2), (' long time', 2)]\n",
      " hot coffe\n"
     ]
    },
    {
     "data": {
      "image/png": "[encoded data removed]",
      "text/plain": [
       "<Figure size 720x504 with 1 Axes>"
      ]
     },
     "metadata": {
      "needs_background": "light"
     },
     "output_type": "display_data"
    }
   ],
   "source": [
    "freqdist = nltk.FreqDist(word for word in extracted)\n",
    "most_common = freqdist.most_common()\n",
    "print(most_common[:20])\n",
    "print(freqdist.max())\n",
    "plt.figure(figsize=(10, 7))  # We want a bigger size plot\n",
    "freqdist.plot(20, title = \"Most Frequent Feature Phrases\", cumulative = False)"
   ]
  },
  {
   "cell_type": "code",
   "execution_count": 72,
   "metadata": {},
   "outputs": [
    {
     "name": "stdout",
     "output_type": "stream",
     "text": [
      "FreqDist({' hot coffe': 7, ' oz version': 6, ' hot liquid': 4, ' big deal': 3, ' addit capac': 3, ' hot beverag': 3, ' black gunk': 3, ' 30-60 day': 2, ' simpli put': 2, ' 16-ounc vacuum-insul': 2, ' mani year': 2, ' singl day': 2, ' non-paint s': 2, ' open mouth': 2, ' hot drink': 2, ' great product': 2, ' hot soapi': 2, ' new starbuck': 2, ' -= degrad': 2, ' long time': 2, ...})\n"
     ]
    }
   ],
   "source": [
    "freqdist.pprint(maxlen = 20)"
   ]
  },
  {
   "cell_type": "markdown",
   "metadata": {},
   "source": [
    "Most common positive and negative phrases"
   ]
  },
  {
   "cell_type": "code",
   "execution_count": 73,
   "metadata": {},
   "outputs": [
    {
     "name": "stdout",
     "output_type": "stream",
     "text": [
      "[(' simpli put', 2), (' 16-ounc vacuum-insul', 2), (' mani year', 2), (' oz version', 2), (' great product', 2), (' hot coffe', 2), (' hot water', 2), (' bad review', 1), (' singl use', 1), (' regular glass', 1)]\n",
      " simpli put\n",
      "           simpli put  16-ounc vacuum-insul             mani year            oz version         great product             hot coffe \n",
      "                    2                     2                     2                     2                     2                     2 \n"
     ]
    }
   ],
   "source": [
    "# Positive\n",
    "freqdist_pos = nltk.FreqDist(word for word in extracted_pos)\n",
    "most_common_pos = freqdist_pos.most_common()\n",
    "print(most_common_pos[:10])\n",
    "print(freqdist_pos.max())\n",
    "freq_tab_pos = freqdist_pos.tabulate(6)"
   ]
  },
  {
   "cell_type": "code",
   "execution_count": 74,
   "metadata": {},
   "outputs": [
    {
     "data": {
      "image/png": "[encoded data removed]",
      "text/plain": [
       "<Figure size 720x504 with 1 Axes>"
      ]
     },
     "metadata": {
      "needs_background": "light"
     },
     "output_type": "display_data"
    }
   ],
   "source": [
    "plt.figure(figsize=(10, 7))  # We want a bigger size plot\n",
    "freqdist_pos.plot(20, title = \"Most Frequent Feature Phrases\", cumulative = False)"
   ]
  },
  {
   "cell_type": "code",
   "execution_count": 75,
   "metadata": {},
   "outputs": [
    {
     "name": "stdout",
     "output_type": "stream",
     "text": [
      "[(' hot coffe', 5), (' oz version', 4), (' big deal', 3), (' addit capac', 3), (' hot liquid', 3), (' 30-60 day', 2), (' non-paint s', 2), (' open mouth', 2), (' hot beverag', 2), (' hot drink', 2)]\n",
      " hot coffe\n",
      "   hot coffe   oz version     big deal  addit capac   hot liquid    30-60 day \n",
      "           5            4            3            3            3            2 \n"
     ]
    }
   ],
   "source": [
    "# Negative\n",
    "freqdist_neg = nltk.FreqDist(word for word in extracted_neg)\n",
    "most_common_neg = freqdist_neg.most_common()\n",
    "print(most_common_neg[:10])\n",
    "print(freqdist_neg.max())\n",
    "freq_tab_neg = freqdist_neg.tabulate(6)"
   ]
  },
  {
   "cell_type": "code",
   "execution_count": 76,
   "metadata": {},
   "outputs": [
    {
     "data": {
      "image/png": "[encoded data removed]",
      "text/plain": [
       "<Figure size 720x504 with 1 Axes>"
      ]
     },
     "metadata": {
      "needs_background": "light"
     },
     "output_type": "display_data"
    }
   ],
   "source": [
    "plt.figure(figsize=(10, 7))  # We want a bigger size plot\n",
    "freqdist_neg.plot(20, title = \"Most Frequent Feature Phrases\", cumulative = False)"
   ]
  },
  {
   "cell_type": "markdown",
   "metadata": {},
   "source": [
    "Unlemmatize and unstem using the dictionary created earlier"
   ]
  },
  {
   "cell_type": "code",
   "execution_count": 77,
   "metadata": {},
   "outputs": [],
   "source": [
    "import inflect"
   ]
  },
  {
   "cell_type": "code",
   "execution_count": 78,
   "metadata": {},
   "outputs": [
    {
     "name": "stderr",
     "output_type": "stream",
     "text": [
      "100%|██████████| 212/212 [00:00<00:00, 9152.59it/s]\n",
      "100%|██████████| 63/63 [00:00<00:00, 8560.91it/s]\n",
      "100%|██████████| 156/156 [00:00<00:00, 8715.90it/s]\n"
     ]
    }
   ],
   "source": [
    "p = inflect.engine()\n",
    "def replacewords(mc):\n",
    "    newmc=[]\n",
    "    for a in tqdm(mc):\n",
    "        newword=\"\";found=False;\n",
    "        for b in a[0].split():            \n",
    "            for x in lem_word_mapping:\n",
    "                #print(x)\n",
    "                #print(b)\n",
    "                if b==x:\n",
    "                    found=True\n",
    "                    sing=(lem_word_mapping[x] if p.singular_noun(lem_word_mapping[x])==False else p.singular_noun(lem_word_mapping[x]))\n",
    "                    if newword==\"\":\n",
    "                        newword = newword + sing\n",
    "                    else:\n",
    "                        newword = newword + \" \" +  sing\n",
    "            if found==False:\n",
    "                if newword==\"\":\n",
    "                    newword = newword + b\n",
    "                else:\n",
    "                    newword = newword + \" \" +  b\n",
    "                    #print(newword)\n",
    "        newmc.append((newword,a[1]))\n",
    "    return newmc\n",
    "\n",
    "final = replacewords(most_common)\n",
    "final_pos = replacewords(most_common_pos)\n",
    "final_neg = replacewords(most_common_neg)"
   ]
  },
  {
   "cell_type": "code",
   "execution_count": 79,
   "metadata": {},
   "outputs": [
    {
     "name": "stdout",
     "output_type": "stream",
     "text": [
      "Top Feature Phrases:\n",
      "('hot coffee', 7)\n",
      "[('hot coffee', 7), ('oz version', 6), ('hot liquid', 4), ('big deal', 3), ('additional capacity', 3), ('hot beverage', 3), ('black gunk', 3), ('30-60 day', 2), ('simply', 2), ('16-ounce vacuum-insulated', 2), ('many year', 2), ('single day', 2), ('non-painted s', 2), ('opening', 2), ('hot drinking', 2), ('great production', 2), ('hot soapy', 2), ('new starbuck', 2), ('-= degraded', 2), ('long time', 2), ('well made', 2), ('taken apart', 2), ('cold liquid', 2), ('hot water', 2), ('similar steel-bodied starbuck', 2), ('total mug', 1), ('bad review', 1), ('daily', 1), ('single', 1), ('mug started', 1), ('regular glass', 1), ('started leaking', 1), ('replacement lidded', 1), ('new lidded', 1), ('new lids.ok', 1), ('big box', 1), ('total cost', 1), ('tax.the', 1), ('ever dealt', 1), ('6-13 cent', 1), ('expressed intention', 1), ('replacement mug', 1), ('amazon customer', 1), ('long review', 1), ('quite obviou', 1), ('single', 1), ('likely employee', 1), ('never honored', 1), ('many comment', 1), ('phony', 1)]\n",
      "Top Positive Feature Phrases:\n",
      "('simply', 2)\n",
      "[('simply', 2), ('16-ounce vacuum-insulated', 2), ('many year', 2), ('oz version', 2), ('great production', 2), ('hot coffee', 2), ('hot water', 2), ('bad review', 1), ('single', 1), ('regular glass', 1), ('started leaking', 1), ('6-13 cent', 1), ('amazon customer', 1), ('long review', 1), ('single day', 1), ('overall alternative', 1), ('daily usage', 1), ('drinking.i see', 1), ('extra', 1), ('plastic version', 1), ('practical', 1), ('noticed problem', 1), ('easily cleaned', 1), ('new version', 1), ('old version', 1), ('good traveled', 1), ('still worth', 1), ('second thing', 1), ('swipe-to-open lidded', 1), ('worked wonderfully', 1), ('still warm', 1), ('much quicker.the', 1), ('3-4 hour', 1), ('minor ding', 1), ('black gunk', 1), ('tiny crevice', 1), ('plastic cap', 1), ('durable coffee', 1), ('well cleaned', 1), ('good service', 1), ('long time', 1), ('great company', 1), ('awesome costumer', 1), ('great job', 1), ('similar one', 1), ('perfect.the problem', 1), ('hot liquid', 1), ('important part', 1), ('sent mine', 1), ('great design', 1)]\n",
      "Top Negative Feature Phrases:\n",
      "('hot coffee', 5)\n",
      "[('hot coffee', 5), ('oz version', 4), ('big deal', 3), ('additional capacity', 3), ('hot liquid', 3), ('30-60 day', 2), ('non-painted s', 2), ('opening', 2), ('hot beverage', 2), ('hot drinking', 2), ('hot soapy', 2), ('new starbuck', 2), ('-= degraded', 2), ('well made', 2), ('black gunk', 2), ('taken apart', 2), ('cold liquid', 2), ('similar steel-bodied starbuck', 2), ('total mug', 1), ('daily', 1), ('mug started', 1), ('replacement lidded', 1), ('new lidded', 1), ('new lids.ok', 1), ('big box', 1), ('total cost', 1), ('tax.the', 1), ('ever dealt', 1), ('expressed intention', 1), ('replacement mug', 1), ('quite obviou', 1), ('single', 1), ('likely employee', 1), ('never honored', 1), ('many comment', 1), ('phony', 1), ('actually contacted', 1), ('entire mechanism', 1), ('single day', 1), ('minor dent', 1), ('almost never leaking', 1), ('slight variation', 1), ('well insulated', 1), ('several top', 1), ('new top', 1), ('first mug', 1), ('insulated', 1), ('quickly purchase', 1), ('les likely', 1), ('competitors.the design', 1)]\n"
     ]
    }
   ],
   "source": [
    "print(\"Top Feature Phrases:\")\n",
    "print(final[0])\n",
    "print(final[:50])\n",
    "print(\"Top Positive Feature Phrases:\")\n",
    "print(final_pos[0])\n",
    "print(final_pos[:50])\n",
    "print(\"Top Negative Feature Phrases:\")\n",
    "print(final_neg[0])\n",
    "print(final_neg[:50])"
   ]
  },
  {
   "cell_type": "markdown",
   "metadata": {},
   "source": [
    "We'll find out the opinions corresponding to the most common features.\n",
    "Its a simple search in a bunch of lists/files at this point"
   ]
  },
  {
   "cell_type": "code",
   "execution_count": 80,
   "metadata": {},
   "outputs": [],
   "source": [
    "def featuresInContext(item_arr, opinion_phrases, sentence_arr ):\n",
    "    for item,support in tqdm(sorted(item_arr, key=lambda item_support: item_support[1], reverse=True)):\n",
    "        count = 0\n",
    "        print(\"------\" + \"Item > \" + item[0] + \"------\")\n",
    "        for phrase, freq in sorted(opinion_phrases, key = lambda phrase_freq: phrase_freq[1], reverse = True):\n",
    "            pcount = 0\n",
    "            if normalise(item[0]) in normalise(phrase):\n",
    "                count+=1\n",
    "                print(\"---\" + \"Phrase > \" + phrase + \"----\")\n",
    "                for l in sentence_arr:\n",
    "                    if normalise(phrase) in normalise(l):\n",
    "                        # print(\"Debug: \" + l)\n",
    "                        for b in zip(l.split(\" \")[:-1], l.split(\" \")[1:]):\n",
    "                            #print(b[0]+\" \"+b[1])\n",
    "                            if normalise(b[0])==normalise(item[0]):\n",
    "                                print(\"---\" + \"examplex\" + \"----\")\n",
    "                                print(l.replace(\"'\",\"\").replace(\"]\",\"\").replace(\"[\",\"\"))\n",
    "                                pcount+=1\n",
    "                                break\n",
    "                            elif (normalise(b[0])+\" \"+normalise(b[1]))==normalise(item[0]):\n",
    "                                print(\"---\" + \"exampley\" + \"----\")\n",
    "                                print(l.replace(\"'\",\"\").replace(\"]\",\"\").replace(\"[\",\"\"))\n",
    "                                pcount+=1\n",
    "                                break\n",
    "                        if pcount==4:\n",
    "                            break                \n",
    "            if count==4:\n",
    "                break \n",
    "        \n",
    "# sent_str = \"\"\n",
    "# sent_str = sent_str.join(sent_fullreview)\n",
    "# token_sentences = sent_tokenizer1.tokenize(sent_str)\n",
    "# featuresInContext(items, final, sent_fullreview)"
   ]
  },
  {
   "cell_type": "code",
   "execution_count": 81,
   "metadata": {},
   "outputs": [],
   "source": [
    "def featuresInContextA(item_arr, opinion_phrases, sentence_arr ):\n",
    "    for item,support in tqdm(sorted(item_arr, key=lambda item_support: item_support[1], reverse=True)):\n",
    "        count = 0\n",
    "        print(\"------\" + \"Item > \" + item[0] + \"------\")\n",
    "        for phrase, freq in sorted(opinion_phrases, key = lambda phrase_freq: phrase_freq[1], reverse = True):\n",
    "            pcount = 0\n",
    "            count+=1\n",
    "            print(\"---\" + \"Phrase > \" + str(count) + \" >>> \" + phrase + \"----\")\n",
    "            for l in sentence_arr:\n",
    "                if (normalise(phrase) in normalise(l)) and (normalise(item[0]) in normalise(l)):\n",
    "                    pcount+=1\n",
    "                    print(\"---\" + \"example > \" + str(pcount) + \" >>> \" + \"----\")\n",
    "                    print(l)\n",
    "                    if pcount==4:\n",
    "                        break                \n",
    "            if count==4:\n",
    "                break \n",
    "        \n",
    "              "
   ]
  },
  {
   "cell_type": "code",
   "execution_count": 82,
   "metadata": {},
   "outputs": [],
   "source": [
    "def featuresInContextB(item_arr, opinion_phrases, sentence_arr ):\n",
    "    # Count of the phrases\n",
    "    count = 0\n",
    "    # Latest time in a string\n",
    "    timestr = time.strftime(\"%Y%m%d-%H%M%S\")\n",
    "    # Outputfile\n",
    "    print(\"File created at: \" + timestr)\n",
    "    output_file_name = \"o_\" + timestr + \".txt\"\n",
    "    f= open(output_file_name,\"a+\")\n",
    "    # Go through the phrases and print sentences that contain them\n",
    "    for phrase, freq in sorted(opinion_phrases, key = lambda phrase_freq: phrase_freq[1], reverse = True):\n",
    "        # Count of the number of sentences\n",
    "        pcount = 0\n",
    "        count+=1\n",
    "        f.write(\"\\r\\n\")\n",
    "        f.write(\"---\" + \"Phrase > \" + str(count) + \" >>> \" + phrase + \"----\\r\\n\\r\\n\")\n",
    "        for l in sentence_arr:\n",
    "            if normalise(phrase) in normalise(l):\n",
    "                pcount+=1\n",
    "                f.write(\"---\" + \"example > \" + str(pcount) + \" >>> \" + \"----\\r\\n\")\n",
    "                f.write(\"%s\\r\\n\" %(l))\n",
    "                if pcount==5:\n",
    "                    break                \n",
    "        if count==5:\n",
    "            break \n",
    "    f.close()"
   ]
  },
  {
   "cell_type": "markdown",
   "metadata": {},
   "source": [
    "Modified to function without the item. Its assumed that the reviews are already constrained by the item in this case"
   ]
  },
  {
   "cell_type": "code",
   "execution_count": 83,
   "metadata": {},
   "outputs": [],
   "source": [
    "def featuresInContextC(opinion_phrases, sentence_arr ):\n",
    "    count = 0\n",
    "    for phrase, freq in sorted(opinion_phrases, key = lambda phrase_freq: phrase_freq[1], reverse = True):\n",
    "        pcount = 0\n",
    "        count +=1\n",
    "        print(\"---\" + \"Phrase > \" + str(count) + \" >>> \" + phrase + \"----\")\n",
    "        for l in sentence_arr:            \n",
    "            if normalise(phrase) in normalise(l):\n",
    "                pcount +=1\n",
    "                print(\"---\" + \"example > \" + str(pcount) + \" >>> \" + \"----\")\n",
    "                print(l)\n",
    "                \n",
    "                if pcount == 4:\n",
    "                    break\n",
    "        if count == 4:\n",
    "            break\n",
    "              "
   ]
  },
  {
   "cell_type": "code",
   "execution_count": 84,
   "metadata": {},
   "outputs": [],
   "source": [
    "# Extract sentences with features\n",
    "from collections import defaultdict\n",
    "def featuresAndContextOld(item_arr, opinion_phrases, sentence_arr, phrase_count, sentence_count ):\n",
    "    \"\"\" Extract sentences with features/opinion_phrases\n",
    "    item_arr is to constrain the context to items under study\n",
    "    Output is extracted into a file\n",
    "    Output is also return as a JSON string\n",
    "    \"\"\"\n",
    "\n",
    "\n",
    "    # Latest time in a string\n",
    "    timestr = time.strftime(\"%Y%m%d-%H%M%S\")\n",
    "\n",
    "    # Outputfile\n",
    "    print(\"File created at: \" + timestr)\n",
    "    output_file_name = \"o_\" + timestr + \".txt\"\n",
    "    output_json_name = \"o_\" + timestr + \".json\"\n",
    "\n",
    "    f= open(output_file_name,\"a+\")\n",
    "\n",
    "    # Output JSON\n",
    "    outDict = defaultdict(list)\n",
    "    outJSON = ''\n",
    "\n",
    "    p_count = 0\n",
    "    # Go through the phrases and print sentences that contain them\n",
    "    for phrase, freq in sorted(opinion_phrases, key = lambda phrase_freq: phrase_freq[1], reverse = True):\n",
    "\n",
    "        f.write(\"\\r\\n\")\n",
    "        f.write(\"---\" + \"Phrase > \" + str(p_count) + \" >>> \" + phrase + \"----\\r\\n\\r\\n\")\n",
    "        p_count += 1\n",
    "        s_count = 0\n",
    "        for l in sentence_arr:\n",
    "            if normalise(phrase) in normalise(l):\n",
    "                f.write(\"---\" + \"example > \" + str(s_count) + \" >>> \" + \"----\\r\\n\")\n",
    "                f.write(\"%s\\r\\n\" %(l))\n",
    "                outDict[phrase].append(l)\n",
    "                s_count += 1\n",
    "                if s_count == sentence_count:\n",
    "                    break\n",
    "        if p_count == phrase_count:\n",
    "            break\n",
    "    outJSON = json.dumps(outDict, sort_keys = True, indent = 4)\n",
    "    with open(output_json_name, 'w') as jf:\n",
    "        json.dump(outDict, jf, sort_keys = True, indent=4)\n",
    "\n",
    "    f.close()\n",
    "    return output_file_name, output_json_name, outJSON\n"
   ]
  },
  {
   "cell_type": "code",
   "execution_count": 85,
   "metadata": {},
   "outputs": [],
   "source": [
    "def featuresAndContext(item_arr, opinion_phrases, sentence_arr, phrase_count, sentence_count ):\n",
    "    \"\"\" Extract sentences with features/opinion_phrases\n",
    "    item_arr is to constrain the context to items under study\n",
    "    Output is returned as a JSON string\n",
    "    \"\"\"\n",
    "\n",
    "    # Output JSON\n",
    "    outDict = defaultdict(list)\n",
    "    outJSON = ''\n",
    "\n",
    "    p_count = 0\n",
    "    # Go through the phrases and print sentences that contain them\n",
    "    for phrase, freq in sorted(opinion_phrases, key = lambda phrase_freq: phrase_freq[1], reverse = True):\n",
    "\n",
    "        # f.write(\"\\r\\n\")\n",
    "        # f.write(\"---\" + \"Phrase > \" + str(p_count) + \" >>> \" + phrase + \"----\\r\\n\\r\\n\")\n",
    "        p_count += 1\n",
    "        s_count = 0\n",
    "        for l in sentence_arr:\n",
    "            if normalise(phrase) in normalise(l):\n",
    "                # f.write(\"---\" + \"example > \" + str(s_count) + \" >>> \" + \"----\\r\\n\")\n",
    "                # f.write(\"%s\\r\\n\" %(l))\n",
    "                outDict[phrase].append(l)\n",
    "                s_count += 1\n",
    "                if s_count == sentence_count:\n",
    "                    break\n",
    "        if p_count == phrase_count:\n",
    "            break\n",
    "    outJSON = json.dumps(outDict, sort_keys = True, indent = 4)\n",
    "    # with open(output_json_name, 'w') as jf:\n",
    "        # json.dump(outDict, jf, sort_keys = True, indent=4)\n",
    "\n",
    "    # f.close()\n",
    "    return outJSON"
   ]
  },
  {
   "cell_type": "code",
   "execution_count": 86,
   "metadata": {},
   "outputs": [
    {
     "name": "stdout",
     "output_type": "stream",
     "text": [
      "[(('lid',), 0.12871287128712872), (('mug',), 0.22772277227722773), (('contigo',), 0.11386138613861387), (('coffe',), 0.13366336633663367)]\n"
     ]
    }
   ],
   "source": [
    "print(items)"
   ]
  },
  {
   "cell_type": "markdown",
   "metadata": {},
   "source": [
    "Sort by support"
   ]
  },
  {
   "cell_type": "code",
   "execution_count": 87,
   "metadata": {},
   "outputs": [],
   "source": [
    "items.sort(key=lambda tup: tup[1], reverse=True) "
   ]
  },
  {
   "cell_type": "code",
   "execution_count": 88,
   "metadata": {},
   "outputs": [
    {
     "name": "stdout",
     "output_type": "stream",
     "text": [
      "[(('mug',), 0.22772277227722773), (('coffe',), 0.13366336633663367), (('lid',), 0.12871287128712872), (('contigo',), 0.11386138613861387)]\n"
     ]
    }
   ],
   "source": [
    "print(items)"
   ]
  },
  {
   "cell_type": "code",
   "execution_count": 89,
   "metadata": {},
   "outputs": [],
   "source": [
    "# featuresInContextB(items, final_pos, sent_pos_review)"
   ]
  },
  {
   "cell_type": "code",
   "execution_count": 90,
   "metadata": {},
   "outputs": [],
   "source": [
    "# featuresInContextB(items, final_neg, sent_neg_review)"
   ]
  },
  {
   "cell_type": "code",
   "execution_count": 91,
   "metadata": {},
   "outputs": [
    {
     "name": "stdout",
     "output_type": "stream",
     "text": [
      "Files created at: 20190713-175900\n"
     ]
    }
   ],
   "source": [
    "# Latest time in a string\n",
    "timestr = time.strftime(\"%Y%m%d-%H%M%S\")\n",
    "# Outputfile\n",
    "print(\"Files created at: \" + timestr)\n",
    "output_file_pos = \"o_\" + \"pos_\" + timestr + \".json\"\n",
    "output_file_neg = \"o_\" + \"neg_\" + timestr + \".json\""
   ]
  },
  {
   "cell_type": "code",
   "execution_count": 92,
   "metadata": {},
   "outputs": [
    {
     "name": "stdout",
     "output_type": "stream",
     "text": [
      "Pos phrases written to: o_pos_20190713-175900.json\n"
     ]
    }
   ],
   "source": [
    "# featuresAndContext(item_arr, opinion_phrases, sentence_arr, phrase_count, sentence_count )\n",
    "    # Getting sentences with the positive phrases\n",
    "out_json_s_pos = featuresAndContext(items, final_pos, sent_pos_review, 10, 10)\n",
    "with open(output_file_pos, 'w') as jf:\n",
    "    jf.write(out_json_s_pos)\n",
    "print(\"Pos phrases written to: \" + output_file_pos)"
   ]
  },
  {
   "cell_type": "code",
   "execution_count": 93,
   "metadata": {},
   "outputs": [
    {
     "name": "stdout",
     "output_type": "stream",
     "text": [
      "Neg phrases written to: o_neg_20190713-175900.json\n"
     ]
    }
   ],
   "source": [
    "# Getting sentences with the negative phrases\n",
    "out_json_s_neg = featuresAndContext(items, final_neg, sent_neg_review, 10, 10)\n",
    "with open(output_file_neg, 'w') as jfn:\n",
    "    jfn.write(out_json_s_neg)\n",
    "print(\"Neg phrases written to: \" + output_file_neg)"
   ]
  },
  {
   "cell_type": "code",
   "execution_count": null,
   "metadata": {},
   "outputs": [],
   "source": []
  }
 ],
 "metadata": {
  "kernelspec": {
   "display_name": "Python 3",
   "language": "python",
   "name": "python3"
  },
  "language_info": {
   "codemirror_mode": {
    "name": "ipython",
    "version": 3
   },
   "file_extension": ".py",
   "mimetype": "text/x-python",
   "name": "python",
   "nbconvert_exporter": "python",
   "pygments_lexer": "ipython3",
   "version": "3.7.0"
  }
 },
 "nbformat": 4,
 "nbformat_minor": 2
}
