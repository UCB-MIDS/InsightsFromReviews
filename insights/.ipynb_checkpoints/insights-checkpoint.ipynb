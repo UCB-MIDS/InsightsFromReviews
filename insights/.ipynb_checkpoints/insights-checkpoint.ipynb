{
 "cells": [
  {
   "cell_type": "code",
   "execution_count": 1,
   "metadata": {},
   "outputs": [],
   "source": [
    "import languageUtils\n",
    "import features"
   ]
  },
  {
   "cell_type": "code",
   "execution_count": 2,
   "metadata": {},
   "outputs": [],
   "source": [
    "# File with the reviews database\n",
    "file = '/Users/gkhanna/Downloads/reviews_Home_and_Kitchen_5.json'"
   ]
  },
  {
   "cell_type": "code",
   "execution_count": 3,
   "metadata": {},
   "outputs": [
    {
     "name": "stderr",
     "output_type": "stream",
     "text": [
      "551682it [00:06, 81762.77it/s]"
     ]
    },
    {
     "name": "stdout",
     "output_type": "stream",
     "text": [
      "551682 Reviews written to the dictionary \n"
     ]
    },
    {
     "name": "stderr",
     "output_type": "stream",
     "text": [
      "\n"
     ]
    }
   ],
   "source": [
    "# Load reviews into a dictionary\n",
    "file_d = features.loadFromDb(file, count = 0)"
   ]
  },
  {
   "cell_type": "code",
   "execution_count": 4,
   "metadata": {},
   "outputs": [
    {
     "name": "stdout",
     "output_type": "stream",
     "text": [
      "551682\n"
     ]
    }
   ],
   "source": [
    "print(len(file_d))"
   ]
  },
  {
   "cell_type": "code",
   "execution_count": 5,
   "metadata": {},
   "outputs": [
    {
     "data": {
      "text/plain": [
       "{'reviewerID': 'APYOBQE6M18AA',\n",
       " 'asin': '0615391206',\n",
       " 'reviewerName': 'Martin Schwartz',\n",
       " 'helpful': [0, 0],\n",
       " 'reviewText': 'My daughter wanted this book and the price on Amazon was the best.  She has already tried one recipe a day after receiving the book.  She seems happy with it.',\n",
       " 'overall': 5.0,\n",
       " 'summary': 'Best Price',\n",
       " 'unixReviewTime': 1382140800,\n",
       " 'reviewTime': '10 19, 2013'}"
      ]
     },
     "execution_count": 5,
     "metadata": {},
     "output_type": "execute_result"
    }
   ],
   "source": [
    "file_d[0]"
   ]
  },
  {
   "cell_type": "code",
   "execution_count": 6,
   "metadata": {},
   "outputs": [],
   "source": [
    "\n",
    "# ASIN corresponding to the Iron Skillet\n",
    "pl = ['B00006JSUA']"
   ]
  },
  {
   "cell_type": "code",
   "execution_count": 7,
   "metadata": {},
   "outputs": [
    {
     "name": "stderr",
     "output_type": "stream",
     "text": [
      "100%|██████████| 551682/551682 [00:00<00:00, 1352466.07it/s]"
     ]
    },
    {
     "name": "stdout",
     "output_type": "stream",
     "text": [
      "598363 len reviews string, 572557 len Positive reviews string, 25806len Negative reviews string \n"
     ]
    },
    {
     "name": "stderr",
     "output_type": "stream",
     "text": [
      "\n"
     ]
    }
   ],
   "source": [
    "# Extract all reviews into a string\n",
    "reviews_str = \"\"\n",
    "reviews_pos_str = \"\"\n",
    "reviews_neg_str = \"\"\n",
    "reviews_str, reviews_pos_str, reviews_neg_str = features.loadToStringAndClassify(file_d, filter_l = pl )"
   ]
  },
  {
   "cell_type": "code",
   "execution_count": 8,
   "metadata": {},
   "outputs": [
    {
     "data": {
      "text/plain": [
       "598363"
      ]
     },
     "execution_count": 8,
     "metadata": {},
     "output_type": "execute_result"
    }
   ],
   "source": [
    "len(reviews_str)"
   ]
  },
  {
   "cell_type": "code",
   "execution_count": 9,
   "metadata": {},
   "outputs": [
    {
     "name": "stdout",
     "output_type": "stream",
     "text": [
      "598363 len input string \n",
      "408954 len output string \n",
      "572557 len input string \n",
      "391389 len output string \n",
      "25806 len input string \n",
      "17317 len output string \n"
     ]
    }
   ],
   "source": [
    "# Summarize all strings\n",
    "reviews_str = features.summarizeString(reviews_str)\n",
    "reviews_pos_str = features.summarizeString(reviews_pos_str)\n",
    "reviews_neg_str = features.summarizeString(reviews_neg_str)"
   ]
  },
  {
   "cell_type": "code",
   "execution_count": 10,
   "metadata": {},
   "outputs": [
    {
     "data": {
      "text/plain": [
       "str"
      ]
     },
     "execution_count": 10,
     "metadata": {},
     "output_type": "execute_result"
    }
   ],
   "source": [
    "type(reviews_str)"
   ]
  },
  {
   "cell_type": "code",
   "execution_count": 11,
   "metadata": {},
   "outputs": [
    {
     "name": "stdout",
     "output_type": "stream",
     "text": [
      "Converted to: 2883 Sentences \n",
      "Converted to: 115 Sentences \n",
      "Converted to: 2768 Sentences \n"
     ]
    }
   ],
   "source": [
    "# Strings to sentences\n",
    "sent_full_review = features.stringToSentences(reviews_str)\n",
    "sent_neg_review = features.stringToSentences(reviews_neg_str)\n",
    "sent_pos_review = features.stringToSentences(reviews_pos_str)"
   ]
  },
  {
   "cell_type": "code",
   "execution_count": 12,
   "metadata": {},
   "outputs": [
    {
     "data": {
      "text/plain": [
       "list"
      ]
     },
     "execution_count": 12,
     "metadata": {},
     "output_type": "execute_result"
    }
   ],
   "source": [
    "type (sent_full_review)"
   ]
  },
  {
   "cell_type": "code",
   "execution_count": 13,
   "metadata": {},
   "outputs": [
    {
     "name": "stdout",
     "output_type": "stream",
     "text": [
      "Just say no to chemical treatments on non stick pans, get yourself and your friends a few sizes of cast iron and have pans that you can pass down to your children, without all those unknown chemicals that are such a part of pans for the last few decades.This is an absolutely amazing skillet!!\n"
     ]
    }
   ],
   "source": [
    "print(sent_full_review[0])"
   ]
  },
  {
   "cell_type": "code",
   "execution_count": 14,
   "metadata": {},
   "outputs": [],
   "source": [
    "from tqdm import tqdm"
   ]
  },
  {
   "cell_type": "code",
   "execution_count": 15,
   "metadata": {},
   "outputs": [
    {
     "name": "stderr",
     "output_type": "stream",
     "text": [
      "100%|██████████| 2883/2883 [00:04<00:00, 587.95it/s]\n"
     ]
    },
    {
     "name": "stdout",
     "output_type": "stream",
     "text": [
      "Found 2883 Nouns\n"
     ]
    },
    {
     "name": "stderr",
     "output_type": "stream",
     "text": [
      "100%|██████████| 2/2 [00:00<00:00, 8305.55it/s]\n",
      "100%|██████████| 1/1 [00:00<00:00, 1543.73it/s]\n"
     ]
    }
   ],
   "source": [
    "# Getting the most relevant items from the reviews\n",
    "items = []\n",
    "rules = []\n",
    "minSupport = .1\n",
    "minConfidence = .4\n",
    "\n",
    "items, rules = languageUtils.getItems(sent_full_review, minSupport, minConfidence)"
   ]
  },
  {
   "cell_type": "code",
   "execution_count": 16,
   "metadata": {},
   "outputs": [
    {
     "name": "stdout",
     "output_type": "stream",
     "text": [
      "8\n"
     ]
    }
   ],
   "source": [
    "print(len(items))"
   ]
  },
  {
   "cell_type": "code",
   "execution_count": 32,
   "metadata": {},
   "outputs": [
    {
     "name": "stdout",
     "output_type": "stream",
     "text": [
      "[(('lodg',), 0.12209503988900451), (('pan',), 0.3600416233090531), (('skillet',), 0.3035032951786334), (('cast',), 0.2601456815816857), (('iron',), 0.3399236906000694), (('pan', 'iron'), 0.10995490808185918), (('iron', 'cast'), 0.25563648976760317), (('skillet', 'iron'), 0.12417620534165799)]\n"
     ]
    }
   ],
   "source": [
    "print(items)"
   ]
  },
  {
   "cell_type": "code",
   "execution_count": 17,
   "metadata": {},
   "outputs": [],
   "source": [
    "# Patterns that we want to extract\n",
    "# We think these are the ones that contain features\n",
    "feature_patterns = r\"\"\"       \n",
    "    P1:{<JJ><NN|NNS>}\n",
    "    P2:{<JJ><NN|NNS><NN|NNS>}\n",
    "    P3:{<RB|RBR|RBS><JJ>}\n",
    "    P4:{<RB|RBR|RBS><JJ|RB|RBR|RBS><NN|NNS>}\n",
    "    P5:{<RB|RBR|RBS><VBN|VBD>}\n",
    "    P6:{<RB|RBR|RBS><RB|RBR|RBS><JJ>}\n",
    "    P7:{<VBN|VBD><NN|NNS>}\n",
    "    P8:{<VBN|VBD><RB|RBR|RBS>}\n",
    "\"\"\""
   ]
  },
  {
   "cell_type": "code",
   "execution_count": 21,
   "metadata": {},
   "outputs": [
    {
     "name": "stderr",
     "output_type": "stream",
     "text": [
      "100%|██████████| 2768/2768 [20:54<00:00,  2.74it/s]\n",
      "100%|██████████| 115/115 [37:02<00:00,  1.42s/it]  \n",
      " 27%|██▋       | 274/1002 [00:00<00:00, 2737.84it/s]"
     ]
    },
    {
     "name": "stdout",
     "output_type": "stream",
     "text": [
      "Extracted : 596 neutral sentences\n",
      "Extracted : 1002 positive sentences\n",
      "Extracted : 571 negative sentences\n"
     ]
    },
    {
     "name": "stderr",
     "output_type": "stream",
     "text": [
      "100%|██████████| 1002/1002 [00:00<00:00, 2681.73it/s]\n",
      "100%|██████████| 571/571 [00:00<00:00, 2649.92it/s]\n",
      "100%|██████████| 596/596 [00:00<00:00, 3117.07it/s]\n",
      "  3%|▎         | 34/1002 [00:00<00:02, 336.60it/s]"
     ]
    },
    {
     "name": "stdout",
     "output_type": "stream",
     "text": [
      "Tokenized : 1002 neutral sentences\n",
      "Tokenized : 571 positive sentences\n",
      "Tokenized : 596 negative sentences\n"
     ]
    },
    {
     "name": "stderr",
     "output_type": "stream",
     "text": [
      "100%|██████████| 1002/1002 [00:02<00:00, 356.39it/s]\n",
      "100%|██████████| 571/571 [00:01<00:00, 336.94it/s]\n",
      "100%|██████████| 596/596 [00:01<00:00, 442.89it/s]\n",
      " 10%|▉         | 57/596 [00:00<00:00, 565.04it/s]"
     ]
    },
    {
     "name": "stdout",
     "output_type": "stream",
     "text": [
      "POS Tagged : 1002 neutral sentences\n",
      "POS Tagged : 571 positive sentences\n",
      "POS Tagged : 596 negative sentences\n"
     ]
    },
    {
     "name": "stderr",
     "output_type": "stream",
     "text": [
      "100%|██████████| 596/596 [00:00<00:00, 639.83it/s]\n",
      "100%|██████████| 1002/1002 [00:01<00:00, 554.46it/s]\n",
      "100%|██████████| 571/571 [00:01<00:00, 551.30it/s]"
     ]
    },
    {
     "name": "stdout",
     "output_type": "stream",
     "text": [
      "Extraced : 726 from neutral sentences\n",
      "Extracted : 1782 from positive sentences\n",
      "Extracted : 957 from negative sentences\n"
     ]
    },
    {
     "name": "stderr",
     "output_type": "stream",
     "text": [
      "\n"
     ]
    }
   ],
   "source": [
    "extracted_neutral = []\n",
    "extracted_neg = []\n",
    "extracted_pos = []\n",
    "\n",
    "extracted_neutral, extracted_neg, extracted_pos = features.extractFeaturePhrases(sent_pos_review, sent_neg_review, feature_patterns, items)"
   ]
  },
  {
   "cell_type": "code",
   "execution_count": 22,
   "metadata": {},
   "outputs": [
    {
     "data": {
      "text/plain": [
       "957"
      ]
     },
     "execution_count": 22,
     "metadata": {},
     "output_type": "execute_result"
    }
   ],
   "source": [
    "len(extracted_pos)"
   ]
  },
  {
   "cell_type": "code",
   "execution_count": 24,
   "metadata": {},
   "outputs": [],
   "source": [
    "import nltk"
   ]
  },
  {
   "cell_type": "code",
   "execution_count": 25,
   "metadata": {},
   "outputs": [],
   "source": [
    "# Frequency distribution\n",
    "freqdist_pos = nltk.FreqDist(word for word in extracted_pos)\n",
    "most_common_pos = freqdist_pos.most_common()\n",
    "freqdist_neg = nltk.FreqDist(word for word in extracted_neg)\n",
    "most_common_neg = freqdist_neg.most_common()"
   ]
  },
  {
   "cell_type": "code",
   "execution_count": 26,
   "metadata": {},
   "outputs": [
    {
     "data": {
      "text/plain": [
       "769"
      ]
     },
     "execution_count": 26,
     "metadata": {},
     "output_type": "execute_result"
    }
   ],
   "source": [
    "len(most_common_pos)"
   ]
  },
  {
   "cell_type": "code",
   "execution_count": 27,
   "metadata": {},
   "outputs": [
    {
     "data": {
      "text/plain": [
       "1311"
      ]
     },
     "execution_count": 27,
     "metadata": {},
     "output_type": "execute_result"
    }
   ],
   "source": [
    "len(most_common_neg)"
   ]
  },
  {
   "cell_type": "code",
   "execution_count": 28,
   "metadata": {},
   "outputs": [
    {
     "name": "stdout",
     "output_type": "stream",
     "text": [
      "[(' cast iron', 26), (' fri egg', 9), (' veget oil', 7), (' hot water', 6), (' proper care', 6), (' perfect size', 6), (' nonstick pan', 6), (' oliv oil', 5), (' high heat', 5), (' stainless steel', 5)]\n"
     ]
    }
   ],
   "source": [
    "print(most_common_pos[:10])"
   ]
  },
  {
   "cell_type": "code",
   "execution_count": 29,
   "metadata": {},
   "outputs": [
    {
     "name": "stderr",
     "output_type": "stream",
     "text": [
      "100%|██████████| 769/769 [00:00<00:00, 5802.72it/s]\n",
      "100%|██████████| 1311/1311 [00:00<00:00, 7312.91it/s]\n"
     ]
    }
   ],
   "source": [
    "# Convert phrases to real words\n",
    "most_common_pos_real = languageUtils.getRealWords(most_common_pos)\n",
    "most_common_neg_real = languageUtils.getRealWords(most_common_neg)"
   ]
  },
  {
   "cell_type": "code",
   "execution_count": 34,
   "metadata": {},
   "outputs": [
    {
     "name": "stdout",
     "output_type": "stream",
     "text": [
      "[('cast iron', 26), ('fried egg', 9), ('vegetable oiled', 7), ('hot water', 6), ('proper careful', 6), ('perfect sized', 6), ('nonstick pan', 6), ('olive oiled', 5), ('high heating', 5), ('stainless steel', 5)]\n"
     ]
    }
   ],
   "source": [
    "print(most_common_pos_real[:10])"
   ]
  },
  {
   "cell_type": "code",
   "execution_count": 35,
   "metadata": {},
   "outputs": [],
   "source": [
    "import time"
   ]
  },
  {
   "cell_type": "code",
   "execution_count": 36,
   "metadata": {},
   "outputs": [
    {
     "ename": "NameError",
     "evalue": "name 'time' is not defined",
     "output_type": "error",
     "traceback": [
      "\u001b[0;31m---------------------------------------------------------------------------\u001b[0m",
      "\u001b[0;31mNameError\u001b[0m                                 Traceback (most recent call last)",
      "\u001b[0;32m<ipython-input-36-317a929304f4>\u001b[0m in \u001b[0;36m<module>\u001b[0;34m()\u001b[0m\n\u001b[1;32m      1\u001b[0m \u001b[0;31m# Getting sentences with the positive phrases\u001b[0m\u001b[0;34m\u001b[0m\u001b[0;34m\u001b[0m\u001b[0m\n\u001b[0;32m----> 2\u001b[0;31m \u001b[0mlanguageUtils\u001b[0m\u001b[0;34m.\u001b[0m\u001b[0mfeaturesAndContext\u001b[0m\u001b[0;34m(\u001b[0m\u001b[0mitems\u001b[0m\u001b[0;34m,\u001b[0m \u001b[0mmost_common_pos\u001b[0m\u001b[0;34m,\u001b[0m \u001b[0msent_pos_review\u001b[0m\u001b[0;34m)\u001b[0m\u001b[0;34m\u001b[0m\u001b[0m\n\u001b[0m",
      "\u001b[0;32m~/Google Drive/210Capstone/code/InsightsFromReviews/insights/languageUtils.py\u001b[0m in \u001b[0;36mfeaturesAndContext\u001b[0;34m(item_arr, opinion_phrases, sentence_arr)\u001b[0m\n\u001b[1;32m    334\u001b[0m     \u001b[0mcount\u001b[0m \u001b[0;34m=\u001b[0m \u001b[0;36m0\u001b[0m\u001b[0;34m\u001b[0m\u001b[0m\n\u001b[1;32m    335\u001b[0m     \u001b[0;31m# Latest time in a string\u001b[0m\u001b[0;34m\u001b[0m\u001b[0;34m\u001b[0m\u001b[0m\n\u001b[0;32m--> 336\u001b[0;31m     \u001b[0mtimestr\u001b[0m \u001b[0;34m=\u001b[0m \u001b[0mtime\u001b[0m\u001b[0;34m.\u001b[0m\u001b[0mstrftime\u001b[0m\u001b[0;34m(\u001b[0m\u001b[0;34m\"%Y%m%d-%H%M%S\"\u001b[0m\u001b[0;34m)\u001b[0m\u001b[0;34m\u001b[0m\u001b[0m\n\u001b[0m\u001b[1;32m    337\u001b[0m     \u001b[0;31m# Outputfile\u001b[0m\u001b[0;34m\u001b[0m\u001b[0;34m\u001b[0m\u001b[0m\n\u001b[1;32m    338\u001b[0m     \u001b[0mprint\u001b[0m\u001b[0;34m(\u001b[0m\u001b[0;34m\"File created at: \"\u001b[0m \u001b[0;34m+\u001b[0m \u001b[0mtimestr\u001b[0m\u001b[0;34m)\u001b[0m\u001b[0;34m\u001b[0m\u001b[0m\n",
      "\u001b[0;31mNameError\u001b[0m: name 'time' is not defined"
     ]
    }
   ],
   "source": [
    "# Getting sentences with the positive phrases\n",
    "features.featuresAndContext(items, most_common_pos, sent_pos_review)"
   ]
  },
  {
   "cell_type": "code",
   "execution_count": null,
   "metadata": {},
   "outputs": [],
   "source": [
    "# Getting sentences with the negative phrases\n",
    "features.featuresAndContext(items, most_common_neg, sent_neg_review)"
   ]
  }
 ],
 "metadata": {
  "kernelspec": {
   "display_name": "Python 3",
   "language": "python",
   "name": "python3"
  },
  "language_info": {
   "codemirror_mode": {
    "name": "ipython",
    "version": 3
   },
   "file_extension": ".py",
   "mimetype": "text/x-python",
   "name": "python",
   "nbconvert_exporter": "python",
   "pygments_lexer": "ipython3",
   "version": "3.7.0"
  }
 },
 "nbformat": 4,
 "nbformat_minor": 2
}
