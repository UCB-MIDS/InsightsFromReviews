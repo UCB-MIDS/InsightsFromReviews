{
 "cells": [
  {
   "cell_type": "code",
   "execution_count": 1,
   "metadata": {},
   "outputs": [],
   "source": [
    "import languageUtils\n",
    "import features"
   ]
  },
  {
   "cell_type": "code",
   "execution_count": 2,
   "metadata": {},
   "outputs": [],
   "source": [
    "# File with the reviews database\n",
    "file = '/Users/gkhanna/Downloads/reviews_Home_and_Kitchen_5.json'"
   ]
  },
  {
   "cell_type": "code",
   "execution_count": 3,
   "metadata": {},
   "outputs": [
    {
     "name": "stderr",
     "output_type": "stream",
     "text": [
      "\r",
      "0it [00:00, ?it/s]"
     ]
    },
    {
     "name": "stdout",
     "output_type": "stream",
     "text": [
      "100 Reviews written to the dictionary \n"
     ]
    },
    {
     "name": "stderr",
     "output_type": "stream",
     "text": [
      "\n"
     ]
    }
   ],
   "source": [
    "# Load reviews into a dictionary\n",
    "file_d = features.loadFromDb(file, count = 100)"
   ]
  },
  {
   "cell_type": "code",
   "execution_count": 4,
   "metadata": {},
   "outputs": [
    {
     "name": "stdout",
     "output_type": "stream",
     "text": [
      "100\n"
     ]
    }
   ],
   "source": [
    "print(len(file_d))"
   ]
  },
  {
   "cell_type": "code",
   "execution_count": 5,
   "metadata": {},
   "outputs": [
    {
     "data": {
      "text/plain": [
       "{'reviewerID': 'APYOBQE6M18AA',\n",
       " 'asin': '0615391206',\n",
       " 'reviewerName': 'Martin Schwartz',\n",
       " 'helpful': [0, 0],\n",
       " 'reviewText': 'My daughter wanted this book and the price on Amazon was the best.  She has already tried one recipe a day after receiving the book.  She seems happy with it.',\n",
       " 'overall': 5.0,\n",
       " 'summary': 'Best Price',\n",
       " 'unixReviewTime': 1382140800,\n",
       " 'reviewTime': '10 19, 2013'}"
      ]
     },
     "execution_count": 5,
     "metadata": {},
     "output_type": "execute_result"
    }
   ],
   "source": [
    "file_d[0]"
   ]
  },
  {
   "cell_type": "code",
   "execution_count": 6,
   "metadata": {},
   "outputs": [],
   "source": [
    "\n",
    "# ASIN corresponding to the Iron Skillet\n",
    "pl = ['B00006JSUA']"
   ]
  },
  {
   "cell_type": "code",
   "execution_count": 7,
   "metadata": {},
   "outputs": [
    {
     "name": "stderr",
     "output_type": "stream",
     "text": [
      "100%|██████████| 100/100 [00:00<00:00, 69626.56it/s]"
     ]
    },
    {
     "name": "stdout",
     "output_type": "stream",
     "text": [
      "32997 len reviews string, 32334 len Positive reviews string, 663len Negative reviews string \n"
     ]
    },
    {
     "name": "stderr",
     "output_type": "stream",
     "text": [
      "\n"
     ]
    }
   ],
   "source": [
    "# Extract all reviews into a string\n",
    "reviews_str = \"\"\n",
    "reviews_pos_str = \"\"\n",
    "reviews_neg_str = \"\"\n",
    "reviews_str, reviews_pos_str, reviews_neg_str = features.loadToStringAndClassify(file_d)"
   ]
  },
  {
   "cell_type": "code",
   "execution_count": 8,
   "metadata": {},
   "outputs": [
    {
     "data": {
      "text/plain": [
       "32997"
      ]
     },
     "execution_count": 8,
     "metadata": {},
     "output_type": "execute_result"
    }
   ],
   "source": [
    "len(reviews_str)"
   ]
  },
  {
   "cell_type": "code",
   "execution_count": 9,
   "metadata": {},
   "outputs": [
    {
     "name": "stdout",
     "output_type": "stream",
     "text": [
      "32997 len input string \n",
      "22367 len output string \n",
      "32334 len input string \n",
      "21900 len output string \n",
      "663 len input string \n",
      "319 len output string \n"
     ]
    }
   ],
   "source": [
    "# Summarize all strings\n",
    "reviews_str = features.summarizeString(reviews_str)\n",
    "reviews_pos_str = features.summarizeString(reviews_pos_str)\n",
    "reviews_neg_str = features.summarizeString(reviews_neg_str)"
   ]
  },
  {
   "cell_type": "code",
   "execution_count": 10,
   "metadata": {},
   "outputs": [
    {
     "data": {
      "text/plain": [
       "str"
      ]
     },
     "execution_count": 10,
     "metadata": {},
     "output_type": "execute_result"
    }
   ],
   "source": [
    "type(reviews_str)"
   ]
  },
  {
   "cell_type": "code",
   "execution_count": 11,
   "metadata": {},
   "outputs": [
    {
     "name": "stdout",
     "output_type": "stream",
     "text": [
      "Converted to: 153 Sentences \n",
      "Converted to: 3 Sentences \n",
      "Converted to: 150 Sentences \n"
     ]
    }
   ],
   "source": [
    "# Strings to sentences\n",
    "sent_full_review = features.stringToSentences(reviews_str)\n",
    "sent_neg_review = features.stringToSentences(reviews_neg_str)\n",
    "sent_pos_review = features.stringToSentences(reviews_pos_str)"
   ]
  },
  {
   "cell_type": "code",
   "execution_count": 12,
   "metadata": {},
   "outputs": [
    {
     "data": {
      "text/plain": [
       "list"
      ]
     },
     "execution_count": 12,
     "metadata": {},
     "output_type": "execute_result"
    }
   ],
   "source": [
    "type (sent_full_review)"
   ]
  },
  {
   "cell_type": "code",
   "execution_count": 13,
   "metadata": {},
   "outputs": [
    {
     "name": "stdout",
     "output_type": "stream",
     "text": [
      "She loves it and have fun to make her own ice cream.There is no shortage of pop recipes available for free on the web, but I purchased the \"Zoku Quick Pops\" book, because Zoku has some good recipes for fruit pops on its blog.\n"
     ]
    }
   ],
   "source": [
    "print(sent_full_review[0])"
   ]
  },
  {
   "cell_type": "code",
   "execution_count": 14,
   "metadata": {},
   "outputs": [],
   "source": [
    "from tqdm import tqdm"
   ]
  },
  {
   "cell_type": "code",
   "execution_count": 15,
   "metadata": {},
   "outputs": [
    {
     "name": "stderr",
     "output_type": "stream",
     "text": [
      "100%|██████████| 153/153 [00:00<00:00, 312.08it/s]\n",
      "100%|██████████| 2/2 [00:00<00:00, 5099.46it/s]\n",
      "100%|██████████| 1/1 [00:00<00:00, 3923.58it/s]"
     ]
    },
    {
     "name": "stdout",
     "output_type": "stream",
     "text": [
      "Found 153 Nouns\n"
     ]
    },
    {
     "name": "stderr",
     "output_type": "stream",
     "text": [
      "\n"
     ]
    }
   ],
   "source": [
    "# Getting the most relevant items from the reviews\n",
    "items = []\n",
    "rules = []\n",
    "minSupport = .1\n",
    "minConfidence = .4\n",
    "\n",
    "items, rules = languageUtils.getItems(sent_full_review, minSupport, minConfidence)"
   ]
  },
  {
   "cell_type": "code",
   "execution_count": 16,
   "metadata": {},
   "outputs": [
    {
     "name": "stdout",
     "output_type": "stream",
     "text": [
      "8\n"
     ]
    }
   ],
   "source": [
    "print(len(items))"
   ]
  },
  {
   "cell_type": "code",
   "execution_count": 17,
   "metadata": {},
   "outputs": [
    {
     "name": "stdout",
     "output_type": "stream",
     "text": [
      "[(('decor',), 0.16339869281045752), (('recip',), 0.13725490196078433), (('cake',), 0.29411764705882354), (('wilton',), 0.19607843137254902), (('book',), 0.6209150326797386), (('class',), 0.1503267973856209), (('book', 'wilton'), 0.1111111111111111), (('book', 'cake'), 0.1437908496732026)]\n"
     ]
    }
   ],
   "source": [
    "print(items)"
   ]
  },
  {
   "cell_type": "code",
   "execution_count": 18,
   "metadata": {},
   "outputs": [],
   "source": [
    "# Patterns that we want to extract\n",
    "# We think these are the ones that contain features\n",
    "feature_patterns = r\"\"\"       \n",
    "    P1:{<JJ><NN|NNS>}\n",
    "    P2:{<JJ><NN|NNS><NN|NNS>}\n",
    "    P3:{<RB|RBR|RBS><JJ>}\n",
    "    P4:{<RB|RBR|RBS><JJ|RB|RBR|RBS><NN|NNS>}\n",
    "    P5:{<RB|RBR|RBS><VBN|VBD>}\n",
    "    P6:{<RB|RBR|RBS><RB|RBR|RBS><JJ>}\n",
    "    P7:{<VBN|VBD><NN|NNS>}\n",
    "    P8:{<VBN|VBD><RB|RBR|RBS>}\n",
    "\"\"\""
   ]
  },
  {
   "cell_type": "code",
   "execution_count": 19,
   "metadata": {},
   "outputs": [
    {
     "name": "stderr",
     "output_type": "stream",
     "text": [
      "100%|██████████| 150/150 [01:17<00:00,  1.51it/s]\n",
      "100%|██████████| 3/3 [00:00<00:00,  4.44it/s]\n",
      "100%|██████████| 92/92 [00:00<00:00, 5322.21it/s]\n",
      "100%|██████████| 24/24 [00:00<00:00, 3629.21it/s]\n",
      "100%|██████████| 21/21 [00:00<00:00, 5604.50it/s]\n",
      "100%|██████████| 92/92 [00:00<00:00, 755.62it/s]\n",
      "100%|██████████| 24/24 [00:00<00:00, 669.88it/s]\n",
      "  0%|          | 0/21 [00:00<?, ?it/s]"
     ]
    },
    {
     "name": "stdout",
     "output_type": "stream",
     "text": [
      "Extracted : 21 neutral sentences\n",
      "Extracted : 92 positive sentences\n",
      "Extracted : 24 negative sentences\n",
      "Tokenized : 21 neutral sentences\n",
      "Tokenized : 92 positive sentences\n",
      "Tokenized : 24 negative sentences\n"
     ]
    },
    {
     "name": "stderr",
     "output_type": "stream",
     "text": [
      "100%|██████████| 21/21 [00:00<00:00, 837.21it/s]\n",
      "  0%|          | 0/21 [00:00<?, ?it/s]"
     ]
    },
    {
     "name": "stdout",
     "output_type": "stream",
     "text": [
      "POS Tagged : 21 neutral sentences\n",
      "POS Tagged : 92 positive sentences\n",
      "POS Tagged : 24 negative sentences\n"
     ]
    },
    {
     "name": "stderr",
     "output_type": "stream",
     "text": [
      "100%|██████████| 21/21 [00:01<00:00, 12.38it/s]\n",
      "100%|██████████| 92/92 [00:00<00:00, 1139.08it/s]\n",
      "100%|██████████| 24/24 [00:00<00:00, 1297.58it/s]"
     ]
    },
    {
     "name": "stdout",
     "output_type": "stream",
     "text": [
      "Extraced : 19 from neutral sentences\n",
      "Extracted : 133 from positive sentences\n",
      "Extracted : 28 from negative sentences\n"
     ]
    },
    {
     "name": "stderr",
     "output_type": "stream",
     "text": [
      "\n"
     ]
    }
   ],
   "source": [
    "extracted_neutral = []\n",
    "extracted_neg = []\n",
    "extracted_pos = []\n",
    "\n",
    "extracted_neutral, extracted_neg, extracted_pos = features.extractFeaturePhrases(sent_pos_review, sent_neg_review, feature_patterns, items)"
   ]
  },
  {
   "cell_type": "code",
   "execution_count": 20,
   "metadata": {},
   "outputs": [
    {
     "data": {
      "text/plain": [
       "28"
      ]
     },
     "execution_count": 20,
     "metadata": {},
     "output_type": "execute_result"
    }
   ],
   "source": [
    "len(extracted_pos)"
   ]
  },
  {
   "cell_type": "code",
   "execution_count": 21,
   "metadata": {},
   "outputs": [],
   "source": [
    "import nltk"
   ]
  },
  {
   "cell_type": "code",
   "execution_count": 22,
   "metadata": {},
   "outputs": [],
   "source": [
    "# Frequency distribution\n",
    "freqdist_pos = nltk.FreqDist(word for word in extracted_pos)\n",
    "most_common_pos = freqdist_pos.most_common()\n",
    "freqdist_neg = nltk.FreqDist(word for word in extracted_neg)\n",
    "most_common_neg = freqdist_neg.most_common()"
   ]
  },
  {
   "cell_type": "code",
   "execution_count": 23,
   "metadata": {},
   "outputs": [
    {
     "data": {
      "text/plain": [
       "28"
      ]
     },
     "execution_count": 23,
     "metadata": {},
     "output_type": "execute_result"
    }
   ],
   "source": [
    "len(most_common_pos)"
   ]
  },
  {
   "cell_type": "code",
   "execution_count": 24,
   "metadata": {},
   "outputs": [
    {
     "data": {
      "text/plain": [
       "125"
      ]
     },
     "execution_count": 24,
     "metadata": {},
     "output_type": "execute_result"
    }
   ],
   "source": [
    "len(most_common_neg)"
   ]
  },
  {
   "cell_type": "code",
   "execution_count": 25,
   "metadata": {},
   "outputs": [
    {
     "name": "stdout",
     "output_type": "stream",
     "text": [
      "[(' good recip', 1), (' fresh-tast fruit', 1), (' mango pop', 1), (' beauti illustr', 1), (' glitteri butterfli', 1), (' foil-look toy', 1), (' absolut love', 1), (' sleep read', 1), (' ofmi cake', 1), (' basic scratch', 1)]\n"
     ]
    }
   ],
   "source": [
    "print(most_common_pos[:10])"
   ]
  },
  {
   "cell_type": "code",
   "execution_count": 26,
   "metadata": {},
   "outputs": [
    {
     "name": "stderr",
     "output_type": "stream",
     "text": [
      "100%|██████████| 28/28 [00:00<00:00, 5781.54it/s]\n",
      "100%|██████████| 125/125 [00:00<00:00, 8113.90it/s]\n"
     ]
    }
   ],
   "source": [
    "# Convert phrases to real words\n",
    "most_common_pos_real = languageUtils.getRealWords(most_common_pos)\n",
    "most_common_neg_real = languageUtils.getRealWords(most_common_neg)"
   ]
  },
  {
   "cell_type": "code",
   "execution_count": 27,
   "metadata": {},
   "outputs": [
    {
     "name": "stdout",
     "output_type": "stream",
     "text": [
      "[('good recipe', 1), ('fresh-tasting', 1), ('mango pop', 1), ('beautifully illustrated', 1), ('glittery butterfly', 1), ('foil-looking', 1), ('absolutely loved', 1), ('sleep read', 1), ('ofmy cake', 1), ('basic scratch', 1)]\n"
     ]
    }
   ],
   "source": [
    "print(most_common_pos_real[:10])"
   ]
  },
  {
   "cell_type": "code",
   "execution_count": 28,
   "metadata": {},
   "outputs": [],
   "source": [
    "import time"
   ]
  },
  {
   "cell_type": "code",
   "execution_count": 29,
   "metadata": {},
   "outputs": [],
   "source": [
    "from languageUtils import normalise"
   ]
  },
  {
   "cell_type": "code",
   "execution_count": 30,
   "metadata": {},
   "outputs": [],
   "source": [
    "# Getting sentences with the positive phrases\n",
    "# features.featuresAndContext(items, most_common_pos_real, sent_pos_review)"
   ]
  },
  {
   "cell_type": "code",
   "execution_count": 31,
   "metadata": {},
   "outputs": [
    {
     "ename": "TypeError",
     "evalue": "featuresAndContext() missing 2 required positional arguments: 'phrase_count' and 'sentence_count'",
     "output_type": "error",
     "traceback": [
      "\u001b[0;31m---------------------------------------------------------------------------\u001b[0m",
      "\u001b[0;31mTypeError\u001b[0m                                 Traceback (most recent call last)",
      "\u001b[0;32m<ipython-input-31-fcebcf32ae84>\u001b[0m in \u001b[0;36m<module>\u001b[0;34m()\u001b[0m\n\u001b[1;32m      1\u001b[0m \u001b[0;31m# Getting sentences with the negative phrases\u001b[0m\u001b[0;34m\u001b[0m\u001b[0;34m\u001b[0m\u001b[0m\n\u001b[0;32m----> 2\u001b[0;31m \u001b[0mfeatures\u001b[0m\u001b[0;34m.\u001b[0m\u001b[0mfeaturesAndContext\u001b[0m\u001b[0;34m(\u001b[0m\u001b[0mitems\u001b[0m\u001b[0;34m,\u001b[0m \u001b[0mmost_common_neg_real\u001b[0m\u001b[0;34m,\u001b[0m \u001b[0msent_neg_review\u001b[0m\u001b[0;34m)\u001b[0m\u001b[0;34m\u001b[0m\u001b[0m\n\u001b[0m",
      "\u001b[0;31mTypeError\u001b[0m: featuresAndContext() missing 2 required positional arguments: 'phrase_count' and 'sentence_count'"
     ]
    }
   ],
   "source": [
    "# Getting sentences with the negative phrases\n",
    "# features.featuresAndContext(items, most_common_neg_real, sent_neg_review)"
   ]
  },
  {
   "cell_type": "code",
   "execution_count": 32,
   "metadata": {},
   "outputs": [
    {
     "name": "stdout",
     "output_type": "stream",
     "text": [
      "File created at: 20190707-211925\n"
     ]
    }
   ],
   "source": [
    "out_file_pos, out_json_pos, out_json_s_pos = features.featuresAndContext(items, most_common_pos_real, sent_pos_review, 10, 10)"
   ]
  },
  {
   "cell_type": "code",
   "execution_count": 33,
   "metadata": {},
   "outputs": [
    {
     "data": {
      "text/plain": [
       "str"
      ]
     },
     "execution_count": 33,
     "metadata": {},
     "output_type": "execute_result"
    }
   ],
   "source": [
    "type(out_json_s_pos)"
   ]
  },
  {
   "cell_type": "code",
   "execution_count": 34,
   "metadata": {},
   "outputs": [
    {
     "name": "stdout",
     "output_type": "stream",
     "text": [
      "{\n",
      "    \"absolutely loved\": [\n",
      "        \"Each of the butterflies is shown as a brightly-colored, foil-looking toy that your little one will not be able to resist touching.My little one absolutely loved this book, and it did go great as a preparing for sleep read.\",\n",
      "        \"She said it has good instructions and pictures and was helpful.I absolutely love this book!\"\n",
      "    ],\n",
      "    \"basic scratch\": [\n",
      "        \"It also contains recipes for basic scratch cakes in white, yellow, chocolate, strawberry, and banana.\"\n",
      "    ],\n",
      "    \"beautifully illustrated\": [\n",
      "        \"Definitely recommended.If you have a Zoku Quick Pop maker (or two....I have the original one-slot and then I bought the double-slot here at Amazon), I recommend you get this creative little book, which will inspire you.This book is so beautifully illustrated and easy to follow.\",\n",
      "        \"I had no problem with the recipes online working in the Zoku maker.This beautifully illustrated book featuring ten colorful,glittery butterflies is a favorite at our house.\"\n",
      "    ],\n",
      "    \"foil-looking\": [\n",
      "        \"Each of the butterflies is shown as a brightly-colored, foil-looking toy that your little one will not be able to resist touching.My little one absolutely loved this book, and it did go great as a preparing for sleep read.\"\n",
      "    ],\n",
      "    \"fresh-tasting\": [\n",
      "        \"All 9 recipes in \\\"Bake Shop\\\" are inspired by cake and cookie recipes.As a resource for light, fresh-tasting fruit pop recipes, \\\"Zoku Quick Pops\\\" is very limited.\"\n",
      "    ],\n",
      "    \"glittery butterfly\": [\n",
      "        \"I had no problem with the recipes online working in the Zoku maker.This beautifully illustrated book featuring ten colorful,glittery butterflies is a favorite at our house.\"\n",
      "    ],\n",
      "    \"good recipe\": [\n",
      "        \"She loves it and have fun to make her own ice cream.There is no shortage of pop recipes available for free on the web, but I purchased the \\\"Zoku Quick Pops\\\" book, because Zoku has some good recipes for fruit pops on its blog.\"\n",
      "    ],\n",
      "    \"mango pop\": [\n",
      "        \"The recipe for mango pops includes orange, apple, banana and lemon, which are too many competing flavors.\"\n",
      "    ],\n",
      "    \"ofmy cake\": [\n",
      "        \"Oh well, at least I gave the other copy to my sister.had no idea about decorating cakes,by this booklet ,now i can say that following the instructions and have the will and patience plus practicing,one day i wont be ashamed ofmy cakes.\"\n",
      "    ],\n",
      "    \"sleep read\": [\n",
      "        \"Each of the butterflies is shown as a brightly-colored, foil-looking toy that your little one will not be able to resist touching.My little one absolutely loved this book, and it did go great as a preparing for sleep read.\"\n",
      "    ]\n",
      "}\n"
     ]
    }
   ],
   "source": [
    "print(out_json_s_pos)"
   ]
  },
  {
   "cell_type": "code",
   "execution_count": null,
   "metadata": {},
   "outputs": [],
   "source": []
  }
 ],
 "metadata": {
  "kernelspec": {
   "display_name": "Python 3",
   "language": "python",
   "name": "python3"
  },
  "language_info": {
   "codemirror_mode": {
    "name": "ipython",
    "version": 3
   },
   "file_extension": ".py",
   "mimetype": "text/x-python",
   "name": "python",
   "nbconvert_exporter": "python",
   "pygments_lexer": "ipython3",
   "version": "3.7.0"
  }
 },
 "nbformat": 4,
 "nbformat_minor": 2
}
