{
 "cells": [
  {
   "cell_type": "markdown",
   "metadata": {},
   "source": [
    "# EDA"
   ]
  },
  {
   "cell_type": "code",
   "execution_count": 1,
   "metadata": {},
   "outputs": [],
   "source": [
    "import numpy as np\n",
    "import pandas as pd\n",
    "\n",
    "import matplotlib.pyplot as plt\n",
    "import seaborn as sns\n",
    "\n",
    "from sklearn.feature_extraction.text import CountVectorizer, TfidfVectorizer\n",
    "from sklearn.decomposition import NMF, TruncatedSVD"
   ]
  },
  {
   "cell_type": "code",
   "execution_count": 2,
   "metadata": {},
   "outputs": [],
   "source": [
    "import json"
   ]
  },
  {
   "cell_type": "markdown",
   "metadata": {},
   "source": [
    "## Load and describe data"
   ]
  },
  {
   "cell_type": "code",
   "execution_count": 3,
   "metadata": {},
   "outputs": [],
   "source": [
    "file = '/Users/gkhanna/Downloads/reviews_Home_and_Kitchen_5.json'"
   ]
  },
  {
   "cell_type": "code",
   "execution_count": 4,
   "metadata": {},
   "outputs": [],
   "source": [
    "\n",
    "df_reviews = pd.read_json(file, orient='records', lines='True')"
   ]
  },
  {
   "cell_type": "code",
   "execution_count": 96,
   "metadata": {},
   "outputs": [
    {
     "data": {
      "text/plain": [
       "pandas.core.frame.DataFrame"
      ]
     },
     "execution_count": 96,
     "metadata": {},
     "output_type": "execute_result"
    }
   ],
   "source": [
    "type(df_reviews)"
   ]
  },
  {
   "cell_type": "code",
   "execution_count": 95,
   "metadata": {},
   "outputs": [
    {
     "data": {
      "text/html": [
       "<div>\n",
       "<style scoped>\n",
       "    .dataframe tbody tr th:only-of-type {\n",
       "        vertical-align: middle;\n",
       "    }\n",
       "\n",
       "    .dataframe tbody tr th {\n",
       "        vertical-align: top;\n",
       "    }\n",
       "\n",
       "    .dataframe thead th {\n",
       "        text-align: right;\n",
       "    }\n",
       "</style>\n",
       "<table border=\"1\" class=\"dataframe\">\n",
       "  <thead>\n",
       "    <tr style=\"text-align: right;\">\n",
       "      <th></th>\n",
       "      <th>asin</th>\n",
       "      <th>helpful</th>\n",
       "      <th>overall</th>\n",
       "      <th>reviewText</th>\n",
       "      <th>reviewTime</th>\n",
       "      <th>reviewerID</th>\n",
       "      <th>reviewerName</th>\n",
       "      <th>summary</th>\n",
       "      <th>unixReviewTime</th>\n",
       "    </tr>\n",
       "  </thead>\n",
       "  <tbody>\n",
       "    <tr>\n",
       "      <th>0</th>\n",
       "      <td>0615391206</td>\n",
       "      <td>[0, 0]</td>\n",
       "      <td>5</td>\n",
       "      <td>My daughter wanted this book and the price on ...</td>\n",
       "      <td>10 19, 2013</td>\n",
       "      <td>APYOBQE6M18AA</td>\n",
       "      <td>Martin Schwartz</td>\n",
       "      <td>Best Price</td>\n",
       "      <td>1382140800</td>\n",
       "    </tr>\n",
       "    <tr>\n",
       "      <th>1</th>\n",
       "      <td>0615391206</td>\n",
       "      <td>[0, 0]</td>\n",
       "      <td>5</td>\n",
       "      <td>I bought this zoku quick pop for my daughterr ...</td>\n",
       "      <td>06 18, 2014</td>\n",
       "      <td>A1JVQTAGHYOL7F</td>\n",
       "      <td>Michelle Dinh</td>\n",
       "      <td>zoku</td>\n",
       "      <td>1403049600</td>\n",
       "    </tr>\n",
       "    <tr>\n",
       "      <th>2</th>\n",
       "      <td>0615391206</td>\n",
       "      <td>[26, 27]</td>\n",
       "      <td>4</td>\n",
       "      <td>There is no shortage of pop recipes available ...</td>\n",
       "      <td>05 5, 2013</td>\n",
       "      <td>A3UPYGJKZ0XTU4</td>\n",
       "      <td>mirasreviews</td>\n",
       "      <td>Excels at Sweet Dessert Pops, but Falls Short ...</td>\n",
       "      <td>1367712000</td>\n",
       "    </tr>\n",
       "    <tr>\n",
       "      <th>3</th>\n",
       "      <td>0615391206</td>\n",
       "      <td>[14, 18]</td>\n",
       "      <td>5</td>\n",
       "      <td>This book is a must have if you get a Zoku (wh...</td>\n",
       "      <td>08 4, 2011</td>\n",
       "      <td>A2MHCTX43MIMDZ</td>\n",
       "      <td>M. Johnson \"Tea Lover\"</td>\n",
       "      <td>Creative Combos</td>\n",
       "      <td>1312416000</td>\n",
       "    </tr>\n",
       "    <tr>\n",
       "      <th>4</th>\n",
       "      <td>0615391206</td>\n",
       "      <td>[0, 0]</td>\n",
       "      <td>4</td>\n",
       "      <td>This cookbook is great.  I have really enjoyed...</td>\n",
       "      <td>06 7, 2014</td>\n",
       "      <td>AHAI85T5C2DH3</td>\n",
       "      <td>PugLover</td>\n",
       "      <td>A must own if you own the Zoku maker...</td>\n",
       "      <td>1402099200</td>\n",
       "    </tr>\n",
       "    <tr>\n",
       "      <th>5</th>\n",
       "      <td>0615391206</td>\n",
       "      <td>[0, 0]</td>\n",
       "      <td>5</td>\n",
       "      <td>If you have a Zoku Quick Pop maker (or two.......</td>\n",
       "      <td>06 7, 2014</td>\n",
       "      <td>AXA9EVY6IJIZ5</td>\n",
       "      <td>Robin Cline \"Solarobby\"</td>\n",
       "      <td>Love it</td>\n",
       "      <td>1402099200</td>\n",
       "    </tr>\n",
       "    <tr>\n",
       "      <th>6</th>\n",
       "      <td>0615391206</td>\n",
       "      <td>[2, 3]</td>\n",
       "      <td>5</td>\n",
       "      <td>This book is so beautifully illustrated and ea...</td>\n",
       "      <td>07 2, 2012</td>\n",
       "      <td>A1SW2D234X11MS</td>\n",
       "      <td>savinggrace \"savinggrace\"</td>\n",
       "      <td>Beautifully illustrated recipe and instruction...</td>\n",
       "      <td>1341187200</td>\n",
       "    </tr>\n",
       "    <tr>\n",
       "      <th>7</th>\n",
       "      <td>0615391206</td>\n",
       "      <td>[32, 39]</td>\n",
       "      <td>2</td>\n",
       "      <td>I bought this when I bought the pop maker. I t...</td>\n",
       "      <td>12 8, 2011</td>\n",
       "      <td>A1ZH5ULI4SBO48</td>\n",
       "      <td>S. G. \"s.g.\"</td>\n",
       "      <td>Okay but you can figure it out yourself withou...</td>\n",
       "      <td>1323302400</td>\n",
       "    </tr>\n",
       "    <tr>\n",
       "      <th>8</th>\n",
       "      <td>0615391206</td>\n",
       "      <td>[13, 13]</td>\n",
       "      <td>5</td>\n",
       "      <td>The Zoku accessories are pricey, but the recip...</td>\n",
       "      <td>09 22, 2011</td>\n",
       "      <td>A1V13XAWO98C1J</td>\n",
       "      <td>Stan \"Stan\"</td>\n",
       "      <td>If you have the Zoku maker, buy this!</td>\n",
       "      <td>1316649600</td>\n",
       "    </tr>\n",
       "    <tr>\n",
       "      <th>9</th>\n",
       "      <td>0615391206</td>\n",
       "      <td>[0, 0]</td>\n",
       "      <td>5</td>\n",
       "      <td>High quality book. Clear and helpful informati...</td>\n",
       "      <td>06 1, 2014</td>\n",
       "      <td>A3842PXNQ1QRM9</td>\n",
       "      <td>Stephen Brem</td>\n",
       "      <td>Satisfaction opinion</td>\n",
       "      <td>1401580800</td>\n",
       "    </tr>\n",
       "    <tr>\n",
       "      <th>10</th>\n",
       "      <td>0615391206</td>\n",
       "      <td>[3, 3]</td>\n",
       "      <td>4</td>\n",
       "      <td>The recipes in this books are tedious to make....</td>\n",
       "      <td>12 26, 2012</td>\n",
       "      <td>A2BVT5QJSEEQI8</td>\n",
       "      <td>Steven Griffis</td>\n",
       "      <td>I liked this book, but........</td>\n",
       "      <td>1356480000</td>\n",
       "    </tr>\n",
       "    <tr>\n",
       "      <th>11</th>\n",
       "      <td>0689027818</td>\n",
       "      <td>[0, 0]</td>\n",
       "      <td>5</td>\n",
       "      <td>This beautifully illustrated book featuring te...</td>\n",
       "      <td>07 27, 2009</td>\n",
       "      <td>A3R9X003XW0LNR</td>\n",
       "      <td>Deborah Verlen \"Deborah\"</td>\n",
       "      <td>A sweet book for babies and toddlers</td>\n",
       "      <td>1248652800</td>\n",
       "    </tr>\n",
       "    <tr>\n",
       "      <th>12</th>\n",
       "      <td>0689027818</td>\n",
       "      <td>[0, 0]</td>\n",
       "      <td>5</td>\n",
       "      <td>I got this as a gift for my niece and she love...</td>\n",
       "      <td>06 7, 2012</td>\n",
       "      <td>AMZSUGQIAOH5O</td>\n",
       "      <td>jesssibs</td>\n",
       "      <td>Super cute niece present</td>\n",
       "      <td>1339027200</td>\n",
       "    </tr>\n",
       "    <tr>\n",
       "      <th>13</th>\n",
       "      <td>0689027818</td>\n",
       "      <td>[1, 2]</td>\n",
       "      <td>5</td>\n",
       "      <td>This is the story of a group of butterflies lo...</td>\n",
       "      <td>04 6, 2013</td>\n",
       "      <td>A14BTJRH9VNLJJ</td>\n",
       "      <td>Kurt A. Johnson</td>\n",
       "      <td>My little one absolutely loved this book</td>\n",
       "      <td>1365206400</td>\n",
       "    </tr>\n",
       "    <tr>\n",
       "      <th>14</th>\n",
       "      <td>0689027818</td>\n",
       "      <td>[16, 16]</td>\n",
       "      <td>5</td>\n",
       "      <td>This book is absolutely beautiful. A brilliant...</td>\n",
       "      <td>02 21, 2003</td>\n",
       "      <td>A307YFSORUAXSQ</td>\n",
       "      <td>NYCPickyMom</td>\n",
       "      <td>My Daughter's New Favorite</td>\n",
       "      <td>1045785600</td>\n",
       "    </tr>\n",
       "    <tr>\n",
       "      <th>15</th>\n",
       "      <td>0689027818</td>\n",
       "      <td>[1, 1]</td>\n",
       "      <td>5</td>\n",
       "      <td>My daughter 1 year old really likes this book....</td>\n",
       "      <td>04 22, 2004</td>\n",
       "      <td>A2WNXS3CNAQS01</td>\n",
       "      <td>Sapere Aude</td>\n",
       "      <td>My daughter loves it</td>\n",
       "      <td>1082592000</td>\n",
       "    </tr>\n",
       "    <tr>\n",
       "      <th>16</th>\n",
       "      <td>0912696591</td>\n",
       "      <td>[0, 0]</td>\n",
       "      <td>5</td>\n",
       "      <td>For a novice cake decorator who got talked int...</td>\n",
       "      <td>05 4, 2014</td>\n",
       "      <td>A13BMNAQ2K5LLN</td>\n",
       "      <td>AcuDoc \"What would life be like without books...</td>\n",
       "      <td>Wilton Rocks!</td>\n",
       "      <td>1399161600</td>\n",
       "    </tr>\n",
       "    <tr>\n",
       "      <th>17</th>\n",
       "      <td>0912696591</td>\n",
       "      <td>[1, 1]</td>\n",
       "      <td>5</td>\n",
       "      <td>I should not have bought it because it comes f...</td>\n",
       "      <td>06 7, 2013</td>\n",
       "      <td>A3LHQ0LXICBLY2</td>\n",
       "      <td>AE</td>\n",
       "      <td>I should not have bought it.</td>\n",
       "      <td>1370563200</td>\n",
       "    </tr>\n",
       "    <tr>\n",
       "      <th>18</th>\n",
       "      <td>0912696591</td>\n",
       "      <td>[0, 0]</td>\n",
       "      <td>5</td>\n",
       "      <td>had no idea about decorating cakes,by this boo...</td>\n",
       "      <td>05 27, 2012</td>\n",
       "      <td>A39RRTO760KGOY</td>\n",
       "      <td>Ahmed Montasser</td>\n",
       "      <td>follow the instructions</td>\n",
       "      <td>1338076800</td>\n",
       "    </tr>\n",
       "    <tr>\n",
       "      <th>19</th>\n",
       "      <td>0912696591</td>\n",
       "      <td>[0, 1]</td>\n",
       "      <td>5</td>\n",
       "      <td>excellent book, shipped on time, packaged nice...</td>\n",
       "      <td>06 12, 2012</td>\n",
       "      <td>AZF13R8HNB59E</td>\n",
       "      <td>ak</td>\n",
       "      <td>book</td>\n",
       "      <td>1339459200</td>\n",
       "    </tr>\n",
       "    <tr>\n",
       "      <th>20</th>\n",
       "      <td>0912696591</td>\n",
       "      <td>[0, 0]</td>\n",
       "      <td>5</td>\n",
       "      <td>i loved it. don't use it much but when i had i...</td>\n",
       "      <td>12 26, 2012</td>\n",
       "      <td>A1KCBA3PKLV2IT</td>\n",
       "      <td>A. Lenz</td>\n",
       "      <td>great!</td>\n",
       "      <td>1356480000</td>\n",
       "    </tr>\n",
       "    <tr>\n",
       "      <th>21</th>\n",
       "      <td>0912696591</td>\n",
       "      <td>[4, 4]</td>\n",
       "      <td>3</td>\n",
       "      <td>So I actually bought this thinking it was the ...</td>\n",
       "      <td>08 16, 2012</td>\n",
       "      <td>A3JM7FVJMPJ1XD</td>\n",
       "      <td>Alli09</td>\n",
       "      <td>Good for what it's worth</td>\n",
       "      <td>1345075200</td>\n",
       "    </tr>\n",
       "    <tr>\n",
       "      <th>22</th>\n",
       "      <td>0912696591</td>\n",
       "      <td>[0, 0]</td>\n",
       "      <td>4</td>\n",
       "      <td>helpful information on decoraing basics. Good ...</td>\n",
       "      <td>12 13, 2013</td>\n",
       "      <td>A2S3ZE0RI9I60A</td>\n",
       "      <td>alma morsell</td>\n",
       "      <td>This is a good book for anyone interested in c...</td>\n",
       "      <td>1386892800</td>\n",
       "    </tr>\n",
       "    <tr>\n",
       "      <th>23</th>\n",
       "      <td>0912696591</td>\n",
       "      <td>[1, 1]</td>\n",
       "      <td>5</td>\n",
       "      <td>Got this for my girlfriend who runs a baking b...</td>\n",
       "      <td>06 8, 2013</td>\n",
       "      <td>A33T8O72UNBVR</td>\n",
       "      <td>Amar Rhom</td>\n",
       "      <td>Handy to Have</td>\n",
       "      <td>1370649600</td>\n",
       "    </tr>\n",
       "    <tr>\n",
       "      <th>24</th>\n",
       "      <td>0912696591</td>\n",
       "      <td>[0, 0]</td>\n",
       "      <td>5</td>\n",
       "      <td>I'm hoping that I can learn how to make gum pa...</td>\n",
       "      <td>05 21, 2014</td>\n",
       "      <td>A1B9BZ3AJ5V1NJ</td>\n",
       "      <td>Amazon Customer</td>\n",
       "      <td>learning</td>\n",
       "      <td>1400630400</td>\n",
       "    </tr>\n",
       "    <tr>\n",
       "      <th>25</th>\n",
       "      <td>0912696591</td>\n",
       "      <td>[2, 2]</td>\n",
       "      <td>5</td>\n",
       "      <td>This 128 page book contains pictures and patte...</td>\n",
       "      <td>09 7, 2012</td>\n",
       "      <td>A36DVGJ18JV1E0</td>\n",
       "      <td>Amazon Customer</td>\n",
       "      <td>Great Idea Book and Used in Wilton Class</td>\n",
       "      <td>1346976000</td>\n",
       "    </tr>\n",
       "    <tr>\n",
       "      <th>26</th>\n",
       "      <td>0912696591</td>\n",
       "      <td>[2, 3]</td>\n",
       "      <td>2</td>\n",
       "      <td>didn't really care many of the cakes at all. n...</td>\n",
       "      <td>08 1, 2012</td>\n",
       "      <td>A2X4WC4ZRM0WTA</td>\n",
       "      <td>Amazon Customer</td>\n",
       "      <td>not the best</td>\n",
       "      <td>1343779200</td>\n",
       "    </tr>\n",
       "    <tr>\n",
       "      <th>27</th>\n",
       "      <td>0912696591</td>\n",
       "      <td>[0, 1]</td>\n",
       "      <td>4</td>\n",
       "      <td>I am very happy I purchased this book as it co...</td>\n",
       "      <td>05 7, 2013</td>\n",
       "      <td>A2I5YZBMLU2R7O</td>\n",
       "      <td>Aniusia</td>\n",
       "      <td>good tips</td>\n",
       "      <td>1367884800</td>\n",
       "    </tr>\n",
       "    <tr>\n",
       "      <th>28</th>\n",
       "      <td>0912696591</td>\n",
       "      <td>[0, 0]</td>\n",
       "      <td>4</td>\n",
       "      <td>This book isn't much help if you are not takin...</td>\n",
       "      <td>07 10, 2011</td>\n",
       "      <td>A2V3IKHRC7C1IA</td>\n",
       "      <td>Avuqagvik</td>\n",
       "      <td>good if you take a class!</td>\n",
       "      <td>1310256000</td>\n",
       "    </tr>\n",
       "    <tr>\n",
       "      <th>29</th>\n",
       "      <td>0912696591</td>\n",
       "      <td>[0, 0]</td>\n",
       "      <td>4</td>\n",
       "      <td>I have always wanted to learn how to decorate ...</td>\n",
       "      <td>08 16, 2013</td>\n",
       "      <td>A1LAAZUR8YFRW8</td>\n",
       "      <td>Barbara \"barbara11td\"</td>\n",
       "      <td>Great For Beginners!</td>\n",
       "      <td>1376611200</td>\n",
       "    </tr>\n",
       "  </tbody>\n",
       "</table>\n",
       "</div>"
      ],
      "text/plain": [
       "          asin   helpful  overall  \\\n",
       "0   0615391206    [0, 0]        5   \n",
       "1   0615391206    [0, 0]        5   \n",
       "2   0615391206  [26, 27]        4   \n",
       "3   0615391206  [14, 18]        5   \n",
       "4   0615391206    [0, 0]        4   \n",
       "5   0615391206    [0, 0]        5   \n",
       "6   0615391206    [2, 3]        5   \n",
       "7   0615391206  [32, 39]        2   \n",
       "8   0615391206  [13, 13]        5   \n",
       "9   0615391206    [0, 0]        5   \n",
       "10  0615391206    [3, 3]        4   \n",
       "11  0689027818    [0, 0]        5   \n",
       "12  0689027818    [0, 0]        5   \n",
       "13  0689027818    [1, 2]        5   \n",
       "14  0689027818  [16, 16]        5   \n",
       "15  0689027818    [1, 1]        5   \n",
       "16  0912696591    [0, 0]        5   \n",
       "17  0912696591    [1, 1]        5   \n",
       "18  0912696591    [0, 0]        5   \n",
       "19  0912696591    [0, 1]        5   \n",
       "20  0912696591    [0, 0]        5   \n",
       "21  0912696591    [4, 4]        3   \n",
       "22  0912696591    [0, 0]        4   \n",
       "23  0912696591    [1, 1]        5   \n",
       "24  0912696591    [0, 0]        5   \n",
       "25  0912696591    [2, 2]        5   \n",
       "26  0912696591    [2, 3]        2   \n",
       "27  0912696591    [0, 1]        4   \n",
       "28  0912696591    [0, 0]        4   \n",
       "29  0912696591    [0, 0]        4   \n",
       "\n",
       "                                           reviewText   reviewTime  \\\n",
       "0   My daughter wanted this book and the price on ...  10 19, 2013   \n",
       "1   I bought this zoku quick pop for my daughterr ...  06 18, 2014   \n",
       "2   There is no shortage of pop recipes available ...   05 5, 2013   \n",
       "3   This book is a must have if you get a Zoku (wh...   08 4, 2011   \n",
       "4   This cookbook is great.  I have really enjoyed...   06 7, 2014   \n",
       "5   If you have a Zoku Quick Pop maker (or two.......   06 7, 2014   \n",
       "6   This book is so beautifully illustrated and ea...   07 2, 2012   \n",
       "7   I bought this when I bought the pop maker. I t...   12 8, 2011   \n",
       "8   The Zoku accessories are pricey, but the recip...  09 22, 2011   \n",
       "9   High quality book. Clear and helpful informati...   06 1, 2014   \n",
       "10  The recipes in this books are tedious to make....  12 26, 2012   \n",
       "11  This beautifully illustrated book featuring te...  07 27, 2009   \n",
       "12  I got this as a gift for my niece and she love...   06 7, 2012   \n",
       "13  This is the story of a group of butterflies lo...   04 6, 2013   \n",
       "14  This book is absolutely beautiful. A brilliant...  02 21, 2003   \n",
       "15  My daughter 1 year old really likes this book....  04 22, 2004   \n",
       "16  For a novice cake decorator who got talked int...   05 4, 2014   \n",
       "17  I should not have bought it because it comes f...   06 7, 2013   \n",
       "18  had no idea about decorating cakes,by this boo...  05 27, 2012   \n",
       "19  excellent book, shipped on time, packaged nice...  06 12, 2012   \n",
       "20  i loved it. don't use it much but when i had i...  12 26, 2012   \n",
       "21  So I actually bought this thinking it was the ...  08 16, 2012   \n",
       "22  helpful information on decoraing basics. Good ...  12 13, 2013   \n",
       "23  Got this for my girlfriend who runs a baking b...   06 8, 2013   \n",
       "24  I'm hoping that I can learn how to make gum pa...  05 21, 2014   \n",
       "25  This 128 page book contains pictures and patte...   09 7, 2012   \n",
       "26  didn't really care many of the cakes at all. n...   08 1, 2012   \n",
       "27  I am very happy I purchased this book as it co...   05 7, 2013   \n",
       "28  This book isn't much help if you are not takin...  07 10, 2011   \n",
       "29  I have always wanted to learn how to decorate ...  08 16, 2013   \n",
       "\n",
       "        reviewerID                                      reviewerName  \\\n",
       "0    APYOBQE6M18AA                                   Martin Schwartz   \n",
       "1   A1JVQTAGHYOL7F                                     Michelle Dinh   \n",
       "2   A3UPYGJKZ0XTU4                                      mirasreviews   \n",
       "3   A2MHCTX43MIMDZ                            M. Johnson \"Tea Lover\"   \n",
       "4    AHAI85T5C2DH3                                          PugLover   \n",
       "5    AXA9EVY6IJIZ5                           Robin Cline \"Solarobby\"   \n",
       "6   A1SW2D234X11MS                         savinggrace \"savinggrace\"   \n",
       "7   A1ZH5ULI4SBO48                                      S. G. \"s.g.\"   \n",
       "8   A1V13XAWO98C1J                                       Stan \"Stan\"   \n",
       "9   A3842PXNQ1QRM9                                      Stephen Brem   \n",
       "10  A2BVT5QJSEEQI8                                    Steven Griffis   \n",
       "11  A3R9X003XW0LNR                          Deborah Verlen \"Deborah\"   \n",
       "12   AMZSUGQIAOH5O                                          jesssibs   \n",
       "13  A14BTJRH9VNLJJ                                   Kurt A. Johnson   \n",
       "14  A307YFSORUAXSQ                                       NYCPickyMom   \n",
       "15  A2WNXS3CNAQS01                                       Sapere Aude   \n",
       "16  A13BMNAQ2K5LLN  AcuDoc \"What would life be like without books...   \n",
       "17  A3LHQ0LXICBLY2                                                AE   \n",
       "18  A39RRTO760KGOY                                   Ahmed Montasser   \n",
       "19   AZF13R8HNB59E                                                ak   \n",
       "20  A1KCBA3PKLV2IT                                           A. Lenz   \n",
       "21  A3JM7FVJMPJ1XD                                            Alli09   \n",
       "22  A2S3ZE0RI9I60A                                      alma morsell   \n",
       "23   A33T8O72UNBVR                                         Amar Rhom   \n",
       "24  A1B9BZ3AJ5V1NJ                                   Amazon Customer   \n",
       "25  A36DVGJ18JV1E0                                   Amazon Customer   \n",
       "26  A2X4WC4ZRM0WTA                                   Amazon Customer   \n",
       "27  A2I5YZBMLU2R7O                                           Aniusia   \n",
       "28  A2V3IKHRC7C1IA                                         Avuqagvik   \n",
       "29  A1LAAZUR8YFRW8                             Barbara \"barbara11td\"   \n",
       "\n",
       "                                              summary  unixReviewTime  \n",
       "0                                          Best Price      1382140800  \n",
       "1                                                zoku      1403049600  \n",
       "2   Excels at Sweet Dessert Pops, but Falls Short ...      1367712000  \n",
       "3                                     Creative Combos      1312416000  \n",
       "4             A must own if you own the Zoku maker...      1402099200  \n",
       "5                                             Love it      1402099200  \n",
       "6   Beautifully illustrated recipe and instruction...      1341187200  \n",
       "7   Okay but you can figure it out yourself withou...      1323302400  \n",
       "8               If you have the Zoku maker, buy this!      1316649600  \n",
       "9                                Satisfaction opinion      1401580800  \n",
       "10                     I liked this book, but........      1356480000  \n",
       "11               A sweet book for babies and toddlers      1248652800  \n",
       "12                           Super cute niece present      1339027200  \n",
       "13           My little one absolutely loved this book      1365206400  \n",
       "14                         My Daughter's New Favorite      1045785600  \n",
       "15                               My daughter loves it      1082592000  \n",
       "16                                      Wilton Rocks!      1399161600  \n",
       "17                       I should not have bought it.      1370563200  \n",
       "18                            follow the instructions      1338076800  \n",
       "19                                               book      1339459200  \n",
       "20                                             great!      1356480000  \n",
       "21                           Good for what it's worth      1345075200  \n",
       "22  This is a good book for anyone interested in c...      1386892800  \n",
       "23                                      Handy to Have      1370649600  \n",
       "24                                           learning      1400630400  \n",
       "25           Great Idea Book and Used in Wilton Class      1346976000  \n",
       "26                                       not the best      1343779200  \n",
       "27                                          good tips      1367884800  \n",
       "28                          good if you take a class!      1310256000  \n",
       "29                               Great For Beginners!      1376611200  "
      ]
     },
     "execution_count": 95,
     "metadata": {},
     "output_type": "execute_result"
    }
   ],
   "source": [
    "df_reviews.head(30)"
   ]
  },
  {
   "cell_type": "code",
   "execution_count": 6,
   "metadata": {},
   "outputs": [
    {
     "data": {
      "text/plain": [
       "(551682, 9)"
      ]
     },
     "execution_count": 6,
     "metadata": {},
     "output_type": "execute_result"
    }
   ],
   "source": [
    "df_reviews.shape"
   ]
  },
  {
   "cell_type": "code",
   "execution_count": 7,
   "metadata": {},
   "outputs": [
    {
     "name": "stdout",
     "output_type": "stream",
     "text": [
      "<class 'pandas.core.frame.DataFrame'>\n",
      "RangeIndex: 551682 entries, 0 to 551681\n",
      "Data columns (total 9 columns):\n",
      "asin              551682 non-null object\n",
      "helpful           551682 non-null object\n",
      "overall           551682 non-null int64\n",
      "reviewText        551682 non-null object\n",
      "reviewTime        551682 non-null object\n",
      "reviewerID        551682 non-null object\n",
      "reviewerName      546729 non-null object\n",
      "summary           551682 non-null object\n",
      "unixReviewTime    551682 non-null int64\n",
      "dtypes: int64(2), object(7)\n",
      "memory usage: 37.9+ MB\n"
     ]
    }
   ],
   "source": [
    "df_reviews.info()"
   ]
  },
  {
   "cell_type": "code",
   "execution_count": 8,
   "metadata": {},
   "outputs": [
    {
     "data": {
      "text/plain": [
       "Index(['asin', 'helpful', 'overall', 'reviewText', 'reviewTime', 'reviewerID',\n",
       "       'reviewerName', 'summary', 'unixReviewTime'],\n",
       "      dtype='object')"
      ]
     },
     "execution_count": 8,
     "metadata": {},
     "output_type": "execute_result"
    }
   ],
   "source": [
    "df_reviews.columns"
   ]
  },
  {
   "cell_type": "code",
   "execution_count": 9,
   "metadata": {},
   "outputs": [
    {
     "data": {
      "text/html": [
       "<div>\n",
       "<style scoped>\n",
       "    .dataframe tbody tr th:only-of-type {\n",
       "        vertical-align: middle;\n",
       "    }\n",
       "\n",
       "    .dataframe tbody tr th {\n",
       "        vertical-align: top;\n",
       "    }\n",
       "\n",
       "    .dataframe thead th {\n",
       "        text-align: right;\n",
       "    }\n",
       "</style>\n",
       "<table border=\"1\" class=\"dataframe\">\n",
       "  <thead>\n",
       "    <tr style=\"text-align: right;\">\n",
       "      <th></th>\n",
       "      <th>overall</th>\n",
       "      <th>unixReviewTime</th>\n",
       "    </tr>\n",
       "  </thead>\n",
       "  <tbody>\n",
       "    <tr>\n",
       "      <th>count</th>\n",
       "      <td>551682.000000</td>\n",
       "      <td>5.516820e+05</td>\n",
       "    </tr>\n",
       "    <tr>\n",
       "      <th>mean</th>\n",
       "      <td>4.316655</td>\n",
       "      <td>1.348687e+09</td>\n",
       "    </tr>\n",
       "    <tr>\n",
       "      <th>std</th>\n",
       "      <td>1.110749</td>\n",
       "      <td>6.120238e+07</td>\n",
       "    </tr>\n",
       "    <tr>\n",
       "      <th>min</th>\n",
       "      <td>1.000000</td>\n",
       "      <td>9.572256e+08</td>\n",
       "    </tr>\n",
       "    <tr>\n",
       "      <th>25%</th>\n",
       "      <td>4.000000</td>\n",
       "      <td>1.331770e+09</td>\n",
       "    </tr>\n",
       "    <tr>\n",
       "      <th>50%</th>\n",
       "      <td>5.000000</td>\n",
       "      <td>1.367626e+09</td>\n",
       "    </tr>\n",
       "    <tr>\n",
       "      <th>75%</th>\n",
       "      <td>5.000000</td>\n",
       "      <td>1.388880e+09</td>\n",
       "    </tr>\n",
       "    <tr>\n",
       "      <th>max</th>\n",
       "      <td>5.000000</td>\n",
       "      <td>1.406074e+09</td>\n",
       "    </tr>\n",
       "  </tbody>\n",
       "</table>\n",
       "</div>"
      ],
      "text/plain": [
       "             overall  unixReviewTime\n",
       "count  551682.000000    5.516820e+05\n",
       "mean        4.316655    1.348687e+09\n",
       "std         1.110749    6.120238e+07\n",
       "min         1.000000    9.572256e+08\n",
       "25%         4.000000    1.331770e+09\n",
       "50%         5.000000    1.367626e+09\n",
       "75%         5.000000    1.388880e+09\n",
       "max         5.000000    1.406074e+09"
      ]
     },
     "execution_count": 9,
     "metadata": {},
     "output_type": "execute_result"
    }
   ],
   "source": [
    "df_reviews.describe()"
   ]
  },
  {
   "cell_type": "code",
   "execution_count": 10,
   "metadata": {},
   "outputs": [],
   "source": [
    "df_reviews.to_pickle('home_df.pkl')"
   ]
  },
  {
   "cell_type": "markdown",
   "metadata": {},
   "source": [
    "## Distribution of reviews by products (ASIN)"
   ]
  },
  {
   "cell_type": "code",
   "execution_count": 11,
   "metadata": {},
   "outputs": [
    {
     "data": {
      "text/plain": [
       "B00006JSUA    1064\n",
       "B001N07KUE     921\n",
       "B00006IUWA     662\n",
       "B00005B8K5     656\n",
       "B000QFDNP8     634\n",
       "B0006HUYGM     612\n",
       "B00009R66F     608\n",
       "B00004SPEU     592\n",
       "B0000CFMZN     572\n",
       "B000M8YMEU     550\n",
       "B00005IBX9     536\n",
       "B002YD99Y4     505\n",
       "B000TKDQ5C     482\n",
       "B004412GTO     478\n",
       "B000EGA6QI     478\n",
       "B00065L6CU     468\n",
       "B00004SPZV     449\n",
       "B000GXZ2GS     439\n",
       "B001T4ZAX8     437\n",
       "B001L5TVGW     432\n",
       "B000N4WMUE     418\n",
       "B00005MF9C     417\n",
       "B000638D32     412\n",
       "B00004OCO9     412\n",
       "B000DLB2FI     410\n",
       "B002PY7AYS     400\n",
       "B001PB8EJ2     399\n",
       "B00004OCKR     397\n",
       "B0000CBJJL     397\n",
       "B005M8HPPS     391\n",
       "              ... \n",
       "B0088BSPY6       5\n",
       "B000AUQDIS       5\n",
       "B00004WHQL       5\n",
       "B001E6KOV4       5\n",
       "B00091PMWQ       5\n",
       "B000MBPJHG       5\n",
       "B000K8WOQU       5\n",
       "B0017145YS       5\n",
       "B0049WPS02       5\n",
       "B001CQQSBG       5\n",
       "B001DIXA0K       5\n",
       "B000G0QL2K       5\n",
       "B000SSS4YI       5\n",
       "B002A9J802       5\n",
       "B00497E2OA       5\n",
       "B002HRFLOE       5\n",
       "B002MXY77U       5\n",
       "B000N8NNQ2       5\n",
       "B002X3J4OA       5\n",
       "B001L4D0S8       5\n",
       "B00DGH4LCM       5\n",
       "B002DMLF48       5\n",
       "B00006IARN       5\n",
       "B001IWMNGI       5\n",
       "B00CO1TBJY       5\n",
       "B00GVN5EOC       5\n",
       "B00CZITJDY       5\n",
       "B0056B90PO       5\n",
       "B0041693XY       5\n",
       "B0000VLPEE       5\n",
       "Name: asin, Length: 28237, dtype: int64"
      ]
     },
     "execution_count": 11,
     "metadata": {},
     "output_type": "execute_result"
    }
   ],
   "source": [
    "# Review counts for each ASIN\n",
    "df_reviews['asin'].value_counts()"
   ]
  },
  {
   "cell_type": "code",
   "execution_count": 12,
   "metadata": {},
   "outputs": [
    {
     "data": {
      "text/plain": [
       "array(['0615391206', '0689027818', '0912696591', ..., 'B00LAI4UYS',\n",
       "       'B00LB18EKK', 'B00LBFUU12'], dtype=object)"
      ]
     },
     "execution_count": 12,
     "metadata": {},
     "output_type": "execute_result"
    }
   ],
   "source": [
    "# How many unique ASIN's\n",
    "df_reviews['asin'].unique()"
   ]
  },
  {
   "cell_type": "code",
   "execution_count": 13,
   "metadata": {},
   "outputs": [
    {
     "data": {
      "text/plain": [
       "28237"
      ]
     },
     "execution_count": 13,
     "metadata": {},
     "output_type": "execute_result"
    }
   ],
   "source": [
    "# Unique ASIN's in the reviews\n",
    "len(df_reviews['asin'].unique())"
   ]
  },
  {
   "cell_type": "code",
   "execution_count": 14,
   "metadata": {},
   "outputs": [],
   "source": [
    "y = df_reviews['asin'].value_counts().nlargest(20).index\n",
    "x = df_reviews['asin'].value_counts().nlargest(20).values"
   ]
  },
  {
   "cell_type": "code",
   "execution_count": null,
   "metadata": {},
   "outputs": [],
   "source": []
  },
  {
   "cell_type": "code",
   "execution_count": 15,
   "metadata": {},
   "outputs": [],
   "source": [
    "# %matplotlib inline"
   ]
  },
  {
   "cell_type": "code",
   "execution_count": 16,
   "metadata": {},
   "outputs": [
    {
     "data": {
      "text/plain": [
       "Text(0,0.5,'ASIN ')"
      ]
     },
     "execution_count": 16,
     "metadata": {},
     "output_type": "execute_result"
    },
    {
     "data": {
      "image/png": "[encoded data removed]",
      "text/plain": [
       "<Figure size 648x432 with 1 Axes>"
      ]
     },
     "metadata": {
      "needs_background": "light"
     },
     "output_type": "display_data"
    }
   ],
   "source": [
    "# Plot\n",
    "plt.figure(figsize=(9,6))\n",
    "ax= sns.barplot(x, y,data= df_reviews ,alpha=0.8 )\n",
    "plt.title(\"ASIN Distribution\")\n",
    "plt.ylabel('ASIN ', fontsize=12)"
   ]
  },
  {
   "cell_type": "markdown",
   "metadata": {},
   "source": [
    "## Distribution of reviews by reviewers"
   ]
  },
  {
   "cell_type": "code",
   "execution_count": 17,
   "metadata": {},
   "outputs": [
    {
     "data": {
      "text/plain": [
       "58903"
      ]
     },
     "execution_count": 17,
     "metadata": {},
     "output_type": "execute_result"
    }
   ],
   "source": [
    "# Unique reviewers\n",
    "len(df_reviews['reviewerName'].unique())"
   ]
  },
  {
   "cell_type": "code",
   "execution_count": 18,
   "metadata": {},
   "outputs": [
    {
     "data": {
      "text/plain": [
       "Text(0,0.5,'Reviewers ')"
      ]
     },
     "execution_count": 18,
     "metadata": {},
     "output_type": "execute_result"
    },
    {
     "data": {
      "image/png": "[encoded data removed]",
      "text/plain": [
       "<Figure size 648x432 with 1 Axes>"
      ]
     },
     "metadata": {
      "needs_background": "light"
     },
     "output_type": "display_data"
    }
   ],
   "source": [
    "# Plot\n",
    "y = df_reviews['reviewerName'].value_counts().nlargest(20).index\n",
    "x = df_reviews['reviewerName'].value_counts().nlargest(20).values\n",
    "plt.figure(figsize=(9,6))\n",
    "ax= sns.barplot(x, y,data= df_reviews ,alpha=0.8 )\n",
    "plt.title(\"Distribution by Reviewers\", fontsize = 14)\n",
    "plt.ylabel('Reviewers ', fontsize=14)"
   ]
  },
  {
   "cell_type": "markdown",
   "metadata": {},
   "source": [
    "## Distribution by Ratings"
   ]
  },
  {
   "cell_type": "code",
   "execution_count": 19,
   "metadata": {},
   "outputs": [
    {
     "data": {
      "text/plain": [
       "5"
      ]
     },
     "execution_count": 19,
     "metadata": {},
     "output_type": "execute_result"
    }
   ],
   "source": [
    "# Unique ratings. Should be 5 but just checking\n",
    "len(df_reviews['overall'].unique())"
   ]
  },
  {
   "cell_type": "code",
   "execution_count": 20,
   "metadata": {},
   "outputs": [
    {
     "data": {
      "text/plain": [
       "Text(0.5,0,'Ratings ')"
      ]
     },
     "execution_count": 20,
     "metadata": {},
     "output_type": "execute_result"
    },
    {
     "data": {
      "image/png": "[encoded data removed]",
      "text/plain": [
       "<Figure size 648x432 with 1 Axes>"
      ]
     },
     "metadata": {
      "needs_background": "light"
     },
     "output_type": "display_data"
    }
   ],
   "source": [
    "# Plot\n",
    "x = df_reviews['overall'].value_counts().index\n",
    "y = df_reviews['overall'].value_counts().values\n",
    "plt.figure(figsize=(9,6))\n",
    "ax= sns.barplot(x, y,data= df_reviews ,alpha=0.8 )\n",
    "plt.title(\"Distribution by Overall Rating\", fontsize = 14)\n",
    "plt.xlabel('Ratings ', fontsize=14)"
   ]
  },
  {
   "cell_type": "code",
   "execution_count": null,
   "metadata": {},
   "outputs": [],
   "source": [
    "# df_reviews['rev_value_count'] = df_reviews.reviewerName.groupby(df_reviews.reviewerName).transform('count')"
   ]
  },
  {
   "cell_type": "code",
   "execution_count": null,
   "metadata": {},
   "outputs": [],
   "source": [
    "# df_reviews.head()"
   ]
  },
  {
   "cell_type": "code",
   "execution_count": null,
   "metadata": {},
   "outputs": [],
   "source": [
    "# df_reviews = df_reviews.sort_values('rev_value_count', ascending = False)"
   ]
  },
  {
   "cell_type": "code",
   "execution_count": null,
   "metadata": {},
   "outputs": [],
   "source": [
    "# df_reviews.head()"
   ]
  },
  {
   "cell_type": "code",
   "execution_count": null,
   "metadata": {},
   "outputs": [],
   "source": [
    "# df_reviews['rev_mean_overall'] = df_reviews.overall.groupby(df_reviews.reviewerName).transform('mean')"
   ]
  },
  {
   "cell_type": "code",
   "execution_count": null,
   "metadata": {},
   "outputs": [],
   "source": [
    "# df_reviews.head()"
   ]
  },
  {
   "cell_type": "markdown",
   "metadata": {},
   "source": [
    "## Is there a correlation between review count (reviewer) and the overall ratings? "
   ]
  },
  {
   "cell_type": "code",
   "execution_count": 23,
   "metadata": {},
   "outputs": [],
   "source": [
    "grp2 = df_reviews.groupby('reviewerName').overall.agg(['mean', 'count'])"
   ]
  },
  {
   "cell_type": "code",
   "execution_count": 39,
   "metadata": {},
   "outputs": [],
   "source": [
    "grp3 = grp2.sort_values(by = ['count'], ascending=False)[:40]"
   ]
  },
  {
   "cell_type": "code",
   "execution_count": 40,
   "metadata": {},
   "outputs": [
    {
     "data": {
      "text/html": [
       "<div>\n",
       "<style scoped>\n",
       "    .dataframe tbody tr th:only-of-type {\n",
       "        vertical-align: middle;\n",
       "    }\n",
       "\n",
       "    .dataframe tbody tr th {\n",
       "        vertical-align: top;\n",
       "    }\n",
       "\n",
       "    .dataframe thead th {\n",
       "        text-align: right;\n",
       "    }\n",
       "</style>\n",
       "<table border=\"1\" class=\"dataframe\">\n",
       "  <thead>\n",
       "    <tr style=\"text-align: right;\">\n",
       "      <th></th>\n",
       "      <th>mean</th>\n",
       "      <th>count</th>\n",
       "    </tr>\n",
       "    <tr>\n",
       "      <th>reviewerName</th>\n",
       "      <th></th>\n",
       "      <th></th>\n",
       "    </tr>\n",
       "  </thead>\n",
       "  <tbody>\n",
       "    <tr>\n",
       "      <th>Amazon Customer</th>\n",
       "      <td>4.294983</td>\n",
       "      <td>7136</td>\n",
       "    </tr>\n",
       "    <tr>\n",
       "      <th>Kindle Customer</th>\n",
       "      <td>4.431981</td>\n",
       "      <td>419</td>\n",
       "    </tr>\n",
       "    <tr>\n",
       "      <th>Chris</th>\n",
       "      <td>4.237410</td>\n",
       "      <td>417</td>\n",
       "    </tr>\n",
       "    <tr>\n",
       "      <th>Scott</th>\n",
       "      <td>4.126214</td>\n",
       "      <td>309</td>\n",
       "    </tr>\n",
       "    <tr>\n",
       "      <th>John</th>\n",
       "      <td>4.252595</td>\n",
       "      <td>289</td>\n",
       "    </tr>\n",
       "    <tr>\n",
       "      <th>Joanna Daneman</th>\n",
       "      <td>4.485507</td>\n",
       "      <td>276</td>\n",
       "    </tr>\n",
       "    <tr>\n",
       "      <th>Mary</th>\n",
       "      <td>4.465455</td>\n",
       "      <td>275</td>\n",
       "    </tr>\n",
       "    <tr>\n",
       "      <th>Anonymous</th>\n",
       "      <td>4.061818</td>\n",
       "      <td>275</td>\n",
       "    </tr>\n",
       "    <tr>\n",
       "      <th>Susan</th>\n",
       "      <td>4.445693</td>\n",
       "      <td>267</td>\n",
       "    </tr>\n",
       "    <tr>\n",
       "      <th>Pat</th>\n",
       "      <td>4.370229</td>\n",
       "      <td>262</td>\n",
       "    </tr>\n",
       "    <tr>\n",
       "      <th>Elizabeth</th>\n",
       "      <td>4.307087</td>\n",
       "      <td>254</td>\n",
       "    </tr>\n",
       "    <tr>\n",
       "      <th>Michael</th>\n",
       "      <td>4.288538</td>\n",
       "      <td>253</td>\n",
       "    </tr>\n",
       "    <tr>\n",
       "      <th>Sarah</th>\n",
       "      <td>4.306773</td>\n",
       "      <td>251</td>\n",
       "    </tr>\n",
       "    <tr>\n",
       "      <th>Steve</th>\n",
       "      <td>4.250000</td>\n",
       "      <td>236</td>\n",
       "    </tr>\n",
       "    <tr>\n",
       "      <th>Mike</th>\n",
       "      <td>4.305085</td>\n",
       "      <td>236</td>\n",
       "    </tr>\n",
       "    <tr>\n",
       "      <th>David</th>\n",
       "      <td>4.352174</td>\n",
       "      <td>230</td>\n",
       "    </tr>\n",
       "    <tr>\n",
       "      <th>Dave</th>\n",
       "      <td>4.334783</td>\n",
       "      <td>230</td>\n",
       "    </tr>\n",
       "    <tr>\n",
       "      <th>Lisa</th>\n",
       "      <td>4.288210</td>\n",
       "      <td>229</td>\n",
       "    </tr>\n",
       "    <tr>\n",
       "      <th>Comdet</th>\n",
       "      <td>4.497797</td>\n",
       "      <td>227</td>\n",
       "    </tr>\n",
       "    <tr>\n",
       "      <th>Sam</th>\n",
       "      <td>4.318584</td>\n",
       "      <td>226</td>\n",
       "    </tr>\n",
       "    <tr>\n",
       "      <th>Ryan</th>\n",
       "      <td>4.271111</td>\n",
       "      <td>225</td>\n",
       "    </tr>\n",
       "    <tr>\n",
       "      <th>Laura</th>\n",
       "      <td>4.372727</td>\n",
       "      <td>220</td>\n",
       "    </tr>\n",
       "    <tr>\n",
       "      <th>Linda</th>\n",
       "      <td>4.383562</td>\n",
       "      <td>219</td>\n",
       "    </tr>\n",
       "    <tr>\n",
       "      <th>Crabigail Cassidy \"Crabby Abby\"</th>\n",
       "      <td>4.265116</td>\n",
       "      <td>215</td>\n",
       "    </tr>\n",
       "    <tr>\n",
       "      <th>Lynn</th>\n",
       "      <td>4.254808</td>\n",
       "      <td>208</td>\n",
       "    </tr>\n",
       "    <tr>\n",
       "      <th>Jennifer</th>\n",
       "      <td>4.197115</td>\n",
       "      <td>208</td>\n",
       "    </tr>\n",
       "    <tr>\n",
       "      <th>Karen</th>\n",
       "      <td>4.403941</td>\n",
       "      <td>203</td>\n",
       "    </tr>\n",
       "    <tr>\n",
       "      <th>Jim</th>\n",
       "      <td>4.064356</td>\n",
       "      <td>202</td>\n",
       "    </tr>\n",
       "    <tr>\n",
       "      <th>Julie</th>\n",
       "      <td>4.312821</td>\n",
       "      <td>195</td>\n",
       "    </tr>\n",
       "    <tr>\n",
       "      <th>Jen</th>\n",
       "      <td>4.469072</td>\n",
       "      <td>194</td>\n",
       "    </tr>\n",
       "    <tr>\n",
       "      <th>Jessica</th>\n",
       "      <td>4.280423</td>\n",
       "      <td>189</td>\n",
       "    </tr>\n",
       "    <tr>\n",
       "      <th>Ashley</th>\n",
       "      <td>4.515957</td>\n",
       "      <td>188</td>\n",
       "    </tr>\n",
       "    <tr>\n",
       "      <th>Amanda</th>\n",
       "      <td>4.338710</td>\n",
       "      <td>186</td>\n",
       "    </tr>\n",
       "    <tr>\n",
       "      <th>Nancy</th>\n",
       "      <td>4.529730</td>\n",
       "      <td>185</td>\n",
       "    </tr>\n",
       "    <tr>\n",
       "      <th>Mike Tarrani \"Jazz Drummer\"</th>\n",
       "      <td>4.956522</td>\n",
       "      <td>184</td>\n",
       "    </tr>\n",
       "    <tr>\n",
       "      <th>James</th>\n",
       "      <td>4.294444</td>\n",
       "      <td>180</td>\n",
       "    </tr>\n",
       "    <tr>\n",
       "      <th>Danielle</th>\n",
       "      <td>4.497207</td>\n",
       "      <td>179</td>\n",
       "    </tr>\n",
       "    <tr>\n",
       "      <th>Sharon</th>\n",
       "      <td>4.432584</td>\n",
       "      <td>178</td>\n",
       "    </tr>\n",
       "    <tr>\n",
       "      <th>Michelle</th>\n",
       "      <td>4.276836</td>\n",
       "      <td>177</td>\n",
       "    </tr>\n",
       "    <tr>\n",
       "      <th>Amy</th>\n",
       "      <td>4.480226</td>\n",
       "      <td>177</td>\n",
       "    </tr>\n",
       "  </tbody>\n",
       "</table>\n",
       "</div>"
      ],
      "text/plain": [
       "                                     mean  count\n",
       "reviewerName                                    \n",
       "Amazon Customer                  4.294983   7136\n",
       "Kindle Customer                  4.431981    419\n",
       "Chris                            4.237410    417\n",
       "Scott                            4.126214    309\n",
       "John                             4.252595    289\n",
       "Joanna Daneman                   4.485507    276\n",
       "Mary                             4.465455    275\n",
       "Anonymous                        4.061818    275\n",
       "Susan                            4.445693    267\n",
       "Pat                              4.370229    262\n",
       "Elizabeth                        4.307087    254\n",
       "Michael                          4.288538    253\n",
       "Sarah                            4.306773    251\n",
       "Steve                            4.250000    236\n",
       "Mike                             4.305085    236\n",
       "David                            4.352174    230\n",
       "Dave                             4.334783    230\n",
       "Lisa                             4.288210    229\n",
       "Comdet                           4.497797    227\n",
       "Sam                              4.318584    226\n",
       "Ryan                             4.271111    225\n",
       "Laura                            4.372727    220\n",
       "Linda                            4.383562    219\n",
       "Crabigail Cassidy \"Crabby Abby\"  4.265116    215\n",
       "Lynn                             4.254808    208\n",
       "Jennifer                         4.197115    208\n",
       "Karen                            4.403941    203\n",
       "Jim                              4.064356    202\n",
       "Julie                            4.312821    195\n",
       "Jen                              4.469072    194\n",
       "Jessica                          4.280423    189\n",
       "Ashley                           4.515957    188\n",
       "Amanda                           4.338710    186\n",
       "Nancy                            4.529730    185\n",
       "Mike Tarrani \"Jazz Drummer\"      4.956522    184\n",
       "James                            4.294444    180\n",
       "Danielle                         4.497207    179\n",
       "Sharon                           4.432584    178\n",
       "Michelle                         4.276836    177\n",
       "Amy                              4.480226    177"
      ]
     },
     "execution_count": 40,
     "metadata": {},
     "output_type": "execute_result"
    }
   ],
   "source": [
    "# grp3"
   ]
  },
  {
   "cell_type": "code",
   "execution_count": 41,
   "metadata": {},
   "outputs": [
    {
     "data": {
      "text/plain": [
       "<matplotlib.axes._subplots.AxesSubplot at 0x1a22e09a90>"
      ]
     },
     "execution_count": 41,
     "metadata": {},
     "output_type": "execute_result"
    },
    {
     "data": {
      "image/png": "[encoded data removed]",
      "text/plain": [
       "<Figure size 432x288 with 1 Axes>"
      ]
     },
     "metadata": {
      "needs_background": "light"
     },
     "output_type": "display_data"
    }
   ],
   "source": [
    "grp3.plot(x='count', y='mean')"
   ]
  },
  {
   "cell_type": "markdown",
   "metadata": {},
   "source": [
    "### \"Amazon Customer\" is messing with the results."
   ]
  },
  {
   "cell_type": "code",
   "execution_count": 43,
   "metadata": {},
   "outputs": [],
   "source": [
    "# leaving out Amazon customer\n",
    "grp4 = grp2.sort_values(by = ['count'], ascending=False)[1:40]"
   ]
  },
  {
   "cell_type": "code",
   "execution_count": 44,
   "metadata": {},
   "outputs": [
    {
     "data": {
      "text/plain": [
       "<matplotlib.axes._subplots.AxesSubplot at 0x1a22f84b70>"
      ]
     },
     "execution_count": 44,
     "metadata": {},
     "output_type": "execute_result"
    },
    {
     "data": {
      "image/png": "[encoded data removed]",
      "text/plain": [
       "<Figure size 432x288 with 1 Axes>"
      ]
     },
     "metadata": {
      "needs_background": "light"
     },
     "output_type": "display_data"
    }
   ],
   "source": [
    "grp4.plot(x='count', y='mean')"
   ]
  },
  {
   "cell_type": "code",
   "execution_count": 45,
   "metadata": {},
   "outputs": [
    {
     "data": {
      "text/html": [
       "<div>\n",
       "<style scoped>\n",
       "    .dataframe tbody tr th:only-of-type {\n",
       "        vertical-align: middle;\n",
       "    }\n",
       "\n",
       "    .dataframe tbody tr th {\n",
       "        vertical-align: top;\n",
       "    }\n",
       "\n",
       "    .dataframe thead th {\n",
       "        text-align: right;\n",
       "    }\n",
       "</style>\n",
       "<table border=\"1\" class=\"dataframe\">\n",
       "  <thead>\n",
       "    <tr style=\"text-align: right;\">\n",
       "      <th></th>\n",
       "      <th>mean</th>\n",
       "      <th>count</th>\n",
       "    </tr>\n",
       "  </thead>\n",
       "  <tbody>\n",
       "    <tr>\n",
       "      <th>mean</th>\n",
       "      <td>1.000000</td>\n",
       "      <td>-0.224043</td>\n",
       "    </tr>\n",
       "    <tr>\n",
       "      <th>count</th>\n",
       "      <td>-0.224043</td>\n",
       "      <td>1.000000</td>\n",
       "    </tr>\n",
       "  </tbody>\n",
       "</table>\n",
       "</div>"
      ],
      "text/plain": [
       "           mean     count\n",
       "mean   1.000000 -0.224043\n",
       "count -0.224043  1.000000"
      ]
     },
     "execution_count": 45,
     "metadata": {},
     "output_type": "execute_result"
    }
   ],
   "source": [
    "grp4.corr()"
   ]
  },
  {
   "cell_type": "markdown",
   "metadata": {},
   "source": [
    "### Seems that the folks that give more reviews tend to give more balanced reviews"
   ]
  },
  {
   "cell_type": "code",
   "execution_count": 46,
   "metadata": {},
   "outputs": [
    {
     "data": {
      "text/html": [
       "<div>\n",
       "<style scoped>\n",
       "    .dataframe tbody tr th:only-of-type {\n",
       "        vertical-align: middle;\n",
       "    }\n",
       "\n",
       "    .dataframe tbody tr th {\n",
       "        vertical-align: top;\n",
       "    }\n",
       "\n",
       "    .dataframe thead th {\n",
       "        text-align: right;\n",
       "    }\n",
       "</style>\n",
       "<table border=\"1\" class=\"dataframe\">\n",
       "  <thead>\n",
       "    <tr style=\"text-align: right;\">\n",
       "      <th></th>\n",
       "      <th>mean</th>\n",
       "      <th>count</th>\n",
       "    </tr>\n",
       "  </thead>\n",
       "  <tbody>\n",
       "    <tr>\n",
       "      <th>mean</th>\n",
       "      <td>1.00000</td>\n",
       "      <td>0.00713</td>\n",
       "    </tr>\n",
       "    <tr>\n",
       "      <th>count</th>\n",
       "      <td>0.00713</td>\n",
       "      <td>1.00000</td>\n",
       "    </tr>\n",
       "  </tbody>\n",
       "</table>\n",
       "</div>"
      ],
      "text/plain": [
       "          mean    count\n",
       "mean   1.00000  0.00713\n",
       "count  0.00713  1.00000"
      ]
     },
     "execution_count": 46,
     "metadata": {},
     "output_type": "execute_result"
    }
   ],
   "source": [
    "grp2.corr()"
   ]
  },
  {
   "cell_type": "code",
   "execution_count": 47,
   "metadata": {},
   "outputs": [
    {
     "data": {
      "text/plain": [
       "<matplotlib.axes._subplots.AxesSubplot at 0x10edc19e8>"
      ]
     },
     "execution_count": 47,
     "metadata": {},
     "output_type": "execute_result"
    },
    {
     "data": {
      "image/png": "[encoded data removed]",
      "text/plain": [
       "<Figure size 432x288 with 1 Axes>"
      ]
     },
     "metadata": {
      "needs_background": "light"
     },
     "output_type": "display_data"
    }
   ],
   "source": [
    "grp2.plot(x='count', y='mean')"
   ]
  },
  {
   "cell_type": "markdown",
   "metadata": {},
   "source": [
    "### Rating trends for folks that do not give a lot of reviews"
   ]
  },
  {
   "cell_type": "code",
   "execution_count": 83,
   "metadata": {},
   "outputs": [],
   "source": [
    "grp5 = grp2.sort_values(by = ['count'])[:200]"
   ]
  },
  {
   "cell_type": "code",
   "execution_count": 84,
   "metadata": {},
   "outputs": [
    {
     "data": {
      "text/plain": [
       "<matplotlib.axes._subplots.AxesSubplot at 0x1a23435908>"
      ]
     },
     "execution_count": 84,
     "metadata": {},
     "output_type": "execute_result"
    },
    {
     "data": {
      "image/png": "[encoded data removed]",
      "text/plain": [
       "<Figure size 432x288 with 1 Axes>"
      ]
     },
     "metadata": {
      "needs_background": "light"
     },
     "output_type": "display_data"
    }
   ],
   "source": [
    "grp5.plot(x='count', y='mean')"
   ]
  },
  {
   "cell_type": "markdown",
   "metadata": {},
   "source": [
    "### Folks with low number of reviews have more variance in the ratings"
   ]
  },
  {
   "cell_type": "code",
   "execution_count": 85,
   "metadata": {},
   "outputs": [
    {
     "data": {
      "text/plain": [
       "pandas.core.frame.DataFrame"
      ]
     },
     "execution_count": 85,
     "metadata": {},
     "output_type": "execute_result"
    }
   ],
   "source": [
    "type(grp5)"
   ]
  },
  {
   "cell_type": "code",
   "execution_count": 86,
   "metadata": {},
   "outputs": [
    {
     "data": {
      "text/plain": [
       "<matplotlib.axes._subplots.AxesSubplot at 0x1a2349c4a8>"
      ]
     },
     "execution_count": 86,
     "metadata": {},
     "output_type": "execute_result"
    },
    {
     "data": {
      "image/png": "[encoded data removed]",
      "text/plain": [
       "<Figure size 864x432 with 1 Axes>"
      ]
     },
     "metadata": {
      "needs_background": "light"
     },
     "output_type": "display_data"
    }
   ],
   "source": [
    "grp5.plot(figsize=(12,6))"
   ]
  },
  {
   "cell_type": "code",
   "execution_count": 87,
   "metadata": {},
   "outputs": [
    {
     "data": {
      "text/plain": [
       "pandas.core.frame.DataFrame"
      ]
     },
     "execution_count": 87,
     "metadata": {},
     "output_type": "execute_result"
    }
   ],
   "source": [
    "type(df_reviews)"
   ]
  },
  {
   "cell_type": "markdown",
   "metadata": {},
   "source": [
    "## Looking at \"helpful\""
   ]
  },
  {
   "cell_type": "code",
   "execution_count": 92,
   "metadata": {},
   "outputs": [
    {
     "data": {
      "text/plain": [
       "396128    52176\n",
       "277998     6128\n",
       "179554     5247\n",
       "203043     5081\n",
       "299184     5034\n",
       "213534     4736\n",
       "44832      3941\n",
       "279057     3716\n",
       "282475     2777\n",
       "112700     2618\n",
       "480671     2282\n",
       "96663      2247\n",
       "146829     2108\n",
       "337771     2029\n",
       "15716      1896\n",
       "285285     1862\n",
       "336588     1751\n",
       "396068     1719\n",
       "396086     1683\n",
       "179733     1642\n",
       "Name: helpful, dtype: int64"
      ]
     },
     "execution_count": 92,
     "metadata": {},
     "output_type": "execute_result"
    }
   ],
   "source": [
    "df_reviews.helpful.apply(lambda x: x[0]).nlargest(20)"
   ]
  },
  {
   "cell_type": "code",
   "execution_count": 93,
   "metadata": {},
   "outputs": [
    {
     "data": {
      "text/plain": [
       "396128    52861\n",
       "277998     6174\n",
       "179554     5307\n",
       "203043     5126\n",
       "299184     5088\n",
       "213534     4768\n",
       "44832      4009\n",
       "279057     3787\n",
       "282475     2817\n",
       "112700     2714\n",
       "480671     2523\n",
       "96663      2330\n",
       "146829     2142\n",
       "337771     2066\n",
       "396068     1931\n",
       "15716      1914\n",
       "396086     1890\n",
       "285285     1875\n",
       "336588     1798\n",
       "179733     1699\n",
       "Name: helpful, dtype: int64"
      ]
     },
     "execution_count": 93,
     "metadata": {},
     "output_type": "execute_result"
    }
   ],
   "source": [
    "df_reviews.helpful.apply(lambda x: x[1]).nlargest(20)"
   ]
  },
  {
   "cell_type": "markdown",
   "metadata": {},
   "source": [
    "Examining a review with 52861 helpfuls"
   ]
  },
  {
   "cell_type": "code",
   "execution_count": 101,
   "metadata": {},
   "outputs": [
    {
     "data": {
      "text/plain": [
       "'For decades I have been trying to come up with an ideal way to slice a banana.  \"Use a knife!\" they say.  Well...my parole officer won\\'t allow me to be around knives.  \"Shoot it with a gun!\"  Background check...HELLO!  I had to resort to carefully attempt to slice those bananas with my bare hands.  99.9% of the time, I would get so frustrated that I just ended up squishing the fruit in my hands and throwing it against the wall in anger. Then, after a fit of banana-induced rage, my parole officer introduced me to this kitchen marvel and my life was changed.  No longer consumed by seething anger and animosity towards thick-skinned yellow fruit, I was able to concentrate on my love of theatre and am writing a musical play about two lovers from rival gangs that just try to make it in the world.  I think I\\'ll call it South Side Story.Banana slicer...thanks to you, I see greatness on the horizon.'"
      ]
     },
     "execution_count": 101,
     "metadata": {},
     "output_type": "execute_result"
    }
   ],
   "source": [
    "df_reviews.iloc[396128].reviewText"
   ]
  },
  {
   "cell_type": "code",
   "execution_count": 102,
   "metadata": {},
   "outputs": [
    {
     "data": {
      "text/plain": [
       "asin                                                     B0047E0EII\n",
       "helpful                                              [52176, 52861]\n",
       "overall                                                           5\n",
       "reviewText        For decades I have been trying to come up with...\n",
       "reviewTime                                               03 3, 2011\n",
       "reviewerID                                           A1TTA1UUGY4WY4\n",
       "reviewerName                                                   SW3K\n",
       "summary                        No more winning for you, Mr. Banana!\n",
       "unixReviewTime                                           1299110400\n",
       "Name: 396128, dtype: object"
      ]
     },
     "execution_count": 102,
     "metadata": {},
     "output_type": "execute_result"
    }
   ],
   "source": [
    "df_reviews.iloc[396128]"
   ]
  },
  {
   "cell_type": "markdown",
   "metadata": {},
   "source": [
    "The one above seems fake news. Trying the next"
   ]
  },
  {
   "cell_type": "code",
   "execution_count": 103,
   "metadata": {},
   "outputs": [
    {
     "data": {
      "text/plain": [
       "asin                                                     B001LYFBHG\n",
       "helpful                                                [6128, 6174]\n",
       "overall                                                           5\n",
       "reviewText        Note: I have updated this review in March of 2...\n",
       "reviewTime                                               08 7, 2009\n",
       "reviewerID                                           A17V9XL4CWTQ6G\n",
       "reviewerName                                               Chandler\n",
       "summary           The top steam mops: Results of steam mop first...\n",
       "unixReviewTime                                           1249603200\n",
       "Name: 277998, dtype: object"
      ]
     },
     "execution_count": 103,
     "metadata": {},
     "output_type": "execute_result"
    }
   ],
   "source": [
    "df_reviews.iloc[277998]"
   ]
  },
  {
   "cell_type": "code",
   "execution_count": 104,
   "metadata": {},
   "outputs": [
    {
     "data": {
      "text/plain": [
       "'Note: I have updated this review in March of 2013 comparing this mop to Eureka\\'s new mop called \"Two in One\" I do not like Eureka\\'s new steam mop model 150A as much as this one (I actually don\\'t like Eureka\\'s model 150 at all) but I\"ve added the notes to my review as well as a few other new mops we\\'ve gotten to try out. We have a second home now and I\\'m in the market for a new steam mop. In trying out new ones, even the new Eureka one, I still like this old model 313A the best.Know going in If you get the Envirosteamer, know that, though it cleans the best, the first two times you use it the water goes through holes faster than it will in subsequent uses, so it will go through steam faster and your floors will be wetter than normal. Enough people wrote me to know this happened the first one or two times as it did my first time of use,  then after that the mop was normal, our floors are great  and it lasts waaaah longer. We don\\'t know why.  Just know that going in.  After the first two initializing uses it steams perfect! Also obviously the steam lasts longest if you don\\'t hold the mop above the floor to walk to another area since the steam pours out as it will with any steam mop if you do.Also note: the reason some mops aren\\'t 212 degrees is the tank is on the handle rather than the base so the steam cools prior to it reaching the floor. It becomes steam at 212. But doesn\\'t stay there.Note: This review has been updated a few times through the years as I got to try out new mops.Original review:I live in a neighborhood where EVERY home is \"green built certified\" this means that, to have that certification, the builder built no homes with carpet. All the main floors are polished concrete and the upper floors wood. The bathrooms all have tile and/or slate in every home.Because of this, as you could imagine, steam mops are quite the neccessity...not only because they get the hard surfaces better than anything else, but because they are also \"green\" and clean chemical free. I\\'ll be honest, for us...that\\'s a bonus but we weren\\'t cleaning chemical free before. We like chemical free for our pet\\'s paws but I\\'ll confess I was mopping with chemicals before I got my steamer and just kept the pets out of the room while doing it because, up until then, I couldn\\'t get it clean any other way.Okay, so that said...we decided to have a steamer show down to compare 7 different steamers because my friends and I knew as long as we are in these homes we are gonna have to have a steamer to get all these hard floors clean...we may as well figure out which one to buy next go round. Because my own home is graced with 2 cats, 3 dogs, and two gregarious cooks, my kitchen floor (which had not ever been cleaned by a steamer since my steamer had just arrived) was the testing spot.Mind you, I vaccuum twice per week and do a mega mop twice a week. I THOUGHT I had pretty clean floors in spite of my pet capacity.I thought wrong. These picked up dirt so well it\\'s scarySo here\\'s the results:1. steam mops are the mac daddys of clean floors. What these things picked up was tremendous and no comparison to my vigorous prior constant major mopping.2. So now I\\'ll break down the elements of each mop we used and then go into more detail about each at the end.We tried out:\"S\": The shark by Europro\"E\" The Envirosteamer 313A by Eureka\"H\" the haan steamer\"M\" the Monster\"B\" The Bissell Green Tea\"SF\" The SteamFast SF-140 by SteamFast\"SB\" The SteamBoy T1E2 Eureka\\'s new 2013 mop called \"Two In One\" or the 150 Series\"BD\" Bissell Steam Mop Deluxe 2013 ModelCORD LENGTH: so you don\\'t have to stop and unplug and replug in somewhere else:Shark ( will be referred to as S):20 feetEnvirosteamer (will be referred to as E): 25 feet *Note* The Envirosteamer has a clip at the top of the handle to keep the cord out of the way. When it\\'s plugged in and you need more cord length, a light tug undoes this cord on the clip so that you have the full 25\\' of cord. Otherwise it\\'s only around 20 feet. It\\'s made to do this.Haan: (will be referred to as H)19\\'8\"Monster (will be referred to as M): 25 feetBissell (will be referred to as B) 17 feetSteamFast (will be referred to as SF): 18.7 ft.SteamBoy (will be referred to as SB): 16 ft.Eureka Model 150 Two In One; 20 feetBissell Steam Mop Deluxe (Will be referred to as BD) 20 feetSTEAM TEMPERATURE: this is a primary element. The hotter the steam, the more dirt picked up and hot steam will also kill parasites, mold and mildew and loosen more dirt:S 110 degrees. lameE 220 degrees. very hotH 212 degrees. very hotM 266 degrees. hottest...although the envirosteamer and haan seemed plenty hot enough. The shark didn\\'t clean nearly as well and this was one reason. 110 degrees just isn\\'t going to melt off stuck on grime.B 125 degrees. Note that, because of this low steam temperature the manual said that if I wanted to sanitize the floor or pick up caked on spills, I had to hold the steamer on the spot for 15 seconds but no more than 20 because that could damage some floors. Now I don\\'t know about you, but if I can sanitize with one swipe of the other steamers because of their sanitizing temps my floor will be done WAY faster but I don\\'t have a timer to worry about the extra 5 secons where my wood floors could get damaged. My sink water is hotter than this so it would take less time to use a regular mop if I have to hold the steamer on every spot of my floor for 15 seconds to santize. Just sayinSF: 137 degrees. Not hot enough to clean well nor sanitize.SB: 120 degrees. Not hot enough to clean well nor sanitizeE2: 208 degrees. Very hot but this one allows you to adjust the steam for low or high steam, unlike the 313A.BD: 136 degreesBUILD:We found how it was made corresponded with issues with the steamer. The Shark, for example, was quite flimsy and they actually sell replacement handle kits because so many people have issues with the handle breaking! We know this because my neighbor\\'s shark broke and the store had a replacement handle kit on the shelf because he said \"it happens often\". That\\'s an extra cost.Envirosteamer: Was 5.4 lbs which made it lightweight but strong enough that you didn\\'t have to press down to clean. Very well made and strong partsHaan: not made as well as the envirosteamer but it\\'s more expensive so this was a surprise. A bit flimsy and you need to press down on it more to clean at 3.15 lbs.Monster: hefty and well made at 9 lbs but a bit too heavy unless you want a good workout. (Note: They have changed the Monster handles on the mops now and they are all plastic and people are having breakage issues)Bissell: It\\'s 8.4 pounds but that includes a water filter that you have to get for this one (see notes below)SteamFast: very flimsy plastic all over, but it\\'s also more affordable than the other mops so it\\'s a bit of a trade off. 7 lbs.SteamBoy: They didn\\'t even ship this preassembled like the other mops. We had to assemble it! Pretty flimsy plastic. 9 lbs but that includes the water filter you have to get with this one (see notes below)Eureka\\'s New mop Model 150 Two In One: They went cheap on the new mop. The metal is gone and it\\'s as flimsy as can be.  Their new mop is just like the Shark.Cheap.BD: 7 lbs. comfortable but too many plastic parts.WATER CAPACITY: Very important because having to stop and add more water just adds on to the time you have to spend cleaning, especially if you are cleaning a hallway or livingroom or some other area that has no sink:S: only holds up to 10 oz of water. Lasted for 10 miinutes of cleaningE: holds up to 20 oz. of water. Lasted for over 20 minutes of cleaning (we stopped at 20 and it was still going)H: holds up to 11.83 oz of water. Lasted for 13 minutes of cleaningM: holds up to 17 oz. of water. Lasted for 15 minutes of cleaningB: holds up to 13 oz of water, lasted for 12.5 minutes of cleaning AND you have to undo and remove the tank from the machine every time you fill it up then hook it back on and the steam tank is on the handle rather than the base so the steam doesn\\'t flow directly out after heating up which may explain why it\\'s not as hot once it leaves the machine. The way this mop is made the water flows past heating elements which can, according to Bissell, develop calcium deposits on it so this is the only mop where, because of this, you also have to use a water filter with it and replace the water filter when there is build up which means and extra 12 bucks every few months. The better mops are made to heat the water in a metal tank so this is not an issue and you pour the water directly into the tank.SF: Holds the least amount of water and I had to stop and fill up and get the water reheated often in trying to clean the floor. Only holds 8 oz of water and if you use 8 oz it gets your floor too wet so we wound up filling it with just up to 7.5 oz of water for best results and it only lasted 7 minutes when we did that before we had to refill again.SB: up to 24 oz BUT it only lasted for 12 minutes of cleaning. I think because of the build. This one also is made so that the water has to flow past heating elements down the handle, rather than flowing directly from a hot tank to the floor at the base. Because of this it can develop calcium deposits inside the mop so you have to also buy a water filter for this mop and replace it every few months when there is build up which means extra cost and, quite possibly, more repairs. Because this does not flow directly out of a hot tank it cools on the way down and possibly with this one evaporates somehow because we tried it twice and the steam simply didn\\'t last as long as it should.E2: Holds 16 oz of water and lasted for 12 minutes of cleaning on high setting. I know Eureka says it holds 10 oz of water and lasts 15 minutes but I measured the water to the fill line and my results were different.BD: Holds 17 oz of water but it\\'s VERY difficult and slow to pump and sometimes no steam seemed to be coming out. Therefore, I\\'m not rating how long it lasted because it kept lasting but not based on working well.STEAM HOLES: We found a difference although you\\'d think they\\'d all be the same. The shark only had one hole that the steam came out of so it wasn\\'t cleaning things on the edges, just in one spot. All the others had steam coming from bottom and sides. Steamboy also didn\\'t have holes near the edge. Update: I hate the holes on the new Eureka called Eureka Two In One. It has a triangle at the bottom that holds the now cheap pads on and the steam only comes out the middle. Just like the Shark I hated. Stick with the Eureka 313A.SIZE: The taller it is the less stooping, the wider the mop head, the more it coversS: 40\"Hx12\"Wx7\"DE: 50\"Hx13.25\"Wx6.75\"D (the fact that this depth was smaller made it reach under applicances better...it fit better under things)H: 50.5x11.5x7.5M: 48x12.7.5B: 45.25H (this was uncomfortably short) x11 x8.4 (even though this didn\\'t fit under cabinets because of the depth it did swivel the best)SF:49x11.8x7SB: 28.2x6.9x7.9E2:47.5x11x6.5BD: 45x10x7Conclusion of comparison: First it must be pointed out that, in order to use the shark and the Bissell and the SteamBoy, you had to keep pumping the water. This was the most annoying feature of anything...the others just steamed on their own and didn\\'t wear out your fingers. Hated this feature of the shark and Bissell and SteamBoy. We liked that the Monster, the Shark, the Envirosteamer, the SteamFast and the Bissell came with 2 cleaning pads rather than one. The Haan only came with one at the time of the review (I double checked since when she bought hers it was also only one and as of today, that hasn\\'t changed) so that ups the price even more because I can\\'t imagine only wanting one to clean. All worked well on sanitizing mattresses and showers. too.But the winner picked by all of us unanimously as the mop we want to have for our next steam mop order?The Eureka Envirosteamer 313A. It picked up the most dirt, was made as well as the Monster but was less expensive, held the most water, emitted the most very hot steam so it sanitized as well, lasted 3 times as long with one water resevor fillup as the others, and had a cord as long as the monster. BUT if you have carpets than I would recommend the Monster because it has a carpet attachment that allows you to steam clean your carpets and it picked up pretty close to the same amount of dirt as the Eureka Envirosteamer, and had close to the same features...a bit heavier though but that may make it last even longer. It is costlier, but to clean 2 surfaces I would think that might make it worth it.UPDATE: The Haan just started including 2 pads with the mop according to the product description page. Not that this changes our opinion since it didn\\'t work as well and the parts were flimsier, but it should be noted that this issue of not having enough cleaning pads has now been resolved and is equal to the other mops.ANOTHER UPDATE: 1. The Shark came out with a new machine that holds more water and has a longer cord BUT it still only heats the water to 110 degrees so it won\\'t sanitize or get rid of trapped grime at this \"bathwater\" temperature.Also: Don\\'t spend money buying extra pads for the Eureka. I was in a pinch and used a kitchen dish towel...the rectangular kind...just clip on both ends. It worked just as good or better...because they are thinner so the steam penetrates faster and therefore reaches the floor hotter. However, I would recommend still only using the thick pads that come with it for your wood floors just to be safe. But the super hot steam penetrating the dish towel worked excellent on tile and hard floors. Also, you can flip both the towel and the pads that come with it on the Eureka to double the usage...when it gets dirty, just flip it over and use the other side. I use several old dish towels with this but I like best the kind that just have a bit of texture but no squares sewn on them...but they all work great. So do the pads.Also we noticed that a reviewer above us on the page flattered us by adding all of our information you read in our review about cord length, all the mops, steam temperatures we measured etc into her older review that is first on the page that originally contained none of this information. However, now that she edited her review to include our 6 hrs of research we apologize that it makes reading these two reviews very redundant. We promise when we first posted this review that no other review on this page contained any of the information on temperatures etc in our review until we posted our findings and they were copied into an older review higher on the page via editing. It\\'s pretty boring now for the reader to read the same thing twice. But we are flattered someone felt it good enough research to want to copy into their review so we hold no grudge...I just didn\\'t want anyone to think we were being redundant.  :-)  )WHY YOU WANT THE TANK ON THE BOTTOM/MOP HEAD: All steam starts out at 212 degrees. Some mops increase the heat from there. Some mops heat the water up, then it has to travel down tubes and get to the base, and then leave the holes, which results in a cooling process. This can also result in calcium deposits along that piping which eventually clogs the waterflow or makes you buy and store filtered water to use in the mop. On mops like the Envirosteamer, the water is heated in a stainless steel tank at the base of the mop and flows directly out onto the floor instantly with no traveling through the mop so it leaves the mop steaming hot. Put your hand over a cup of coffee directly at the top of the coffee. That\\'s hot steam. Now move your hand waaaay up above the coffee cup where there is still steam but it is further from the heat source due to traveling. It\\'s cooler steam. The mops are no different. Plus putting the weight at the head of the mop puts the preasure on the pad, not the handle you have to push.CLOTHS: I like 100 percent cotton better than microfiber. Microfiber streaks. Although some complain about the Envirosteamer\\'s pads shrinking they are meant to. I wash em in hot water. They\\'ll fit perfect after they shrink so don\\'t even be concerned. (they are cotton and quite absorbant.) The new Envirosteamer model 150 has horrible pads, This model 313A has great ones.'"
      ]
     },
     "execution_count": 104,
     "metadata": {},
     "output_type": "execute_result"
    }
   ],
   "source": [
    "df_reviews.iloc[277998].reviewText"
   ]
  },
  {
   "cell_type": "code",
   "execution_count": 105,
   "metadata": {},
   "outputs": [
    {
     "data": {
      "text/plain": [
       "'The top steam mops: Results of steam mop first hand comparisons & studying of comps'"
      ]
     },
     "execution_count": 105,
     "metadata": {},
     "output_type": "execute_result"
    }
   ],
   "source": [
    "df_reviews.iloc[277998].summary"
   ]
  },
  {
   "cell_type": "code",
   "execution_count": 108,
   "metadata": {},
   "outputs": [
    {
     "data": {
      "text/plain": [
       "<matplotlib.axes._subplots.AxesSubplot at 0x1a2362ed68>"
      ]
     },
     "execution_count": 108,
     "metadata": {},
     "output_type": "execute_result"
    },
    {
     "data": {
      "image/png": "[encoded data removed]",
      "text/plain": [
       "<Figure size 432x288 with 1 Axes>"
      ]
     },
     "metadata": {
      "needs_background": "light"
     },
     "output_type": "display_data"
    }
   ],
   "source": [
    "df_reviews.helpful.apply(lambda x: x[1]).nlargest(200).plot()"
   ]
  },
  {
   "cell_type": "code",
   "execution_count": null,
   "metadata": {},
   "outputs": [],
   "source": []
  }
 ],
 "metadata": {
  "kernelspec": {
   "display_name": "Python 3",
   "language": "python",
   "name": "python3"
  },
  "language_info": {
   "codemirror_mode": {
    "name": "ipython",
    "version": 3
   },
   "file_extension": ".py",
   "mimetype": "text/x-python",
   "name": "python",
   "nbconvert_exporter": "python",
   "pygments_lexer": "ipython3",
   "version": "3.7.0"
  }
 },
 "nbformat": 4,
 "nbformat_minor": 2
}
