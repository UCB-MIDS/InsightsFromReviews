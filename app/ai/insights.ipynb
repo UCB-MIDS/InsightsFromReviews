{
 "cells": [
  {
   "cell_type": "code",
   "execution_count": 1,
   "metadata": {},
   "outputs": [],
   "source": [
    "# File with the reviews database\n",
    "file = '/Users/gkhanna/Downloads/reviews_Home_and_Kitchen_5.json'"
   ]
  },
  {
   "cell_type": "code",
   "execution_count": 2,
   "metadata": {},
   "outputs": [
    {
     "name": "stderr",
     "output_type": "stream",
     "text": [
      "/Users/gkhanna/anaconda3/lib/python3.7/importlib/_bootstrap.py:219: RuntimeWarning: spacy.tokens.span.Span size changed, may indicate binary incompatibility. Expected 72 from C header, got 80 from PyObject\n",
      "  return f(*args, **kwds)\n",
      "/Users/gkhanna/anaconda3/lib/python3.7/site-packages/nltk/twitter/__init__.py:20: UserWarning: The twython library has not been installed. Some functionality from the twitter package will not be available.\n",
      "  warnings.warn(\"The twython library has not been installed. \"\n"
     ]
    },
    {
     "name": "stdout",
     "output_type": "stream",
     "text": [
      "[nltk_data] Downloading package vader_lexicon to\n",
      "[nltk_data]     /Users/gkhanna/nltk_data...\n",
      "[nltk_data]   Package vader_lexicon is already up-to-date!\n"
     ]
    }
   ],
   "source": [
    "from insights import features\n",
    "from insights import languageUtils\n",
    "import importlib\n",
    "import nltk"
   ]
  },
  {
   "cell_type": "code",
   "execution_count": 3,
   "metadata": {},
   "outputs": [],
   "source": [
    "\n",
    "# ASIN corresponding to the Iron Skillet\n",
    "pl = 'B00006JSUA'"
   ]
  },
  {
   "cell_type": "code",
   "execution_count": 4,
   "metadata": {},
   "outputs": [
    {
     "name": "stderr",
     "output_type": "stream",
     "text": [
      "41739it [00:00, 138565.47it/s]"
     ]
    },
    {
     "name": "stdout",
     "output_type": "stream",
     "text": [
      "10 Reviews written to the dictionary \n"
     ]
    },
    {
     "name": "stderr",
     "output_type": "stream",
     "text": [
      "\n"
     ]
    }
   ],
   "source": [
    "# Load reviews into a dictionary\n",
    "file_d = features.loadFromDb(file, count = 10, filter_l = pl)"
   ]
  },
  {
   "cell_type": "code",
   "execution_count": 5,
   "metadata": {},
   "outputs": [
    {
     "name": "stdout",
     "output_type": "stream",
     "text": [
      "10\n"
     ]
    }
   ],
   "source": [
    "print(len(file_d))"
   ]
  },
  {
   "cell_type": "code",
   "execution_count": 6,
   "metadata": {},
   "outputs": [
    {
     "data": {
      "text/plain": [
       "{'reviewerID': 'A2T689YVOAYGGD',\n",
       " 'asin': 'B00006JSUA',\n",
       " 'reviewerName': 'Acontius \"Acontius\"',\n",
       " 'helpful': [8, 15],\n",
       " 'reviewText': \"I've always bought the regular Lodge skillets and loved them.  Went with the pre-seasoned this time because I wanted this size.Wow, what a pain.  I picked the best I could find from a stack on a big-box store shelf, so I know I didn't get a lemon (unless the whole batch was badly pre-seasoned!).  The coating flaked off, got my hands black, and smelled really rusty.  No WAY I could cook with it that way!It has taken me about five rounds of boiling soapy water and then vinegar and water to get most of that nasty coating off of there with a steel scurbber.  (Then I seasoned by coating with oil and heating in the oven for 20 minutes.I'm still wary of that residue.  Never have I seen (and smelled) so much rust (trapped UNDER the coating) come off a skillet--new or badly stored in a garage.  This was horrible.I'm used to cast iron, for sure.  Been using good old American-made Lodge skillets for years, plus we regularly use a big cast iron wok imported from China.So, I'm giving only two stars because the pre-seasoning is a messy hassle.Now I've got to cook dinner.\",\n",
       " 'overall': 2.0,\n",
       " 'summary': 'Love Lodge, but hate \"Pre-Seasoned\"',\n",
       " 'unixReviewTime': 1266537600,\n",
       " 'reviewTime': '02 19, 2010'}"
      ]
     },
     "execution_count": 6,
     "metadata": {},
     "output_type": "execute_result"
    }
   ],
   "source": [
    "file_d[2]"
   ]
  },
  {
   "cell_type": "code",
   "execution_count": 7,
   "metadata": {},
   "outputs": [
    {
     "name": "stderr",
     "output_type": "stream",
     "text": [
      "100%|██████████| 2/2 [00:00<00:00, 9467.95it/s]"
     ]
    },
    {
     "name": "stdout",
     "output_type": "stream",
     "text": [
      "Processed and Classified 2 Reviews\n",
      "1 Positive reviews\n",
      "1 Negative reviews\n"
     ]
    },
    {
     "name": "stderr",
     "output_type": "stream",
     "text": [
      "\n"
     ]
    }
   ],
   "source": [
    "# Extract all reviews into a string\n",
    "reviews_sent = []\n",
    "reviews_pos_sent = []\n",
    "reviews_neg_sent = []\n",
    "reviews_sent, reviews_pos_sent, reviews_neg_sent = features.loadTolistsAndClassify(file_d[1:3])"
   ]
  },
  {
   "cell_type": "code",
   "execution_count": 8,
   "metadata": {},
   "outputs": [
    {
     "data": {
      "text/plain": [
       "['This is an absolutely amazing skillet!!  I use it ALL the time!!  I re-season it a bit as well to keep it going strong!']"
      ]
     },
     "execution_count": 8,
     "metadata": {},
     "output_type": "execute_result"
    }
   ],
   "source": [
    "reviews_pos_sent"
   ]
  },
  {
   "cell_type": "code",
   "execution_count": 9,
   "metadata": {},
   "outputs": [
    {
     "data": {
      "text/plain": [
       "[\"I've always bought the regular Lodge skillets and loved them.  Went with the pre-seasoned this time because I wanted this size.Wow, what a pain.  I picked the best I could find from a stack on a big-box store shelf, so I know I didn't get a lemon (unless the whole batch was badly pre-seasoned!).  The coating flaked off, got my hands black, and smelled really rusty.  No WAY I could cook with it that way!It has taken me about five rounds of boiling soapy water and then vinegar and water to get most of that nasty coating off of there with a steel scurbber.  (Then I seasoned by coating with oil and heating in the oven for 20 minutes.I'm still wary of that residue.  Never have I seen (and smelled) so much rust (trapped UNDER the coating) come off a skillet--new or badly stored in a garage.  This was horrible.I'm used to cast iron, for sure.  Been using good old American-made Lodge skillets for years, plus we regularly use a big cast iron wok imported from China.So, I'm giving only two stars because the pre-seasoning is a messy hassle.Now I've got to cook dinner.\"]"
      ]
     },
     "execution_count": 9,
     "metadata": {},
     "output_type": "execute_result"
    }
   ],
   "source": [
    "reviews_neg_sent"
   ]
  },
  {
   "cell_type": "code",
   "execution_count": 10,
   "metadata": {},
   "outputs": [
    {
     "name": "stdout",
     "output_type": "stream",
     "text": [
      "Converted to 1193 len reviews string\n",
      "Converted to 119 len reviews string\n",
      "Converted to 1073 len reviews string\n"
     ]
    }
   ],
   "source": [
    "# Extract all reviews into a string\n",
    "reviews_str = \"\"\n",
    "reviews_pos_str = \"\"\n",
    "reviews_neg_str = \"\"\n",
    "reviews_str = features.loadToString(reviews_sent)\n",
    "reviews_pos_str = features.loadToString(reviews_pos_sent)\n",
    "reviews_neg_str = features.loadToString(reviews_neg_sent)"
   ]
  },
  {
   "cell_type": "code",
   "execution_count": 11,
   "metadata": {},
   "outputs": [
    {
     "data": {
      "text/plain": [
       "'This is an absolutely amazing skillet!!  I use it ALL the time!!  I re-season it a bit as well to keep it going strong!'"
      ]
     },
     "execution_count": 11,
     "metadata": {},
     "output_type": "execute_result"
    }
   ],
   "source": [
    "reviews_pos_str"
   ]
  },
  {
   "cell_type": "code",
   "execution_count": 12,
   "metadata": {},
   "outputs": [
    {
     "data": {
      "text/plain": [
       "\"I've always bought the regular Lodge skillets and loved them.  Went with the pre-seasoned this time because I wanted this size.Wow, what a pain.  I picked the best I could find from a stack on a big-box store shelf, so I know I didn't get a lemon (unless the whole batch was badly pre-seasoned!).  The coating flaked off, got my hands black, and smelled really rusty.  No WAY I could cook with it that way!It has taken me about five rounds of boiling soapy water and then vinegar and water to get most of that nasty coating off of there with a steel scurbber.  (Then I seasoned by coating with oil and heating in the oven for 20 minutes.I'm still wary of that residue.  Never have I seen (and smelled) so much rust (trapped UNDER the coating) come off a skillet--new or badly stored in a garage.  This was horrible.I'm used to cast iron, for sure.  Been using good old American-made Lodge skillets for years, plus we regularly use a big cast iron wok imported from China.So, I'm giving only two stars because the pre-seasoning is a messy hassle.Now I've got to cook dinner.\""
      ]
     },
     "execution_count": 12,
     "metadata": {},
     "output_type": "execute_result"
    }
   ],
   "source": [
    "reviews_neg_str"
   ]
  },
  {
   "cell_type": "code",
   "execution_count": 13,
   "metadata": {},
   "outputs": [
    {
     "name": "stdout",
     "output_type": "stream",
     "text": [
      "1193 len input string \n",
      "583 len output string \n",
      "119 len input string \n",
      "39 len output string \n",
      "1073 len input string \n",
      "501 len output string \n"
     ]
    }
   ],
   "source": [
    "# Summarize all strings\n",
    "ratio = 0.4\n",
    "reviews_str = features.summarizeString(reviews_str, ratio)\n",
    "reviews_pos_str = features.summarizeString(reviews_pos_str, ratio)\n",
    "reviews_neg_str = features.summarizeString(reviews_neg_str, ratio)"
   ]
  },
  {
   "cell_type": "code",
   "execution_count": 14,
   "metadata": {},
   "outputs": [
    {
     "data": {
      "text/plain": [
       "'This is an absolutely amazing skillet!!'"
      ]
     },
     "execution_count": 14,
     "metadata": {},
     "output_type": "execute_result"
    }
   ],
   "source": [
    "reviews_pos_str"
   ]
  },
  {
   "cell_type": "code",
   "execution_count": 15,
   "metadata": {},
   "outputs": [
    {
     "data": {
      "text/plain": [
       "\"I picked the best I could find from a stack on a big-box store shelf, so I know I didn't get a lemon (unless the whole batch was badly pre-seasoned!).\\nNever have I seen (and smelled) so much rust (trapped UNDER the coating) come off a skillet--new or badly stored in a garage.\\nBeen using good old American-made Lodge skillets for years, plus we regularly use a big cast iron wok imported from China.So, I'm giving only two stars because the pre-seasoning is a messy hassle.Now I've got to cook dinner.\""
      ]
     },
     "execution_count": 15,
     "metadata": {},
     "output_type": "execute_result"
    }
   ],
   "source": [
    "reviews_neg_str"
   ]
  },
  {
   "cell_type": "code",
   "execution_count": 16,
   "metadata": {},
   "outputs": [
    {
     "name": "stdout",
     "output_type": "stream",
     "text": [
      "501 len input string \n",
      "150 len output string \n"
     ]
    },
    {
     "data": {
      "text/plain": [
       "\"I picked the best I could find from a stack on a big-box store shelf, so I know I didn't get a lemon (unless the whole batch was badly pre-seasoned!).\""
      ]
     },
     "execution_count": 16,
     "metadata": {},
     "output_type": "execute_result"
    }
   ],
   "source": [
    "features.summarizeString(reviews_neg_str, ratio = .4)"
   ]
  },
  {
   "cell_type": "code",
   "execution_count": 17,
   "metadata": {},
   "outputs": [
    {
     "data": {
      "text/plain": [
       "'This is an absolutely amazing skillet!  '"
      ]
     },
     "execution_count": 17,
     "metadata": {},
     "output_type": "execute_result"
    }
   ],
   "source": [
    "languageUtils.extractSubjective(reviews_pos_str)"
   ]
  },
  {
   "cell_type": "code",
   "execution_count": 18,
   "metadata": {},
   "outputs": [
    {
     "data": {
      "text/plain": [
       "<module 'insights.features' from '/Users/gkhanna/Google Drive/210Capstone/code/InsightsFromReviews/app/ai/insights/features.py'>"
      ]
     },
     "execution_count": 18,
     "metadata": {},
     "output_type": "execute_result"
    }
   ],
   "source": [
    "importlib.reload(features)"
   ]
  },
  {
   "cell_type": "code",
   "execution_count": 19,
   "metadata": {},
   "outputs": [
    {
     "name": "stdout",
     "output_type": "stream",
     "text": [
      "Converted to: 4 Sentences \n",
      "Converted to: 3 Sentences \n",
      "Converted to: 2 Sentences \n"
     ]
    }
   ],
   "source": [
    "# Strings to sentences\n",
    "sent_full_review = features.stringToSentences(reviews_str)\n",
    "sent_neg_review = features.stringToSentences(reviews_neg_str)\n",
    "sent_pos_review = features.stringToSentences(reviews_pos_str)"
   ]
  },
  {
   "cell_type": "code",
   "execution_count": 20,
   "metadata": {},
   "outputs": [
    {
     "data": {
      "text/plain": [
       "[\"I picked the best I could find from a stack on a big-box store shelf, so I know I didn't get a lemon (unless the whole batch was badly pre-seasoned!).\",\n",
       " 'Never have I seen (and smelled) so much rust (trapped UNDER the coating) come off a skillet--new or badly stored in a garage.',\n",
       " \"Been using good old American-made Lodge skillets for years, plus we regularly use a big cast iron wok imported from China.So, I'm giving only two stars because the pre-seasoning is a messy hassle.Now I've got to cook dinner.\"]"
      ]
     },
     "execution_count": 20,
     "metadata": {},
     "output_type": "execute_result"
    }
   ],
   "source": [
    "sent_neg_review"
   ]
  },
  {
   "cell_type": "code",
   "execution_count": 21,
   "metadata": {},
   "outputs": [
    {
     "data": {
      "text/plain": [
       "['This is an absolutely amazing skillet!', '!']"
      ]
     },
     "execution_count": 21,
     "metadata": {},
     "output_type": "execute_result"
    }
   ],
   "source": [
    "sent_pos_review"
   ]
  },
  {
   "cell_type": "code",
   "execution_count": 22,
   "metadata": {},
   "outputs": [],
   "source": [
    "from tqdm import tqdm"
   ]
  },
  {
   "cell_type": "code",
   "execution_count": 23,
   "metadata": {},
   "outputs": [
    {
     "name": "stderr",
     "output_type": "stream",
     "text": [
      "100%|██████████| 4/4 [00:00<00:00, 28.05it/s]\n",
      "100%|██████████| 1/1 [00:00<00:00, 3518.71it/s]\n",
      "0it [00:00, ?it/s]"
     ]
    },
    {
     "name": "stdout",
     "output_type": "stream",
     "text": [
      "Found 4 Nouns\n"
     ]
    },
    {
     "name": "stderr",
     "output_type": "stream",
     "text": [
      "\n"
     ]
    }
   ],
   "source": [
    "# Getting the most relevant items from the reviews\n",
    "items = []\n",
    "rules = []\n",
    "minSupport = .3\n",
    "minConfidence = .4\n",
    "\n",
    "items, rules = languageUtils.getItems(sent_full_review, minSupport, minConfidence)"
   ]
  },
  {
   "cell_type": "code",
   "execution_count": 24,
   "metadata": {},
   "outputs": [
    {
     "data": {
      "text/plain": [
       "('skillet',)"
      ]
     },
     "execution_count": 24,
     "metadata": {},
     "output_type": "execute_result"
    }
   ],
   "source": [
    "items[0][0]"
   ]
  },
  {
   "cell_type": "code",
   "execution_count": 25,
   "metadata": {},
   "outputs": [],
   "source": [
    "feature_patterns = r\"\"\"\n",
    "        P1:{<JJ><NN|NNS>}\n",
    "        P2:{<JJ><NN|NNS><NN|NNS>}\n",
    "        P3:{<RB|RBR|RBS><JJ>}\n",
    "        P4:{<RB|RBR|RBS><JJ|RB|RBR|RBS><NN|NNS>}\n",
    "        P5:{<RB|RBR|RBS><VBN|VBD>}\n",
    "        P6:{<RB|RBR|RBS><RB|RBR|RBS><JJ>}\n",
    "        P7:{<VBN|VBD><NN|NNS>}\n",
    "        P8:{<VBN|VBD><RB|RBR|RBS>}\n",
    "    \"\"\""
   ]
  },
  {
   "cell_type": "code",
   "execution_count": 26,
   "metadata": {},
   "outputs": [],
   "source": [
    "# importlib.reload(languageUtils)\n",
    "# importlib.reload(features)"
   ]
  },
  {
   "cell_type": "code",
   "execution_count": 27,
   "metadata": {},
   "outputs": [
    {
     "name": "stderr",
     "output_type": "stream",
     "text": [
      "100%|██████████| 2/2 [00:00<00:00, 1577.40it/s]\n",
      "100%|██████████| 3/3 [00:00<00:00, 2295.31it/s]\n",
      "0it [00:00, ?it/s]\n",
      "100%|██████████| 1/1 [00:00<00:00, 2187.95it/s]"
     ]
    },
    {
     "name": "stdout",
     "output_type": "stream",
     "text": [
      "Sentiment(polarity=0.6000000000000001, subjectivity=0.9)\n",
      "Sentiment(polarity=-0.14090909090909087, subjectivity=0.3303030303030303)\n",
      "Sentiment(polarity=0.0857142857142857, subjectivity=0.3395604395604396)\n",
      "Extracted : 0 neutral sentences\n",
      "Extracted : 1 positive sentences\n",
      "Extracted : 2 negative sentences\n"
     ]
    },
    {
     "name": "stderr",
     "output_type": "stream",
     "text": [
      "\n",
      "100%|██████████| 2/2 [00:00<00:00, 2620.62it/s]\n",
      "0it [00:00, ?it/s]\n",
      "100%|██████████| 1/1 [00:00<00:00, 976.56it/s]\n",
      "100%|██████████| 2/2 [00:00<00:00, 483.69it/s]\n",
      "0it [00:00, ?it/s]\n",
      "  0%|          | 0/1 [00:00<?, ?it/s]"
     ]
    },
    {
     "name": "stdout",
     "output_type": "stream",
     "text": [
      "Tokenized : 0 neutral sentences\n",
      "Tokenized : 1 positive sentences\n",
      "Tokenized : 2 negative sentences\n",
      "POS Tagged : 0 neutral sentences\n",
      "POS Tagged : 1 positive sentences\n",
      "POS Tagged : 2 negative sentences\n"
     ]
    },
    {
     "name": "stderr",
     "output_type": "stream",
     "text": [
      "100%|██████████| 1/1 [00:01<00:00,  1.80s/it]\n",
      "100%|██████████| 2/2 [00:00<00:00, 586.17it/s]"
     ]
    },
    {
     "name": "stdout",
     "output_type": "stream",
     "text": [
      "Extracted : 0 phrases from neutral sentences\n",
      "Extracted : 1 phrases from positive sentences\n",
      "Extracted : 5 phrases from negative sentences\n"
     ]
    },
    {
     "name": "stderr",
     "output_type": "stream",
     "text": [
      "\n"
     ]
    }
   ],
   "source": [
    "# extracted_neutral = []\n",
    "extracted_neg = []\n",
    "extracted_pos = []\n",
    "extracted_neutral = []\n",
    "\n",
    "extracted_neutral, extracted_pos, extracted_neg = features.extractFeaturePhrasesStrict(sent_pos_review, sent_neg_review, feature_patterns, items)"
   ]
  },
  {
   "cell_type": "code",
   "execution_count": 28,
   "metadata": {},
   "outputs": [
    {
     "data": {
      "text/plain": [
       "[' amaz skillet']"
      ]
     },
     "execution_count": 28,
     "metadata": {},
     "output_type": "execute_result"
    }
   ],
   "source": [
    "extracted_pos"
   ]
  },
  {
   "cell_type": "code",
   "execution_count": 29,
   "metadata": {},
   "outputs": [
    {
     "data": {
      "text/plain": [
       "[' much rust', ' badli store', ' made lodg', ' big cast', ' messi hassl']"
      ]
     },
     "execution_count": 29,
     "metadata": {},
     "output_type": "execute_result"
    }
   ],
   "source": [
    "extracted_neg"
   ]
  },
  {
   "cell_type": "code",
   "execution_count": 30,
   "metadata": {},
   "outputs": [],
   "source": [
    "# Frequency distribution\n",
    "freqdist_pos = nltk.FreqDist(word for word in extracted_pos)\n",
    "most_common_pos = freqdist_pos.most_common()\n",
    "freqdist_neg = nltk.FreqDist(word for word in extracted_neg)\n",
    "most_common_neg = freqdist_neg.most_common()"
   ]
  },
  {
   "cell_type": "code",
   "execution_count": 31,
   "metadata": {},
   "outputs": [
    {
     "data": {
      "text/plain": [
       "1"
      ]
     },
     "execution_count": 31,
     "metadata": {},
     "output_type": "execute_result"
    }
   ],
   "source": [
    "len(most_common_pos)"
   ]
  },
  {
   "cell_type": "code",
   "execution_count": 32,
   "metadata": {},
   "outputs": [
    {
     "data": {
      "text/plain": [
       "5"
      ]
     },
     "execution_count": 32,
     "metadata": {},
     "output_type": "execute_result"
    }
   ],
   "source": [
    "len(most_common_neg)"
   ]
  },
  {
   "cell_type": "code",
   "execution_count": 33,
   "metadata": {},
   "outputs": [
    {
     "data": {
      "text/plain": [
       "[(' amaz skillet', 1)]"
      ]
     },
     "execution_count": 33,
     "metadata": {},
     "output_type": "execute_result"
    }
   ],
   "source": [
    "most_common_pos"
   ]
  },
  {
   "cell_type": "code",
   "execution_count": 34,
   "metadata": {},
   "outputs": [
    {
     "data": {
      "text/plain": [
       "[(' much rust', 1),\n",
       " (' badli store', 1),\n",
       " (' made lodg', 1),\n",
       " (' big cast', 1),\n",
       " (' messi hassl', 1)]"
      ]
     },
     "execution_count": 34,
     "metadata": {},
     "output_type": "execute_result"
    }
   ],
   "source": [
    "most_common_neg"
   ]
  },
  {
   "cell_type": "code",
   "execution_count": 35,
   "metadata": {},
   "outputs": [
    {
     "name": "stderr",
     "output_type": "stream",
     "text": [
      "100%|██████████| 1/1 [00:00<00:00, 786.78it/s]\n",
      "100%|██████████| 5/5 [00:00<00:00, 6087.52it/s]\n"
     ]
    }
   ],
   "source": [
    "# Convert phrases to real words\n",
    "most_common_pos_real = languageUtils.getRealWords(most_common_pos)\n",
    "most_common_neg_real = languageUtils.getRealWords(most_common_neg)"
   ]
  },
  {
   "cell_type": "code",
   "execution_count": 36,
   "metadata": {},
   "outputs": [
    {
     "data": {
      "text/plain": [
       "[('amazing', 1)]"
      ]
     },
     "execution_count": 36,
     "metadata": {},
     "output_type": "execute_result"
    }
   ],
   "source": [
    "most_common_pos_real"
   ]
  },
  {
   "cell_type": "code",
   "execution_count": 37,
   "metadata": {},
   "outputs": [
    {
     "data": {
      "text/plain": [
       "[('much rust', 1),\n",
       " ('badly stored', 1),\n",
       " ('made lodge', 1),\n",
       " ('big cast', 1),\n",
       " ('messy hassle', 1)]"
      ]
     },
     "execution_count": 37,
     "metadata": {},
     "output_type": "execute_result"
    }
   ],
   "source": [
    "most_common_neg_real"
   ]
  },
  {
   "cell_type": "code",
   "execution_count": 38,
   "metadata": {},
   "outputs": [],
   "source": [
    "import time"
   ]
  },
  {
   "cell_type": "code",
   "execution_count": 39,
   "metadata": {},
   "outputs": [],
   "source": [
    "# Getting sentences with the positive phrases\n",
    "# features.featuresAndContext(items, most_common_pos_real, sent_pos_review)"
   ]
  },
  {
   "cell_type": "code",
   "execution_count": 40,
   "metadata": {},
   "outputs": [],
   "source": [
    "# Getting sentences with the negative phrases\n",
    "# features.featuresAndContext(items, most_common_neg_real, sent_neg_review)"
   ]
  },
  {
   "cell_type": "code",
   "execution_count": 41,
   "metadata": {},
   "outputs": [
    {
     "name": "stdout",
     "output_type": "stream",
     "text": [
      "Files created at: 20190803-165721\n"
     ]
    }
   ],
   "source": [
    "# Latest time in a string\n",
    "timestr = time.strftime(\"%Y%m%d-%H%M%S\")\n",
    "# Outputfile\n",
    "print(\"Files created at: \" + timestr)\n",
    "output_file_pos = \"o_\" + \"pos_\" + timestr + \".json\"\n",
    "output_file_neg = \"o_\" + \"neg_\" + timestr + \".json\""
   ]
  },
  {
   "cell_type": "code",
   "execution_count": 42,
   "metadata": {},
   "outputs": [
    {
     "name": "stdout",
     "output_type": "stream",
     "text": [
      "Pos phrases written to: o_pos_20190803-165721.json\n"
     ]
    }
   ],
   "source": [
    "out_json_s_pos = features.featuresAndContext(items, most_common_pos_real, sent_pos_review, 10, 10)\n",
    "with open(output_file_pos, 'w') as jf:\n",
    "    jf.write(out_json_s_pos)\n",
    "print(\"Pos phrases written to: \" + output_file_pos)"
   ]
  },
  {
   "cell_type": "code",
   "execution_count": 43,
   "metadata": {},
   "outputs": [
    {
     "name": "stdout",
     "output_type": "stream",
     "text": [
      "Neg phrases written to: o_neg_20190803-165721.json\n"
     ]
    }
   ],
   "source": [
    "out_json_s_neg = features.featuresAndContext(items, most_common_neg_real, sent_neg_review, 10, 10)\n",
    "with open(output_file_neg, 'w') as jfn:\n",
    "    jfn.write(out_json_s_neg)\n",
    "print(\"Neg phrases written to: \" + output_file_neg)"
   ]
  },
  {
   "cell_type": "code",
   "execution_count": 44,
   "metadata": {},
   "outputs": [],
   "source": [
    "# import importlib"
   ]
  },
  {
   "cell_type": "code",
   "execution_count": 45,
   "metadata": {},
   "outputs": [],
   "source": [
    "# importlib.reload(features)\n",
    "# importlib.reload(languageUtils)"
   ]
  }
 ],
 "metadata": {
  "kernelspec": {
   "display_name": "Python 3",
   "language": "python",
   "name": "python3"
  },
  "language_info": {
   "codemirror_mode": {
    "name": "ipython",
    "version": 3
   },
   "file_extension": ".py",
   "mimetype": "text/x-python",
   "name": "python",
   "nbconvert_exporter": "python",
   "pygments_lexer": "ipython3",
   "version": "3.7.0"
  }
 },
 "nbformat": 4,
 "nbformat_minor": 2
}
