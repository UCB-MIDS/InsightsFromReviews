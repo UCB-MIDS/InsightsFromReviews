{
 "cells": [
  {
   "cell_type": "code",
   "execution_count": 1,
   "metadata": {},
   "outputs": [],
   "source": [
    "# File with the reviews database\n",
    "file = '/Users/gkhanna/Downloads/reviews_Home_and_Kitchen_5.json'"
   ]
  },
  {
   "cell_type": "code",
   "execution_count": 2,
   "metadata": {},
   "outputs": [],
   "source": [
    "import sys"
   ]
  },
  {
   "cell_type": "code",
   "execution_count": 3,
   "metadata": {},
   "outputs": [],
   "source": [
    "import numpy as np\n",
    "import os\n",
    "import pandas as pd\n",
    "import re"
   ]
  },
  {
   "cell_type": "code",
   "execution_count": 4,
   "metadata": {},
   "outputs": [
    {
     "data": {
      "text/plain": [
       "['',\n",
       " '/Users/gkhanna/Google Drive/210Capstone/code/InsightsFromReviews/app/ai',\n",
       " '/Users/gkhanna/anaconda3/lib/python37.zip',\n",
       " '/Users/gkhanna/anaconda3/lib/python3.7',\n",
       " '/Users/gkhanna/anaconda3/lib/python3.7/lib-dynload',\n",
       " '/Users/gkhanna/anaconda3/lib/python3.7/site-packages',\n",
       " '/Users/gkhanna/anaconda3/lib/python3.7/site-packages/aeosa',\n",
       " '/Users/gkhanna/anaconda3/lib/python3.7/site-packages/IPython/extensions',\n",
       " '/Users/gkhanna/.ipython']"
      ]
     },
     "execution_count": 4,
     "metadata": {},
     "output_type": "execute_result"
    }
   ],
   "source": [
    "sys.path"
   ]
  },
  {
   "cell_type": "code",
   "execution_count": 5,
   "metadata": {},
   "outputs": [
    {
     "name": "stdout",
     "output_type": "stream",
     "text": [
      "Name: tensorflow\n",
      "Version: 1.14.0\n",
      "Summary: TensorFlow is an open source machine learning framework for everyone.\n",
      "Home-page: https://www.tensorflow.org/\n",
      "Author: Google Inc.\n",
      "Author-email: packages@tensorflow.org\n",
      "License: Apache 2.0\n",
      "Location: /Users/gkhanna/anaconda3/lib/python3.7/site-packages\n",
      "Requires: gast, grpcio, six, tensorflow-estimator, absl-py, astor, wrapt, protobuf, termcolor, keras-applications, tensorboard, numpy, google-pasta, wheel, keras-preprocessing\n",
      "Required-by: \n"
     ]
    }
   ],
   "source": [
    "!pip3 show tensorflow"
   ]
  },
  {
   "cell_type": "code",
   "execution_count": 6,
   "metadata": {},
   "outputs": [],
   "source": [
    "path = '/Library/Frameworks/Python.framework/Versions/3.6/lib/python3.6/site-packages'\n",
    "sys.path.append(path)"
   ]
  },
  {
   "cell_type": "code",
   "execution_count": 7,
   "metadata": {},
   "outputs": [
    {
     "data": {
      "text/plain": [
       "['',\n",
       " '/Users/gkhanna/Google Drive/210Capstone/code/InsightsFromReviews/app/ai',\n",
       " '/Users/gkhanna/anaconda3/lib/python37.zip',\n",
       " '/Users/gkhanna/anaconda3/lib/python3.7',\n",
       " '/Users/gkhanna/anaconda3/lib/python3.7/lib-dynload',\n",
       " '/Users/gkhanna/anaconda3/lib/python3.7/site-packages',\n",
       " '/Users/gkhanna/anaconda3/lib/python3.7/site-packages/aeosa',\n",
       " '/Users/gkhanna/anaconda3/lib/python3.7/site-packages/IPython/extensions',\n",
       " '/Users/gkhanna/.ipython',\n",
       " '/Library/Frameworks/Python.framework/Versions/3.6/lib/python3.6/site-packages']"
      ]
     },
     "execution_count": 7,
     "metadata": {},
     "output_type": "execute_result"
    }
   ],
   "source": [
    "sys.path"
   ]
  },
  {
   "cell_type": "code",
   "execution_count": 8,
   "metadata": {},
   "outputs": [
    {
     "name": "stderr",
     "output_type": "stream",
     "text": [
      "/Users/gkhanna/anaconda3/lib/python3.7/importlib/_bootstrap.py:219: RuntimeWarning: spacy.tokens.span.Span size changed, may indicate binary incompatibility. Expected 72 from C header, got 80 from PyObject\n",
      "  return f(*args, **kwds)\n",
      "/Users/gkhanna/anaconda3/lib/python3.7/site-packages/nltk/twitter/__init__.py:20: UserWarning: The twython library has not been installed. Some functionality from the twitter package will not be available.\n",
      "  warnings.warn(\"The twython library has not been installed. \"\n"
     ]
    },
    {
     "name": "stdout",
     "output_type": "stream",
     "text": [
      "[nltk_data] Downloading package vader_lexicon to\n",
      "[nltk_data]     /Users/gkhanna/nltk_data...\n",
      "[nltk_data]   Package vader_lexicon is already up-to-date!\n"
     ]
    }
   ],
   "source": [
    "from insights import features"
   ]
  },
  {
   "cell_type": "code",
   "execution_count": 9,
   "metadata": {},
   "outputs": [],
   "source": [
    "from insights import languageUtils"
   ]
  },
  {
   "cell_type": "code",
   "execution_count": 10,
   "metadata": {},
   "outputs": [],
   "source": [
    "from insights import summary"
   ]
  },
  {
   "cell_type": "code",
   "execution_count": 11,
   "metadata": {},
   "outputs": [],
   "source": [
    "\n",
    "# ASIN corresponding to the Iron Skillet\n",
    "pl = 'B00006JSUA'\n",
    "# pl = 'B000QFDNP8'"
   ]
  },
  {
   "cell_type": "code",
   "execution_count": 12,
   "metadata": {},
   "outputs": [
    {
     "name": "stderr",
     "output_type": "stream",
     "text": [
      "551682it [00:03, 140801.90it/s]"
     ]
    },
    {
     "name": "stdout",
     "output_type": "stream",
     "text": [
      "1064 Reviews written to the dictionary \n"
     ]
    },
    {
     "name": "stderr",
     "output_type": "stream",
     "text": [
      "\n"
     ]
    }
   ],
   "source": [
    "# Load reviews into a dictionary\n",
    "file_d = features.loadFromDb(file, count = 3000, filter_l = pl)"
   ]
  },
  {
   "cell_type": "code",
   "execution_count": 13,
   "metadata": {},
   "outputs": [
    {
     "name": "stdout",
     "output_type": "stream",
     "text": [
      "1064\n"
     ]
    }
   ],
   "source": [
    "print(len(file_d))"
   ]
  },
  {
   "cell_type": "code",
   "execution_count": 14,
   "metadata": {},
   "outputs": [
    {
     "data": {
      "text/plain": [
       "{'reviewerID': 'A117FYENI6RSPP',\n",
       " 'asin': 'B00006JSUA',\n",
       " 'reviewerName': '5150hillbilly',\n",
       " 'helpful': [0, 0],\n",
       " 'reviewText': 'Just say no to chemical treatments on non stick pans, get yourself and your friends a few sizes of cast iron and have pans that you can pass down to your children, without all those unknown chemicals that are such a part of pans for the last few decades.',\n",
       " 'overall': 5.0,\n",
       " 'summary': 'Old school',\n",
       " 'unixReviewTime': 1355184000,\n",
       " 'reviewTime': '12 11, 2012'}"
      ]
     },
     "execution_count": 14,
     "metadata": {},
     "output_type": "execute_result"
    }
   ],
   "source": [
    "file_d[0]"
   ]
  },
  {
   "cell_type": "code",
   "execution_count": 15,
   "metadata": {},
   "outputs": [
    {
     "name": "stderr",
     "output_type": "stream",
     "text": [
      "100%|██████████| 1064/1064 [00:00<00:00, 9334.32it/s]"
     ]
    },
    {
     "name": "stdout",
     "output_type": "stream",
     "text": [
      "Processed and Classified 1064 Reviews\n",
      "1022 Positive reviews\n",
      "42 Negative reviews\n"
     ]
    },
    {
     "name": "stderr",
     "output_type": "stream",
     "text": [
      "\n"
     ]
    }
   ],
   "source": [
    "reviews_sent, reviews_pos_sent, reviews_neg_sent, sum_sent, sum_pos_sent, sum_neg_sent = summary.loadTolistsAndClassify(file_d, pl, 0)"
   ]
  },
  {
   "cell_type": "code",
   "execution_count": 16,
   "metadata": {},
   "outputs": [],
   "source": [
    "num_samples = len(sum_sent)"
   ]
  },
  {
   "cell_type": "code",
   "execution_count": 17,
   "metadata": {},
   "outputs": [
    {
     "data": {
      "text/plain": [
       "'_start_ found cheaper at walmart _end_'"
      ]
     },
     "execution_count": 17,
     "metadata": {},
     "output_type": "execute_result"
    }
   ],
   "source": [
    "sum_neg_sent[1]"
   ]
  },
  {
   "cell_type": "code",
   "execution_count": 18,
   "metadata": {},
   "outputs": [
    {
     "data": {
      "text/plain": [
       "'i own over a dozen lodge cast item pieces that i have happily used for many years and recently purchased this one to add to my collection  immediately  i noticed this pan seemed thinner and  cheaper  made  than in the past  on the first use before heating  i noticed the pan bottom was warped upward in the center allowing oil and food to run to the edge  after 3 4 uses  i noticed the bottom center seemed to be deteriorating  after 5 uses  i noticed what seems to be a crack forming  now it will be thrown away  i have never had a problem with lodge cast iron until now  very disappointed '"
      ]
     },
     "execution_count": 18,
     "metadata": {},
     "output_type": "execute_result"
    }
   ],
   "source": [
    "reviews_neg_sent[3]"
   ]
  },
  {
   "cell_type": "code",
   "execution_count": 19,
   "metadata": {},
   "outputs": [
    {
     "data": {
      "text/plain": [
       "'so far i am loving this skillet  it is priced well and you can tell it is good quality  i have used it to make a skillet cookie  asparagus  and saute shrimp  not all at the same time    it performed very well   and i am looking forward to getting much more use out of it '"
      ]
     },
     "execution_count": 19,
     "metadata": {},
     "output_type": "execute_result"
    }
   ],
   "source": [
    "reviews_sent[3]"
   ]
  },
  {
   "cell_type": "code",
   "execution_count": 20,
   "metadata": {},
   "outputs": [
    {
     "data": {
      "text/plain": [
       "'_start_ great skillet  _end_'"
      ]
     },
     "execution_count": 20,
     "metadata": {},
     "output_type": "execute_result"
    }
   ],
   "source": [
    "sum_sent[3]"
   ]
  },
  {
   "cell_type": "markdown",
   "metadata": {},
   "source": [
    "### Word counts in reviews and summaries\n",
    "We'll get another validation of this after tokenization"
   ]
  },
  {
   "cell_type": "code",
   "execution_count": 21,
   "metadata": {},
   "outputs": [],
   "source": [
    "import matplotlib.pyplot as plt"
   ]
  },
  {
   "cell_type": "code",
   "execution_count": 22,
   "metadata": {},
   "outputs": [
    {
     "data": {
      "image/png": "[encoded data removed]",
      "text/plain": [
       "<Figure size 432x288 with 2 Axes>"
      ]
     },
     "metadata": {
      "needs_background": "light"
     },
     "output_type": "display_data"
    }
   ],
   "source": [
    "reviews_word_count = []\n",
    "sum_word_count = []\n",
    "\n",
    "for i in reviews_sent:\n",
    "      reviews_word_count.append(len(i.split()))\n",
    "\n",
    "for i in sum_sent:\n",
    "      sum_word_count.append(len(i.split()))\n",
    "\n",
    "length_df = pd.DataFrame({'Reviews':reviews_word_count, 'summary':sum_word_count})\n",
    "length_df.hist(bins = 30)\n",
    "plt.show()"
   ]
  },
  {
   "cell_type": "code",
   "execution_count": 23,
   "metadata": {},
   "outputs": [
    {
     "name": "stderr",
     "output_type": "stream",
     "text": [
      "Using TensorFlow backend.\n",
      "/Users/gkhanna/anaconda3/lib/python3.7/site-packages/tensorflow/python/framework/dtypes.py:516: FutureWarning: Passing (type, 1) or '1type' as a synonym of type is deprecated; in a future version of numpy, it will be understood as (type, (1,)) / '(1,)type'.\n",
      "  _np_qint8 = np.dtype([(\"qint8\", np.int8, 1)])\n",
      "/Users/gkhanna/anaconda3/lib/python3.7/site-packages/tensorflow/python/framework/dtypes.py:517: FutureWarning: Passing (type, 1) or '1type' as a synonym of type is deprecated; in a future version of numpy, it will be understood as (type, (1,)) / '(1,)type'.\n",
      "  _np_quint8 = np.dtype([(\"quint8\", np.uint8, 1)])\n",
      "/Users/gkhanna/anaconda3/lib/python3.7/site-packages/tensorflow/python/framework/dtypes.py:518: FutureWarning: Passing (type, 1) or '1type' as a synonym of type is deprecated; in a future version of numpy, it will be understood as (type, (1,)) / '(1,)type'.\n",
      "  _np_qint16 = np.dtype([(\"qint16\", np.int16, 1)])\n",
      "/Users/gkhanna/anaconda3/lib/python3.7/site-packages/tensorflow/python/framework/dtypes.py:519: FutureWarning: Passing (type, 1) or '1type' as a synonym of type is deprecated; in a future version of numpy, it will be understood as (type, (1,)) / '(1,)type'.\n",
      "  _np_quint16 = np.dtype([(\"quint16\", np.uint16, 1)])\n",
      "/Users/gkhanna/anaconda3/lib/python3.7/site-packages/tensorflow/python/framework/dtypes.py:520: FutureWarning: Passing (type, 1) or '1type' as a synonym of type is deprecated; in a future version of numpy, it will be understood as (type, (1,)) / '(1,)type'.\n",
      "  _np_qint32 = np.dtype([(\"qint32\", np.int32, 1)])\n",
      "/Users/gkhanna/anaconda3/lib/python3.7/site-packages/tensorflow/python/framework/dtypes.py:525: FutureWarning: Passing (type, 1) or '1type' as a synonym of type is deprecated; in a future version of numpy, it will be understood as (type, (1,)) / '(1,)type'.\n",
      "  np_resource = np.dtype([(\"resource\", np.ubyte, 1)])\n",
      "/Users/gkhanna/anaconda3/lib/python3.7/site-packages/tensorboard/compat/tensorflow_stub/dtypes.py:541: FutureWarning: Passing (type, 1) or '1type' as a synonym of type is deprecated; in a future version of numpy, it will be understood as (type, (1,)) / '(1,)type'.\n",
      "  _np_qint8 = np.dtype([(\"qint8\", np.int8, 1)])\n",
      "/Users/gkhanna/anaconda3/lib/python3.7/site-packages/tensorboard/compat/tensorflow_stub/dtypes.py:542: FutureWarning: Passing (type, 1) or '1type' as a synonym of type is deprecated; in a future version of numpy, it will be understood as (type, (1,)) / '(1,)type'.\n",
      "  _np_quint8 = np.dtype([(\"quint8\", np.uint8, 1)])\n",
      "/Users/gkhanna/anaconda3/lib/python3.7/site-packages/tensorboard/compat/tensorflow_stub/dtypes.py:543: FutureWarning: Passing (type, 1) or '1type' as a synonym of type is deprecated; in a future version of numpy, it will be understood as (type, (1,)) / '(1,)type'.\n",
      "  _np_qint16 = np.dtype([(\"qint16\", np.int16, 1)])\n",
      "/Users/gkhanna/anaconda3/lib/python3.7/site-packages/tensorboard/compat/tensorflow_stub/dtypes.py:544: FutureWarning: Passing (type, 1) or '1type' as a synonym of type is deprecated; in a future version of numpy, it will be understood as (type, (1,)) / '(1,)type'.\n",
      "  _np_quint16 = np.dtype([(\"quint16\", np.uint16, 1)])\n",
      "/Users/gkhanna/anaconda3/lib/python3.7/site-packages/tensorboard/compat/tensorflow_stub/dtypes.py:545: FutureWarning: Passing (type, 1) or '1type' as a synonym of type is deprecated; in a future version of numpy, it will be understood as (type, (1,)) / '(1,)type'.\n",
      "  _np_qint32 = np.dtype([(\"qint32\", np.int32, 1)])\n",
      "/Users/gkhanna/anaconda3/lib/python3.7/site-packages/tensorboard/compat/tensorflow_stub/dtypes.py:550: FutureWarning: Passing (type, 1) or '1type' as a synonym of type is deprecated; in a future version of numpy, it will be understood as (type, (1,)) / '(1,)type'.\n",
      "  np_resource = np.dtype([(\"resource\", np.ubyte, 1)])\n"
     ]
    }
   ],
   "source": [
    "from keras.preprocessing.text import Tokenizer"
   ]
  },
  {
   "cell_type": "markdown",
   "metadata": {},
   "source": [
    "## Tokenize: text_to_word_sequence"
   ]
  },
  {
   "cell_type": "code",
   "execution_count": 24,
   "metadata": {},
   "outputs": [],
   "source": [
    "# VOCAB_SIZE = 800\n",
    "# tokenizer = Tokenizer(num_words=VOCAB_SIZE, filters='!\"#$%&()*+,-./:;<=>?@[\\\\]^_`{|}~\\t\\n', lower=True, split=' ', char_level=False, oov_token=None, document_count=0)"
   ]
  },
  {
   "cell_type": "code",
   "execution_count": 25,
   "metadata": {},
   "outputs": [],
   "source": [
    "# We've already cleaned up the data\n",
    "# Though we could use this for cleaning also\n",
    "reviews_tokenizer = Tokenizer()"
   ]
  },
  {
   "cell_type": "code",
   "execution_count": 26,
   "metadata": {},
   "outputs": [
    {
     "data": {
      "text/plain": [
       "5820"
      ]
     },
     "execution_count": 26,
     "metadata": {},
     "output_type": "execute_result"
    }
   ],
   "source": [
    "r_tokenizer = Tokenizer()\n",
    "r_tokenizer.fit_on_texts(reviews_sent)\n",
    "reviews_sequences = r_tokenizer.texts_to_sequences(reviews_sent)\n",
    "reviews_word_index = r_tokenizer.word_index\n",
    "len(reviews_word_index)"
   ]
  },
  {
   "cell_type": "code",
   "execution_count": 27,
   "metadata": {},
   "outputs": [
    {
     "data": {
      "text/plain": [
       "864"
      ]
     },
     "execution_count": 27,
     "metadata": {},
     "output_type": "execute_result"
    }
   ],
   "source": [
    "s_tokenizer = Tokenizer()\n",
    "s_tokenizer.fit_on_texts(sum_sent)\n",
    "summary_sequences = s_tokenizer.texts_to_sequences(sum_sent)\n",
    "sum_word_index = s_tokenizer.word_index\n",
    "len(sum_word_index)"
   ]
  },
  {
   "cell_type": "code",
   "execution_count": 28,
   "metadata": {},
   "outputs": [],
   "source": [
    "import statistics"
   ]
  },
  {
   "cell_type": "code",
   "execution_count": 29,
   "metadata": {},
   "outputs": [
    {
     "data": {
      "text/plain": [
       "5821"
      ]
     },
     "execution_count": 29,
     "metadata": {},
     "output_type": "execute_result"
    }
   ],
   "source": [
    "reviews_vocab_size = len(reviews_word_index) + 1\n",
    "reviews_vocab_size"
   ]
  },
  {
   "cell_type": "code",
   "execution_count": 30,
   "metadata": {},
   "outputs": [
    {
     "data": {
      "text/plain": [
       "865"
      ]
     },
     "execution_count": 30,
     "metadata": {},
     "output_type": "execute_result"
    }
   ],
   "source": [
    "sum_vocab_size = len(sum_word_index) + 1\n",
    "sum_vocab_size"
   ]
  },
  {
   "cell_type": "markdown",
   "metadata": {},
   "source": [
    "### Max len of the sequences"
   ]
  },
  {
   "cell_type": "code",
   "execution_count": 31,
   "metadata": {},
   "outputs": [
    {
     "data": {
      "text/plain": [
       "1182"
      ]
     },
     "execution_count": 31,
     "metadata": {},
     "output_type": "execute_result"
    }
   ],
   "source": [
    "max_reviews_seq_len = max([len(seq) for seq in reviews_sequences])\n",
    "max_reviews_seq_len"
   ]
  },
  {
   "cell_type": "code",
   "execution_count": 32,
   "metadata": {},
   "outputs": [
    {
     "data": {
      "text/plain": [
       "27"
      ]
     },
     "execution_count": 32,
     "metadata": {},
     "output_type": "execute_result"
    }
   ],
   "source": [
    "med_reviews_seq_len = statistics.mode([len(seq) for seq in reviews_sequences])\n",
    "med_reviews_seq_len"
   ]
  },
  {
   "cell_type": "code",
   "execution_count": 33,
   "metadata": {},
   "outputs": [
    {
     "data": {
      "text/plain": [
       "25"
      ]
     },
     "execution_count": 33,
     "metadata": {},
     "output_type": "execute_result"
    }
   ],
   "source": [
    "max_summary_seq_len = max([len(seq) for seq in summary_sequences])\n",
    "max_summary_seq_len"
   ]
  },
  {
   "cell_type": "code",
   "execution_count": 34,
   "metadata": {},
   "outputs": [
    {
     "data": {
      "text/plain": [
       "6.4605263157894735"
      ]
     },
     "execution_count": 34,
     "metadata": {},
     "output_type": "execute_result"
    }
   ],
   "source": [
    "med_summary_seq_len = statistics.mean([len(seq) for seq in summary_sequences])\n",
    "med_summary_seq_len"
   ]
  },
  {
   "cell_type": "markdown",
   "metadata": {},
   "source": [
    "### Vocabulary size"
   ]
  },
  {
   "cell_type": "code",
   "execution_count": 35,
   "metadata": {},
   "outputs": [],
   "source": [
    "# VOCAB_SIZE = len(reviews_word_index) - 10\n",
    "# VOCAB_SIZE"
   ]
  },
  {
   "cell_type": "code",
   "execution_count": 36,
   "metadata": {},
   "outputs": [],
   "source": [
    "# reviews_word_index_vsize = {}\n",
    "# counter = 0\n",
    "# for word in reviews_word_index.keys():\n",
    "#     if reviews_word_index[word] == 0:\n",
    "#         print(\"found 0!\")\n",
    "#         break\n",
    "#     if reviews_word_index[word] > VOCAB_SIZE:\n",
    "#         continue\n",
    "#     else:\n",
    "#         reviews_word_index_vsize[word] = reviews_word_index[word]\n",
    "#         counter += 1"
   ]
  },
  {
   "cell_type": "code",
   "execution_count": 37,
   "metadata": {},
   "outputs": [],
   "source": [
    "# len(reviews_word_index_vsize)"
   ]
  },
  {
   "cell_type": "code",
   "execution_count": 38,
   "metadata": {},
   "outputs": [],
   "source": [
    "# sum_word_index_vsize = {}\n",
    "# counter = 0\n",
    "# for word in sum_word_index.keys():\n",
    "#     if sum_word_index[word] == 0:\n",
    "#         print(\"found 0!\")\n",
    "#         break\n",
    "#     if sum_word_index[word] > VOCAB_SIZE:\n",
    "#         continue\n",
    "#     else:\n",
    "#         sum_word_index_vsize[word] = sum_word_index[word]\n",
    "#         counter += 1"
   ]
  },
  {
   "cell_type": "code",
   "execution_count": 39,
   "metadata": {},
   "outputs": [],
   "source": [
    "# len(sum_word_index_vsize)"
   ]
  },
  {
   "cell_type": "markdown",
   "metadata": {},
   "source": [
    "### Padding"
   ]
  },
  {
   "cell_type": "code",
   "execution_count": 40,
   "metadata": {},
   "outputs": [],
   "source": [
    "from keras.preprocessing.sequence import pad_sequences\n",
    "# MAX_LEN = max_reviews_seq_len\n",
    "pad_reviews_sequences = pad_sequences(reviews_sequences, maxlen=max_reviews_seq_len, padding='post', truncating='post')"
   ]
  },
  {
   "cell_type": "code",
   "execution_count": 41,
   "metadata": {},
   "outputs": [
    {
     "name": "stdout",
     "output_type": "stream",
     "text": [
      "49 1182\n"
     ]
    }
   ],
   "source": [
    "print(len(reviews_sequences[0]), len(pad_reviews_sequences[0]))"
   ]
  },
  {
   "cell_type": "code",
   "execution_count": 42,
   "metadata": {},
   "outputs": [
    {
     "name": "stdout",
     "output_type": "stream",
     "text": [
      "[[ 33 212  84 ...   0   0   0]\n",
      " [  8   7  68 ...   0   0   0]\n",
      " [  2  20 204 ...   0   0   0]\n",
      " ...\n",
      " [  8   7   5 ...   0   0   0]\n",
      " [  2  20   5 ...   0   0   0]\n",
      " [  2  23   8 ...   0   0   0]]\n"
     ]
    }
   ],
   "source": [
    "print(pad_reviews_sequences)"
   ]
  },
  {
   "cell_type": "code",
   "execution_count": 43,
   "metadata": {},
   "outputs": [
    {
     "data": {
      "text/plain": [
       "(1064, 1182)"
      ]
     },
     "execution_count": 43,
     "metadata": {},
     "output_type": "execute_result"
    }
   ],
   "source": [
    "pad_reviews_sequences.shape"
   ]
  },
  {
   "cell_type": "code",
   "execution_count": 44,
   "metadata": {},
   "outputs": [],
   "source": [
    "pad_sum_sequences = pad_sequences(summary_sequences, maxlen=max_summary_seq_len, padding='post', truncating='post')"
   ]
  },
  {
   "cell_type": "code",
   "execution_count": 45,
   "metadata": {},
   "outputs": [
    {
     "name": "stdout",
     "output_type": "stream",
     "text": [
      "4 25\n"
     ]
    }
   ],
   "source": [
    "print(len(summary_sequences[0]), len(pad_sum_sequences[0]))"
   ]
  },
  {
   "cell_type": "code",
   "execution_count": 46,
   "metadata": {},
   "outputs": [
    {
     "data": {
      "text/plain": [
       "(1064, 25)"
      ]
     },
     "execution_count": 46,
     "metadata": {},
     "output_type": "execute_result"
    }
   ],
   "source": [
    "pad_sum_sequences.shape"
   ]
  },
  {
   "cell_type": "markdown",
   "metadata": {},
   "source": [
    "### Reshape"
   ]
  },
  {
   "cell_type": "code",
   "execution_count": 47,
   "metadata": {},
   "outputs": [],
   "source": [
    "encoder_inputs = np.zeros((num_samples, max_reviews_seq_len), dtype='float32')\n",
    "encoder_inputs.shape\n",
    "\n",
    "for i, seqs in enumerate(pad_reviews_sequences):\n",
    "    for j, seq in enumerate(seqs):\n",
    "        encoder_inputs[i, j] = seq\n",
    "        "
   ]
  },
  {
   "cell_type": "code",
   "execution_count": 48,
   "metadata": {},
   "outputs": [
    {
     "data": {
      "text/plain": [
       "(1064, 1182)"
      ]
     },
     "execution_count": 48,
     "metadata": {},
     "output_type": "execute_result"
    }
   ],
   "source": [
    "encoder_inputs.shape"
   ]
  },
  {
   "cell_type": "code",
   "execution_count": 49,
   "metadata": {},
   "outputs": [],
   "source": [
    "\n",
    "decoder_inputs = np.zeros((num_samples, max_summary_seq_len), dtype='float32')\n",
    "decoder_inputs.shape\n",
    "        \n",
    "for i, seqs in enumerate(pad_sum_sequences):\n",
    "    for j, seq in enumerate(seqs):\n",
    "        decoder_inputs[i, j] = seq"
   ]
  },
  {
   "cell_type": "code",
   "execution_count": 50,
   "metadata": {},
   "outputs": [
    {
     "data": {
      "text/plain": [
       "(1064, 25)"
      ]
     },
     "execution_count": 50,
     "metadata": {},
     "output_type": "execute_result"
    }
   ],
   "source": [
    "decoder_inputs.shape"
   ]
  },
  {
   "cell_type": "code",
   "execution_count": 51,
   "metadata": {},
   "outputs": [
    {
     "data": {
      "text/plain": [
       "(1064, 25, 865)"
      ]
     },
     "execution_count": 51,
     "metadata": {},
     "output_type": "execute_result"
    }
   ],
   "source": [
    "decoder_outputs = np.zeros((num_samples, max_summary_seq_len, sum_vocab_size), dtype='float32')\n",
    "decoder_outputs.shape"
   ]
  },
  {
   "cell_type": "code",
   "execution_count": 52,
   "metadata": {},
   "outputs": [],
   "source": [
    "for i, seqs in enumerate(pad_sum_sequences):\n",
    "    for j, seq in enumerate(seqs):\n",
    "        if j > 0:\n",
    "            decoder_outputs[i, j-1, seq] = 1."
   ]
  },
  {
   "cell_type": "code",
   "execution_count": 53,
   "metadata": {},
   "outputs": [
    {
     "data": {
      "text/plain": [
       "(1064, 25, 865)"
      ]
     },
     "execution_count": 53,
     "metadata": {},
     "output_type": "execute_result"
    }
   ],
   "source": [
    "decoder_outputs.shape"
   ]
  },
  {
   "cell_type": "markdown",
   "metadata": {},
   "source": [
    "## Glove embeddings"
   ]
  },
  {
   "cell_type": "code",
   "execution_count": 54,
   "metadata": {},
   "outputs": [
    {
     "name": "stdout",
     "output_type": "stream",
     "text": [
      "Found 400000 word vectors.\n"
     ]
    }
   ],
   "source": [
    "embeddings_index = {}\n",
    "with open('/Users/gkhanna/Downloads/glove.6B/glove.6B.100d.txt', encoding='utf-8') as f:\n",
    "    for line in f:\n",
    "        values = line.split()\n",
    "        word = values[0]\n",
    "        coefs = np.asarray(values[1:], dtype='float32')\n",
    "        embeddings_index[word] = coefs\n",
    "    f.close()\n",
    "\n",
    "print('Found %s word vectors.' % len(embeddings_index))"
   ]
  },
  {
   "cell_type": "code",
   "execution_count": 55,
   "metadata": {},
   "outputs": [
    {
     "data": {
      "text/plain": [
       "(100,)"
      ]
     },
     "execution_count": 55,
     "metadata": {},
     "output_type": "execute_result"
    }
   ],
   "source": [
    "embeddings_index['start'].shape"
   ]
  },
  {
   "cell_type": "code",
   "execution_count": 56,
   "metadata": {},
   "outputs": [],
   "source": [
    "def embedding_matrix_creater(embedding_dimension, word_index):\n",
    "    embedding_matrix = np.zeros((len(word_index) + 1, embedding_dimension))\n",
    "    for word, i in word_index.items():\n",
    "        embedding_vector = embeddings_index.get(word)\n",
    "        if embedding_vector is not None:\n",
    "          # words not found in embedding index will be all-zeros.\n",
    "            embedding_matrix[i] = embedding_vector\n",
    "    return embedding_matrix"
   ]
  },
  {
   "cell_type": "code",
   "execution_count": 57,
   "metadata": {},
   "outputs": [],
   "source": [
    "# Hyperparams\n",
    "\n",
    "\n",
    "EMBEDDING_DIM = 100\n"
   ]
  },
  {
   "cell_type": "code",
   "execution_count": 58,
   "metadata": {},
   "outputs": [
    {
     "data": {
      "text/plain": [
       "(5821, 100)"
      ]
     },
     "execution_count": 58,
     "metadata": {},
     "output_type": "execute_result"
    }
   ],
   "source": [
    "reviews_embedding_matrix = embedding_matrix_creater(EMBEDDING_DIM, word_index=reviews_word_index)\n",
    "reviews_embedding_matrix.shape"
   ]
  },
  {
   "cell_type": "code",
   "execution_count": 59,
   "metadata": {},
   "outputs": [
    {
     "data": {
      "text/plain": [
       "5821"
      ]
     },
     "execution_count": 59,
     "metadata": {},
     "output_type": "execute_result"
    }
   ],
   "source": [
    "len(reviews_embedding_matrix)"
   ]
  },
  {
   "cell_type": "code",
   "execution_count": null,
   "metadata": {},
   "outputs": [],
   "source": []
  },
  {
   "cell_type": "code",
   "execution_count": 60,
   "metadata": {},
   "outputs": [
    {
     "data": {
      "text/plain": [
       "(865, 100)"
      ]
     },
     "execution_count": 60,
     "metadata": {},
     "output_type": "execute_result"
    }
   ],
   "source": [
    "sum_embedding_matrix = embedding_matrix_creater(EMBEDDING_DIM, word_index=sum_word_index)\n",
    "sum_embedding_matrix.shape"
   ]
  },
  {
   "cell_type": "code",
   "execution_count": 61,
   "metadata": {},
   "outputs": [],
   "source": [
    "from numpy.random import seed\n",
    "seed(1)"
   ]
  },
  {
   "cell_type": "code",
   "execution_count": 62,
   "metadata": {},
   "outputs": [],
   "source": [
    "import logging"
   ]
  },
  {
   "cell_type": "code",
   "execution_count": 63,
   "metadata": {},
   "outputs": [],
   "source": [
    "from sklearn.model_selection import train_test_split"
   ]
  },
  {
   "cell_type": "code",
   "execution_count": 64,
   "metadata": {},
   "outputs": [
    {
     "name": "stderr",
     "output_type": "stream",
     "text": [
      "WARNING: Logging before flag parsing goes to stderr.\n",
      "W0803 15:04:38.425108 140736209961856 deprecation_wrapper.py:119] From /Users/gkhanna/anaconda3/lib/python3.7/site-packages/keras/backend/tensorflow_backend.py:95: The name tf.reset_default_graph is deprecated. Please use tf.compat.v1.reset_default_graph instead.\n",
      "\n",
      "W0803 15:04:38.426445 140736209961856 deprecation_wrapper.py:119] From /Users/gkhanna/anaconda3/lib/python3.7/site-packages/keras/backend/tensorflow_backend.py:98: The name tf.placeholder_with_default is deprecated. Please use tf.compat.v1.placeholder_with_default instead.\n",
      "\n",
      "W0803 15:04:38.444281 140736209961856 deprecation_wrapper.py:119] From /Users/gkhanna/anaconda3/lib/python3.7/site-packages/keras/backend/tensorflow_backend.py:102: The name tf.get_default_graph is deprecated. Please use tf.compat.v1.get_default_graph instead.\n",
      "\n"
     ]
    }
   ],
   "source": [
    "import keras\n",
    "from keras import backend as k\n",
    "k.clear_session()\n",
    "k.set_learning_phase(1)"
   ]
  },
  {
   "cell_type": "code",
   "execution_count": 65,
   "metadata": {},
   "outputs": [],
   "source": [
    "from keras.preprocessing.text import Tokenizer\n",
    "from keras import initializers\n",
    "from keras.optimizers import RMSprop\n",
    "from keras.models import Sequential,Model\n",
    "from keras.layers import Dense,LSTM,Dropout,Input,Activation,Add,concatenate, Embedding, RepeatVector\n",
    "from keras.layers.advanced_activations import LeakyReLU,PReLU\n",
    "from keras.callbacks import ModelCheckpoint\n",
    "from keras.models import load_model\n",
    "from keras.optimizers import Adam\n"
   ]
  },
  {
   "cell_type": "code",
   "execution_count": 66,
   "metadata": {},
   "outputs": [],
   "source": [
    "from keras.layers import TimeDistributed, Concatenate"
   ]
  },
  {
   "cell_type": "code",
   "execution_count": 67,
   "metadata": {},
   "outputs": [],
   "source": [
    "from insights.attention import AttentionLayer"
   ]
  },
  {
   "cell_type": "markdown",
   "metadata": {},
   "source": [
    "### Hyperparams"
   ]
  },
  {
   "cell_type": "code",
   "execution_count": 68,
   "metadata": {},
   "outputs": [],
   "source": [
    "# Hyperparams\n",
    "\n",
    "# MAX_LEN = 1000\n",
    "# VOCAB_SIZE = len(sum_embedding_matrix)\n",
    "# EMBEDDING_DIM = 200\n",
    "HIDDEN_UNITS = 100\n",
    "# VOCAB_SIZE = VOCAB_SIZE + 1\n",
    "\n",
    "LEARNING_RATE = 0.0005\n",
    "BATCH_SIZE = 5\n",
    "EPOCHS = 20"
   ]
  },
  {
   "cell_type": "markdown",
   "metadata": {},
   "source": [
    "### Embedding Layer"
   ]
  },
  {
   "cell_type": "code",
   "execution_count": 69,
   "metadata": {},
   "outputs": [],
   "source": [
    "# encoder_embedding_layer = Embedding(input_dim = reviews_vocab_size, \n",
    "#                                     output_dim = EMBEDDING_DIM,\n",
    "#                                     input_length = max_reviews_seq_len,\n",
    "#                                     weights = [reviews_embedding_matrix],\n",
    "#                                     trainable = False)\n",
    "\n",
    "# decoder_embedding_layer = Embedding(input_dim = sum_vocab_size, \n",
    "#                                     output_dim = EMBEDDING_DIM,\n",
    "#                                     input_length = max_summary_seq_len,\n",
    "#                                     weights = [sum_embedding_matrix],\n",
    "#                                     trainable = False)"
   ]
  },
  {
   "cell_type": "code",
   "execution_count": 70,
   "metadata": {},
   "outputs": [],
   "source": [
    "encoder_embedding_layer = Embedding(input_dim = reviews_vocab_size, \n",
    "                                    output_dim = EMBEDDING_DIM,\n",
    "                                    weights = [reviews_embedding_matrix],\n",
    "                                    trainable = True)\n",
    "\n",
    "decoder_embedding_layer = Embedding(input_dim = sum_vocab_size, \n",
    "                                    output_dim = EMBEDDING_DIM,\n",
    "                                    weights = [sum_embedding_matrix],\n",
    "                                    trainable = True)"
   ]
  },
  {
   "cell_type": "code",
   "execution_count": 71,
   "metadata": {},
   "outputs": [
    {
     "data": {
      "text/plain": [
       "865"
      ]
     },
     "execution_count": 71,
     "metadata": {},
     "output_type": "execute_result"
    }
   ],
   "source": [
    "sum_vocab_size"
   ]
  },
  {
   "cell_type": "markdown",
   "metadata": {},
   "source": [
    "## Model"
   ]
  },
  {
   "cell_type": "markdown",
   "metadata": {},
   "source": [
    "### LSTM"
   ]
  },
  {
   "cell_type": "code",
   "execution_count": 72,
   "metadata": {},
   "outputs": [
    {
     "name": "stderr",
     "output_type": "stream",
     "text": [
      "W0803 15:04:38.505594 140736209961856 deprecation_wrapper.py:119] From /Users/gkhanna/anaconda3/lib/python3.7/site-packages/keras/backend/tensorflow_backend.py:517: The name tf.placeholder is deprecated. Please use tf.compat.v1.placeholder instead.\n",
      "\n",
      "W0803 15:04:38.508742 140736209961856 deprecation_wrapper.py:119] From /Users/gkhanna/anaconda3/lib/python3.7/site-packages/keras/backend/tensorflow_backend.py:4138: The name tf.random_uniform is deprecated. Please use tf.random.uniform instead.\n",
      "\n"
     ]
    },
    {
     "name": "stdout",
     "output_type": "stream",
     "text": [
      "__________________________________________________________________________________________________\n",
      "Layer (type)                    Output Shape         Param #     Connected to                     \n",
      "==================================================================================================\n",
      "input_1 (InputLayer)            (None, 1182)         0                                            \n",
      "__________________________________________________________________________________________________\n",
      "embedding_1 (Embedding)         (None, 1182, 100)    582100      input_1[0][0]                    \n",
      "__________________________________________________________________________________________________\n",
      "input_2 (InputLayer)            (None, None)         0                                            \n",
      "__________________________________________________________________________________________________\n",
      "lstm_1 (LSTM)                   [(None, 1182, 100),  80400       embedding_1[0][0]                \n",
      "__________________________________________________________________________________________________\n",
      "embedding_2 (Embedding)         (None, None, 100)    86500       input_2[0][0]                    \n",
      "__________________________________________________________________________________________________\n",
      "lstm_2 (LSTM)                   [(None, 1182, 100),  80400       lstm_1[0][0]                     \n",
      "__________________________________________________________________________________________________\n",
      "lstm_3 (LSTM)                   [(None, None, 100),  80400       embedding_2[0][0]                \n",
      "                                                                 lstm_2[0][1]                     \n",
      "                                                                 lstm_2[0][2]                     \n",
      "__________________________________________________________________________________________________\n",
      "time_distributed_1 (TimeDistrib (None, None, 865)    87365       lstm_3[0][0]                     \n",
      "==================================================================================================\n",
      "Total params: 997,165\n",
      "Trainable params: 997,165\n",
      "Non-trainable params: 0\n",
      "__________________________________________________________________________________________________\n"
     ]
    }
   ],
   "source": [
    "## # encoder\n",
    "encoder_inputs = Input(shape=(max_reviews_seq_len, ), dtype = 'int32',)\n",
    "encoder_embedding = encoder_embedding_layer(encoder_inputs)\n",
    "\n",
    "# LSTM 1\n",
    "encoder_LSTM1 = LSTM(HIDDEN_UNITS, return_sequences = True, return_state = True)\n",
    "encoder_output1, state_h1, state_c1 = encoder_LSTM1(encoder_embedding)\n",
    "\n",
    "# LSTM 2\n",
    "encoder_LSTM2 = LSTM(HIDDEN_UNITS, return_sequences = True, return_state = True)\n",
    "encoder_outputs, state_h, state_c = encoder_LSTM2(encoder_output1)\n",
    "\n",
    "\n",
    "encoder_states = [state_h, state_c]\n",
    "\n",
    "# decoder\n",
    "# decoder_inputs = Input(shape=(max_summary_seq_len, ), dtype = 'int32')\n",
    "decoder_inputs = Input(shape=(None, ), dtype = 'int32')\n",
    "decoder_embedding = decoder_embedding_layer(decoder_inputs)\n",
    "\n",
    "# Decoder LSTM with encoder_states as the initial state\n",
    "decoder_LSTM = LSTM(HIDDEN_UNITS, return_sequences = True, return_state = True)\n",
    "decoder_outputs, state_d_h, state_d_c = decoder_LSTM(decoder_embedding, initial_state = [state_h, state_c])\n",
    "\n",
    "# Dense Layer\n",
    "decoder_dense = TimeDistributed(Dense(units=sum_vocab_size, activation=\"softmax\"))\n",
    "decoder_outputs = decoder_dense(decoder_outputs) # SUM_VOCAB_SIZE, sum_embedding_matrix.shape[1]\n",
    "\n",
    "model = Model([encoder_inputs, decoder_inputs], decoder_outputs)\n",
    "model.summary()\n"
   ]
  },
  {
   "cell_type": "code",
   "execution_count": 73,
   "metadata": {},
   "outputs": [
    {
     "name": "stderr",
     "output_type": "stream",
     "text": [
      "W0803 15:04:39.237138 140736209961856 deprecation_wrapper.py:119] From /Users/gkhanna/anaconda3/lib/python3.7/site-packages/keras/optimizers.py:790: The name tf.train.Optimizer is deprecated. Please use tf.compat.v1.train.Optimizer instead.\n",
      "\n"
     ]
    }
   ],
   "source": [
    "model.compile(optimizer=\"rmsprop\", loss=\"categorical_crossentropy\", metrics=[\"accuracy\"])"
   ]
  },
  {
   "cell_type": "markdown",
   "metadata": {},
   "source": [
    "## TRAINING"
   ]
  },
  {
   "cell_type": "code",
   "execution_count": 74,
   "metadata": {},
   "outputs": [],
   "source": [
    "# history=model.fit([x_tr,y_tr[:,:-1]], y_tr.reshape(y_tr.shape[0],y_tr.shape[1], 1)[:,1:] ,epochs=50,callbacks=[es],batch_size=512, validation_data=([x_val,y_val[:,:-1]], y_val.reshape(y_val.shape[0],y_val.shape[1], 1)[:,1:]))"
   ]
  },
  {
   "cell_type": "code",
   "execution_count": 75,
   "metadata": {},
   "outputs": [],
   "source": [
    "num_samples = len(pad_sum_sequences)\n",
    "decoder_output_data = np.zeros((num_samples, max_summary_seq_len, sum_vocab_size), dtype=\"int32\")\n"
   ]
  },
  {
   "cell_type": "code",
   "execution_count": 76,
   "metadata": {},
   "outputs": [
    {
     "data": {
      "text/plain": [
       "(1064, 25)"
      ]
     },
     "execution_count": 76,
     "metadata": {},
     "output_type": "execute_result"
    }
   ],
   "source": [
    "pad_sum_sequences.shape"
   ]
  },
  {
   "cell_type": "code",
   "execution_count": 77,
   "metadata": {},
   "outputs": [
    {
     "data": {
      "text/plain": [
       "(1064, 1182)"
      ]
     },
     "execution_count": 77,
     "metadata": {},
     "output_type": "execute_result"
    }
   ],
   "source": [
    "pad_reviews_sequences.shape"
   ]
  },
  {
   "cell_type": "code",
   "execution_count": 78,
   "metadata": {},
   "outputs": [
    {
     "data": {
      "text/plain": [
       "(1064, 25, 865)"
      ]
     },
     "execution_count": 78,
     "metadata": {},
     "output_type": "execute_result"
    }
   ],
   "source": [
    "decoder_output_data.shape"
   ]
  },
  {
   "cell_type": "code",
   "execution_count": 79,
   "metadata": {},
   "outputs": [],
   "source": [
    "# Output\n",
    "for i, seqs in enumerate(pad_sum_sequences):\n",
    "    for j, seq in enumerate(seqs):\n",
    "        if j > 0:\n",
    "            decoder_output_data[i][j - 1][seq] = 1"
   ]
  },
  {
   "cell_type": "code",
   "execution_count": 80,
   "metadata": {},
   "outputs": [],
   "source": [
    "reviews_train, reviews_test, sum_train, sum_test = train_test_split(pad_reviews_sequences, pad_sum_sequences, test_size=0.2, shuffle = False)"
   ]
  },
  {
   "cell_type": "code",
   "execution_count": 81,
   "metadata": {},
   "outputs": [
    {
     "data": {
      "text/plain": [
       "851"
      ]
     },
     "execution_count": 81,
     "metadata": {},
     "output_type": "execute_result"
    }
   ],
   "source": [
    "train_num = reviews_train.shape[0]\n",
    "train_num"
   ]
  },
  {
   "cell_type": "code",
   "execution_count": 82,
   "metadata": {},
   "outputs": [
    {
     "data": {
      "text/plain": [
       "(851, 1182)"
      ]
     },
     "execution_count": 82,
     "metadata": {},
     "output_type": "execute_result"
    }
   ],
   "source": [
    "reviews_train.shape"
   ]
  },
  {
   "cell_type": "code",
   "execution_count": 83,
   "metadata": {},
   "outputs": [
    {
     "data": {
      "text/plain": [
       "array([ 8, 19,  7, ...,  0,  0,  0], dtype=int32)"
      ]
     },
     "execution_count": 83,
     "metadata": {},
     "output_type": "execute_result"
    }
   ],
   "source": [
    "reviews_test[5]"
   ]
  },
  {
   "cell_type": "code",
   "execution_count": 84,
   "metadata": {},
   "outputs": [
    {
     "data": {
      "text/plain": [
       "(213, 1182)"
      ]
     },
     "execution_count": 84,
     "metadata": {},
     "output_type": "execute_result"
    }
   ],
   "source": [
    "reviews_test.shape"
   ]
  },
  {
   "cell_type": "code",
   "execution_count": 85,
   "metadata": {},
   "outputs": [
    {
     "data": {
      "text/plain": [
       "(851, 25)"
      ]
     },
     "execution_count": 85,
     "metadata": {},
     "output_type": "execute_result"
    }
   ],
   "source": [
    "sum_train.shape"
   ]
  },
  {
   "cell_type": "code",
   "execution_count": 86,
   "metadata": {},
   "outputs": [
    {
     "data": {
      "text/plain": [
       "array([  1,  43,  19,  43,  28,  58, 263,  90, 100,  35, 211, 212,   2,\n",
       "         0,   0,   0,   0,   0,   0,   0,   0,   0,   0,   0,   0],\n",
       "      dtype=int32)"
      ]
     },
     "execution_count": 86,
     "metadata": {},
     "output_type": "execute_result"
    }
   ],
   "source": [
    "sum_train[5]"
   ]
  },
  {
   "cell_type": "code",
   "execution_count": 87,
   "metadata": {},
   "outputs": [
    {
     "data": {
      "text/plain": [
       "(213, 25)"
      ]
     },
     "execution_count": 87,
     "metadata": {},
     "output_type": "execute_result"
    }
   ],
   "source": [
    "sum_test.shape"
   ]
  },
  {
   "cell_type": "code",
   "execution_count": 88,
   "metadata": {},
   "outputs": [],
   "source": [
    "target_train = decoder_output_data[:train_num]\n",
    "target_test = decoder_output_data[train_num:]"
   ]
  },
  {
   "cell_type": "code",
   "execution_count": 89,
   "metadata": {},
   "outputs": [
    {
     "data": {
      "text/plain": [
       "(851, 25, 865)"
      ]
     },
     "execution_count": 89,
     "metadata": {},
     "output_type": "execute_result"
    }
   ],
   "source": [
    "target_train.shape"
   ]
  },
  {
   "cell_type": "code",
   "execution_count": 90,
   "metadata": {},
   "outputs": [
    {
     "data": {
      "text/plain": [
       "(213, 25, 865)"
      ]
     },
     "execution_count": 90,
     "metadata": {},
     "output_type": "execute_result"
    }
   ],
   "source": [
    "target_test.shape"
   ]
  },
  {
   "cell_type": "code",
   "execution_count": 91,
   "metadata": {},
   "outputs": [
    {
     "data": {
      "text/plain": [
       "(851, 25, 865)"
      ]
     },
     "execution_count": 91,
     "metadata": {},
     "output_type": "execute_result"
    }
   ],
   "source": [
    "target_train.shape"
   ]
  },
  {
   "cell_type": "code",
   "execution_count": 92,
   "metadata": {},
   "outputs": [],
   "source": [
    "from tensorflow.keras.callbacks import EarlyStopping\n",
    "es = EarlyStopping(monitor='val_loss', mode='min', verbose=1)"
   ]
  },
  {
   "cell_type": "code",
   "execution_count": 93,
   "metadata": {
    "scrolled": true
   },
   "outputs": [
    {
     "name": "stderr",
     "output_type": "stream",
     "text": [
      "W0803 15:04:39.584998 140736209961856 deprecation.py:323] From /Users/gkhanna/anaconda3/lib/python3.7/site-packages/tensorflow/python/ops/math_grad.py:1250: add_dispatch_support.<locals>.wrapper (from tensorflow.python.ops.array_ops) is deprecated and will be removed in a future version.\n",
      "Instructions for updating:\n",
      "Use tf.where in 2.0, which has the same broadcast rule as np.where\n"
     ]
    },
    {
     "name": "stdout",
     "output_type": "stream",
     "text": [
      "Train on 851 samples, validate on 213 samples\n",
      "Epoch 1/20\n",
      "851/851 [==============================] - 286s 336ms/step - loss: 1.4593 - acc: 0.7993 - val_loss: 1.0360 - val_acc: 0.8347\n",
      "Epoch 2/20\n",
      "851/851 [==============================] - 277s 325ms/step - loss: 1.0490 - acc: 0.8270 - val_loss: 1.0064 - val_acc: 0.8402\n",
      "Epoch 3/20\n",
      "851/851 [==============================] - 284s 334ms/step - loss: 0.9962 - acc: 0.8320 - val_loss: 0.9852 - val_acc: 0.8423\n",
      "Epoch 4/20\n",
      "851/851 [==============================] - 284s 334ms/step - loss: 0.9596 - acc: 0.8358 - val_loss: 0.9697 - val_acc: 0.8439\n",
      "Epoch 5/20\n",
      "851/851 [==============================] - 279s 327ms/step - loss: 0.9335 - acc: 0.8373 - val_loss: 0.9711 - val_acc: 0.8441\n",
      "Epoch 00005: early stopping\n"
     ]
    }
   ],
   "source": [
    "history = model.fit([reviews_train, sum_train], \n",
    "                     target_train, \n",
    "                     epochs=EPOCHS,\n",
    "                     callbacks = [es],\n",
    "                     batch_size=BATCH_SIZE,\n",
    "                     validation_data=([reviews_test, sum_test], target_test))"
   ]
  },
  {
   "cell_type": "code",
   "execution_count": 94,
   "metadata": {},
   "outputs": [],
   "source": [
    "# history = model.fit([reviews_train, sum_train], \n",
    "#                      target_train, \n",
    "#                      epochs=EPOCHS,\n",
    "#                      batch_size=BATCH_SIZE,\n",
    "#                      validation_data=([reviews_test, sum_test], target_test))"
   ]
  },
  {
   "cell_type": "code",
   "execution_count": 95,
   "metadata": {},
   "outputs": [
    {
     "data": {
      "text/plain": [
       "TensorShape([Dimension(None), Dimension(None), Dimension(865)])"
      ]
     },
     "execution_count": 95,
     "metadata": {},
     "output_type": "execute_result"
    }
   ],
   "source": [
    "decoder_outputs.shape"
   ]
  },
  {
   "cell_type": "code",
   "execution_count": 96,
   "metadata": {},
   "outputs": [
    {
     "data": {
      "text/plain": [
       "TensorShape([Dimension(None), Dimension(None)])"
      ]
     },
     "execution_count": 96,
     "metadata": {},
     "output_type": "execute_result"
    }
   ],
   "source": [
    "decoder_inputs.shape"
   ]
  },
  {
   "cell_type": "code",
   "execution_count": 97,
   "metadata": {},
   "outputs": [
    {
     "data": {
      "image/png": "[encoded data removed]",
      "text/plain": [
       "<Figure size 720x432 with 1 Axes>"
      ]
     },
     "metadata": {
      "needs_background": "light"
     },
     "output_type": "display_data"
    }
   ],
   "source": [
    "import matplotlib.pyplot as plt\n",
    "%matplotlib inline\n",
    "\n",
    "plt.figure(figsize=(10, 6))\n",
    "plt.plot(history.history['acc'])\n",
    "plt.plot(history.history['val_acc'])\n",
    "plt.title('model accuracy')\n",
    "plt.ylabel('accuracy')\n",
    "plt.xlabel('epoch')\n",
    "plt.legend(['train', 'test'], loc='upper left')\n",
    "plt.show()"
   ]
  },
  {
   "cell_type": "code",
   "execution_count": 98,
   "metadata": {},
   "outputs": [
    {
     "data": {
      "image/png": "[encoded data removed]",
      "text/plain": [
       "<Figure size 720x432 with 1 Axes>"
      ]
     },
     "metadata": {
      "needs_background": "light"
     },
     "output_type": "display_data"
    }
   ],
   "source": [
    "plt.figure(figsize=(10, 6))\n",
    "plt.plot(history.history['loss'])\n",
    "# plt.plot(history.history['val_loss'])\n",
    "plt.title('model loss')\n",
    "plt.ylabel('loss')\n",
    "plt.xlabel('epoch')\n",
    "# plt.legend(['train', 'test'], loc='upper left')\n",
    "plt.show()"
   ]
  },
  {
   "cell_type": "markdown",
   "metadata": {},
   "source": [
    "## Reverse Tokenize"
   ]
  },
  {
   "cell_type": "code",
   "execution_count": 99,
   "metadata": {},
   "outputs": [],
   "source": [
    "reverse_source_word_index=r_tokenizer.index_word \n",
    "reverse_target_word_index=s_tokenizer.index_word \n",
    "target_word_index = s_tokenizer.word_index"
   ]
  },
  {
   "cell_type": "code",
   "execution_count": 100,
   "metadata": {},
   "outputs": [
    {
     "data": {
      "text/plain": [
       "5820"
      ]
     },
     "execution_count": 100,
     "metadata": {},
     "output_type": "execute_result"
    }
   ],
   "source": [
    "len(reverse_source_word_index)"
   ]
  },
  {
   "cell_type": "markdown",
   "metadata": {},
   "source": [
    "### inference encoder and decoder"
   ]
  },
  {
   "cell_type": "code",
   "execution_count": 101,
   "metadata": {},
   "outputs": [],
   "source": [
    "# Encoder inference\n",
    "inf_encoder_model = Model(inputs = encoder_inputs, outputs = [encoder_outputs, state_h, state_c])"
   ]
  },
  {
   "cell_type": "code",
   "execution_count": 102,
   "metadata": {},
   "outputs": [],
   "source": [
    "# Decoder inference\n",
    "\n",
    "# State of the previous time step\n",
    "decoder_state_input_h = Input(shape=(HIDDEN_UNITS,))\n",
    "decoder_state_input_c = Input(shape=(HIDDEN_UNITS,))\n",
    "# decoder_hidden_state_input = Input(shape=(max_reviews_seq_len, HIDDEN_UNITS))\n",
    "\n",
    "# Embeddings of the decoder sequence\n",
    "decoder_embeddings2 = decoder_embedding_layer(decoder_inputs)\n",
    "\n",
    "# To predict the next word in the sequence, set the initial states to the states from the previous time step\n",
    "decoder_outputs2, state_h2, state_c2 = decoder_LSTM(decoder_embeddings2, initial_state= [decoder_state_input_h, decoder_state_input_c])\n",
    "\n",
    "# A dense softmax layer to generate prob dist. over the target vocabulary\n",
    "decoder_outputs2 = decoder_dense(decoder_outputs2)\n",
    "\n",
    "# Final decoder model\n",
    "decoder_model = Model(\n",
    "[decoder_inputs] + [decoder_state_input_h, decoder_state_input_c],\n",
    "[decoder_outputs2] + [state_h2, state_c2])\n",
    "\n",
    "# decoder_outputs, state_h, state_c = decoder_LSTM(decoder_embedding,  initial_state=decoder_state_inputs)\n",
    "# decoder_states = [state_h, state_c]\n",
    "# decoder_outputs = decoder_dense(decoder_outputs)\n",
    "# inf_decoder_model = Model([decoder_inputs] + decoder_state_inputs, [decoder_outputs] + decoder_states)"
   ]
  },
  {
   "cell_type": "code",
   "execution_count": 103,
   "metadata": {},
   "outputs": [
    {
     "name": "stdout",
     "output_type": "stream",
     "text": [
      "_________________________________________________________________\n",
      "Layer (type)                 Output Shape              Param #   \n",
      "=================================================================\n",
      "input_1 (InputLayer)         (None, 1182)              0         \n",
      "_________________________________________________________________\n",
      "embedding_1 (Embedding)      (None, 1182, 100)         582100    \n",
      "_________________________________________________________________\n",
      "lstm_1 (LSTM)                [(None, 1182, 100), (None 80400     \n",
      "_________________________________________________________________\n",
      "lstm_2 (LSTM)                [(None, 1182, 100), (None 80400     \n",
      "=================================================================\n",
      "Total params: 742,900\n",
      "Trainable params: 742,900\n",
      "Non-trainable params: 0\n",
      "_________________________________________________________________\n"
     ]
    }
   ],
   "source": [
    "inf_encoder_model.summary()"
   ]
  },
  {
   "cell_type": "code",
   "execution_count": 104,
   "metadata": {},
   "outputs": [
    {
     "name": "stdout",
     "output_type": "stream",
     "text": [
      "__________________________________________________________________________________________________\n",
      "Layer (type)                    Output Shape         Param #     Connected to                     \n",
      "==================================================================================================\n",
      "input_2 (InputLayer)            (None, None)         0                                            \n",
      "__________________________________________________________________________________________________\n",
      "embedding_2 (Embedding)         (None, None, 100)    86500       input_2[0][0]                    \n",
      "__________________________________________________________________________________________________\n",
      "input_3 (InputLayer)            (None, 100)          0                                            \n",
      "__________________________________________________________________________________________________\n",
      "input_4 (InputLayer)            (None, 100)          0                                            \n",
      "__________________________________________________________________________________________________\n",
      "lstm_3 (LSTM)                   [(None, None, 100),  80400       embedding_2[1][0]                \n",
      "                                                                 input_3[0][0]                    \n",
      "                                                                 input_4[0][0]                    \n",
      "__________________________________________________________________________________________________\n",
      "time_distributed_1 (TimeDistrib (None, None, 865)    87365       lstm_3[1][0]                     \n",
      "==================================================================================================\n",
      "Total params: 254,265\n",
      "Trainable params: 254,265\n",
      "Non-trainable params: 0\n",
      "__________________________________________________________________________________________________\n"
     ]
    }
   ],
   "source": [
    "decoder_model.summary()"
   ]
  },
  {
   "cell_type": "markdown",
   "metadata": {},
   "source": [
    "## Inference process"
   ]
  },
  {
   "cell_type": "code",
   "execution_count": 105,
   "metadata": {},
   "outputs": [],
   "source": [
    "\n",
    "\n",
    "def decode_sequence(input_seq):\n",
    "    # Encode the input as state vectors.\n",
    "    e_out, e_h, e_c = inf_encoder_model.predict(input_seq)\n",
    "\n",
    "    # Generate empty target sequence of length 1.\n",
    "    target_seq = np.zeros((1,1))\n",
    "    # target_seq = np.array([0.0 for _ in range(max_reviews_seq_len)]).reshape(1, max_reviews_seq_len)\n",
    "\n",
    "    # Choose the 'start' word as the first word of the target sequence\n",
    "    target_seq[0, 0] = target_word_index['start']\n",
    "    \n",
    "#     target_seq = np.zeros((1, 1, max_summary_seq_len))\n",
    "#     target_seq[0, 0, target_word_index['start']] = 1.\n",
    "\n",
    "    stop_condition = False\n",
    "    decoded_sentence = ''\n",
    "    while not stop_condition:\n",
    "        output_tokens, h, c = decoder_model.predict([target_seq] + [e_h, e_c])\n",
    "\n",
    "        # Sample a token\n",
    "        sampled_word_index = np.argmax(output_tokens[0, -1, :])\n",
    "        # print(sampled_token_index)\n",
    "        # sampled_token = reverse_target_word_index[sampled_token_index]\n",
    "        # Want to get a default instead of a key error\n",
    "        sampled_word = reverse_target_word_index.get(sampled_word_index, \"NA\")\n",
    "        # print(sampled_token)\n",
    "        \n",
    "        # if(sampled_token!='end'):\n",
    "        decoded_sentence += ' ' + sampled_word\n",
    "\n",
    "        # Exit condition: either hit max length or find stop word.\n",
    "        if (sampled_word == 'end' or len(decoded_sentence.split()) > (max_summary_seq_len-1)):\n",
    "            stop_condition = True\n",
    "\n",
    "        # Update the target sequence (of length 1).\n",
    "        target_seq = np.zeros((1,1))\n",
    "        target_seq[0, 0] = sampled_word_index\n",
    "\n",
    "        # Update internal states\n",
    "        e_h, e_c = h, c\n",
    "\n",
    "    return decoded_sentence"
   ]
  },
  {
   "cell_type": "code",
   "execution_count": 106,
   "metadata": {},
   "outputs": [],
   "source": [
    "# Integer sequence to words\n",
    "\n",
    "def seq2summary(input_seq):\n",
    "    newString=''\n",
    "    for i in input_seq:\n",
    "      if((i!=0 and i!=target_word_index['start']) and i!=target_word_index['end']):\n",
    "        newString=newString+reverse_target_word_index[i]+' '\n",
    "    return newString\n",
    "\n",
    "def seq2review(input_seq):\n",
    "    newString=''\n",
    "    for i in input_seq:\n",
    "      if(i!=0):\n",
    "        newString=newString+reverse_source_word_index[i]+' '\n",
    "    return newString"
   ]
  },
  {
   "cell_type": "code",
   "execution_count": 107,
   "metadata": {},
   "outputs": [
    {
     "name": "stdout",
     "output_type": "stream",
     "text": [
      "Review: lodge logic makes the best cast iron products for the best price i had a 10 34 pre seasoned skillet that worked wonderfully but now i have upgraded to a 12 34 can you say giant pancake \n",
      "\n",
      "Original summary: perfect \n",
      "\n",
      "Predicted summary:  great skillet end\n",
      "\n",
      "\n",
      "Review: i did not see the lid at the time i ordered it i am not sure it was available but i was pretty thorough i think i would have seen it now i see the lid and it basically makes this a low profile dutch oven buy it once and you are set in case of foreign invasion and you have to live in the woods like red dawn excellent weapon too or you can drop it on enemies from trees and win even easier \n",
      "\n",
      "Original summary: if only i had a lid \n",
      "\n",
      "Predicted summary:  great skillet end\n",
      "\n",
      "\n",
      "Review: i bought this with the idea of using it for frying an egg or two since eggs stick to my stainless pans if you have the same idea do not buy this buy a teflon coated one instead my old teflon pan was ideal for frying eggs they slide right off since eggs stick you will have to use a spatula to get the eggs out but this skillet is too small and the sides too high to allow easy flipping with a spatula and then the cleaning this pan does not have a mirror surface rather a porous one eggs get stuck in the pores and do not clean off easily \n",
      "\n",
      "Original summary: not ideal \n",
      "\n",
      "Predicted summary:  great skillet end\n",
      "\n",
      "\n",
      "Review: straightforward cast iron skillet strong sturdy thick with two handles for easier and safer handling the pretreatment is better than nothing but it does still requires some seasoning or at least some regular use for awhile before it reaches full seasoning so do not be surprised if things stick a little in the beginning despite the pretreatment cast iron gets better with time with a lot of use as long as one does not use soap easy to clean while still hot or warm with only hot water and a stiff brush if food is allowed to cool in it and it is stuck on it is still easy to clean with hot water a stiff brush and a little elbow grease i would give it five stars but i have noticed all of my newer lodge cast iron pans are not exactly flat like the old ones they are not horribly misshapen but liquids and oils do run to one side despite my stove being level and that means the pans themselves are not level they are very useable but since they are not entirely level they do not deserve five stars \n",
      "\n",
      "Original summary: if you can handle the weight cast iron cannot be beat in my book \n",
      "\n",
      "Predicted summary:  great skillet end\n",
      "\n",
      "\n",
      "Review: this pan is the perfect size for my household the small handle opposite the main handle makes it much easier to pick up because like all cast iron pans it is heavy i love that it is pre seasoned care for it as recommended and it will truly last a lifetime \n",
      "\n",
      "Original summary: great pan \n",
      "\n",
      "Predicted summary:  great skillet end\n",
      "\n",
      "\n",
      "Review: this skillet is turning out to be a very handy addition to my large and growing collection of lodge logic cast iron it s a great size to fry a couple of eggs and since a lid from another set of cookware fits i can poach the eggs in this skillet too reheat a single portion of leftovers or bake up that cup or two of leftover batter so who wants to pop the muffin pan back into the oven for such a small amount all in all a great little pan thanks lodge \n",
      "\n",
      "Original summary: a very useful size \n",
      "\n",
      "Predicted summary:  great skillet end\n",
      "\n",
      "\n",
      "Review: i love iron skillets and love to share them with people for a modern iron skillet these are actually pretty decent normally i have an issue with pre seasoned but these are actually usable as is \n",
      "\n",
      "Original summary: great skillet great price \n",
      "\n",
      "Predicted summary:  great skillet end\n",
      "\n",
      "\n",
      "Review: i bought this for my wife for christmas and she loves it in fact i love it to and i find myself using this more then she does we rarely even use our other pans there is tons of space on this thing and its a very well made product if you clean these properly they will never crack and last forever \n",
      "\n",
      "Original summary: freakin awesome deal \n",
      "\n",
      "Predicted summary:  great skillet end\n",
      "\n",
      "\n",
      "Review: lighter than the 12 quot pan still works great by getting the pre seasoned version you do not have to worry about being extra careful with your first few uses retains heat very well \n",
      "\n",
      "Original summary: this pan will outlast you very solid \n",
      "\n",
      "Predicted summary:  great skillet end\n",
      "\n",
      "\n",
      "Review: this is a typical amazing lodge product the pan is very well seasoned and the silicone handle is comfortable love it \n",
      "\n",
      "Original summary: love it \n",
      "\n",
      "Predicted summary:  great skillet end\n",
      "\n",
      "\n"
     ]
    }
   ],
   "source": [
    "for i in range(len(reviews_test[:10])):\n",
    "    print(\"Review:\",seq2review(reviews_test[i]))\n",
    "    print()\n",
    "    print(\"Original summary:\",seq2summary(sum_test[i]))\n",
    "    print()\n",
    "    print(\"Predicted summary:\",decode_sequence(reviews_test[i].reshape(1, max_reviews_seq_len)))\n",
    "    print(\"\\n\")"
   ]
  },
  {
   "cell_type": "code",
   "execution_count": 108,
   "metadata": {},
   "outputs": [
    {
     "data": {
      "text/plain": [
       "'so far i am loving this skillet it is priced well and you can tell it is good quality i have used it to make a skillet cookie asparagus and saute shrimp not all at the same time it performed very well and i am looking forward to getting much more use out of it '"
      ]
     },
     "execution_count": 108,
     "metadata": {},
     "output_type": "execute_result"
    }
   ],
   "source": [
    "seq2review(reviews_train[3])"
   ]
  },
  {
   "cell_type": "code",
   "execution_count": 109,
   "metadata": {},
   "outputs": [
    {
     "data": {
      "text/plain": [
       "'great skillet '"
      ]
     },
     "execution_count": 109,
     "metadata": {},
     "output_type": "execute_result"
    }
   ],
   "source": [
    "seq2summary(sum_train[3])"
   ]
  },
  {
   "cell_type": "code",
   "execution_count": 110,
   "metadata": {},
   "outputs": [],
   "source": [
    "# state = inf_encoder_model.predict(reviews_test)"
   ]
  },
  {
   "cell_type": "code",
   "execution_count": 111,
   "metadata": {},
   "outputs": [],
   "source": [
    "\n",
    "# cardinality = 720\n",
    "# n_steps = 4\n",
    "# output = list()\n",
    "\n",
    "# target_seq = np.array([0.0 for _ in range(cardinality)]).reshape(1, cardinality)\n",
    "\n",
    "# yhat, h, c = inf_decoder_model.predict([target_seq] + state)\n",
    "# # store prediction\n",
    "# output.append(yhat[0,0,:])\n",
    "# # update state\n",
    "# state = [h, c]\n",
    "    "
   ]
  },
  {
   "cell_type": "code",
   "execution_count": 112,
   "metadata": {},
   "outputs": [],
   "source": [
    "# def lookup(tokenizer, vec, returnIntNotWord=True):\n",
    "#     twordkey = [(k, tokenizer.word_index[k]) for k in sorted(tokenizer.word_index, key=tokenizer.word_index.get, reverse=False)]\n",
    "#     oneHotVec = [] #captures the index of the ords\n",
    "#     engVec = [] #this one returns the indexs and the words. Make sure returnIntNotWord is false though\n",
    "#     for eachRow, notUsed in enumerate(vec):\n",
    "#         for index, item in enumerate(vec[0]):\n",
    "#             if vec[eachRow][index] == 1:\n",
    "#                 oneHotVec.append(index)\n",
    "#     for index in oneHotVec:\n",
    "#         engVec.append(twordkey[index])\n",
    "#     if returnIntNotWord == True:\n",
    "#         return oneHotVec\n",
    "#     else:\n",
    "#         return engVec"
   ]
  },
  {
   "cell_type": "code",
   "execution_count": 113,
   "metadata": {},
   "outputs": [
    {
     "data": {
      "text/plain": [
       "(1, 1182)"
      ]
     },
     "execution_count": 113,
     "metadata": {},
     "output_type": "execute_result"
    }
   ],
   "source": [
    "input_seq = reviews_test[6].reshape(1, max_reviews_seq_len)\n",
    "input_seq.shape"
   ]
  },
  {
   "cell_type": "code",
   "execution_count": 114,
   "metadata": {},
   "outputs": [
    {
     "data": {
      "text/plain": [
       "(1182,)"
      ]
     },
     "execution_count": 114,
     "metadata": {},
     "output_type": "execute_result"
    }
   ],
   "source": [
    "reviews_test[6].shape"
   ]
  },
  {
   "cell_type": "code",
   "execution_count": 115,
   "metadata": {},
   "outputs": [
    {
     "data": {
      "text/plain": [
       "array([[ 2, 64, 13, ...,  0,  0,  0]], dtype=int32)"
      ]
     },
     "execution_count": 115,
     "metadata": {},
     "output_type": "execute_result"
    }
   ],
   "source": [
    "input_seq"
   ]
  },
  {
   "cell_type": "code",
   "execution_count": 116,
   "metadata": {},
   "outputs": [],
   "source": [
    "e_out, e_h, e_c = inf_encoder_model.predict(input_seq)"
   ]
  },
  {
   "cell_type": "code",
   "execution_count": 117,
   "metadata": {},
   "outputs": [
    {
     "data": {
      "text/plain": [
       "(1, 1182, 100)"
      ]
     },
     "execution_count": 117,
     "metadata": {},
     "output_type": "execute_result"
    }
   ],
   "source": [
    "e_out.shape"
   ]
  },
  {
   "cell_type": "code",
   "execution_count": 118,
   "metadata": {},
   "outputs": [
    {
     "data": {
      "text/plain": [
       "(1, 100)"
      ]
     },
     "execution_count": 118,
     "metadata": {},
     "output_type": "execute_result"
    }
   ],
   "source": [
    "e_h.shape"
   ]
  },
  {
   "cell_type": "code",
   "execution_count": 119,
   "metadata": {},
   "outputs": [],
   "source": [
    "target_seq = np.zeros((1,1))"
   ]
  },
  {
   "cell_type": "code",
   "execution_count": 120,
   "metadata": {},
   "outputs": [
    {
     "data": {
      "text/plain": [
       "(1, 1)"
      ]
     },
     "execution_count": 120,
     "metadata": {},
     "output_type": "execute_result"
    }
   ],
   "source": [
    "target_seq.shape"
   ]
  },
  {
   "cell_type": "code",
   "execution_count": 121,
   "metadata": {},
   "outputs": [],
   "source": [
    "target_seq[0, 0] = target_word_index['start']"
   ]
  },
  {
   "cell_type": "code",
   "execution_count": 122,
   "metadata": {},
   "outputs": [
    {
     "data": {
      "text/plain": [
       "1.0"
      ]
     },
     "execution_count": 122,
     "metadata": {},
     "output_type": "execute_result"
    }
   ],
   "source": [
    "target_seq[0, 0]"
   ]
  },
  {
   "cell_type": "code",
   "execution_count": 123,
   "metadata": {},
   "outputs": [],
   "source": [
    "output_tokens, h, c = decoder_model.predict([target_seq] + [e_h, e_c])"
   ]
  },
  {
   "cell_type": "code",
   "execution_count": 124,
   "metadata": {},
   "outputs": [
    {
     "data": {
      "text/plain": [
       "(1, 1, 865)"
      ]
     },
     "execution_count": 124,
     "metadata": {},
     "output_type": "execute_result"
    }
   ],
   "source": [
    "output_tokens.shape"
   ]
  },
  {
   "cell_type": "code",
   "execution_count": 125,
   "metadata": {},
   "outputs": [
    {
     "data": {
      "text/plain": [
       "array([[[1.82485150e-03, 6.32208366e-06, 1.87031482e-03, 5.96859725e-03,\n",
       "         1.40523329e-01, 6.74665673e-03, 3.27257589e-02, 4.29080054e-03,\n",
       "         5.28872982e-02, 4.65232618e-02, 6.95745274e-02, 2.11057775e-02,\n",
       "         3.04878526e-03, 2.73025110e-02, 3.78961638e-02, 4.41466505e-03,\n",
       "         6.63848827e-03, 2.62602372e-03, 2.52206642e-02, 2.62336768e-02,\n",
       "         2.68547442e-02, 2.32847389e-02, 2.11246368e-02, 1.22627765e-02,\n",
       "         1.18496707e-02, 5.84753929e-03, 2.85455748e-03, 4.87152720e-03,\n",
       "         6.49327412e-03, 2.59551965e-02, 1.00812959e-02, 2.02653487e-03,\n",
       "         2.78699435e-02, 3.93383252e-03, 1.53916655e-03, 2.00831797e-03,\n",
       "         4.05249605e-03, 1.84724592e-02, 3.84546397e-03, 1.70217629e-03,\n",
       "         1.09452615e-03, 1.03596225e-03, 3.30191338e-03, 2.85339588e-03,\n",
       "         1.71747692e-02, 9.85985901e-03, 1.74665253e-03, 2.24866881e-03,\n",
       "         2.64452118e-03, 2.33275210e-03, 1.45757326e-03, 2.44376855e-03,\n",
       "         2.23160814e-03, 1.40325446e-03, 3.29366955e-03, 2.53365072e-03,\n",
       "         2.56043929e-03, 1.62497547e-03, 9.27849382e-04, 1.35653943e-03,\n",
       "         4.91843745e-03, 1.50258793e-03, 7.97373708e-04, 3.04263015e-03,\n",
       "         1.70906237e-03, 2.17653206e-03, 1.15005812e-03, 1.65920274e-03,\n",
       "         5.00769762e-04, 5.52463171e-04, 2.58953660e-03, 2.17419188e-03,\n",
       "         1.40329264e-03, 7.89181271e-04, 1.14115397e-03, 2.26097228e-03,\n",
       "         7.86487362e-04, 3.94930597e-03, 1.32565293e-03, 1.77746406e-03,\n",
       "         1.15713873e-03, 9.07870533e-04, 8.53733334e-04, 7.68696773e-04,\n",
       "         1.07764185e-03, 4.54394007e-03, 4.95277438e-03, 1.70921814e-03,\n",
       "         4.02448059e-04, 2.06534029e-03, 1.56828715e-03, 1.65943836e-03,\n",
       "         3.35515290e-03, 7.37442344e-04, 8.38670298e-04, 1.38857111e-03,\n",
       "         1.42419699e-03, 7.65074394e-04, 9.94138303e-04, 1.34674471e-03,\n",
       "         1.10276451e-03, 2.66075891e-04, 5.91187272e-04, 1.19799317e-03,\n",
       "         2.45710067e-03, 4.71951382e-04, 1.39451574e-03, 8.15486070e-04,\n",
       "         4.36892849e-04, 1.56676769e-03, 4.78631147e-04, 2.58837739e-04,\n",
       "         1.79803290e-04, 9.79081728e-04, 1.67475431e-03, 1.14725321e-03,\n",
       "         5.66949311e-04, 1.02917850e-03, 7.31226406e-04, 3.93044786e-04,\n",
       "         1.81502779e-03, 5.08738682e-03, 4.32305562e-04, 7.69868377e-04,\n",
       "         1.13400631e-03, 1.67069913e-04, 1.58214755e-03, 3.75022704e-04,\n",
       "         5.32405858e-04, 2.04553435e-04, 5.94522513e-04, 1.37450977e-03,\n",
       "         8.67888390e-04, 7.42818695e-04, 1.22992008e-03, 1.48201990e-03,\n",
       "         2.25761742e-03, 5.06758166e-04, 3.50465463e-03, 1.56475478e-04,\n",
       "         2.73938320e-04, 8.97987338e-04, 5.21983777e-04, 1.06602232e-03,\n",
       "         1.26676203e-03, 4.99697053e-04, 2.80857465e-04, 2.11231207e-04,\n",
       "         4.71724808e-04, 5.50850935e-04, 1.21048710e-03, 3.11565935e-04,\n",
       "         5.52370446e-04, 7.67092279e-04, 9.07667563e-04, 4.94472508e-04,\n",
       "         1.98033231e-04, 4.07306594e-04, 1.98953217e-04, 7.32476765e-04,\n",
       "         3.17793543e-04, 3.54803196e-04, 9.75773553e-04, 2.63884460e-04,\n",
       "         1.16250315e-03, 9.70416178e-04, 9.17060184e-04, 3.78751371e-04,\n",
       "         7.35923066e-04, 2.67019495e-04, 1.61516000e-04, 6.07698516e-04,\n",
       "         3.61207902e-04, 6.92441943e-04, 1.97688583e-04, 3.15465586e-04,\n",
       "         4.83000127e-04, 4.11047018e-04, 1.51921078e-04, 7.32131375e-05,\n",
       "         1.49336483e-04, 3.38191923e-04, 5.08201832e-04, 3.88580869e-04,\n",
       "         2.94297235e-04, 8.24504532e-05, 8.16218671e-04, 8.18873057e-04,\n",
       "         1.02309650e-03, 3.86843458e-04, 4.85026248e-05, 1.64442259e-04,\n",
       "         3.92461778e-04, 3.17446451e-04, 1.63781937e-04, 4.57261514e-04,\n",
       "         1.01340520e-04, 2.25590644e-04, 5.59159380e-04, 3.26407142e-04,\n",
       "         8.66719231e-04, 5.69083379e-04, 2.40273774e-04, 1.62292257e-04,\n",
       "         1.43861223e-04, 4.45274054e-04, 1.52560839e-04, 8.74888850e-04,\n",
       "         4.52860753e-04, 7.62519834e-04, 1.89384722e-04, 1.61863558e-04,\n",
       "         4.96399065e-04, 2.87484901e-04, 2.40179041e-04, 6.75022195e-04,\n",
       "         2.21093404e-04, 2.57473323e-04, 1.17408379e-03, 4.28194617e-04,\n",
       "         1.19084150e-04, 8.90707743e-05, 2.93159392e-04, 1.65212972e-04,\n",
       "         2.22317482e-04, 1.00204430e-04, 2.69412907e-04, 5.32282225e-04,\n",
       "         5.67455609e-05, 2.35863190e-04, 9.52174960e-05, 5.37238026e-04,\n",
       "         1.62487384e-04, 1.35017835e-04, 9.16522404e-05, 1.22200014e-04,\n",
       "         1.63778343e-04, 7.90109101e-04, 1.35905066e-04, 9.17391226e-05,\n",
       "         2.84773530e-04, 4.04054997e-04, 6.24334323e-04, 6.96596107e-05,\n",
       "         1.75062305e-04, 2.25589120e-05, 1.74685891e-04, 5.00302878e-04,\n",
       "         1.07755906e-04, 3.13274038e-04, 1.31382534e-04, 3.23129207e-04,\n",
       "         4.00474062e-04, 2.55054096e-04, 3.90741807e-05, 1.99112270e-04,\n",
       "         5.30040743e-05, 3.37509497e-04, 8.14779429e-04, 1.76757778e-04,\n",
       "         5.26725271e-05, 1.36848845e-04, 1.24516475e-04, 6.41122097e-05,\n",
       "         2.33032188e-04, 8.39299537e-05, 1.12567075e-04, 1.08934073e-04,\n",
       "         4.39718096e-05, 1.36763847e-04, 7.68720231e-04, 6.87066422e-05,\n",
       "         3.53016600e-04, 6.03321641e-05, 1.40457138e-04, 6.62866951e-05,\n",
       "         5.94639336e-04, 1.64166951e-04, 1.91743355e-04, 3.72825343e-05,\n",
       "         4.59617113e-05, 6.79855293e-05, 1.47250466e-04, 1.17788448e-04,\n",
       "         2.02952404e-04, 1.05680592e-04, 1.29663109e-04, 2.76986160e-04,\n",
       "         1.93352098e-04, 1.36643517e-04, 1.20188000e-04, 1.91165745e-04,\n",
       "         5.45450093e-05, 2.36506694e-05, 5.54675935e-05, 1.93046435e-04,\n",
       "         1.62364624e-04, 3.70695256e-04, 1.53531073e-04, 6.26812835e-05,\n",
       "         1.05337371e-04, 9.85011502e-05, 6.73686081e-05, 2.34286286e-04,\n",
       "         1.50927968e-04, 5.02897237e-05, 4.01311496e-04, 1.90799285e-04,\n",
       "         1.48811334e-04, 7.86260134e-05, 5.99291998e-05, 1.14011287e-04,\n",
       "         3.95216957e-05, 2.27999641e-04, 8.19582783e-05, 2.29222511e-04,\n",
       "         1.47055180e-04, 9.94177535e-05, 1.41531200e-04, 3.33196949e-04,\n",
       "         2.99936073e-04, 2.44401541e-04, 2.11206730e-04, 5.63980357e-05,\n",
       "         9.70893816e-05, 1.12611422e-04, 1.54340189e-04, 3.50435963e-04,\n",
       "         2.02278112e-04, 2.01257993e-04, 3.81257014e-05, 1.06947278e-04,\n",
       "         3.70691385e-04, 7.23556586e-05, 1.10194291e-04, 1.21983852e-04,\n",
       "         1.54904512e-04, 4.80909512e-04, 7.23411649e-05, 1.69879728e-04,\n",
       "         1.64586600e-04, 3.10239520e-05, 3.31924239e-05, 5.55700739e-04,\n",
       "         1.87207057e-04, 1.07398373e-04, 2.54169630e-04, 7.53842833e-05,\n",
       "         1.06471263e-04, 3.22950189e-04, 8.83670800e-05, 5.10371683e-05,\n",
       "         1.63451841e-04, 1.02655868e-04, 3.12013544e-05, 4.14757742e-05,\n",
       "         3.19493964e-04, 1.35160051e-04, 2.83636764e-04, 5.14073181e-05,\n",
       "         1.15258728e-04, 4.57955393e-05, 2.46510870e-04, 1.77120222e-04,\n",
       "         1.21071971e-04, 1.12316360e-04, 3.77077631e-05, 8.78665378e-05,\n",
       "         5.87020850e-06, 6.63763603e-06, 5.81910172e-06, 5.64176162e-06,\n",
       "         5.60621811e-06, 8.01228816e-05, 3.53503383e-05, 4.20156903e-05,\n",
       "         8.39966087e-05, 4.33730675e-05, 4.39492105e-05, 3.38707505e-05,\n",
       "         8.74221150e-05, 4.41526681e-05, 7.51515327e-05, 4.77702233e-05,\n",
       "         5.33226448e-05, 2.84151465e-05, 4.00919598e-05, 5.30991892e-05,\n",
       "         4.00538956e-05, 2.12188115e-05, 3.97821641e-05, 5.10267746e-05,\n",
       "         8.85399277e-05, 3.46112356e-05, 3.36002158e-05, 6.11797150e-05,\n",
       "         5.12795959e-05, 5.60571862e-05, 1.22338883e-04, 9.95639275e-05,\n",
       "         3.02889002e-05, 2.81581451e-05, 5.26167751e-05, 7.20633325e-05,\n",
       "         4.49442232e-05, 9.92159185e-05, 6.78651777e-05, 5.58834399e-05,\n",
       "         8.40546272e-05, 1.06471169e-04, 1.48115068e-04, 3.30128569e-05,\n",
       "         7.34461137e-05, 7.69468024e-05, 4.07208317e-05, 1.24388345e-04,\n",
       "         7.91789280e-05, 4.74424523e-05, 1.15978131e-04, 5.72842109e-05,\n",
       "         3.13768105e-05, 3.29837785e-05, 3.94067902e-05, 7.26872604e-05,\n",
       "         5.87637041e-05, 3.02810713e-05, 6.26488254e-05, 1.08216089e-04,\n",
       "         3.03092711e-05, 2.29086363e-05, 5.22645751e-05, 5.41988884e-05,\n",
       "         2.88729134e-05, 3.39848739e-05, 3.69811460e-05, 5.73664875e-05,\n",
       "         6.90264205e-05, 9.55118012e-05, 5.09829479e-05, 8.18182962e-05,\n",
       "         2.93439916e-05, 4.22384255e-05, 4.77775357e-05, 3.58154393e-05,\n",
       "         1.19976590e-04, 1.35773254e-04, 6.25352623e-05, 1.09849512e-04,\n",
       "         5.37757769e-05, 9.16652280e-05, 1.58151772e-04, 3.43494212e-05,\n",
       "         1.23862643e-04, 5.05470853e-05, 4.65067351e-05, 4.95417698e-05,\n",
       "         3.37791098e-05, 3.88507142e-05, 3.00091124e-05, 5.35783875e-05,\n",
       "         3.38361424e-05, 5.68203213e-05, 3.56132587e-05, 3.43988613e-05,\n",
       "         1.29492255e-04, 4.27569466e-05, 8.83386456e-05, 5.81994864e-05,\n",
       "         8.32592195e-05, 5.37030028e-05, 3.57160461e-05, 2.97963161e-05,\n",
       "         5.04341988e-05, 1.00083045e-04, 1.62942524e-04, 1.05797866e-04,\n",
       "         6.02308100e-05, 3.55238772e-05, 7.98064793e-05, 5.54218532e-05,\n",
       "         2.94158581e-05, 3.35849982e-05, 2.87855401e-05, 3.11171680e-05,\n",
       "         3.59622682e-05, 6.27319605e-05, 3.74705232e-05, 4.03888407e-05,\n",
       "         4.82761097e-05, 3.75396303e-05, 5.42604575e-05, 2.30972946e-05,\n",
       "         3.82166327e-05, 7.13333429e-05, 1.06103216e-04, 1.72402550e-04,\n",
       "         9.23278858e-05, 5.17229346e-05, 4.75749584e-05, 5.26895856e-05,\n",
       "         7.94649532e-05, 6.15373065e-05, 1.02066108e-04, 2.31660561e-05,\n",
       "         2.85696478e-05, 5.04688142e-05, 2.47708031e-05, 2.98422419e-05,\n",
       "         6.94597475e-05, 2.90125809e-05, 7.11550601e-05, 5.58754473e-05,\n",
       "         3.60473205e-05, 3.49795373e-05, 1.11669237e-04, 8.74377511e-05,\n",
       "         8.05286909e-05, 5.14665553e-05, 3.64316656e-05, 6.29477072e-05,\n",
       "         1.23592312e-04, 6.07559668e-05, 4.26795414e-05, 6.81060046e-05,\n",
       "         9.49884852e-05, 1.37906914e-04, 5.95370766e-05, 7.89387122e-05,\n",
       "         2.53291728e-05, 1.25991981e-04, 3.01644559e-05, 3.87850450e-05,\n",
       "         5.16060391e-05, 5.76582825e-05, 2.81458197e-05, 1.04111539e-04,\n",
       "         9.24371270e-05, 6.27491027e-05, 5.10658429e-05, 4.15003815e-05,\n",
       "         6.50835573e-05, 5.72476747e-05, 9.58798119e-05, 5.94017583e-05,\n",
       "         5.35847757e-05, 1.57356961e-04, 1.29565524e-04, 6.15523313e-05,\n",
       "         8.10773563e-05, 5.58226129e-05, 7.23643243e-05, 1.04989558e-04,\n",
       "         5.03114825e-05, 3.80022393e-05, 1.31974637e-04, 5.93656514e-05,\n",
       "         6.04367087e-05, 5.33795319e-05, 2.98655614e-05, 2.59652243e-05,\n",
       "         5.70856173e-05, 6.64458712e-05, 5.19877794e-05, 4.78835464e-05,\n",
       "         3.78800869e-05, 3.41307750e-05, 2.94188048e-05, 1.30122993e-04,\n",
       "         2.22607177e-05, 1.30886110e-04, 5.03344672e-05, 7.82768038e-05,\n",
       "         7.70090119e-05, 5.48740973e-05, 2.95004775e-05, 7.78955218e-05,\n",
       "         1.28624131e-04, 1.59654912e-04, 6.69568908e-05, 6.31228468e-05,\n",
       "         6.68873545e-05, 8.35029059e-05, 6.48030546e-05, 2.15250238e-05,\n",
       "         3.51833187e-05, 4.25982944e-05, 3.13805212e-05, 8.24828894e-05,\n",
       "         1.19820688e-04, 4.16184521e-05, 1.04157771e-04, 3.82350081e-05,\n",
       "         3.00459960e-05, 4.48801438e-05, 4.79924201e-05, 5.67091301e-05,\n",
       "         9.26648499e-05, 9.20736347e-05, 5.56774939e-05, 1.91899016e-04,\n",
       "         2.91929846e-05, 6.42558734e-05, 4.02856640e-05, 9.35913049e-05,\n",
       "         3.67340072e-05, 5.69727090e-05, 8.40423672e-05, 6.43154344e-05,\n",
       "         4.88588958e-05, 2.80997992e-05, 6.12940930e-05, 4.98871159e-05,\n",
       "         3.36598678e-05, 1.15013594e-04, 2.26381380e-05, 3.03831857e-05,\n",
       "         2.12175364e-05, 5.42472117e-05, 5.41075060e-05, 6.18001359e-05,\n",
       "         5.26216681e-05, 6.63563915e-05, 7.43333585e-05, 6.45453983e-05,\n",
       "         5.31197511e-05, 6.17325422e-05, 3.28556889e-05, 4.10644825e-05,\n",
       "         1.32413363e-04, 3.80568963e-05, 4.03258309e-05, 7.54044959e-05,\n",
       "         6.29284114e-05, 7.42393095e-05, 3.71623719e-05, 1.06697327e-04,\n",
       "         5.36182051e-05, 3.37174752e-05, 7.40617834e-05, 5.73145371e-05,\n",
       "         4.59914445e-05, 1.03243823e-04, 4.01896541e-05, 6.59740399e-05,\n",
       "         7.77296300e-05, 1.52425142e-04, 1.39005104e-04, 5.09423189e-05,\n",
       "         4.94316409e-05, 3.74575175e-05, 9.99571348e-05, 4.10207213e-05,\n",
       "         9.86307714e-05, 3.32417767e-05, 2.68071326e-05, 5.44256291e-05,\n",
       "         2.35239804e-05, 5.75250087e-05, 9.34891141e-05, 6.33058517e-05,\n",
       "         4.33827045e-05, 6.03047192e-05, 4.98626214e-05, 2.74163740e-05,\n",
       "         3.19527280e-05, 1.11821151e-04, 4.97317378e-05, 3.12530246e-05,\n",
       "         3.52803509e-05, 5.06089964e-05, 5.48974458e-05, 9.56604272e-05,\n",
       "         8.80560328e-05, 4.56277885e-05, 3.35487603e-05, 4.75587367e-05,\n",
       "         6.01392057e-05, 7.02917532e-05, 2.70529654e-05, 1.00142053e-04,\n",
       "         5.20063004e-05, 3.45696026e-05, 3.98107804e-05, 8.45729446e-05,\n",
       "         4.36212104e-05, 4.11934125e-05, 2.98481355e-05, 1.06368760e-04,\n",
       "         4.90256825e-05, 8.54372338e-05, 5.99443774e-05, 3.06498805e-05,\n",
       "         9.56367076e-05, 3.01572072e-05, 4.72192442e-05, 4.62456555e-05,\n",
       "         3.83493098e-05, 2.68995318e-05, 3.98061457e-05, 7.22849654e-05,\n",
       "         6.07208058e-05, 2.64365171e-05, 3.55600423e-05, 6.46058106e-05,\n",
       "         5.89681877e-05, 3.17832346e-05, 6.04895577e-05, 8.32720470e-05,\n",
       "         9.07709109e-05, 8.68170173e-05, 7.78784452e-05, 5.07311561e-05,\n",
       "         1.32545392e-04, 9.00497034e-05, 5.52593010e-05, 8.73412791e-05,\n",
       "         2.95599293e-05, 8.15156745e-05, 4.19225944e-05, 4.97357432e-05,\n",
       "         4.51324377e-05, 3.99704804e-05, 4.08206834e-05, 1.07221327e-04,\n",
       "         2.89848431e-05, 3.78433651e-05, 3.54743170e-05, 3.01858945e-05,\n",
       "         8.26665710e-05, 8.21349968e-05, 3.00945740e-05, 5.68524083e-05,\n",
       "         8.61861918e-05, 4.77607500e-05, 1.22073528e-04, 4.67306745e-05,\n",
       "         2.14901956e-05, 7.02893085e-05, 5.99016312e-05, 3.70272355e-05,\n",
       "         4.45077021e-05, 3.15766119e-05, 7.54231878e-05, 5.96023237e-05,\n",
       "         1.67618680e-04, 3.02709086e-05, 4.08360211e-05, 1.10654706e-04,\n",
       "         7.90960257e-05, 8.33401282e-05, 5.79232365e-05, 4.16628900e-05,\n",
       "         6.50843649e-05, 4.96880057e-05, 9.94573929e-05, 3.39859762e-05,\n",
       "         6.91175883e-05, 3.80382444e-05, 2.96449598e-05, 4.41486227e-05,\n",
       "         4.36812406e-05, 8.73320896e-05, 3.60681588e-05, 7.68650571e-05,\n",
       "         6.96806092e-05, 2.70970922e-05, 3.53043179e-05, 2.76450573e-05,\n",
       "         1.72402390e-04, 6.62837483e-05, 1.01164245e-04, 2.49984132e-05,\n",
       "         1.08410029e-04, 5.23372437e-05, 5.74975002e-06, 6.20580204e-06,\n",
       "         6.47418665e-06, 5.79259677e-06, 5.95664369e-06, 6.30529075e-06,\n",
       "         5.52061238e-06, 5.83648671e-06, 5.50266759e-06, 6.78611286e-06,\n",
       "         5.60799845e-06, 6.10618190e-06, 5.86497117e-06, 5.40696146e-06,\n",
       "         6.35041215e-06, 6.03468061e-06, 6.63722494e-06, 5.56645318e-06,\n",
       "         5.37699771e-06, 5.99757095e-06, 6.03216631e-06, 6.20766650e-06,\n",
       "         5.43439091e-06, 5.72936597e-06, 6.43293879e-06, 6.43499425e-06,\n",
       "         6.20885658e-06, 5.59698674e-06, 6.13051407e-06, 5.64392485e-06,\n",
       "         6.08653681e-06, 6.23066717e-06, 5.18898014e-06, 6.44699685e-06,\n",
       "         6.04607476e-06, 7.20733306e-06, 5.08794164e-06, 6.30119121e-06,\n",
       "         6.29861961e-06, 6.46199169e-06, 5.47917170e-06, 6.01502416e-06,\n",
       "         6.26155270e-06, 5.84079089e-06, 5.70135035e-06, 6.09701783e-06,\n",
       "         6.49045796e-06, 6.14316104e-06, 5.88749890e-06, 5.76381581e-06,\n",
       "         6.68978510e-06, 5.63712047e-06, 6.14047849e-06, 5.93295090e-06,\n",
       "         5.72420458e-06, 6.53336429e-06, 5.14896783e-06, 5.48649678e-06,\n",
       "         5.89273986e-06, 5.33581533e-06, 5.89038018e-06, 7.65697678e-06,\n",
       "         6.26891961e-06, 6.33690297e-06, 5.64984339e-06, 5.90208765e-06,\n",
       "         5.91190656e-06, 6.32633601e-06, 5.01988734e-06, 5.51375661e-06,\n",
       "         5.54844382e-06, 5.99336272e-06, 5.86474744e-06, 6.07205448e-06,\n",
       "         5.88612920e-06, 5.46811498e-06, 6.06915955e-06, 6.08385562e-06,\n",
       "         6.25186840e-06, 5.25810310e-06, 5.55133374e-06, 5.74042497e-06,\n",
       "         5.88087778e-06, 6.00203384e-06, 6.11799715e-06, 6.32228875e-06,\n",
       "         5.96838026e-06, 6.30193017e-06, 6.08357732e-06, 5.29093995e-06,\n",
       "         5.55269980e-06]]], dtype=float32)"
      ]
     },
     "execution_count": 125,
     "metadata": {},
     "output_type": "execute_result"
    }
   ],
   "source": [
    "output_tokens"
   ]
  },
  {
   "cell_type": "code",
   "execution_count": 126,
   "metadata": {},
   "outputs": [],
   "source": [
    "sampled_token_index = np.argmax(output_tokens[0, -1, :])"
   ]
  },
  {
   "cell_type": "code",
   "execution_count": 127,
   "metadata": {},
   "outputs": [
    {
     "data": {
      "text/plain": [
       "4"
      ]
     },
     "execution_count": 127,
     "metadata": {},
     "output_type": "execute_result"
    }
   ],
   "source": [
    "sampled_token_index"
   ]
  },
  {
   "cell_type": "code",
   "execution_count": 128,
   "metadata": {},
   "outputs": [],
   "source": [
    "out = output_tokens[0, -1, :]"
   ]
  },
  {
   "cell_type": "code",
   "execution_count": 129,
   "metadata": {},
   "outputs": [
    {
     "data": {
      "text/plain": [
       "(865,)"
      ]
     },
     "execution_count": 129,
     "metadata": {},
     "output_type": "execute_result"
    }
   ],
   "source": [
    "out.shape"
   ]
  },
  {
   "cell_type": "code",
   "execution_count": 130,
   "metadata": {},
   "outputs": [
    {
     "data": {
      "text/plain": [
       "'great'"
      ]
     },
     "execution_count": 130,
     "metadata": {},
     "output_type": "execute_result"
    }
   ],
   "source": [
    "reverse_target_word_index.get(sampled_token_index, \"NA\")"
   ]
  },
  {
   "cell_type": "code",
   "execution_count": 131,
   "metadata": {},
   "outputs": [],
   "source": [
    "target_seq = np.zeros((1,1))\n",
    "target_seq[0, 0] = sampled_token_index"
   ]
  },
  {
   "cell_type": "code",
   "execution_count": 132,
   "metadata": {},
   "outputs": [],
   "source": [
    "e_h, e_c = h, c"
   ]
  },
  {
   "cell_type": "code",
   "execution_count": 133,
   "metadata": {},
   "outputs": [],
   "source": [
    "output_tokens, h, c = decoder_model.predict([target_seq] + [e_h, e_c])"
   ]
  },
  {
   "cell_type": "code",
   "execution_count": 134,
   "metadata": {},
   "outputs": [
    {
     "data": {
      "text/plain": [
       "'skillet'"
      ]
     },
     "execution_count": 134,
     "metadata": {},
     "output_type": "execute_result"
    }
   ],
   "source": [
    "sampled_token_index = np.argmax(output_tokens[0, -1, :])\n",
    "reverse_target_word_index.get(sampled_token_index, \"NA\")"
   ]
  },
  {
   "cell_type": "code",
   "execution_count": null,
   "metadata": {},
   "outputs": [],
   "source": []
  }
 ],
 "metadata": {
  "kernelspec": {
   "display_name": "Python 3",
   "language": "python",
   "name": "python3"
  },
  "language_info": {
   "codemirror_mode": {
    "name": "ipython",
    "version": 3
   },
   "file_extension": ".py",
   "mimetype": "text/x-python",
   "name": "python",
   "nbconvert_exporter": "python",
   "pygments_lexer": "ipython3",
   "version": "3.7.0"
  }
 },
 "nbformat": 4,
 "nbformat_minor": 2
}
